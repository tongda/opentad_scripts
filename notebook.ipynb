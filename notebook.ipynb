{
 "cells": [
  {
   "cell_type": "code",
   "execution_count": 1,
   "metadata": {},
   "outputs": [],
   "source": [
    "# imports\n",
    "import json\n",
    "import os\n",
    "import shutil\n",
    "import sys\n",
    "from pathlib import Path\n",
    "\n",
    "import matplotlib as mpl\n",
    "import numpy as np\n",
    "import torch\n",
    "import torch.distributed as dist\n",
    "from mmcv import VideoReader\n",
    "from mmengine.config import Config, DictAction\n",
    "from torch.nn.parallel import DistributedDataParallel\n",
    "from PIL import ImageDraw, ImageFont\n",
    "\n",
    "from opentad.cores.test_engine import eval_one_epoch\n",
    "from opentad.datasets.builder import build_dataloader, build_dataset\n",
    "from opentad.models import build_detector\n",
    "from opentad.utils.logger import setup_logger\n",
    "import cv2\n",
    "\n",
    "os.environ['MASTER_ADDR'] = 'localhost'\n",
    "os.environ['MASTER_PORT'] = '0'\n",
    "\n",
    "dist.init_process_group(\"nccl\", init_method=\"env://\", rank=0, world_size=1)\n",
    "torch.cuda.set_device(0)"
   ]
  },
  {
   "cell_type": "code",
   "execution_count": 2,
   "metadata": {},
   "outputs": [],
   "source": [
    "def load_model(cfg, ckpt_path, logger):\n",
    "    model = build_detector(cfg.model)\n",
    "    model.to(0)\n",
    "    model = DistributedDataParallel(model, device_ids=[0], output_device=0)\n",
    "\n",
    "    device = f\"cuda:0\"\n",
    "    checkpoint = torch.load(ckpt_path, map_location=device)\n",
    "\n",
    "    use_ema = getattr(cfg.solver, \"ema\", False)\n",
    "    if use_ema:\n",
    "        model.load_state_dict(checkpoint[\"state_dict_ema\"])\n",
    "        logger.info(\"Using Model EMA...\")\n",
    "    else:\n",
    "        model.load_state_dict(checkpoint[\"state_dict\"])\n",
    "    \n",
    "    return model\n",
    "\n",
    "def prepare_input(cfg, logger, video_path, video_dir, subset=\"testing\"):\n",
    "    new_ann_dict = {}\n",
    "    print(\"++++++\", cfg.dataset.test.ann_file)\n",
    "    with open(cfg.dataset.test.ann_file, \"r\") as f:\n",
    "        raw_annotation = json.load(f)\n",
    "\n",
    "    for key in raw_annotation.keys():\n",
    "        if key != \"database\":\n",
    "            new_ann_dict[key] = raw_annotation[key]\n",
    "    \n",
    "    # load video metainfo using decord\n",
    "    reader = VideoReader(video_path)\n",
    "    duration = reader.frame_cnt / reader.fps\n",
    "    logger.info(f\"Video duration of {video_path}: {duration:.2f}s\")\n",
    "    \n",
    "    video_key = video_path.split(\"/\")[-1].split(\".\")[0]\n",
    "    print(\"*********************video key:\", video_key)\n",
    "    if video_key in raw_annotation[\"database\"]:\n",
    "        new_ann_dict[\"database\"] = {video_key: raw_annotation['database'][video_key]}\n",
    "    else:\n",
    "        # copy video to video dir\n",
    "        video_path = Path(video_path)\n",
    "        new_video_path = Path(video_dir) / video_path.name\n",
    "        if not new_video_path.exists():\n",
    "            shutil.copyfile(video_path, new_video_path)\n",
    "        new_ann_dict[\"database\"] = {video_key: {\"subset\": subset, \"frame\": reader.frame_cnt, \"duration\": duration, \"annotations\": []}}\n",
    "\n",
    "    with open(\"data/charades/annotations/charades_test.json\", \"w\") as f:\n",
    "        json.dump(new_ann_dict, f)\n",
    "    \n",
    "def inference(model, cfg, logger):\n",
    "\n",
    "    # AMP: automatic mixed precision\n",
    "    use_amp = getattr(cfg.solver, \"amp\", False)\n",
    "    if use_amp:\n",
    "        logger.info(\"Using Automatic Mixed Precision...\")\n",
    "\n",
    "    cfg.dataset.test.ann_file = \"data/charades/annotations/charades_test.json\"\n",
    "\n",
    "    test_dataset = build_dataset(cfg.dataset.test, default_args=dict(logger=logger))\n",
    "    test_loader = build_dataloader(\n",
    "        test_dataset,\n",
    "        rank=0,\n",
    "        world_size=1,\n",
    "        shuffle=False,\n",
    "        drop_last=False,\n",
    "        **cfg.solver.test,\n",
    "    )\n",
    "\n",
    "    logger.info(\"Testing Starts...\\n\")\n",
    "    eval_one_epoch(\n",
    "        test_loader,\n",
    "        model,\n",
    "        cfg,\n",
    "        logger,\n",
    "        0,\n",
    "        model_ema=None,  # since we have loaded the ema model above\n",
    "        use_amp=use_amp,\n",
    "        world_size=1,\n",
    "        not_eval=True,\n",
    "    )\n",
    "    logger.info(\"Testing Over...\\n\")\n",
    "    \n",
    "    with open(cfg.work_dir + \"/result_detection.json\", \"r\") as f:\n",
    "        results = json.load(f)\n",
    "    return results\n",
    "\n",
    "def filter_segments(result, num_concurrent_events=1, thresh=0.05):\n",
    "    segments = list(result[\"results\"].values())[0]\n",
    "    processed_result = list(sorted(filter(lambda x: x['score'] > thresh, segments), key=lambda x: x['segment'][0]))\n",
    "    max = processed_result[-1]['segment'][1]\n",
    "    for i in range(int(0), int(max)*10 + 1):\n",
    "        overlapped_segments = list(filter(lambda x: x['segment'][0] <= i/10 and x['segment'][1] >= i/10, processed_result))\n",
    "        if len(overlapped_segments) > num_concurrent_events:\n",
    "            # print(f\"Overlapped segments at {i}: {overlapped_segments}\")\n",
    "            for segment in overlapped_segments[num_concurrent_events:]:\n",
    "                processed_result.remove(segment)\n",
    "    return processed_result\n",
    "\n",
    "def generate_action_bar(processed_result, action_labels, duration=600, shape=(1920, 50)):\n",
    "    cmap = mpl.colormaps['magma']\n",
    "    w, h = shape\n",
    "    action_bar = np.ones((h, w, 3), dtype=np.float32)\n",
    "    for i, segment in enumerate(processed_result):\n",
    "        start = int(segment['segment'][0] / duration * w)\n",
    "        end = int(segment['segment'][1] / duration * w)\n",
    "        label = segment['label']\n",
    "        color = cmap(action_labels.index(label) / len(action_labels))\n",
    "        # print(f\"Segment {i}: {label} from {start}, with color {mpl.colors.to_rgb(color)}\")\n",
    "        action_bar[:, start:end] = mpl.colors.to_rgb(color)\n",
    "    return (action_bar*255).astype(np.uint8)\n",
    "\n",
    "def draw_action_timeline(result_segments, gt_segments, video_time, score_thresh=0.3, graph_width=1080, bar_height=40):\n",
    "    cmap = mpl.colormaps['magma']\n",
    "    font = ImageFont.truetype(\"ukai.ttc\", 20, encoding=\"utf-8\")\n",
    "    filtered_result = list(filter(lambda r: r['score'] > score_thresh, result_segments))\n",
    "    all_labels = list(set([r['label'] for r in filtered_result]).union(set([r['label']for r in gt_segments])))\n",
    "    time_graph = np.ones((bar_height*(len(all_labels) + 1), graph_width, 3), dtype=np.float32)\n",
    "\n",
    "    # draw gt time line in the first row\n",
    "    for i, ann in enumerate(gt_segments):\n",
    "        start = int(ann['segment'][0] / video_time * graph_width)\n",
    "        end = int(ann['segment'][1] / video_time * graph_width)\n",
    "        label = ann['label']\n",
    "        color = cmap(all_labels.index(label) / len(all_labels))\n",
    "        time_graph[0+5:bar_height - 5, start:end] = mpl.colors.to_rgb(color)\n",
    "\n",
    "        cv2.putText(time_graph, str(all_labels.index(label)), ((start + end) // 2, 20), cv2.FONT_HERSHEY_SIMPLEX, 0.5, (0, 0, 0), 1)\n",
    "\n",
    "    for i, segment in enumerate(filtered_result):\n",
    "        start = int(segment['segment'][0] / video_time * graph_width)\n",
    "        end = int(segment['segment'][1] / video_time * graph_width)\n",
    "        label = segment['label']\n",
    "        label_idx = all_labels.index(label)\n",
    "        color = cmap(all_labels.index(label) / len(all_labels))\n",
    "        time_graph[(label_idx+1)*bar_height + 5:(label_idx+2)*bar_height - 5, start:end] = mpl.colors.to_rgb(color)\n",
    "        cv2.putText(time_graph, \"{:.2f}\".format(segment['score']), ((start + end) // 2, (label_idx+1)*bar_height + 20), cv2.FONT_HERSHEY_SIMPLEX, 0.5, (0, 0.5, 0), 1)\n",
    "\n",
    "    pimg = Image.fromarray((time_graph * 255).astype(np.uint8))\n",
    "    for i, label in enumerate(all_labels):\n",
    "        color = cmap(i / len(all_labels))\n",
    "        color_int = tuple(map(lambda x: int(x*255), mpl.colors.to_rgb(color)))\n",
    "\n",
    "        draw = ImageDraw.Draw(pimg)\n",
    "        draw.text((0, (i+1)*bar_height), str(i) + \":\" + label, font=font, fill=(0, 0, 255))\n",
    "    time_graph = np.array(pimg)\n",
    "\n",
    "    return time_graph"
   ]
  },
  {
   "cell_type": "markdown",
   "metadata": {},
   "source": [
    "## 测试B11视频"
   ]
  },
  {
   "cell_type": "code",
   "execution_count": 3,
   "metadata": {},
   "outputs": [
    {
     "name": "stdout",
     "output_type": "stream",
     "text": [
      "2024-08-07 17:43:44 Test INFO: Using torch version: 2.0.1+cu118, CUDA version: 11.8\n",
      "ViT's param: 86227200, Adapter's params: 4004364, ratio: 4.6%\n",
      "Loads checkpoint by local backend from path: pretrained/vit-base-p16_videomae-k400-pre_16x4x1_kinetics-400_20221013-860a3cd3.pth\n",
      "The model and loaded state dict do not match exactly\n",
      "\n",
      "unexpected key in source state_dict: cls_head.fc_cls.weight, cls_head.fc_cls.bias\n",
      "\n",
      "missing keys in source state_dict: backbone.pos_embed, backbone.blocks.0.adapter.gamma, backbone.blocks.0.adapter.dwconv.weight, backbone.blocks.0.adapter.dwconv.bias, backbone.blocks.0.adapter.conv.weight, backbone.blocks.0.adapter.conv.bias, backbone.blocks.0.adapter.down_proj.weight, backbone.blocks.0.adapter.down_proj.bias, backbone.blocks.0.adapter.up_proj.weight, backbone.blocks.0.adapter.up_proj.bias, backbone.blocks.1.adapter.gamma, backbone.blocks.1.adapter.dwconv.weight, backbone.blocks.1.adapter.dwconv.bias, backbone.blocks.1.adapter.conv.weight, backbone.blocks.1.adapter.conv.bias, backbone.blocks.1.adapter.down_proj.weight, backbone.blocks.1.adapter.down_proj.bias, backbone.blocks.1.adapter.up_proj.weight, backbone.blocks.1.adapter.up_proj.bias, backbone.blocks.2.adapter.gamma, backbone.blocks.2.adapter.dwconv.weight, backbone.blocks.2.adapter.dwconv.bias, backbone.blocks.2.adapter.conv.weight, backbone.blocks.2.adapter.conv.bias, backbone.blocks.2.adapter.down_proj.weight, backbone.blocks.2.adapter.down_proj.bias, backbone.blocks.2.adapter.up_proj.weight, backbone.blocks.2.adapter.up_proj.bias, backbone.blocks.3.adapter.gamma, backbone.blocks.3.adapter.dwconv.weight, backbone.blocks.3.adapter.dwconv.bias, backbone.blocks.3.adapter.conv.weight, backbone.blocks.3.adapter.conv.bias, backbone.blocks.3.adapter.down_proj.weight, backbone.blocks.3.adapter.down_proj.bias, backbone.blocks.3.adapter.up_proj.weight, backbone.blocks.3.adapter.up_proj.bias, backbone.blocks.4.adapter.gamma, backbone.blocks.4.adapter.dwconv.weight, backbone.blocks.4.adapter.dwconv.bias, backbone.blocks.4.adapter.conv.weight, backbone.blocks.4.adapter.conv.bias, backbone.blocks.4.adapter.down_proj.weight, backbone.blocks.4.adapter.down_proj.bias, backbone.blocks.4.adapter.up_proj.weight, backbone.blocks.4.adapter.up_proj.bias, backbone.blocks.5.adapter.gamma, backbone.blocks.5.adapter.dwconv.weight, backbone.blocks.5.adapter.dwconv.bias, backbone.blocks.5.adapter.conv.weight, backbone.blocks.5.adapter.conv.bias, backbone.blocks.5.adapter.down_proj.weight, backbone.blocks.5.adapter.down_proj.bias, backbone.blocks.5.adapter.up_proj.weight, backbone.blocks.5.adapter.up_proj.bias, backbone.blocks.6.adapter.gamma, backbone.blocks.6.adapter.dwconv.weight, backbone.blocks.6.adapter.dwconv.bias, backbone.blocks.6.adapter.conv.weight, backbone.blocks.6.adapter.conv.bias, backbone.blocks.6.adapter.down_proj.weight, backbone.blocks.6.adapter.down_proj.bias, backbone.blocks.6.adapter.up_proj.weight, backbone.blocks.6.adapter.up_proj.bias, backbone.blocks.7.adapter.gamma, backbone.blocks.7.adapter.dwconv.weight, backbone.blocks.7.adapter.dwconv.bias, backbone.blocks.7.adapter.conv.weight, backbone.blocks.7.adapter.conv.bias, backbone.blocks.7.adapter.down_proj.weight, backbone.blocks.7.adapter.down_proj.bias, backbone.blocks.7.adapter.up_proj.weight, backbone.blocks.7.adapter.up_proj.bias, backbone.blocks.8.adapter.gamma, backbone.blocks.8.adapter.dwconv.weight, backbone.blocks.8.adapter.dwconv.bias, backbone.blocks.8.adapter.conv.weight, backbone.blocks.8.adapter.conv.bias, backbone.blocks.8.adapter.down_proj.weight, backbone.blocks.8.adapter.down_proj.bias, backbone.blocks.8.adapter.up_proj.weight, backbone.blocks.8.adapter.up_proj.bias, backbone.blocks.9.adapter.gamma, backbone.blocks.9.adapter.dwconv.weight, backbone.blocks.9.adapter.dwconv.bias, backbone.blocks.9.adapter.conv.weight, backbone.blocks.9.adapter.conv.bias, backbone.blocks.9.adapter.down_proj.weight, backbone.blocks.9.adapter.down_proj.bias, backbone.blocks.9.adapter.up_proj.weight, backbone.blocks.9.adapter.up_proj.bias, backbone.blocks.10.adapter.gamma, backbone.blocks.10.adapter.dwconv.weight, backbone.blocks.10.adapter.dwconv.bias, backbone.blocks.10.adapter.conv.weight, backbone.blocks.10.adapter.conv.bias, backbone.blocks.10.adapter.down_proj.weight, backbone.blocks.10.adapter.down_proj.bias, backbone.blocks.10.adapter.up_proj.weight, backbone.blocks.10.adapter.up_proj.bias, backbone.blocks.11.adapter.gamma, backbone.blocks.11.adapter.dwconv.weight, backbone.blocks.11.adapter.dwconv.bias, backbone.blocks.11.adapter.conv.weight, backbone.blocks.11.adapter.conv.bias, backbone.blocks.11.adapter.down_proj.weight, backbone.blocks.11.adapter.down_proj.bias, backbone.blocks.11.adapter.up_proj.weight, backbone.blocks.11.adapter.up_proj.bias\n",
      "\n",
      "freeze_backbone: False, norm_eval: False\n",
      "2024-08-07 17:43:47 Test INFO: Using Model EMA...\n"
     ]
    }
   ],
   "source": [
    "video_dir = \"data/lean_analysis/raw_data/video/\"\n",
    "configfile = \"configs/adatad/lean_analysis/e2e_lean_videomae_b_768x1_224_adapter.py\"\n",
    "checkpoint_path = \"exps/lean/adatad/e2e_actionformer_videomae_b_768x1_224_adapter/gpu2_id0/checkpoint/epoch_99.pth\"\n",
    "cfg = Config.fromfile(configfile)\n",
    "logger = setup_logger(\"Test\", save_dir=cfg.work_dir, distributed_rank=0)\n",
    "logger.info(f\"Using torch version: {torch.__version__}, CUDA version: {torch.version.cuda}\")\n",
    "\n",
    "model = load_model(cfg, checkpoint_path, logger)\n",
    "# logger.info(f\"Config: \\n{cfg.pretty_text}\")"
   ]
  },
  {
   "cell_type": "code",
   "execution_count": 4,
   "metadata": {},
   "outputs": [],
   "source": [
    "# video_file = \"data/lean_analysis/raw_data/record2_20240619094017_000006.mp4\"\n",
    "\n",
    "# model = load_model(cfg, checkpoint_path, logger)\n",
    "# prepare_input(cfg, logger, video_file, video_dir)\n",
    "# result = inference(model, cfg, logger)"
   ]
  },
  {
   "cell_type": "code",
   "execution_count": 5,
   "metadata": {},
   "outputs": [
    {
     "data": {
      "text/plain": [
       "[('旋转产品', 386),\n",
       " ('检查产品', 142),\n",
       " ('取扫码枪并扫码', 115),\n",
       " ('检查外观', 62),\n",
       " ('上料', 56),\n",
       " ('产品推入设备', 55),\n",
       " ('从设备取产品', 54),\n",
       " ('装盖子', 53),\n",
       " ('取螺丝并打螺丝', 53),\n",
       " ('将产品放入货柜', 53),\n",
       " ('取透明罩对比产品放回透明罩', 47),\n",
       " ('拆外壳', 1)]"
      ]
     },
     "execution_count": 5,
     "metadata": {},
     "output_type": "execute_result"
    }
   ],
   "source": [
    "from collections import defaultdict, Counter\n",
    "\n",
    "import json\n",
    "\n",
    "ground_truth_path = \"data/lean_analysis/annotations/lean_analysis_anno.json\"\n",
    "\n",
    "with open(ground_truth_path) as f:\n",
    "    gt_data = json.load(f)\n",
    "\n",
    "action2key = defaultdict(list)\n",
    "\n",
    "action_counter = Counter([ann['label'] for key, gt_rec in gt_data['database'].items() for ann in gt_rec['annotations']])\n",
    "\n",
    "for key, gt_rec in gt_data['database'].items():\n",
    "    for ann in gt_rec['annotations']:\n",
    "        action2key[ann['label']].append(key)\n",
    "        \n",
    "action_counter.most_common(20)"
   ]
  },
  {
   "cell_type": "code",
   "execution_count": 6,
   "metadata": {},
   "outputs": [],
   "source": [
    "# 找那种常见动作最多的视频，用来说明可以跨场景学习相似动作\n",
    "\n",
    "most_common_actions = set(action for action, _ in action_counter.most_common(20))\n",
    "\n",
    "video_most_common_action_count = {}\n",
    "\n",
    "for key, gt_rec in gt_data['database'].items():\n",
    "    if gt_rec['subset'] != \"testing\":\n",
    "        continue\n",
    "    video_most_common_action_count[key] = len(set(ann['label'] for ann in gt_rec['annotations']).intersection(most_common_actions))\n",
    "\n",
    "example_videos = list(sorted(video_most_common_action_count.items(), key=lambda x: x[1], reverse=True))[:40]"
   ]
  },
  {
   "cell_type": "code",
   "execution_count": 8,
   "metadata": {},
   "outputs": [
    {
     "name": "stdout",
     "output_type": "stream",
     "text": [
      "2024-08-07 17:47:35 Test INFO: Video duration of data/lean_analysis/raw_data/video//record2_20240619094017_000008.mp4: 600.13s\n",
      "*********************video key: record2_20240619094017_000008\n",
      "2024-08-07 17:47:35 Test INFO: Using Automatic Mixed Precision...\n",
      "2024-08-07 17:47:35 Test INFO: testing subset: 1 videos, truncated as 11 windows.\n",
      "2024-08-07 17:47:35 Test INFO: Testing Starts...\n",
      "\n"
     ]
    },
    {
     "name": "stderr",
     "output_type": "stream",
     "text": [
      "  0%|          | 0/6 [00:00<?, ?it/s]"
     ]
    },
    {
     "name": "stdout",
     "output_type": "stream",
     "text": [
      "08/07 17:47:36 - mmengine - \u001b[5m\u001b[4m\u001b[33mWARNING\u001b[0m - \"FileClient\" will be deprecated in future. Please use io functions in https://mmengine.readthedocs.io/en/latest/api/fileio.html#file-io\n",
      "08/07 17:47:36 - mmengine - \u001b[5m\u001b[4m\u001b[33mWARNING\u001b[0m - \"HardDiskBackend\" is the alias of \"LocalBackend\" and the former will be deprecated in future.\n",
      "08/07 17:47:36 - mmengine - \u001b[5m\u001b[4m\u001b[33mWARNING\u001b[0m - \"FileClient\" will be deprecated in future. Please use io functions in https://mmengine.readthedocs.io/en/latest/api/fileio.html#file-io\n",
      "08/07 17:47:36 - mmengine - \u001b[5m\u001b[4m\u001b[33mWARNING\u001b[0m - \"HardDiskBackend\" is the alias of \"LocalBackend\" and the former will be deprecated in future.\n"
     ]
    },
    {
     "name": "stderr",
     "output_type": "stream",
     "text": [
      "100%|██████████| 6/6 [01:07<00:00, 11.33s/it]\n"
     ]
    },
    {
     "name": "stdout",
     "output_type": "stream",
     "text": [
      "2024-08-07 17:48:44 Test INFO: Testing Over...\n",
      "\n",
      "2024-08-07 17:57:14 Test INFO: Video duration of data/lean_analysis/raw_data/video//record2_20240619094017_000034.mp4: 600.13s\n",
      "*********************video key: record2_20240619094017_000034\n",
      "2024-08-07 17:57:14 Test INFO: Using Automatic Mixed Precision...\n",
      "2024-08-07 17:57:14 Test INFO: testing subset: 1 videos, truncated as 11 windows.\n",
      "2024-08-07 17:57:14 Test INFO: Testing Starts...\n",
      "\n"
     ]
    },
    {
     "name": "stderr",
     "output_type": "stream",
     "text": [
      "  0%|          | 0/6 [00:00<?, ?it/s]"
     ]
    },
    {
     "name": "stdout",
     "output_type": "stream",
     "text": [
      "08/07 17:57:14 - mmengine - \u001b[5m\u001b[4m\u001b[33mWARNING\u001b[0m - \"FileClient\" will be deprecated in future. Please use io functions in https://mmengine.readthedocs.io/en/latest/api/fileio.html#file-io\n",
      "08/07 17:57:14 - mmengine - \u001b[5m\u001b[4m\u001b[33mWARNING\u001b[0m - \"FileClient\" will be deprecated in future. Please use io functions in https://mmengine.readthedocs.io/en/latest/api/fileio.html#file-io\n",
      "08/07 17:57:14 - mmengine - \u001b[5m\u001b[4m\u001b[33mWARNING\u001b[0m - \"HardDiskBackend\" is the alias of \"LocalBackend\" and the former will be deprecated in future.\n",
      "08/07 17:57:14 - mmengine - \u001b[5m\u001b[4m\u001b[33mWARNING\u001b[0m - \"HardDiskBackend\" is the alias of \"LocalBackend\" and the former will be deprecated in future.\n"
     ]
    },
    {
     "name": "stderr",
     "output_type": "stream",
     "text": [
      "100%|██████████| 6/6 [01:08<00:00, 11.42s/it]\n"
     ]
    },
    {
     "name": "stdout",
     "output_type": "stream",
     "text": [
      "2024-08-07 17:58:23 Test INFO: Testing Over...\n",
      "\n",
      "2024-08-07 18:06:56 Test INFO: Video duration of data/lean_analysis/raw_data/video//record2_20240619094017_000035.mp4: 437.87s\n",
      "*********************video key: record2_20240619094017_000035\n",
      "2024-08-07 18:06:56 Test INFO: Using Automatic Mixed Precision...\n",
      "2024-08-07 18:06:56 Test INFO: testing subset: 1 videos, truncated as 8 windows.\n",
      "2024-08-07 18:06:56 Test INFO: Testing Starts...\n",
      "\n"
     ]
    },
    {
     "name": "stderr",
     "output_type": "stream",
     "text": [
      "  0%|          | 0/4 [00:00<?, ?it/s]"
     ]
    },
    {
     "name": "stdout",
     "output_type": "stream",
     "text": [
      "08/07 18:06:56 - mmengine - \u001b[5m\u001b[4m\u001b[33mWARNING\u001b[0m - \"FileClient\" will be deprecated in future. Please use io functions in https://mmengine.readthedocs.io/en/latest/api/fileio.html#file-io\n",
      "08/07 18:06:56 - mmengine - \u001b[5m\u001b[4m\u001b[33mWARNING\u001b[0m - \"FileClient\" will be deprecated in future. Please use io functions in https://mmengine.readthedocs.io/en/latest/api/fileio.html#file-io\n",
      "08/07 18:06:56 - mmengine - \u001b[5m\u001b[4m\u001b[33mWARNING\u001b[0m - \"HardDiskBackend\" is the alias of \"LocalBackend\" and the former will be deprecated in future.\n",
      "08/07 18:06:56 - mmengine - \u001b[5m\u001b[4m\u001b[33mWARNING\u001b[0m - \"HardDiskBackend\" is the alias of \"LocalBackend\" and the former will be deprecated in future.\n"
     ]
    },
    {
     "name": "stderr",
     "output_type": "stream",
     "text": [
      "100%|██████████| 4/4 [00:45<00:00, 11.29s/it]\n"
     ]
    },
    {
     "name": "stdout",
     "output_type": "stream",
     "text": [
      "2024-08-07 18:07:41 Test INFO: Testing Over...\n",
      "\n",
      "2024-08-07 18:13:56 Test INFO: Video duration of data/lean_analysis/raw_data/video//record2_20240619094017_000028.mp4: 600.13s\n",
      "*********************video key: record2_20240619094017_000028\n",
      "2024-08-07 18:13:56 Test INFO: Using Automatic Mixed Precision...\n",
      "2024-08-07 18:13:56 Test INFO: testing subset: 1 videos, truncated as 11 windows.\n",
      "2024-08-07 18:13:56 Test INFO: Testing Starts...\n",
      "\n"
     ]
    },
    {
     "name": "stderr",
     "output_type": "stream",
     "text": [
      "  0%|          | 0/6 [00:00<?, ?it/s]"
     ]
    },
    {
     "name": "stdout",
     "output_type": "stream",
     "text": [
      "08/07 18:13:57 - mmengine - \u001b[5m\u001b[4m\u001b[33mWARNING\u001b[0m - \"FileClient\" will be deprecated in future. Please use io functions in https://mmengine.readthedocs.io/en/latest/api/fileio.html#file-io\n",
      "08/07 18:13:57 - mmengine - \u001b[5m\u001b[4m\u001b[33mWARNING\u001b[0m - \"HardDiskBackend\" is the alias of \"LocalBackend\" and the former will be deprecated in future.\n",
      "08/07 18:13:57 - mmengine - \u001b[5m\u001b[4m\u001b[33mWARNING\u001b[0m - \"FileClient\" will be deprecated in future. Please use io functions in https://mmengine.readthedocs.io/en/latest/api/fileio.html#file-io\n",
      "08/07 18:13:57 - mmengine - \u001b[5m\u001b[4m\u001b[33mWARNING\u001b[0m - \"HardDiskBackend\" is the alias of \"LocalBackend\" and the former will be deprecated in future.\n"
     ]
    },
    {
     "name": "stderr",
     "output_type": "stream",
     "text": [
      "100%|██████████| 6/6 [01:08<00:00, 11.35s/it]\n"
     ]
    },
    {
     "name": "stdout",
     "output_type": "stream",
     "text": [
      "2024-08-07 18:15:05 Test INFO: Testing Over...\n",
      "\n"
     ]
    }
   ],
   "source": [
    "from PIL import Image, ImageDraw, ImageFont\n",
    "font = ImageFont.truetype(\"ukai.ttc\", 60, encoding=\"utf-8\")\n",
    "\n",
    "\n",
    "for key, _ in example_videos:\n",
    "    video_file = f\"{video_dir}/{key}.mp4\"\n",
    "    \n",
    "    prepare_input(cfg, logger, video_file, video_dir, \"testing\")\n",
    "    result = inference(model, cfg, logger)\n",
    "    \n",
    "    processed_result = filter_segments(result)\n",
    "    gt_result = gt_data['database'][key]['annotations']\n",
    "    \n",
    "    action_labels = list(set(segment['label'] for segment in processed_result).union(set(ann['label'] for ann in gt_result)))\n",
    "    \n",
    "    video = VideoReader(video_file)\n",
    "    # action_bar = generate_action_bar(processed_result, action_labels, video.frame_cnt / video.fps, (video.width, 20))\n",
    "    # gt_action_bar = generate_action_bar(gt_result, action_labels, video.frame_cnt / video.fps, (video.width, 20))\n",
    "    action_timeline = draw_action_timeline(list(result['results'].values())[0], gt_result, video.frame_cnt / video.fps, 0.2, video.width, 40)\n",
    "    \n",
    "    import cv2\n",
    "    writer = cv2.VideoWriter(f\"example/output_{'-'.join(key.split('/'))}.mp4\", cv2.VideoWriter_fourcc(*'mp4v'), video.fps, (video.width, video.height + action_timeline.shape[0]))\n",
    "    for i, frame in enumerate(video):\n",
    "        new_frame = cv2.vconcat([frame, action_timeline])\n",
    "        \n",
    "        t = i / video.fps\n",
    "        gt_label = next((ann['label'] for ann in gt_result if ann['segment'][0] <= t and ann['segment'][1] >= t), None)\n",
    "        pred_label = next((segment['label'] for segment in processed_result if segment['segment'][0] <= t and segment['segment'][1] >= t), None)\n",
    "        \n",
    "        pimg = Image.fromarray(new_frame)\n",
    "        draw = ImageDraw.Draw(pimg)\n",
    "        draw.text((100, 220), f\"GT: {gt_label}\", font=font, fill=(0, 0, 255), stroke_width=2)\n",
    "        draw.text((100, 260), f\"Pred: {pred_label}\", font=font, fill=(0, 0, 255), stroke_width=2)\n",
    "        # cv2.putText(new_frame, f\"GT: {gt_label}\", (10, video.height // 4), cv2.FONT_HERSHEY_SIMPLEX, 0.5, (255, 255, 255), 1)\n",
    "        # cv2.putText(new_frame, f\"Pred: {pred_label}\", (10, video.height // 4 + 20), cv2.FONT_HERSHEY_SIMPLEX, 0.5, (255, 255, 255), 1)\n",
    "        \n",
    "        new_frame = np.array(pimg)\n",
    "        \n",
    "        progress = int(i / video.frame_cnt * video.width)\n",
    "        cv2.line(new_frame, (progress, new_frame.shape[0] - action_timeline.shape[0]), (progress, new_frame.shape[0]), (255, 255, 0), 2)\n",
    "        \n",
    "        writer.write(new_frame)\n",
    "    writer.release()"
   ]
  },
  {
   "cell_type": "markdown",
   "metadata": {},
   "source": [
    "## 查看Charades Testing结果数据"
   ]
  },
  {
   "cell_type": "code",
   "execution_count": 3,
   "metadata": {},
   "outputs": [],
   "source": [
    "import json\n",
    "\n",
    "result_path = \"exps/charades/adatad/e2e_actionformer_videomae_l_512x1_160_adapter/gpu2_id0/result_detection.json\"\n",
    "ground_truth_path = \"data/charades/annotations/charades.fix.json\"\n",
    "\n",
    "with open(result_path) as f:\n",
    "    res_data = json.load(f)\n",
    "    \n",
    "with open(ground_truth_path) as f:\n",
    "    gt_data = json.load(f)"
   ]
  },
  {
   "cell_type": "code",
   "execution_count": 4,
   "metadata": {},
   "outputs": [
    {
     "data": {
      "text/plain": [
       "[('Walking through a doorway', 1079),\n",
       " ('Someone is standing up from somewhere', 1022),\n",
       " ('Sitting in a chair', 913),\n",
       " ('Holding some food', 864),\n",
       " ('Drinking from a cup/glass/bottle', 847),\n",
       " ('Holding a cup/glass/bottle of something', 821),\n",
       " ('Someone is smiling', 780),\n",
       " ('Holding a phone/camera', 741),\n",
       " ('Someone is going from standing to sitting', 728),\n",
       " ('Someone is eating something', 694),\n",
       " ('Putting something on a table', 669),\n",
       " ('Holding a dish', 630),\n",
       " ('Opening a door', 619),\n",
       " ('Taking food from somewhere', 547),\n",
       " ('Holding a bag', 527),\n",
       " ('Sitting at a table', 522),\n",
       " ('Putting clothes somewhere', 515),\n",
       " ('Holding some clothes', 506),\n",
       " ('Playing with a phone/camera', 485),\n",
       " ('Closing a door', 473)]"
      ]
     },
     "execution_count": 4,
     "metadata": {},
     "output_type": "execute_result"
    }
   ],
   "source": [
    "from collections import defaultdict, Counter\n",
    "\n",
    "action2key = defaultdict(list)\n",
    "\n",
    "action_counter = Counter([ann['label'] for key, gt_rec in gt_data['database'].items() for ann in gt_rec['annotations']])\n",
    "\n",
    "for key, gt_rec in gt_data['database'].items():\n",
    "    for ann in gt_rec['annotations']:\n",
    "        action2key[ann['label']].append(key)\n",
    "        \n",
    "action_counter.most_common(20)"
   ]
  },
  {
   "cell_type": "code",
   "execution_count": 5,
   "metadata": {},
   "outputs": [],
   "source": [
    "# 找那种常见动作最多的视频，用来说明可以跨场景学习相似动作\n",
    "\n",
    "most_common_actions = set(action for action, _ in action_counter.most_common(20))\n",
    "\n",
    "video_most_common_action_count = {}\n",
    "\n",
    "for key, gt_rec in gt_data['database'].items():\n",
    "    video_most_common_action_count[key] = len(set(ann['label'] for ann in gt_rec['annotations']).intersection(most_common_actions))\n",
    "\n",
    "example_videos = list(sorted(video_most_common_action_count.items(), key=lambda x: x[1], reverse=True))[:20]"
   ]
  },
  {
   "cell_type": "code",
   "execution_count": 6,
   "metadata": {},
   "outputs": [
    {
     "ename": "NameError",
     "evalue": "name 'cfg' is not defined",
     "output_type": "error",
     "traceback": [
      "\u001b[0;31m---------------------------------------------------------------------------\u001b[0m",
      "\u001b[0;31mNameError\u001b[0m                                 Traceback (most recent call last)",
      "Cell \u001b[0;32mIn[6], line 1\u001b[0m\n\u001b[0;32m----> 1\u001b[0m model \u001b[38;5;241m=\u001b[39m load_model(\u001b[43mcfg\u001b[49m, checkpoint_path, logger)\n",
      "\u001b[0;31mNameError\u001b[0m: name 'cfg' is not defined"
     ]
    }
   ],
   "source": [
    "model = load_model(cfg, checkpoint_path, logger)"
   ]
  },
  {
   "cell_type": "code",
   "execution_count": 19,
   "metadata": {},
   "outputs": [
    {
     "name": "stdout",
     "output_type": "stream",
     "text": [
      "2024-07-10 23:13:54 Test INFO: Video duration of data/charades/raw_data/Charades_v1_480_30fps/AAQHJ.mp4: 30.87s\n",
      "*********************video key: AAQHJ\n",
      "2024-07-10 23:13:54 Test INFO: Using Automatic Mixed Precision...\n",
      "2024-07-10 23:13:54 Test INFO: testing subset: 1 videos, truncated as 1 windows.\n",
      "2024-07-10 23:13:54 Test INFO: Testing Starts...\n",
      "\n"
     ]
    },
    {
     "name": "stderr",
     "output_type": "stream",
     "text": [
      "  0%|          | 0/1 [00:00<?, ?it/s]"
     ]
    },
    {
     "name": "stdout",
     "output_type": "stream",
     "text": [
      "07/10 23:13:54 - mmengine - \u001b[5m\u001b[4m\u001b[33mWARNING\u001b[0m - \"FileClient\" will be deprecated in future. Please use io functions in https://mmengine.readthedocs.io/en/latest/api/fileio.html#file-io\n",
      "07/10 23:13:54 - mmengine - \u001b[5m\u001b[4m\u001b[33mWARNING\u001b[0m - \"HardDiskBackend\" is the alias of \"LocalBackend\" and the former will be deprecated in future.\n"
     ]
    },
    {
     "name": "stderr",
     "output_type": "stream",
     "text": [
      "100%|██████████| 1/1 [00:01<00:00,  1.36s/it]"
     ]
    },
    {
     "name": "stdout",
     "output_type": "stream",
     "text": [
      "2024-07-10 23:13:55 Test INFO: Testing Over...\n",
      "\n"
     ]
    },
    {
     "name": "stderr",
     "output_type": "stream",
     "text": [
      "\n"
     ]
    },
    {
     "name": "stdout",
     "output_type": "stream",
     "text": [
      "Segment 0: Sitting on the floor from 31, with color (0.347636, 0.082946, 0.494121)\n",
      "Segment 1: Someone is standing up from somewhere from 241, with color (0.278493, 0.061978, 0.46919)\n",
      "Segment 0: Holding a pillow from 8, with color (0.562866, 0.165368, 0.504692)\n",
      "Segment 1: Someone is eating something from 44, with color (0.913354, 0.330052, 0.382563)\n",
      "Segment 2: Someone is standing up from somewhere from 79, with color (0.278493, 0.061978, 0.46919)\n",
      "Segment 3: Holding some food from 158, with color (0.639216, 0.189921, 0.49415)\n",
      "Segment 4: Taking a cup/glass/bottle from somewhere from 70, with color (0.021692, 0.01832, 0.09261)\n",
      "Segment 5: Drinking from a cup/glass/bottle from 155, with color (0.997228, 0.747981, 0.516859)\n",
      "Segment 6: Someone is going from standing to sitting from 30, with color (0.123833, 0.067295, 0.295879)\n",
      "Segment 7: Sitting in a chair from 59, with color (0.990871, 0.572706, 0.398714)\n",
      "Segment 8: Holding a dish from 50, with color (0.716387, 0.214982, 0.47529)\n",
      "Segment 9: Putting something on a table from 123, with color (0.494258, 0.141462, 0.507988)\n",
      "Segment 10: Holding a cup/glass/bottle of something from 118, with color (0.001462, 0.000466, 0.013866)\n",
      "Segment 11: Sitting at a table from 44, with color (0.857763, 0.279857, 0.415496)\n",
      "Segment 12: Taking food from somewhere from 64, with color (0.198177, 0.063862, 0.404009)\n",
      "Segment 13: Putting a dish/es somewhere from 110, with color (0.99093, 0.912915, 0.668481)\n",
      "Segment 14: Taking a dish/es from somewhere from 40, with color (0.420791, 0.11292, 0.505215)\n",
      "Segment 15: Snuggling with a pillow from 170, with color (0.995131, 0.827052, 0.585701)\n",
      "Segment 16: Watching television from 62, with color (0.979645, 0.491014, 0.367783)\n",
      "Segment 17: Putting a pillow somewhere from 140, with color (0.069764, 0.049726, 0.193735)\n",
      "Segment 18: Throwing a pillow somewhere from 237, with color (0.786212, 0.241514, 0.450184)\n",
      "Segment 19: Putting a cup/glass/bottle somewhere from 202, with color (0.996341, 0.660969, 0.45116)\n",
      "Segment 20: Taking a pillow from somewhere from 132, with color (0.955849, 0.4044, 0.360619)\n",
      "2024-07-10 23:13:56 Test INFO: Video duration of data/charades/raw_data/Charades_v1_480_30fps/OKVGK.mp4: 35.10s\n",
      "*********************video key: OKVGK\n",
      "2024-07-10 23:13:56 Test INFO: Using Automatic Mixed Precision...\n",
      "2024-07-10 23:13:56 Test INFO: testing subset: 1 videos, truncated as 1 windows.\n",
      "2024-07-10 23:13:56 Test INFO: Testing Starts...\n",
      "\n"
     ]
    },
    {
     "name": "stderr",
     "output_type": "stream",
     "text": [
      "  0%|          | 0/1 [00:00<?, ?it/s]"
     ]
    },
    {
     "name": "stdout",
     "output_type": "stream",
     "text": [
      "07/10 23:13:57 - mmengine - \u001b[5m\u001b[4m\u001b[33mWARNING\u001b[0m - \"FileClient\" will be deprecated in future. Please use io functions in https://mmengine.readthedocs.io/en/latest/api/fileio.html#file-io\n",
      "07/10 23:13:57 - mmengine - \u001b[5m\u001b[4m\u001b[33mWARNING\u001b[0m - \"HardDiskBackend\" is the alias of \"LocalBackend\" and the former will be deprecated in future.\n"
     ]
    },
    {
     "name": "stderr",
     "output_type": "stream",
     "text": [
      "100%|██████████| 1/1 [00:01<00:00,  1.60s/it]\n"
     ]
    },
    {
     "name": "stdout",
     "output_type": "stream",
     "text": [
      "2024-07-10 23:13:58 Test INFO: Testing Over...\n",
      "\n",
      "Segment 0: Walking through a doorway from 7, with color (0.001462, 0.000466, 0.013866)\n",
      "Segment 1: Someone is undressing from 115, with color (0.341482, 0.080564, 0.492631)\n",
      "Segment 2: Putting a phone/camera somewhere from 350, with color (0.944006, 0.377643, 0.365136)\n",
      "Segment 0: Watching something/someone/themselves in a mirror from 243, with color (0.123833, 0.067295, 0.295879)\n",
      "Segment 1: Closing a door from 28, with color (0.767398, 0.233705, 0.457755)\n",
      "Segment 2: Opening a door from 6, with color (0.994738, 0.62435, 0.427397)\n",
      "Segment 3: Someone is going from standing to sitting from 79, with color (0.232077, 0.059889, 0.437695)\n",
      "Segment 4: Someone is undressing from 117, with color (0.341482, 0.080564, 0.492631)\n",
      "Segment 5: Someone is standing up from somewhere from 395, with color (0.550287, 0.161158, 0.505719)\n",
      "Segment 6: Sitting in a chair from 92, with color (0.99317, 0.870024, 0.626189)\n",
      "Segment 7: Taking a phone/camera from somewhere from 218, with color (0.04383, 0.03383, 0.141886)\n",
      "Segment 8: Sitting at a table from 99, with color (0.981, 0.498428, 0.369734)\n",
      "Segment 9: Holding a mirror from 244, with color (0.997228, 0.747981, 0.516859)\n",
      "Segment 10: Putting something on a table from 363, with color (0.868793, 0.287728, 0.409303)\n",
      "Segment 11: Holding a phone/camera from 237, with color (0.658483, 0.196027, 0.490253)\n",
      "Segment 12: Walking through a doorway from 10, with color (0.001462, 0.000466, 0.013866)\n",
      "Segment 13: Playing with a phone/camera from 237, with color (0.445163, 0.122724, 0.506901)\n",
      "Segment 14: Putting a phone/camera somewhere from 237, with color (0.944006, 0.377643, 0.365136)\n",
      "2024-07-10 23:13:59 Test INFO: Video duration of data/charades/raw_data/Charades_v1_480_30fps/JL6MG.mp4: 39.90s\n",
      "*********************video key: JL6MG\n",
      "2024-07-10 23:13:59 Test INFO: Using Automatic Mixed Precision...\n",
      "2024-07-10 23:13:59 Test INFO: testing subset: 1 videos, truncated as 1 windows.\n",
      "2024-07-10 23:13:59 Test INFO: Testing Starts...\n",
      "\n"
     ]
    },
    {
     "name": "stderr",
     "output_type": "stream",
     "text": [
      "  0%|          | 0/1 [00:00<?, ?it/s]"
     ]
    },
    {
     "name": "stdout",
     "output_type": "stream",
     "text": [
      "07/10 23:14:00 - mmengine - \u001b[5m\u001b[4m\u001b[33mWARNING\u001b[0m - \"FileClient\" will be deprecated in future. Please use io functions in https://mmengine.readthedocs.io/en/latest/api/fileio.html#file-io\n",
      "07/10 23:14:00 - mmengine - \u001b[5m\u001b[4m\u001b[33mWARNING\u001b[0m - \"HardDiskBackend\" is the alias of \"LocalBackend\" and the former will be deprecated in future.\n"
     ]
    },
    {
     "name": "stderr",
     "output_type": "stream",
     "text": [
      "100%|██████████| 1/1 [00:01<00:00,  1.96s/it]\n"
     ]
    },
    {
     "name": "stdout",
     "output_type": "stream",
     "text": [
      "2024-07-10 23:14:01 Test INFO: Testing Over...\n",
      "\n",
      "Segment 0: Pouring something into a cup/glass/bottle from 2, with color (0.716387, 0.214982, 0.47529)\n",
      "Segment 1: Someone is going from standing to sitting from 100, with color (0.316654, 0.07169, 0.48538)\n",
      "Segment 2: Taking food from somewhere from 164, with color (0.232077, 0.059889, 0.437695)\n",
      "Segment 0: Eating a sandwich from 173, with color (0.146785, 0.068738, 0.334011)\n",
      "Segment 1: Someone is eating something from 165, with color (0.9867, 0.535582, 0.38221)\n",
      "Segment 2: Sitting at a table from 108, with color (0.967671, 0.439703, 0.35981)\n",
      "Segment 3: Taking food from somewhere from 62, with color (0.232077, 0.059889, 0.437695)\n",
      "Segment 4: Putting a cup/glass/bottle somewhere from 102, with color (0.997351, 0.719089, 0.493755)\n",
      "Segment 5: Someone is going from standing to sitting from 100, with color (0.316654, 0.07169, 0.48538)\n",
      "Segment 6: Sitting in a chair from 111, with color (0.994738, 0.62435, 0.427397)\n",
      "Segment 7: Taking a sandwich from somewhere from 259, with color (0.46964, 0.132245, 0.507809)\n",
      "Segment 8: Holding a sandwich from 259, with color (0.390384, 0.100379, 0.501864)\n",
      "Segment 9: Taking a cup/glass/bottle from somewhere from 259, with color (0.078815, 0.054184, 0.211667)\n",
      "Segment 10: Putting a sandwich somewhere from 259, with color (0.001462, 0.000466, 0.013866)\n",
      "Segment 11: Putting something on a table from 259, with color (0.632805, 0.187893, 0.495332)\n",
      "Segment 12: Pouring something into a cup/glass/bottle from 0, with color (0.716387, 0.214982, 0.47529)\n",
      "Segment 13: Holding a dish from 60, with color (0.868793, 0.287728, 0.409303)\n",
      "Segment 14: Drinking from a cup/glass/bottle from 68, with color (0.99568, 0.812706, 0.572645)\n",
      "Segment 15: Holding some food from 163, with color (0.929845, 0.352734, 0.372677)\n",
      "Segment 16: Taking a dish/es from somewhere from 2, with color (0.550287, 0.161158, 0.505719)\n",
      "Segment 17: Holding a cup/glass/bottle of something from 0, with color (0.024792, 0.020715, 0.100676)\n",
      "Segment 18: Taking a picture of something from 0, with color (0.792427, 0.244242, 0.447543)\n",
      "Segment 19: Putting some food somewhere from 0, with color (0.991332, 0.905763, 0.661309)\n",
      "2024-07-10 23:14:04 Test INFO: Video duration of data/charades/raw_data/Charades_v1_480_30fps/PBV4T.mp4: 8.63s\n",
      "*********************video key: PBV4T\n",
      "2024-07-10 23:14:04 Test INFO: Using Automatic Mixed Precision...\n",
      "2024-07-10 23:14:04 Test INFO: testing subset: 1 videos, truncated as 1 windows.\n",
      "2024-07-10 23:14:04 Test INFO: Testing Starts...\n",
      "\n"
     ]
    },
    {
     "name": "stderr",
     "output_type": "stream",
     "text": [
      "  0%|          | 0/1 [00:00<?, ?it/s]"
     ]
    },
    {
     "name": "stdout",
     "output_type": "stream",
     "text": [
      "07/10 23:14:04 - mmengine - \u001b[5m\u001b[4m\u001b[33mWARNING\u001b[0m - \"FileClient\" will be deprecated in future. Please use io functions in https://mmengine.readthedocs.io/en/latest/api/fileio.html#file-io\n",
      "07/10 23:14:04 - mmengine - \u001b[5m\u001b[4m\u001b[33mWARNING\u001b[0m - \"HardDiskBackend\" is the alias of \"LocalBackend\" and the former will be deprecated in future.\n"
     ]
    },
    {
     "name": "stderr",
     "output_type": "stream",
     "text": [
      "100%|██████████| 1/1 [00:01<00:00,  1.62s/it]\n"
     ]
    },
    {
     "name": "stdout",
     "output_type": "stream",
     "text": [
      "2024-07-10 23:14:05 Test INFO: Testing Over...\n",
      "\n",
      "Segment 0: Holding some food from 0, with color (0.840636, 0.268953, 0.424666)\n",
      "Segment 0: Someone is standing up from somewhere from 189, with color (0.581819, 0.171596, 0.502777)\n",
      "Segment 1: Sitting in a chair from 0, with color (0.982279, 0.505851, 0.371874)\n",
      "Segment 2: Putting some food somewhere from 138, with color (0.995932, 0.805527, 0.566202)\n",
      "Segment 3: Lying on a bed from 283, with color (0.754737, 0.228772, 0.462509)\n",
      "Segment 4: Eating a sandwich from 0, with color (0.159018, 0.068354, 0.352688)\n",
      "Segment 5: Holding some food from 0, with color (0.840636, 0.268953, 0.424666)\n",
      "Segment 6: Someone is eating something from 0, with color (0.958464, 0.411324, 0.360014)\n",
      "Segment 7: Putting a dish/es somewhere from 166, with color (0.991688, 0.898627, 0.654202)\n",
      "Segment 8: Taking food from somewhere from 0, with color (0.335308, 0.078236, 0.491024)\n",
      "Segment 9: Someone is going from standing to sitting from 294, with color (0.245543, 0.059352, 0.448436)\n",
      "Segment 10: Holding a cup/glass/bottle of something from 50, with color (0.028123, 0.023201, 0.108787)\n",
      "Segment 11: Putting a cup/glass/bottle somewhere from 161, with color (0.993834, 0.609644, 0.418613)\n",
      "Segment 12: Drinking from a cup/glass/bottle from 105, with color (0.997254, 0.704611, 0.482635)\n",
      "Segment 13: Holding a sandwich from 0, with color (0.414709, 0.110431, 0.504662)\n",
      "Segment 14: Putting a sandwich somewhere from 5, with color (0.001462, 0.000466, 0.013866)\n",
      "Segment 15: Taking a sandwich from somewhere from 0, with color (0.500438, 0.143719, 0.50792)\n",
      "Segment 16: Holding a dish from 0, with color (0.908884, 0.324755, 0.385308)\n",
      "Segment 17: Taking a cup/glass/bottle from somewhere from 66, with color (0.083446, 0.056225, 0.220755)\n",
      "Segment 18: Putting something on a table from 194, with color (0.671349, 0.200133, 0.487358)\n",
      "2024-07-10 23:14:06 Test INFO: Video duration of data/charades/raw_data/Charades_v1_480_30fps/FYHTC.mp4: 28.50s\n",
      "*********************video key: FYHTC\n",
      "2024-07-10 23:14:06 Test INFO: Using Automatic Mixed Precision...\n",
      "2024-07-10 23:14:06 Test INFO: testing subset: 1 videos, truncated as 1 windows.\n",
      "2024-07-10 23:14:06 Test INFO: Testing Starts...\n",
      "\n"
     ]
    },
    {
     "name": "stderr",
     "output_type": "stream",
     "text": [
      "  0%|          | 0/1 [00:00<?, ?it/s]"
     ]
    },
    {
     "name": "stdout",
     "output_type": "stream",
     "text": [
      "07/10 23:14:06 - mmengine - \u001b[5m\u001b[4m\u001b[33mWARNING\u001b[0m - \"FileClient\" will be deprecated in future. Please use io functions in https://mmengine.readthedocs.io/en/latest/api/fileio.html#file-io\n",
      "07/10 23:14:06 - mmengine - \u001b[5m\u001b[4m\u001b[33mWARNING\u001b[0m - \"HardDiskBackend\" is the alias of \"LocalBackend\" and the former will be deprecated in future.\n"
     ]
    },
    {
     "name": "stderr",
     "output_type": "stream",
     "text": [
      "100%|██████████| 1/1 [00:01<00:00,  1.67s/it]\n"
     ]
    },
    {
     "name": "stdout",
     "output_type": "stream",
     "text": [
      "2024-07-10 23:14:08 Test INFO: Testing Over...\n",
      "\n",
      "Segment 0: Drinking from a cup/glass/bottle from 0, with color (0.992089, 0.89147, 0.647116)\n",
      "Segment 1: Holding a phone/camera from 190, with color (0.716387, 0.214982, 0.47529)\n",
      "Segment 0: Playing with a phone/camera from 264, with color (0.531507, 0.154739, 0.506895)\n",
      "Segment 1: Opening a door from 390, with color (0.997077, 0.690088, 0.471811)\n",
      "Segment 2: Someone is going from standing to sitting from 170, with color (0.359898, 0.087831, 0.496778)\n",
      "Segment 3: Someone is standing up from somewhere from 294, with color (0.620005, 0.18384, 0.497524)\n",
      "Segment 4: Closing a door from 18, with color (0.944006, 0.377643, 0.365136)\n",
      "Segment 5: Putting something on a table from 129, with color (0.97669, 0.476226, 0.364466)\n",
      "Segment 6: Lying on the floor from 227, with color (0.001462, 0.000466, 0.013866)\n",
      "Segment 7: Walking through a doorway from 405, with color (0.171713, 0.067305, 0.370771)\n",
      "Segment 8: Grasping onto a doorknob from 0, with color (0.445163, 0.122724, 0.506901)\n",
      "Segment 9: Grasping onto a doorknob from 38, with color (0.445163, 0.122724, 0.506901)\n",
      "Segment 10: Drinking from a cup/glass/bottle from 18, with color (0.992089, 0.89147, 0.647116)\n",
      "Segment 11: Putting a phone/camera somewhere from 333, with color (0.992196, 0.587502, 0.406299)\n",
      "Segment 12: Taking a cup/glass/bottle from somewhere from 0, with color (0.092949, 0.059904, 0.239164)\n",
      "Segment 13: Holding a cup/glass/bottle of something from 0, with color (0.031696, 0.025765, 0.116965)\n",
      "Segment 14: Holding a phone/camera from 252, with color (0.716387, 0.214982, 0.47529)\n",
      "Segment 15: Fixing a door from 5, with color (0.884651, 0.30053, 0.400047)\n",
      "Segment 16: Putting a cup/glass/bottle somewhere from 124, with color (0.996369, 0.791167, 0.553499)\n",
      "Segment 17: Sitting on the floor from 186, with color (0.804752, 0.249911, 0.442102)\n",
      "Segment 18: Taking a phone/camera from somewhere from 261, with color (0.265447, 0.060237, 0.46184)\n",
      "2024-07-10 23:14:09 Test INFO: Video duration of data/charades/raw_data/Charades_v1_480_30fps/H3LUW.mp4: 35.43s\n",
      "*********************video key: H3LUW\n",
      "2024-07-10 23:14:09 Test INFO: Using Automatic Mixed Precision...\n",
      "2024-07-10 23:14:09 Test INFO: testing subset: 1 videos, truncated as 1 windows.\n",
      "2024-07-10 23:14:09 Test INFO: Testing Starts...\n",
      "\n"
     ]
    },
    {
     "name": "stderr",
     "output_type": "stream",
     "text": [
      "  0%|          | 0/1 [00:00<?, ?it/s]"
     ]
    },
    {
     "name": "stdout",
     "output_type": "stream",
     "text": [
      "07/10 23:14:09 - mmengine - \u001b[5m\u001b[4m\u001b[33mWARNING\u001b[0m - \"FileClient\" will be deprecated in future. Please use io functions in https://mmengine.readthedocs.io/en/latest/api/fileio.html#file-io\n",
      "07/10 23:14:09 - mmengine - \u001b[5m\u001b[4m\u001b[33mWARNING\u001b[0m - \"HardDiskBackend\" is the alias of \"LocalBackend\" and the former will be deprecated in future.\n"
     ]
    },
    {
     "name": "stderr",
     "output_type": "stream",
     "text": [
      "100%|██████████| 1/1 [00:01<00:00,  1.68s/it]\n"
     ]
    },
    {
     "name": "stdout",
     "output_type": "stream",
     "text": [
      "2024-07-10 23:14:10 Test INFO: Testing Over...\n",
      "\n",
      "Segment 0: Someone is going from standing to sitting from 0, with color (0.232077, 0.059889, 0.437695)\n",
      "Segment 1: Someone is eating something from 139, with color (0.944006, 0.377643, 0.365136)\n",
      "Segment 2: Putting a cup/glass/bottle somewhere from 422, with color (0.994738, 0.62435, 0.427397)\n",
      "Segment 0: Drinking from a cup/glass/bottle from 296, with color (0.997228, 0.747981, 0.516859)\n",
      "Segment 1: Sitting in a chair from 44, with color (0.981, 0.498428, 0.369734)\n",
      "Segment 2: Sitting at a table from 50, with color (0.868793, 0.287728, 0.409303)\n",
      "Segment 3: Someone is going from standing to sitting from 28, with color (0.232077, 0.059889, 0.437695)\n",
      "Segment 4: Someone is smiling from 274, with color (0.445163, 0.122724, 0.506901)\n",
      "Segment 5: Holding a cup/glass/bottle of something from 287, with color (0.001462, 0.000466, 0.013866)\n",
      "Segment 6: Holding a sandwich from 52, with color (0.550287, 0.161158, 0.505719)\n",
      "Segment 7: Putting something on a table from 424, with color (0.658483, 0.196027, 0.490253)\n",
      "Segment 8: Putting some food somewhere from 150, with color (0.99317, 0.870024, 0.626189)\n",
      "Segment 9: Eating a sandwich from 54, with color (0.123833, 0.067295, 0.295879)\n",
      "Segment 10: Taking a cup/glass/bottle from somewhere from 284, with color (0.04383, 0.03383, 0.141886)\n",
      "Segment 11: Holding some food from 1, with color (0.767398, 0.233705, 0.457755)\n",
      "Segment 12: Taking food from somewhere from 6, with color (0.341482, 0.080564, 0.492631)\n",
      "Segment 13: Someone is eating something from 52, with color (0.944006, 0.377643, 0.365136)\n",
      "Segment 14: Putting a cup/glass/bottle somewhere from 349, with color (0.994738, 0.62435, 0.427397)\n",
      "2024-07-10 23:14:12 Test INFO: Video duration of data/charades/raw_data/Charades_v1_480_30fps/I562C.mp4: 35.17s\n",
      "*********************video key: I562C\n",
      "2024-07-10 23:14:12 Test INFO: Using Automatic Mixed Precision...\n",
      "2024-07-10 23:14:12 Test INFO: testing subset: 1 videos, truncated as 1 windows.\n",
      "2024-07-10 23:14:12 Test INFO: Testing Starts...\n",
      "\n"
     ]
    },
    {
     "name": "stderr",
     "output_type": "stream",
     "text": [
      "  0%|          | 0/1 [00:00<?, ?it/s]"
     ]
    },
    {
     "name": "stdout",
     "output_type": "stream",
     "text": [
      "07/10 23:14:13 - mmengine - \u001b[5m\u001b[4m\u001b[33mWARNING\u001b[0m - \"FileClient\" will be deprecated in future. Please use io functions in https://mmengine.readthedocs.io/en/latest/api/fileio.html#file-io\n",
      "07/10 23:14:13 - mmengine - \u001b[5m\u001b[4m\u001b[33mWARNING\u001b[0m - \"HardDiskBackend\" is the alias of \"LocalBackend\" and the former will be deprecated in future.\n"
     ]
    },
    {
     "name": "stderr",
     "output_type": "stream",
     "text": [
      "100%|██████████| 1/1 [00:01<00:00,  1.76s/it]\n"
     ]
    },
    {
     "name": "stdout",
     "output_type": "stream",
     "text": [
      "2024-07-10 23:14:14 Test INFO: Testing Over...\n",
      "\n",
      "Segment 0: Opening a closet/cabinet from 0, with color (0.316654, 0.07169, 0.48538)\n",
      "Segment 1: Someone is going from standing to sitting from 175, with color (0.113094, 0.065492, 0.276784)\n",
      "Segment 2: Putting a dish/es somewhere from 277, with color (0.99244, 0.88433, 0.640099)\n",
      "Segment 3: Putting something on a table from 400, with color (0.512831, 0.148179, 0.507648)\n",
      "Segment 0: Holding some food from 207, with color (0.816914, 0.255895, 0.436461)\n",
      "Segment 1: Holding a cup/glass/bottle of something from 296, with color (0.001462, 0.000466, 0.013866)\n",
      "Segment 2: Sitting in a chair from 191, with color (0.996096, 0.653659, 0.446213)\n",
      "Segment 3: Someone is going from standing to sitting from 177, with color (0.113094, 0.065492, 0.276784)\n",
      "Segment 4: Holding a dish from 207, with color (0.716387, 0.214982, 0.47529)\n",
      "Segment 5: Grasping onto a doorknob from 0, with color (0.211718, 0.061992, 0.418647)\n",
      "Segment 6: Sitting at a table from 188, with color (0.904281, 0.31961, 0.388137)\n",
      "Segment 7: Taking a cup/glass/bottle from somewhere from 285, with color (0.039608, 0.03109, 0.133515)\n",
      "Segment 8: Taking a dish/es from somewhere from 197, with color (0.414709, 0.110431, 0.504662)\n",
      "Segment 9: Someone is eating something from 207, with color (0.960949, 0.418323, 0.35963)\n",
      "Segment 10: Closing a door from 117, with color (0.613617, 0.181811, 0.498536)\n",
      "Segment 11: Drinking from a cup/glass/bottle from 311, with color (0.996898, 0.769591, 0.534892)\n",
      "Segment 12: Opening a door from 8, with color (0.9867, 0.535582, 0.38221)\n",
      "2024-07-10 23:14:15 Test INFO: Video duration of data/charades/raw_data/Charades_v1_480_30fps/FNBYE.mp4: 38.43s\n",
      "*********************video key: FNBYE\n",
      "2024-07-10 23:14:15 Test INFO: Using Automatic Mixed Precision...\n",
      "2024-07-10 23:14:15 Test INFO: testing subset: 1 videos, truncated as 1 windows.\n",
      "2024-07-10 23:14:15 Test INFO: Testing Starts...\n",
      "\n"
     ]
    },
    {
     "name": "stderr",
     "output_type": "stream",
     "text": [
      "  0%|          | 0/1 [00:00<?, ?it/s]"
     ]
    },
    {
     "name": "stdout",
     "output_type": "stream",
     "text": [
      "07/10 23:14:16 - mmengine - \u001b[5m\u001b[4m\u001b[33mWARNING\u001b[0m - \"FileClient\" will be deprecated in future. Please use io functions in https://mmengine.readthedocs.io/en/latest/api/fileio.html#file-io\n",
      "07/10 23:14:16 - mmengine - \u001b[5m\u001b[4m\u001b[33mWARNING\u001b[0m - \"HardDiskBackend\" is the alias of \"LocalBackend\" and the former will be deprecated in future.\n"
     ]
    },
    {
     "name": "stderr",
     "output_type": "stream",
     "text": [
      "100%|██████████| 1/1 [00:01<00:00,  1.97s/it]\n"
     ]
    },
    {
     "name": "stdout",
     "output_type": "stream",
     "text": [
      "2024-07-10 23:14:17 Test INFO: Testing Over...\n",
      "\n",
      "Segment 0: Someone is going from standing to sitting from 0, with color (0.359898, 0.087831, 0.496778)\n",
      "Segment 1: Taking a cup/glass/bottle from somewhere from 134, with color (0.171713, 0.067305, 0.370771)\n",
      "Segment 2: Putting something on a table from 208, with color (0.716387, 0.214982, 0.47529)\n",
      "Segment 0: Eating a sandwich from 80, with color (0.265447, 0.060237, 0.46184)\n",
      "Segment 1: Opening a box from 122, with color (0.001462, 0.000466, 0.013866)\n",
      "Segment 2: Someone is going from standing to sitting from 24, with color (0.359898, 0.087831, 0.496778)\n",
      "Segment 3: Sitting at a table from 0, with color (0.944006, 0.377643, 0.365136)\n",
      "Segment 4: Someone is eating something from 170, with color (0.97669, 0.476226, 0.364466)\n",
      "Segment 5: Someone is standing up from somewhere from 156, with color (0.620005, 0.18384, 0.497524)\n",
      "Segment 6: Pouring something into a cup/glass/bottle from 50, with color (0.804752, 0.249911, 0.442102)\n",
      "Segment 7: Closing a box from 220, with color (0.031696, 0.025765, 0.116965)\n",
      "Segment 8: Taking food from somewhere from 7, with color (0.445163, 0.122724, 0.506901)\n",
      "Segment 9: Putting something on a table from 174, with color (0.716387, 0.214982, 0.47529)\n",
      "Segment 10: Holding some food from 9, with color (0.884651, 0.30053, 0.400047)\n",
      "Segment 11: Putting a cup/glass/bottle somewhere from 99, with color (0.997077, 0.690088, 0.471811)\n",
      "Segment 12: Sitting in a chair from 16, with color (0.992196, 0.587502, 0.406299)\n",
      "Segment 13: Taking a cup/glass/bottle from somewhere from 54, with color (0.171713, 0.067305, 0.370771)\n",
      "Segment 14: Drinking from a cup/glass/bottle from 146, with color (0.996369, 0.791167, 0.553499)\n",
      "Segment 15: Holding a sandwich from 12, with color (0.531507, 0.154739, 0.506895)\n",
      "Segment 16: Putting some food somewhere from 28, with color (0.992089, 0.89147, 0.647116)\n",
      "Segment 17: Holding a cup/glass/bottle of something from 44, with color (0.092949, 0.059904, 0.239164)\n",
      "2024-07-10 23:14:18 Test INFO: Video duration of data/charades/raw_data/Charades_v1_480_30fps/YCGJS.mp4: 30.67s\n",
      "*********************video key: YCGJS\n",
      "2024-07-10 23:14:18 Test INFO: Using Automatic Mixed Precision...\n",
      "2024-07-10 23:14:18 Test INFO: testing subset: 1 videos, truncated as 1 windows.\n",
      "2024-07-10 23:14:18 Test INFO: Testing Starts...\n",
      "\n"
     ]
    },
    {
     "name": "stderr",
     "output_type": "stream",
     "text": [
      "  0%|          | 0/1 [00:00<?, ?it/s]"
     ]
    },
    {
     "name": "stdout",
     "output_type": "stream",
     "text": [
      "07/10 23:14:19 - mmengine - \u001b[5m\u001b[4m\u001b[33mWARNING\u001b[0m - \"FileClient\" will be deprecated in future. Please use io functions in https://mmengine.readthedocs.io/en/latest/api/fileio.html#file-io\n",
      "07/10 23:14:19 - mmengine - \u001b[5m\u001b[4m\u001b[33mWARNING\u001b[0m - \"HardDiskBackend\" is the alias of \"LocalBackend\" and the former will be deprecated in future.\n"
     ]
    },
    {
     "name": "stderr",
     "output_type": "stream",
     "text": [
      "100%|██████████| 1/1 [00:01<00:00,  1.43s/it]"
     ]
    },
    {
     "name": "stdout",
     "output_type": "stream",
     "text": [
      "2024-07-10 23:14:20 Test INFO: Testing Over...\n",
      "\n"
     ]
    },
    {
     "name": "stderr",
     "output_type": "stream",
     "text": [
      "\n"
     ]
    },
    {
     "name": "stdout",
     "output_type": "stream",
     "text": [
      "Segment 0: Walking through a doorway from 0, with color (0.060949, 0.044794, 0.176129)\n",
      "Segment 1: Sitting in a chair from 57, with color (0.846416, 0.272473, 0.421631)\n",
      "Segment 0: Making a sandwich from 113, with color (0.944006, 0.377643, 0.365136)\n",
      "Segment 1: Someone is going from standing to sitting from 48, with color (0.445163, 0.122724, 0.506901)\n",
      "Segment 2: Someone is standing up from somewhere from 227, with color (0.994524, 0.841387, 0.598983)\n",
      "Segment 3: Putting a dish/es somewhere from 45, with color (0.997077, 0.690088, 0.471811)\n",
      "Segment 4: Sitting at a table from 70, with color (0.316654, 0.07169, 0.48538)\n",
      "Segment 5: Holding some food from 93, with color (0.171713, 0.067305, 0.370771)\n",
      "Segment 6: Holding a dish from 0, with color (0.57549, 0.16953, 0.503466)\n",
      "Segment 7: Someone is smiling from 235, with color (0.716387, 0.214982, 0.47529)\n",
      "Segment 8: Walking through a doorway from 12, with color (0.060949, 0.044794, 0.176129)\n",
      "Segment 9: Sitting in a chair from 81, with color (0.846416, 0.272473, 0.421631)\n",
      "Segment 10: Putting some food somewhere from 45, with color (0.9867, 0.535582, 0.38221)\n",
      "Segment 11: Putting something on a table from 47, with color (0.001462, 0.000466, 0.013866)\n",
      "2024-07-10 23:14:21 Test INFO: Video duration of data/charades/raw_data/Charades_v1_480_30fps/3CFFJ.mp4: 33.43s\n",
      "*********************video key: 3CFFJ\n",
      "2024-07-10 23:14:21 Test INFO: Using Automatic Mixed Precision...\n",
      "2024-07-10 23:14:21 Test INFO: testing subset: 1 videos, truncated as 1 windows.\n",
      "2024-07-10 23:14:21 Test INFO: Testing Starts...\n",
      "\n"
     ]
    },
    {
     "name": "stderr",
     "output_type": "stream",
     "text": [
      "  0%|          | 0/1 [00:00<?, ?it/s]"
     ]
    },
    {
     "name": "stdout",
     "output_type": "stream",
     "text": [
      "07/10 23:14:22 - mmengine - \u001b[5m\u001b[4m\u001b[33mWARNING\u001b[0m - \"FileClient\" will be deprecated in future. Please use io functions in https://mmengine.readthedocs.io/en/latest/api/fileio.html#file-io\n",
      "07/10 23:14:22 - mmengine - \u001b[5m\u001b[4m\u001b[33mWARNING\u001b[0m - \"HardDiskBackend\" is the alias of \"LocalBackend\" and the former will be deprecated in future.\n"
     ]
    },
    {
     "name": "stderr",
     "output_type": "stream",
     "text": [
      "100%|██████████| 1/1 [00:01<00:00,  1.43s/it]\n"
     ]
    },
    {
     "name": "stdout",
     "output_type": "stream",
     "text": [
      "2024-07-10 23:14:23 Test INFO: Testing Over...\n",
      "\n",
      "Segment 0: Putting something on a table from 0, with color (0.060949, 0.044794, 0.176129)\n",
      "Segment 1: Someone is eating something from 85, with color (0.445163, 0.122724, 0.506901)\n",
      "Segment 2: Putting a cup/glass/bottle somewhere from 427, with color (0.944006, 0.377643, 0.365136)\n",
      "Segment 0: Holding a broom from 21, with color (0.997077, 0.690088, 0.471811)\n",
      "Segment 1: Someone is eating something from 89, with color (0.445163, 0.122724, 0.506901)\n",
      "Segment 2: Someone is going from standing to sitting from 57, with color (0.57549, 0.16953, 0.503466)\n",
      "Segment 3: Someone is standing up from somewhere from 0, with color (0.994524, 0.841387, 0.598983)\n",
      "Segment 4: Putting something on a table from 0, with color (0.060949, 0.044794, 0.176129)\n",
      "Segment 5: Sitting in a chair from 63, with color (0.846416, 0.272473, 0.421631)\n",
      "Segment 6: Drinking from a cup/glass/bottle from 450, with color (0.9867, 0.535582, 0.38221)\n",
      "Segment 7: Taking a cup/glass/bottle from somewhere from 450, with color (0.171713, 0.067305, 0.370771)\n",
      "Segment 8: Holding some food from 278, with color (0.316654, 0.07169, 0.48538)\n",
      "Segment 9: Holding a cup/glass/bottle of something from 17, with color (0.001462, 0.000466, 0.013866)\n",
      "Segment 10: Taking food from somewhere from 232, with color (0.716387, 0.214982, 0.47529)\n",
      "2024-07-10 23:14:24 Test INFO: Video duration of data/charades/raw_data/Charades_v1_480_30fps/W1CG2.mp4: 30.57s\n",
      "*********************video key: W1CG2\n",
      "2024-07-10 23:14:24 Test INFO: Using Automatic Mixed Precision...\n",
      "2024-07-10 23:14:24 Test INFO: testing subset: 1 videos, truncated as 1 windows.\n",
      "2024-07-10 23:14:24 Test INFO: Testing Starts...\n",
      "\n"
     ]
    },
    {
     "name": "stderr",
     "output_type": "stream",
     "text": [
      "  0%|          | 0/1 [00:00<?, ?it/s]"
     ]
    },
    {
     "name": "stdout",
     "output_type": "stream",
     "text": [
      "07/10 23:14:24 - mmengine - \u001b[5m\u001b[4m\u001b[33mWARNING\u001b[0m - \"FileClient\" will be deprecated in future. Please use io functions in https://mmengine.readthedocs.io/en/latest/api/fileio.html#file-io\n",
      "07/10 23:14:24 - mmengine - \u001b[5m\u001b[4m\u001b[33mWARNING\u001b[0m - \"HardDiskBackend\" is the alias of \"LocalBackend\" and the former will be deprecated in future.\n"
     ]
    },
    {
     "name": "stderr",
     "output_type": "stream",
     "text": [
      "100%|██████████| 1/1 [00:01<00:00,  1.40s/it]\n"
     ]
    },
    {
     "name": "stdout",
     "output_type": "stream",
     "text": [
      "2024-07-10 23:14:25 Test INFO: Testing Over...\n",
      "\n",
      "Segment 0: Someone is running somewhere from 4, with color (0.284951, 0.063168, 0.472451)\n",
      "Segment 1: Someone is standing up from somewhere from 168, with color (0.993866, 0.855711, 0.612482)\n",
      "Segment 0: Holding some food from 21, with color (0.402548, 0.10542, 0.503386)\n",
      "Segment 1: Sitting at a table from 15, with color (0.52527, 0.152569, 0.507192)\n",
      "Segment 2: Someone is eating something from 52, with color (0.652056, 0.193986, 0.491611)\n",
      "Segment 3: Someone is going from standing to sitting from 15, with color (0.773695, 0.236249, 0.455289)\n",
      "Segment 4: Someone is standing up from somewhere from 175, with color (0.993866, 0.855711, 0.612482)\n",
      "Segment 5: Putting something on a table from 140, with color (0.05232, 0.039407, 0.158841)\n",
      "Segment 6: Taking food from somewhere from 0, with color (0.889731, 0.305079, 0.397002)\n",
      "Segment 7: Putting some food somewhere from 129, with color (0.997325, 0.711848, 0.488154)\n",
      "Segment 8: Watching a laptop or something on a laptop from 45, with color (0.990138, 0.565296, 0.395122)\n",
      "Segment 9: Sitting in a chair from 27, with color (0.96331, 0.42539, 0.359469)\n",
      "Segment 10: Taking a phone/camera from somewhere from 225, with color (0.152839, 0.068637, 0.343404)\n",
      "Segment 11: Holding a phone/camera from 230, with color (0.001462, 0.000466, 0.013866)\n",
      "2024-07-10 23:14:26 Test INFO: Video duration of data/charades/raw_data/Charades_v1_480_30fps/OKHVL.mp4: 36.20s\n",
      "*********************video key: OKHVL\n",
      "2024-07-10 23:14:26 Test INFO: Using Automatic Mixed Precision...\n",
      "2024-07-10 23:14:26 Test INFO: testing subset: 1 videos, truncated as 1 windows.\n",
      "2024-07-10 23:14:26 Test INFO: Testing Starts...\n",
      "\n"
     ]
    },
    {
     "name": "stderr",
     "output_type": "stream",
     "text": [
      "  0%|          | 0/1 [00:00<?, ?it/s]"
     ]
    },
    {
     "name": "stdout",
     "output_type": "stream",
     "text": [
      "07/10 23:14:26 - mmengine - \u001b[5m\u001b[4m\u001b[33mWARNING\u001b[0m - \"FileClient\" will be deprecated in future. Please use io functions in https://mmengine.readthedocs.io/en/latest/api/fileio.html#file-io\n",
      "07/10 23:14:26 - mmengine - \u001b[5m\u001b[4m\u001b[33mWARNING\u001b[0m - \"HardDiskBackend\" is the alias of \"LocalBackend\" and the former will be deprecated in future.\n"
     ]
    },
    {
     "name": "stderr",
     "output_type": "stream",
     "text": [
      "100%|██████████| 1/1 [00:01<00:00,  1.44s/it]"
     ]
    },
    {
     "name": "stdout",
     "output_type": "stream",
     "text": [
      "2024-07-10 23:14:27 Test INFO: Testing Over...\n",
      "\n"
     ]
    },
    {
     "name": "stderr",
     "output_type": "stream",
     "text": [
      "\n"
     ]
    },
    {
     "name": "stdout",
     "output_type": "stream",
     "text": [
      "Segment 0: Walking through a doorway from 0, with color (0.19146, 0.064818, 0.396152)\n",
      "Segment 1: Someone is going from standing to sitting from 55, with color (0.384299, 0.097855, 0.501002)\n",
      "Segment 2: Drinking from a cup/glass/bottle from 111, with color (0.996727, 0.776795, 0.541039)\n",
      "Segment 0: Drinking from a cup/glass/bottle from 148, with color (0.996727, 0.776795, 0.541039)\n",
      "Segment 1: Sitting in a chair from 53, with color (0.989363, 0.557873, 0.391671)\n",
      "Segment 2: Someone is going from standing to sitting from 0, with color (0.384299, 0.097855, 0.501002)\n",
      "Segment 3: Drinking from a cup/glass/bottle from 164, with color (0.996727, 0.776795, 0.541039)\n",
      "Segment 4: Sitting at a table from 83, with color (0.925937, 0.346844, 0.374959)\n",
      "Segment 5: Someone is eating something from 116, with color (0.96968, 0.446936, 0.360311)\n",
      "Segment 6: Eating a sandwich from 116, with color (0.291366, 0.064553, 0.475462)\n",
      "Segment 7: Taking a cup/glass/bottle from somewhere from 124, with color (0.102815, 0.06301, 0.257854)\n",
      "Segment 8: Putting something on a table from 180, with color (0.761077, 0.231214, 0.460162)\n",
      "Segment 9: Putting a cup/glass/bottle somewhere from 9, with color (0.99658, 0.668256, 0.456192)\n",
      "Segment 10: Taking food from somewhere from 97, with color (0.47578, 0.134577, 0.507921)\n",
      "Segment 11: Putting some food somewhere from 47, with color (0.99244, 0.88433, 0.640099)\n",
      "Segment 12: Holding some food from 100, with color (0.852126, 0.276106, 0.418573)\n",
      "Segment 13: Holding a sandwich from 100, with color (0.569172, 0.167454, 0.504105)\n",
      "Segment 14: Putting a sandwich somewhere from 45, with color (0.001462, 0.000466, 0.013866)\n",
      "Segment 15: Taking a sandwich from somewhere from 99, with color (0.664915, 0.198075, 0.488836)\n",
      "Segment 16: Holding a cup/glass/bottle of something from 102, with color (0.03552, 0.028397, 0.125209)\n",
      "2024-07-10 23:14:29 Test INFO: Video duration of data/charades/raw_data/Charades_v1_480_30fps/MJPAH.mp4: 6.80s\n",
      "*********************video key: MJPAH\n",
      "2024-07-10 23:14:29 Test INFO: Using Automatic Mixed Precision...\n",
      "2024-07-10 23:14:29 Test INFO: testing subset: 1 videos, truncated as 1 windows.\n",
      "2024-07-10 23:14:29 Test INFO: Testing Starts...\n",
      "\n"
     ]
    },
    {
     "name": "stderr",
     "output_type": "stream",
     "text": [
      "  0%|          | 0/1 [00:00<?, ?it/s]"
     ]
    },
    {
     "name": "stdout",
     "output_type": "stream",
     "text": [
      "07/10 23:14:29 - mmengine - \u001b[5m\u001b[4m\u001b[33mWARNING\u001b[0m - \"FileClient\" will be deprecated in future. Please use io functions in https://mmengine.readthedocs.io/en/latest/api/fileio.html#file-io\n",
      "07/10 23:14:29 - mmengine - \u001b[5m\u001b[4m\u001b[33mWARNING\u001b[0m - \"HardDiskBackend\" is the alias of \"LocalBackend\" and the former will be deprecated in future.\n"
     ]
    },
    {
     "name": "stderr",
     "output_type": "stream",
     "text": [
      "100%|██████████| 1/1 [00:01<00:00,  1.43s/it]\n"
     ]
    },
    {
     "name": "stdout",
     "output_type": "stream",
     "text": [
      "2024-07-10 23:14:30 Test INFO: Testing Over...\n",
      "\n",
      "Segment 0: Holding a cup/glass/bottle of something from 0, with color (0.232077, 0.059889, 0.437695)\n",
      "Segment 0: Drinking from a cup/glass/bottle from 0, with color (0.078815, 0.054184, 0.211667)\n",
      "Segment 1: Taking food from somewhere from 211, with color (0.868793, 0.287728, 0.409303)\n",
      "Segment 2: Sitting in a chair from 0, with color (0.994738, 0.62435, 0.427397)\n",
      "Segment 3: Holding a bag from 240, with color (0.99568, 0.812706, 0.572645)\n",
      "Segment 4: Sitting at a table from 0, with color (0.716387, 0.214982, 0.47529)\n",
      "Segment 5: Holding a dish from 0, with color (0.550287, 0.161158, 0.505719)\n",
      "Segment 6: Putting something on a table from 63, with color (0.390384, 0.100379, 0.501864)\n",
      "Segment 7: Holding some food from 232, with color (0.967671, 0.439703, 0.35981)\n",
      "Segment 8: Taking a bag from somewhere from 232, with color (0.001462, 0.000466, 0.013866)\n",
      "Segment 9: Holding a cup/glass/bottle of something from 0, with color (0.232077, 0.059889, 0.437695)\n",
      "2024-07-10 23:14:31 Test INFO: Video duration of data/charades/raw_data/Charades_v1_480_30fps/106AY.mp4: 34.03s\n",
      "*********************video key: 106AY\n",
      "2024-07-10 23:14:31 Test INFO: Using Automatic Mixed Precision...\n",
      "2024-07-10 23:14:31 Test INFO: testing subset: 1 videos, truncated as 1 windows.\n",
      "2024-07-10 23:14:31 Test INFO: Testing Starts...\n",
      "\n"
     ]
    },
    {
     "name": "stderr",
     "output_type": "stream",
     "text": [
      "  0%|          | 0/1 [00:00<?, ?it/s]"
     ]
    },
    {
     "name": "stdout",
     "output_type": "stream",
     "text": [
      "07/10 23:14:31 - mmengine - \u001b[5m\u001b[4m\u001b[33mWARNING\u001b[0m - \"FileClient\" will be deprecated in future. Please use io functions in https://mmengine.readthedocs.io/en/latest/api/fileio.html#file-io\n",
      "07/10 23:14:31 - mmengine - \u001b[5m\u001b[4m\u001b[33mWARNING\u001b[0m - \"HardDiskBackend\" is the alias of \"LocalBackend\" and the former will be deprecated in future.\n"
     ]
    },
    {
     "name": "stderr",
     "output_type": "stream",
     "text": [
      "100%|██████████| 1/1 [00:02<00:00,  2.03s/it]"
     ]
    },
    {
     "name": "stdout",
     "output_type": "stream",
     "text": [
      "2024-07-10 23:14:33 Test INFO: Testing Over...\n",
      "\n"
     ]
    },
    {
     "name": "stderr",
     "output_type": "stream",
     "text": [
      "\n"
     ]
    },
    {
     "name": "stdout",
     "output_type": "stream",
     "text": [
      "Segment 0: Walking through a doorway from 0, with color (0.159018, 0.068354, 0.352688)\n",
      "Segment 1: Walking through a doorway from 94, with color (0.159018, 0.068354, 0.352688)\n",
      "Segment 2: Someone is going from standing to sitting from 255, with color (0.335308, 0.078236, 0.491024)\n",
      "Segment 3: Taking food from somewhere from 398, with color (0.245543, 0.059352, 0.448436)\n",
      "Segment 0: Holding a shoe/shoes from 139, with color (0.414709, 0.110431, 0.504662)\n",
      "Segment 1: Turning on a light from 15, with color (0.001462, 0.000466, 0.013866)\n",
      "Segment 2: Someone is eating something from 410, with color (0.958464, 0.411324, 0.360014)\n",
      "Segment 3: Drinking from a cup/glass/bottle from 276, with color (0.995932, 0.805527, 0.566202)\n",
      "Segment 4: Putting shoes somewhere from 153, with color (0.581819, 0.171596, 0.502777)\n",
      "Segment 5: Holding some food from 401, with color (0.908884, 0.324755, 0.385308)\n",
      "Segment 6: Someone is going from standing to sitting from 252, with color (0.335308, 0.078236, 0.491024)\n",
      "Segment 7: Sitting in a chair from 273, with color (0.993834, 0.609644, 0.418613)\n",
      "Segment 8: Putting some food somewhere from 425, with color (0.991688, 0.898627, 0.654202)\n",
      "Segment 9: Tidying something on the floor from 145, with color (0.754737, 0.228772, 0.462509)\n",
      "Segment 10: Putting a box somewhere from 211, with color (0.671349, 0.200133, 0.487358)\n",
      "Segment 11: Taking a cup/glass/bottle from somewhere from 249, with color (0.083446, 0.056225, 0.220755)\n",
      "Segment 12: Walking through a doorway from 0, with color (0.159018, 0.068354, 0.352688)\n",
      "Segment 13: Taking food from somewhere from 392, with color (0.245543, 0.059352, 0.448436)\n",
      "Segment 14: Holding a cup/glass/bottle of something from 272, with color (0.028123, 0.023201, 0.108787)\n",
      "Segment 15: Holding a bag from 406, with color (0.500438, 0.143719, 0.50792)\n",
      "Segment 16: Putting a cup/glass/bottle somewhere from 334, with color (0.997254, 0.704611, 0.482635)\n",
      "Segment 17: Taking off some shoes from 129, with color (0.982279, 0.505851, 0.371874)\n",
      "Segment 18: Opening a bag from 409, with color (0.840636, 0.268953, 0.424666)\n",
      "2024-07-10 23:14:35 Test INFO: Video duration of data/charades/raw_data/Charades_v1_480_30fps/YIG5G.mp4: 36.67s\n",
      "*********************video key: YIG5G\n",
      "2024-07-10 23:14:35 Test INFO: Using Automatic Mixed Precision...\n",
      "2024-07-10 23:14:35 Test INFO: testing subset: 1 videos, truncated as 1 windows.\n",
      "2024-07-10 23:14:35 Test INFO: Testing Starts...\n",
      "\n"
     ]
    },
    {
     "name": "stderr",
     "output_type": "stream",
     "text": [
      "  0%|          | 0/1 [00:00<?, ?it/s]"
     ]
    },
    {
     "name": "stdout",
     "output_type": "stream",
     "text": [
      "07/10 23:14:36 - mmengine - \u001b[5m\u001b[4m\u001b[33mWARNING\u001b[0m - \"FileClient\" will be deprecated in future. Please use io functions in https://mmengine.readthedocs.io/en/latest/api/fileio.html#file-io\n",
      "07/10 23:14:36 - mmengine - \u001b[5m\u001b[4m\u001b[33mWARNING\u001b[0m - \"HardDiskBackend\" is the alias of \"LocalBackend\" and the former will be deprecated in future.\n"
     ]
    },
    {
     "name": "stderr",
     "output_type": "stream",
     "text": [
      "100%|██████████| 1/1 [00:02<00:00,  2.46s/it]"
     ]
    },
    {
     "name": "stdout",
     "output_type": "stream",
     "text": [
      "2024-07-10 23:14:38 Test INFO: Testing Over...\n",
      "\n"
     ]
    },
    {
     "name": "stderr",
     "output_type": "stream",
     "text": [
      "\n"
     ]
    },
    {
     "name": "stdout",
     "output_type": "stream",
     "text": [
      "Segment 0: Holding some food from 0, with color (0.840636, 0.268953, 0.424666)\n",
      "Segment 0: Drinking from a cup/glass/bottle from 0, with color (0.997254, 0.704611, 0.482635)\n",
      "Segment 1: Holding a cup/glass/bottle of something from 0, with color (0.001462, 0.000466, 0.013866)\n",
      "Segment 2: Pouring something into a cup/glass/bottle from 198, with color (0.671349, 0.200133, 0.487358)\n",
      "Segment 3: Someone is going from standing to sitting from 153, with color (0.414709, 0.110431, 0.504662)\n",
      "Segment 4: Taking a dish/es from somewhere from 192, with color (0.500438, 0.143719, 0.50792)\n",
      "Segment 5: Putting a dish/es somewhere from 170, with color (0.991688, 0.898627, 0.654202)\n",
      "Segment 6: Holding a dish from 181, with color (0.908884, 0.324755, 0.385308)\n",
      "Segment 7: Taking a towel/s from somewhere from 0, with color (0.083446, 0.056225, 0.220755)\n",
      "Segment 8: Taking some clothes from somewhere from 0, with color (0.159018, 0.068354, 0.352688)\n",
      "Segment 9: Holding a towel/s from 17, with color (0.754737, 0.228772, 0.462509)\n",
      "Segment 10: Sitting on sofa/couch from 0, with color (0.995932, 0.805527, 0.566202)\n",
      "Segment 11: Taking a cup/glass/bottle from somewhere from 129, with color (0.028123, 0.023201, 0.108787)\n",
      "Segment 12: Walking through a doorway from 14, with color (0.245543, 0.059352, 0.448436)\n",
      "Segment 13: Holding some clothes from 17, with color (0.335308, 0.078236, 0.491024)\n",
      "Segment 14: Putting something on a table from 170, with color (0.581819, 0.171596, 0.502777)\n",
      "Segment 15: Putting a cup/glass/bottle somewhere from 91, with color (0.993834, 0.609644, 0.418613)\n",
      "Segment 16: Sitting at a table from 0, with color (0.958464, 0.411324, 0.360014)\n",
      "Segment 17: Sitting in a chair from 161, with color (0.982279, 0.505851, 0.371874)\n",
      "2024-07-10 23:14:40 Test INFO: Video duration of data/charades/raw_data/Charades_v1_480_30fps/358JF.mp4: 31.97s\n",
      "*********************video key: 358JF\n",
      "2024-07-10 23:14:40 Test INFO: Using Automatic Mixed Precision...\n",
      "2024-07-10 23:14:40 Test INFO: testing subset: 1 videos, truncated as 1 windows.\n",
      "2024-07-10 23:14:40 Test INFO: Testing Starts...\n",
      "\n"
     ]
    },
    {
     "name": "stderr",
     "output_type": "stream",
     "text": [
      "  0%|          | 0/1 [00:00<?, ?it/s]"
     ]
    },
    {
     "name": "stdout",
     "output_type": "stream",
     "text": [
      "07/10 23:14:41 - mmengine - \u001b[5m\u001b[4m\u001b[33mWARNING\u001b[0m - \"FileClient\" will be deprecated in future. Please use io functions in https://mmengine.readthedocs.io/en/latest/api/fileio.html#file-io\n",
      "07/10 23:14:41 - mmengine - \u001b[5m\u001b[4m\u001b[33mWARNING\u001b[0m - \"HardDiskBackend\" is the alias of \"LocalBackend\" and the former will be deprecated in future.\n"
     ]
    },
    {
     "name": "stderr",
     "output_type": "stream",
     "text": [
      "100%|██████████| 1/1 [00:02<00:00,  2.34s/it]"
     ]
    },
    {
     "name": "stdout",
     "output_type": "stream",
     "text": [
      "2024-07-10 23:14:43 Test INFO: Testing Over...\n",
      "\n"
     ]
    },
    {
     "name": "stderr",
     "output_type": "stream",
     "text": [
      "\n"
     ]
    },
    {
     "name": "stdout",
     "output_type": "stream",
     "text": [
      "Segment 0: Sitting at a table from 0, with color (0.445163, 0.122724, 0.506901)\n",
      "Segment 0: Drinking from a cup/glass/bottle from 282, with color (0.9867, 0.535582, 0.38221)\n",
      "Segment 1: Someone is eating something from 117, with color (0.716387, 0.214982, 0.47529)\n",
      "Segment 2: Watching a laptop or something on a laptop from 18, with color (0.997077, 0.690088, 0.471811)\n",
      "Segment 3: Someone is going from standing to sitting from 0, with color (0.57549, 0.16953, 0.503466)\n",
      "Segment 4: Sitting at a table from 34, with color (0.445163, 0.122724, 0.506901)\n",
      "Segment 5: Putting something on a table from 310, with color (0.060949, 0.044794, 0.176129)\n",
      "Segment 6: Sitting in a chair from 25, with color (0.846416, 0.272473, 0.421631)\n",
      "Segment 7: Someone is standing up from somewhere from 361, with color (0.994524, 0.841387, 0.598983)\n",
      "Segment 8: Taking a cup/glass/bottle from somewhere from 270, with color (0.171713, 0.067305, 0.370771)\n",
      "Segment 9: Holding some food from 87, with color (0.316654, 0.07169, 0.48538)\n",
      "Segment 10: Holding a cup/glass/bottle of something from 279, with color (0.001462, 0.000466, 0.013866)\n",
      "Segment 11: Putting a cup/glass/bottle somewhere from 66, with color (0.944006, 0.377643, 0.365136)\n",
      "2024-07-10 23:14:45 Test INFO: Video duration of data/charades/raw_data/Charades_v1_480_30fps/S2XJW.mp4: 34.00s\n",
      "*********************video key: S2XJW\n",
      "2024-07-10 23:14:45 Test INFO: Using Automatic Mixed Precision...\n",
      "2024-07-10 23:14:45 Test INFO: testing subset: 1 videos, truncated as 1 windows.\n",
      "2024-07-10 23:14:45 Test INFO: Testing Starts...\n",
      "\n"
     ]
    },
    {
     "name": "stderr",
     "output_type": "stream",
     "text": [
      "  0%|          | 0/1 [00:00<?, ?it/s]"
     ]
    },
    {
     "name": "stdout",
     "output_type": "stream",
     "text": [
      "07/10 23:14:45 - mmengine - \u001b[5m\u001b[4m\u001b[33mWARNING\u001b[0m - \"FileClient\" will be deprecated in future. Please use io functions in https://mmengine.readthedocs.io/en/latest/api/fileio.html#file-io\n",
      "07/10 23:14:45 - mmengine - \u001b[5m\u001b[4m\u001b[33mWARNING\u001b[0m - \"HardDiskBackend\" is the alias of \"LocalBackend\" and the former will be deprecated in future.\n"
     ]
    },
    {
     "name": "stderr",
     "output_type": "stream",
     "text": [
      "100%|██████████| 1/1 [00:01<00:00,  1.95s/it]"
     ]
    },
    {
     "name": "stdout",
     "output_type": "stream",
     "text": [
      "2024-07-10 23:14:47 Test INFO: Testing Over...\n",
      "\n"
     ]
    },
    {
     "name": "stderr",
     "output_type": "stream",
     "text": [
      "\n"
     ]
    },
    {
     "name": "stdout",
     "output_type": "stream",
     "text": [
      "Segment 0: Walking through a doorway from 4, with color (0.05232, 0.039407, 0.158841)\n",
      "Segment 1: Someone is eating something from 103, with color (0.990138, 0.565296, 0.395122)\n",
      "Segment 2: Putting something on a table from 256, with color (0.652056, 0.193986, 0.491611)\n",
      "Segment 3: Someone is standing up from somewhere from 388, with color (0.52527, 0.152569, 0.507192)\n",
      "Segment 0: Drinking from a cup/glass/bottle from 145, with color (0.997325, 0.711848, 0.488154)\n",
      "Segment 1: Someone is going from standing to sitting from 43, with color (0.152839, 0.068637, 0.343404)\n",
      "Segment 2: Someone is standing up from somewhere from 0, with color (0.52527, 0.152569, 0.507192)\n",
      "Segment 3: Someone is eating something from 84, with color (0.990138, 0.565296, 0.395122)\n",
      "Segment 4: Sitting on sofa/couch from 74, with color (0.993866, 0.855711, 0.612482)\n",
      "Segment 5: Taking food from somewhere from 122, with color (0.284951, 0.063168, 0.472451)\n",
      "Segment 6: Putting something on a table from 262, with color (0.652056, 0.193986, 0.491611)\n",
      "Segment 7: Sitting at a table from 101, with color (0.96331, 0.42539, 0.359469)\n",
      "Segment 8: Taking a bag from somewhere from 5, with color (0.001462, 0.000466, 0.013866)\n",
      "Segment 9: Holding a bag from 0, with color (0.402548, 0.10542, 0.503386)\n",
      "Segment 10: Opening a bag from 67, with color (0.773695, 0.236249, 0.455289)\n",
      "Segment 11: Holding some food from 122, with color (0.889731, 0.305079, 0.397002)\n",
      "2024-07-10 23:14:48 Test INFO: Video duration of data/charades/raw_data/Charades_v1_480_30fps/1WJ6O.mp4: 31.30s\n",
      "*********************video key: 1WJ6O\n",
      "2024-07-10 23:14:48 Test INFO: Using Automatic Mixed Precision...\n",
      "2024-07-10 23:14:48 Test INFO: testing subset: 1 videos, truncated as 1 windows.\n",
      "2024-07-10 23:14:48 Test INFO: Testing Starts...\n",
      "\n"
     ]
    },
    {
     "name": "stderr",
     "output_type": "stream",
     "text": [
      "  0%|          | 0/1 [00:00<?, ?it/s]"
     ]
    },
    {
     "name": "stdout",
     "output_type": "stream",
     "text": [
      "07/10 23:14:49 - mmengine - \u001b[5m\u001b[4m\u001b[33mWARNING\u001b[0m - \"FileClient\" will be deprecated in future. Please use io functions in https://mmengine.readthedocs.io/en/latest/api/fileio.html#file-io\n",
      "07/10 23:14:49 - mmengine - \u001b[5m\u001b[4m\u001b[33mWARNING\u001b[0m - \"HardDiskBackend\" is the alias of \"LocalBackend\" and the former will be deprecated in future.\n"
     ]
    },
    {
     "name": "stderr",
     "output_type": "stream",
     "text": [
      "100%|██████████| 1/1 [00:01<00:00,  1.96s/it]\n"
     ]
    },
    {
     "name": "stdout",
     "output_type": "stream",
     "text": [
      "2024-07-10 23:14:51 Test INFO: Testing Over...\n",
      "\n",
      "Segment 0: Walking through a doorway from 32, with color (0.102815, 0.06301, 0.257854)\n",
      "Segment 1: Putting something on a table from 159, with color (0.852126, 0.276106, 0.418573)\n",
      "Segment 2: Sitting on sofa/couch from 266, with color (0.99244, 0.88433, 0.640099)\n",
      "Segment 0: Someone is standing up from somewhere from 4, with color (0.664915, 0.198075, 0.488836)\n",
      "Segment 1: Watching television from 101, with color (0.99658, 0.668256, 0.456192)\n",
      "Segment 2: Someone is going from standing to sitting from 263, with color (0.384299, 0.097855, 0.501002)\n",
      "Segment 3: Closing a door from 88, with color (0.761077, 0.231214, 0.460162)\n",
      "Segment 4: Holding some clothes from 193, with color (0.19146, 0.064818, 0.396152)\n",
      "Segment 5: Walking through a doorway from 303, with color (0.102815, 0.06301, 0.257854)\n",
      "Segment 6: Putting clothes somewhere from 190, with color (0.001462, 0.000466, 0.013866)\n",
      "Segment 7: Someone is going from standing to sitting from 207, with color (0.384299, 0.097855, 0.501002)\n",
      "Segment 8: Someone is standing up from somewhere from 199, with color (0.664915, 0.198075, 0.488836)\n",
      "Segment 9: Opening a door from 0, with color (0.989363, 0.557873, 0.391671)\n",
      "Segment 10: Taking food from somewhere from 257, with color (0.47578, 0.134577, 0.507921)\n",
      "Segment 11: Sitting on sofa/couch from 216, with color (0.99244, 0.88433, 0.640099)\n",
      "Segment 12: Putting a blanket somewhere from 36, with color (0.03552, 0.028397, 0.125209)\n",
      "Segment 13: Someone is running somewhere from 88, with color (0.291366, 0.064553, 0.475462)\n",
      "Segment 14: Holding a blanket from 36, with color (0.925937, 0.346844, 0.374959)\n",
      "Segment 15: Holding a sandwich from 131, with color (0.569172, 0.167454, 0.504105)\n",
      "Segment 16: Holding some food from 46, with color (0.96968, 0.446936, 0.360311)\n",
      "Segment 17: Throwing a blanket somewhere from 87, with color (0.996727, 0.776795, 0.541039)\n",
      "2024-07-10 23:14:53 Test INFO: Video duration of data/charades/raw_data/Charades_v1_480_30fps/MAUMO.mp4: 33.73s\n",
      "*********************video key: MAUMO\n",
      "2024-07-10 23:14:53 Test INFO: Using Automatic Mixed Precision...\n",
      "2024-07-10 23:14:53 Test INFO: testing subset: 1 videos, truncated as 1 windows.\n",
      "2024-07-10 23:14:53 Test INFO: Testing Starts...\n",
      "\n"
     ]
    },
    {
     "name": "stderr",
     "output_type": "stream",
     "text": [
      "  0%|          | 0/1 [00:00<?, ?it/s]"
     ]
    },
    {
     "name": "stdout",
     "output_type": "stream",
     "text": [
      "07/10 23:14:54 - mmengine - \u001b[5m\u001b[4m\u001b[33mWARNING\u001b[0m - \"FileClient\" will be deprecated in future. Please use io functions in https://mmengine.readthedocs.io/en/latest/api/fileio.html#file-io\n",
      "07/10 23:14:54 - mmengine - \u001b[5m\u001b[4m\u001b[33mWARNING\u001b[0m - \"HardDiskBackend\" is the alias of \"LocalBackend\" and the former will be deprecated in future.\n"
     ]
    },
    {
     "name": "stderr",
     "output_type": "stream",
     "text": [
      "100%|██████████| 1/1 [00:02<00:00,  2.17s/it]\n"
     ]
    },
    {
     "name": "stdout",
     "output_type": "stream",
     "text": [
      "2024-07-10 23:14:55 Test INFO: Testing Over...\n",
      "\n",
      "Segment 0: Someone is going from standing to sitting from 0, with color (0.232077, 0.059889, 0.437695)\n",
      "Segment 1: Putting something on a table from 80, with color (0.658483, 0.196027, 0.490253)\n",
      "Segment 2: Someone is standing up from somewhere from 378, with color (0.550287, 0.161158, 0.505719)\n",
      "Segment 0: Putting a cup/glass/bottle somewhere from 69, with color (0.994738, 0.62435, 0.427397)\n",
      "Segment 1: Someone is going from standing to sitting from 0, with color (0.232077, 0.059889, 0.437695)\n",
      "Segment 2: Someone is standing up from somewhere from 372, with color (0.550287, 0.161158, 0.505719)\n",
      "Segment 3: Drinking from a cup/glass/bottle from 0, with color (0.997228, 0.747981, 0.516859)\n",
      "Segment 4: Someone is smiling from 101, with color (0.445163, 0.122724, 0.506901)\n",
      "Segment 5: Holding a cup/glass/bottle of something from 0, with color (0.001462, 0.000466, 0.013866)\n",
      "Segment 6: Sitting on sofa/couch from 0, with color (0.99317, 0.870024, 0.626189)\n",
      "Segment 7: Someone is laughing from 105, with color (0.341482, 0.080564, 0.492631)\n",
      "Segment 8: Putting something on a table from 75, with color (0.658483, 0.196027, 0.490253)\n",
      "Segment 9: Watching television from 0, with color (0.944006, 0.377643, 0.365136)\n",
      "Segment 10: Sitting in a chair from 7, with color (0.981, 0.498428, 0.369734)\n",
      "Segment 11: Taking a cup/glass/bottle from somewhere from 0, with color (0.04383, 0.03383, 0.141886)\n",
      "Segment 12: Holding a dish from 0, with color (0.767398, 0.233705, 0.457755)\n",
      "Segment 13: Sitting at a table from 0, with color (0.868793, 0.287728, 0.409303)\n",
      "Segment 14: Laughing at television from 115, with color (0.123833, 0.067295, 0.295879)\n",
      "2024-07-10 23:14:57 Test INFO: Video duration of data/charades/raw_data/Charades_v1_480_30fps/0YTSJ.mp4: 37.10s\n",
      "*********************video key: 0YTSJ\n",
      "2024-07-10 23:14:57 Test INFO: Using Automatic Mixed Precision...\n",
      "2024-07-10 23:14:57 Test INFO: testing subset: 1 videos, truncated as 1 windows.\n",
      "2024-07-10 23:14:57 Test INFO: Testing Starts...\n",
      "\n"
     ]
    },
    {
     "name": "stderr",
     "output_type": "stream",
     "text": [
      "  0%|          | 0/1 [00:00<?, ?it/s]"
     ]
    },
    {
     "name": "stdout",
     "output_type": "stream",
     "text": [
      "07/10 23:14:57 - mmengine - \u001b[5m\u001b[4m\u001b[33mWARNING\u001b[0m - \"FileClient\" will be deprecated in future. Please use io functions in https://mmengine.readthedocs.io/en/latest/api/fileio.html#file-io\n",
      "07/10 23:14:57 - mmengine - \u001b[5m\u001b[4m\u001b[33mWARNING\u001b[0m - \"HardDiskBackend\" is the alias of \"LocalBackend\" and the former will be deprecated in future.\n"
     ]
    },
    {
     "name": "stderr",
     "output_type": "stream",
     "text": [
      "100%|██████████| 1/1 [00:02<00:00,  2.09s/it]\n"
     ]
    },
    {
     "name": "stdout",
     "output_type": "stream",
     "text": [
      "2024-07-10 23:14:59 Test INFO: Testing Over...\n",
      "\n",
      "Segment 0: Working/Playing on a laptop from 0, with color (0.102815, 0.06301, 0.257854)\n",
      "Segment 1: Taking a cup/glass/bottle from somewhere from 165, with color (0.03552, 0.028397, 0.125209)\n",
      "Segment 2: Drinking from a cup/glass/bottle from 215, with color (0.996727, 0.776795, 0.541039)\n",
      "Segment 0: Putting something on a table from 214, with color (0.664915, 0.198075, 0.488836)\n",
      "Segment 1: Putting a cup/glass/bottle somewhere from 209, with color (0.99658, 0.668256, 0.456192)\n",
      "Segment 2: Eating a sandwich from 237, with color (0.19146, 0.064818, 0.396152)\n",
      "Segment 3: Taking a sandwich from somewhere from 223, with color (0.47578, 0.134577, 0.507921)\n",
      "Segment 4: Someone is eating something from 237, with color (0.925937, 0.346844, 0.374959)\n",
      "Segment 5: Holding a cup/glass/bottle of something from 165, with color (0.001462, 0.000466, 0.013866)\n",
      "Segment 6: Taking a cup/glass/bottle from somewhere from 165, with color (0.03552, 0.028397, 0.125209)\n",
      "Segment 7: Holding a sandwich from 221, with color (0.384299, 0.097855, 0.501002)\n",
      "Segment 8: Drinking from a cup/glass/bottle from 165, with color (0.996727, 0.776795, 0.541039)\n",
      "Segment 9: Sitting in a chair from 0, with color (0.989363, 0.557873, 0.391671)\n",
      "Segment 10: Taking food from somewhere from 217, with color (0.291366, 0.064553, 0.475462)\n",
      "Segment 11: Holding some food from 211, with color (0.761077, 0.231214, 0.460162)\n",
      "Segment 12: Putting a dish/es somewhere from 195, with color (0.99244, 0.88433, 0.640099)\n",
      "Segment 13: Holding a dish from 166, with color (0.852126, 0.276106, 0.418573)\n",
      "Segment 14: Sitting at a table from 0, with color (0.96968, 0.446936, 0.360311)\n",
      "Segment 15: Taking a dish/es from somewhere from 168, with color (0.569172, 0.167454, 0.504105)\n",
      "Segment 16: Working/Playing on a laptop from 0, with color (0.102815, 0.06301, 0.257854)\n"
     ]
    }
   ],
   "source": [
    "for key, _ in example_videos:\n",
    "    video_file = f\"data/charades/raw_data/Charades_v1_480_30fps/{key}.mp4\"\n",
    "    \n",
    "    prepare_input(cfg, logger, video_file, video_dir)\n",
    "    result = inference(model, cfg, logger)\n",
    "    \n",
    "    processed_result = filter_segments(result)\n",
    "    gt_result = gt_data['database'][key]['annotations']\n",
    "    \n",
    "    action_labels = list(set(segment['label'] for segment in processed_result).union(set(ann['label'] for ann in gt_result)))\n",
    "    \n",
    "    video = VideoReader(video_file)\n",
    "    action_bar = generate_action_bar(processed_result, action_labels, video.frame_cnt / video.fps, (video.width, 20))\n",
    "    gt_action_bar = generate_action_bar(gt_result, action_labels, video.frame_cnt / video.fps, (video.width, 20))\n",
    "    \n",
    "    import cv2\n",
    "    writer = cv2.VideoWriter(f\"example/output_{key}.mp4\", cv2.VideoWriter_fourcc(*'mp4v'), video.fps, (video.width, video.height + 40))\n",
    "    for i, frame in enumerate(video):\n",
    "        new_frame = cv2.vconcat([frame, gt_action_bar, action_bar])\n",
    "        \n",
    "        t = i / video.fps\n",
    "        gt_label = next((ann['label'] for ann in gt_result if ann['segment'][0] <= t and ann['segment'][1] >= t), None)\n",
    "        pred_label = next((segment['label'] for segment in processed_result if segment['segment'][0] <= t and segment['segment'][1] >= t), None)\n",
    "        \n",
    "        cv2.putText(new_frame, f\"GT: {gt_label}\", (10, 220), cv2.FONT_HERSHEY_SIMPLEX, 0.5, (255, 255, 255), 1)\n",
    "        cv2.putText(new_frame, f\"Pred: {pred_label}\", (10, 240), cv2.FONT_HERSHEY_SIMPLEX, 0.5, (255, 255, 255), 1)\n",
    "\n",
    "        writer.write(new_frame)\n",
    "    writer.release()\n",
    "    \n",
    "    "
   ]
  },
  {
   "cell_type": "markdown",
   "metadata": {},
   "source": [
    "## 查看Thumos14 Testing结果"
   ]
  },
  {
   "cell_type": "code",
   "execution_count": 4,
   "metadata": {},
   "outputs": [],
   "source": [
    "import json\n",
    "\n",
    "ground_truth_path = \"data/thumos-14/annotations/thumos_14_anno.json\"\n",
    "\n",
    "with open(ground_truth_path) as f:\n",
    "    gt_data = json.load(f)"
   ]
  },
  {
   "cell_type": "code",
   "execution_count": 5,
   "metadata": {},
   "outputs": [
    {
     "data": {
      "text/plain": [
       "[('Diving', 886),\n",
       " ('BasketballDunk', 791),\n",
       " ('PoleVault', 519),\n",
       " ('HammerThrow', 412),\n",
       " ('HighJump', 404),\n",
       " ('JavelinThrow', 361),\n",
       " ('CliffDiving', 360),\n",
       " ('CricketShot', 351),\n",
       " ('CricketBowling', 316),\n",
       " ('LongJump', 305),\n",
       " ('VolleyballSpiking', 266),\n",
       " ('Shotput', 214),\n",
       " ('TennisSwing', 210),\n",
       " ('ThrowDiscus', 205),\n",
       " ('Billiards', 187),\n",
       " ('FrisbeeCatch', 151),\n",
       " ('CleanAndJerk', 140),\n",
       " ('SoccerPenalty', 112),\n",
       " ('BaseballPitch', 71),\n",
       " ('GolfSwing', 67)]"
      ]
     },
     "execution_count": 5,
     "metadata": {},
     "output_type": "execute_result"
    }
   ],
   "source": [
    "from collections import defaultdict, Counter\n",
    "\n",
    "action2key = defaultdict(list)\n",
    "\n",
    "action_counter = Counter([ann['label'] for key, gt_rec in gt_data['database'].items() for ann in gt_rec['annotations']])\n",
    "\n",
    "for key, gt_rec in gt_data['database'].items():\n",
    "    for ann in gt_rec['annotations']:\n",
    "        action2key[ann['label']].append(key)\n",
    "        \n",
    "action_counter.most_common(20)"
   ]
  },
  {
   "cell_type": "code",
   "execution_count": 13,
   "metadata": {},
   "outputs": [],
   "source": [
    "# 找那种常见动作最多的视频，用来说明可以跨场景学习相似动作\n",
    "\n",
    "most_common_actions = set(action for action, _ in action_counter.most_common(20))\n",
    "\n",
    "video_most_common_action_count = {}\n",
    "\n",
    "for key, gt_rec in gt_data['database'].items():\n",
    "    video_most_common_action_count[key] = len(set(ann['label'] for ann in gt_rec['annotations']).intersection(most_common_actions))\n",
    "\n",
    "example_videos = list(sorted(video_most_common_action_count.items(), key=lambda x: x[1], reverse=True))[:40]"
   ]
  },
  {
   "cell_type": "code",
   "execution_count": 7,
   "metadata": {},
   "outputs": [
    {
     "name": "stdout",
     "output_type": "stream",
     "text": [
      "2024-07-10 23:52:55 Test INFO: Using torch version: 2.0.1+cu118, CUDA version: 11.8\n",
      "2024-07-10 23:52:55 Test INFO: Using torch version: 2.0.1+cu118, CUDA version: 11.8\n"
     ]
    },
    {
     "name": "stdout",
     "output_type": "stream",
     "text": [
      "ViT's param: 86227200, Adapter's params: 4004364, ratio: 4.6%\n",
      "Loads checkpoint by local backend from path: pretrained/vit-base-p16_videomae-k400-pre_16x4x1_kinetics-400_20221013-860a3cd3.pth\n",
      "The model and loaded state dict do not match exactly\n",
      "\n",
      "unexpected key in source state_dict: cls_head.fc_cls.weight, cls_head.fc_cls.bias\n",
      "\n",
      "missing keys in source state_dict: backbone.pos_embed, backbone.blocks.0.adapter.gamma, backbone.blocks.0.adapter.dwconv.weight, backbone.blocks.0.adapter.dwconv.bias, backbone.blocks.0.adapter.conv.weight, backbone.blocks.0.adapter.conv.bias, backbone.blocks.0.adapter.down_proj.weight, backbone.blocks.0.adapter.down_proj.bias, backbone.blocks.0.adapter.up_proj.weight, backbone.blocks.0.adapter.up_proj.bias, backbone.blocks.1.adapter.gamma, backbone.blocks.1.adapter.dwconv.weight, backbone.blocks.1.adapter.dwconv.bias, backbone.blocks.1.adapter.conv.weight, backbone.blocks.1.adapter.conv.bias, backbone.blocks.1.adapter.down_proj.weight, backbone.blocks.1.adapter.down_proj.bias, backbone.blocks.1.adapter.up_proj.weight, backbone.blocks.1.adapter.up_proj.bias, backbone.blocks.2.adapter.gamma, backbone.blocks.2.adapter.dwconv.weight, backbone.blocks.2.adapter.dwconv.bias, backbone.blocks.2.adapter.conv.weight, backbone.blocks.2.adapter.conv.bias, backbone.blocks.2.adapter.down_proj.weight, backbone.blocks.2.adapter.down_proj.bias, backbone.blocks.2.adapter.up_proj.weight, backbone.blocks.2.adapter.up_proj.bias, backbone.blocks.3.adapter.gamma, backbone.blocks.3.adapter.dwconv.weight, backbone.blocks.3.adapter.dwconv.bias, backbone.blocks.3.adapter.conv.weight, backbone.blocks.3.adapter.conv.bias, backbone.blocks.3.adapter.down_proj.weight, backbone.blocks.3.adapter.down_proj.bias, backbone.blocks.3.adapter.up_proj.weight, backbone.blocks.3.adapter.up_proj.bias, backbone.blocks.4.adapter.gamma, backbone.blocks.4.adapter.dwconv.weight, backbone.blocks.4.adapter.dwconv.bias, backbone.blocks.4.adapter.conv.weight, backbone.blocks.4.adapter.conv.bias, backbone.blocks.4.adapter.down_proj.weight, backbone.blocks.4.adapter.down_proj.bias, backbone.blocks.4.adapter.up_proj.weight, backbone.blocks.4.adapter.up_proj.bias, backbone.blocks.5.adapter.gamma, backbone.blocks.5.adapter.dwconv.weight, backbone.blocks.5.adapter.dwconv.bias, backbone.blocks.5.adapter.conv.weight, backbone.blocks.5.adapter.conv.bias, backbone.blocks.5.adapter.down_proj.weight, backbone.blocks.5.adapter.down_proj.bias, backbone.blocks.5.adapter.up_proj.weight, backbone.blocks.5.adapter.up_proj.bias, backbone.blocks.6.adapter.gamma, backbone.blocks.6.adapter.dwconv.weight, backbone.blocks.6.adapter.dwconv.bias, backbone.blocks.6.adapter.conv.weight, backbone.blocks.6.adapter.conv.bias, backbone.blocks.6.adapter.down_proj.weight, backbone.blocks.6.adapter.down_proj.bias, backbone.blocks.6.adapter.up_proj.weight, backbone.blocks.6.adapter.up_proj.bias, backbone.blocks.7.adapter.gamma, backbone.blocks.7.adapter.dwconv.weight, backbone.blocks.7.adapter.dwconv.bias, backbone.blocks.7.adapter.conv.weight, backbone.blocks.7.adapter.conv.bias, backbone.blocks.7.adapter.down_proj.weight, backbone.blocks.7.adapter.down_proj.bias, backbone.blocks.7.adapter.up_proj.weight, backbone.blocks.7.adapter.up_proj.bias, backbone.blocks.8.adapter.gamma, backbone.blocks.8.adapter.dwconv.weight, backbone.blocks.8.adapter.dwconv.bias, backbone.blocks.8.adapter.conv.weight, backbone.blocks.8.adapter.conv.bias, backbone.blocks.8.adapter.down_proj.weight, backbone.blocks.8.adapter.down_proj.bias, backbone.blocks.8.adapter.up_proj.weight, backbone.blocks.8.adapter.up_proj.bias, backbone.blocks.9.adapter.gamma, backbone.blocks.9.adapter.dwconv.weight, backbone.blocks.9.adapter.dwconv.bias, backbone.blocks.9.adapter.conv.weight, backbone.blocks.9.adapter.conv.bias, backbone.blocks.9.adapter.down_proj.weight, backbone.blocks.9.adapter.down_proj.bias, backbone.blocks.9.adapter.up_proj.weight, backbone.blocks.9.adapter.up_proj.bias, backbone.blocks.10.adapter.gamma, backbone.blocks.10.adapter.dwconv.weight, backbone.blocks.10.adapter.dwconv.bias, backbone.blocks.10.adapter.conv.weight, backbone.blocks.10.adapter.conv.bias, backbone.blocks.10.adapter.down_proj.weight, backbone.blocks.10.adapter.down_proj.bias, backbone.blocks.10.adapter.up_proj.weight, backbone.blocks.10.adapter.up_proj.bias, backbone.blocks.11.adapter.gamma, backbone.blocks.11.adapter.dwconv.weight, backbone.blocks.11.adapter.dwconv.bias, backbone.blocks.11.adapter.conv.weight, backbone.blocks.11.adapter.conv.bias, backbone.blocks.11.adapter.down_proj.weight, backbone.blocks.11.adapter.down_proj.bias, backbone.blocks.11.adapter.up_proj.weight, backbone.blocks.11.adapter.up_proj.bias\n",
      "\n",
      "freeze_backbone: False, norm_eval: False\n",
      "2024-07-10 23:52:58 Test INFO: Using Model EMA...\n",
      "2024-07-10 23:52:58 Test INFO: Using Model EMA...\n"
     ]
    }
   ],
   "source": [
    "video_dir = \"data/thumos-14/raw_data/video/\"\n",
    "configfile = \"configs/adatad/thumos/e2e_thumos_videomae_b_768x1_160_adapter.py\"\n",
    "checkpoint_path = \"exps/thumos/adatad/e2e_actionformer_videomae_b_768x1_160_adapter/adatad_thumos_actionformer_videomae_b_768x1_160_adapter_epoch_51_c3872325.pth\"\n",
    "cfg = Config.fromfile(configfile)\n",
    "logger = setup_logger(\"Test\", save_dir=cfg.work_dir, distributed_rank=0)\n",
    "logger.info(f\"Using torch version: {torch.__version__}, CUDA version: {torch.version.cuda}\")\n",
    "\n",
    "model = load_model(cfg, checkpoint_path, logger)"
   ]
  },
  {
   "cell_type": "code",
   "execution_count": 18,
   "metadata": {},
   "outputs": [
    {
     "name": "stdout",
     "output_type": "stream",
     "text": [
      "2024-07-11 00:44:30 Test INFO: Video duration of data/thumos-14/raw_data/video/video_test_0000367.mp4: 222.40s\n",
      "2024-07-11 00:44:30 Test INFO: Video duration of data/thumos-14/raw_data/video/video_test_0000367.mp4: 222.40s\n",
      "*********************video key: video_test_0000367\n",
      "2024-07-11 00:44:30 Test INFO: Using Automatic Mixed Precision...\n",
      "2024-07-11 00:44:30 Test INFO: Using Automatic Mixed Precision...\n",
      "-1 {'subset': 'validation', 'frame': 6672, 'duration': 222.4, 'annotations': []}\n",
      "2024-07-11 00:44:30 Test INFO: validation subset: 1 videos, truncated as 4 windows.\n",
      "2024-07-11 00:44:30 Test INFO: validation subset: 1 videos, truncated as 4 windows.\n",
      "2024-07-11 00:44:30 Test INFO: Testing Starts...\n",
      "\n",
      "2024-07-11 00:44:30 Test INFO: Testing Starts...\n",
      "\n"
     ]
    },
    {
     "name": "stderr",
     "output_type": "stream",
     "text": [
      "  0%|          | 0/2 [00:00<?, ?it/s]"
     ]
    },
    {
     "name": "stdout",
     "output_type": "stream",
     "text": [
      "07/11 00:44:30 - mmengine - \u001b[5m\u001b[4m\u001b[33mWARNING\u001b[0m - \"FileClient\" will be deprecated in future. Please use io functions in https://mmengine.readthedocs.io/en/latest/api/fileio.html#file-io\n",
      "07/11 00:44:30 - mmengine - \u001b[5m\u001b[4m\u001b[33mWARNING\u001b[0m - \"FileClient\" will be deprecated in future. Please use io functions in https://mmengine.readthedocs.io/en/latest/api/fileio.html#file-io\n",
      "07/11 00:44:30 - mmengine - \u001b[5m\u001b[4m\u001b[33mWARNING\u001b[0m - \"HardDiskBackend\" is the alias of \"LocalBackend\" and the former will be deprecated in future.\n",
      "07/11 00:44:30 - mmengine - \u001b[5m\u001b[4m\u001b[33mWARNING\u001b[0m - \"HardDiskBackend\" is the alias of \"LocalBackend\" and the former will be deprecated in future.\n"
     ]
    },
    {
     "name": "stderr",
     "output_type": "stream",
     "text": [
      "100%|██████████| 2/2 [00:10<00:00,  5.07s/it]\n",
      "Exception in thread QueueFeederThread:\n",
      "Traceback (most recent call last):\n",
      "  File \"/home/dtong/miniconda3/envs/opentad/lib/python3.10/multiprocessing/queues.py\", line 239, in _feed\n",
      "    reader_close()\n",
      "  File \"/home/dtong/miniconda3/envs/opentad/lib/python3.10/multiprocessing/connection.py\", line 177, in close\n",
      "    self._close()\n",
      "  File \"/home/dtong/miniconda3/envs/opentad/lib/python3.10/multiprocessing/connection.py\", line 361, in _close\n",
      "    _close(self._handle)\n",
      "OSError: [Errno 9] Bad file descriptor\n",
      "\n",
      "During handling of the above exception, another exception occurred:\n",
      "\n",
      "Traceback (most recent call last):\n",
      "  File \"/home/dtong/miniconda3/envs/opentad/lib/python3.10/threading.py\", line 1016, in _bootstrap_inner\n",
      "    self.run()\n",
      "  File \"/home/dtong/miniconda3/envs/opentad/lib/python3.10/site-packages/ipykernel/ipkernel.py\", line 766, in run_closure\n",
      "    _threading_Thread_run(self)\n",
      "  File \"/home/dtong/miniconda3/envs/opentad/lib/python3.10/threading.py\", line 953, in run\n",
      "    self._target(*self._args, **self._kwargs)\n",
      "  File \"/home/dtong/miniconda3/envs/opentad/lib/python3.10/multiprocessing/queues.py\", line 271, in _feed\n",
      "    queue_sem.release()\n",
      "ValueError: semaphore or lock released too many times\n"
     ]
    },
    {
     "name": "stdout",
     "output_type": "stream",
     "text": [
      "2024-07-11 00:44:45 Test INFO: Testing Over...\n",
      "\n",
      "2024-07-11 00:44:45 Test INFO: Testing Over...\n",
      "\n",
      "2024-07-11 00:44:50 Test INFO: Video duration of data/thumos-14/raw_data/video/video_validation_0000161.mp4: 61.73s\n",
      "2024-07-11 00:44:50 Test INFO: Video duration of data/thumos-14/raw_data/video/video_validation_0000161.mp4: 61.73s\n",
      "*********************video key: video_validation_0000161\n",
      "2024-07-11 00:44:50 Test INFO: Using Automatic Mixed Precision...\n",
      "2024-07-11 00:44:50 Test INFO: Using Automatic Mixed Precision...\n",
      "-1 {'subset': 'validation', 'frame': 1852, 'duration': 61.733333333333334, 'annotations': []}\n",
      "2024-07-11 00:44:50 Test INFO: validation subset: 1 videos, truncated as 1 windows.\n",
      "2024-07-11 00:44:50 Test INFO: validation subset: 1 videos, truncated as 1 windows.\n",
      "2024-07-11 00:44:50 Test INFO: Testing Starts...\n",
      "\n",
      "2024-07-11 00:44:50 Test INFO: Testing Starts...\n",
      "\n"
     ]
    },
    {
     "name": "stderr",
     "output_type": "stream",
     "text": [
      "  0%|          | 0/1 [00:00<?, ?it/s]"
     ]
    },
    {
     "name": "stdout",
     "output_type": "stream",
     "text": [
      "07/11 00:44:50 - mmengine - \u001b[5m\u001b[4m\u001b[33mWARNING\u001b[0m - \"FileClient\" will be deprecated in future. Please use io functions in https://mmengine.readthedocs.io/en/latest/api/fileio.html#file-io\n",
      "07/11 00:44:50 - mmengine - \u001b[5m\u001b[4m\u001b[33mWARNING\u001b[0m - \"HardDiskBackend\" is the alias of \"LocalBackend\" and the former will be deprecated in future.\n"
     ]
    },
    {
     "name": "stderr",
     "output_type": "stream",
     "text": [
      "100%|██████████| 1/1 [00:02<00:00,  2.06s/it]\n"
     ]
    },
    {
     "name": "stdout",
     "output_type": "stream",
     "text": [
      "2024-07-11 00:44:52 Test INFO: Testing Over...\n",
      "\n",
      "2024-07-11 00:44:52 Test INFO: Testing Over...\n",
      "\n",
      "2024-07-11 00:44:54 Test INFO: Video duration of data/thumos-14/raw_data/video/video_validation_0000162.mp4: 198.03s\n",
      "2024-07-11 00:44:54 Test INFO: Video duration of data/thumos-14/raw_data/video/video_validation_0000162.mp4: 198.03s\n",
      "*********************video key: video_validation_0000162\n",
      "2024-07-11 00:44:54 Test INFO: Using Automatic Mixed Precision...\n",
      "2024-07-11 00:44:54 Test INFO: Using Automatic Mixed Precision...\n",
      "-1 {'subset': 'validation', 'frame': 5941, 'duration': 198.03333333333333, 'annotations': []}\n",
      "2024-07-11 00:44:54 Test INFO: validation subset: 1 videos, truncated as 3 windows.\n",
      "2024-07-11 00:44:54 Test INFO: validation subset: 1 videos, truncated as 3 windows.\n",
      "2024-07-11 00:44:54 Test INFO: Testing Starts...\n",
      "\n",
      "2024-07-11 00:44:54 Test INFO: Testing Starts...\n",
      "\n"
     ]
    },
    {
     "name": "stderr",
     "output_type": "stream",
     "text": [
      "  0%|          | 0/2 [00:00<?, ?it/s]"
     ]
    },
    {
     "name": "stdout",
     "output_type": "stream",
     "text": [
      "07/11 00:44:54 - mmengine - \u001b[5m\u001b[4m\u001b[33mWARNING\u001b[0m - \"FileClient\" will be deprecated in future. Please use io functions in https://mmengine.readthedocs.io/en/latest/api/fileio.html#file-io\n",
      "07/11 00:44:54 - mmengine - \u001b[5m\u001b[4m\u001b[33mWARNING\u001b[0m - \"HardDiskBackend\" is the alias of \"LocalBackend\" and the former will be deprecated in future.\n",
      "07/11 00:44:54 - mmengine - \u001b[5m\u001b[4m\u001b[33mWARNING\u001b[0m - \"FileClient\" will be deprecated in future. Please use io functions in https://mmengine.readthedocs.io/en/latest/api/fileio.html#file-io\n",
      "07/11 00:44:54 - mmengine - \u001b[5m\u001b[4m\u001b[33mWARNING\u001b[0m - \"HardDiskBackend\" is the alias of \"LocalBackend\" and the former will be deprecated in future.\n"
     ]
    },
    {
     "name": "stderr",
     "output_type": "stream",
     "text": [
      "100%|██████████| 2/2 [00:07<00:00,  3.97s/it]\n"
     ]
    },
    {
     "name": "stdout",
     "output_type": "stream",
     "text": [
      "2024-07-11 00:45:02 Test INFO: Testing Over...\n",
      "\n",
      "2024-07-11 00:45:02 Test INFO: Testing Over...\n",
      "\n",
      "2024-07-11 00:45:06 Test INFO: Video duration of data/thumos-14/raw_data/video/video_validation_0000163.mp4: 233.87s\n",
      "2024-07-11 00:45:06 Test INFO: Video duration of data/thumos-14/raw_data/video/video_validation_0000163.mp4: 233.87s\n",
      "*********************video key: video_validation_0000163\n",
      "2024-07-11 00:45:06 Test INFO: Using Automatic Mixed Precision...\n",
      "2024-07-11 00:45:06 Test INFO: Using Automatic Mixed Precision...\n",
      "-1 {'subset': 'validation', 'frame': 7016, 'duration': 233.86666666666667, 'annotations': []}\n",
      "2024-07-11 00:45:06 Test INFO: validation subset: 1 videos, truncated as 4 windows.\n",
      "2024-07-11 00:45:06 Test INFO: validation subset: 1 videos, truncated as 4 windows.\n",
      "2024-07-11 00:45:06 Test INFO: Testing Starts...\n",
      "\n",
      "2024-07-11 00:45:06 Test INFO: Testing Starts...\n",
      "\n"
     ]
    },
    {
     "name": "stderr",
     "output_type": "stream",
     "text": [
      "  0%|          | 0/2 [00:00<?, ?it/s]"
     ]
    },
    {
     "name": "stdout",
     "output_type": "stream",
     "text": [
      "07/11 00:45:06 - mmengine - \u001b[5m\u001b[4m\u001b[33mWARNING\u001b[0m - \"FileClient\" will be deprecated in future. Please use io functions in https://mmengine.readthedocs.io/en/latest/api/fileio.html#file-io\n",
      "07/11 00:45:06 - mmengine - \u001b[5m\u001b[4m\u001b[33mWARNING\u001b[0m - \"FileClient\" will be deprecated in future. Please use io functions in https://mmengine.readthedocs.io/en/latest/api/fileio.html#file-io\n",
      "07/11 00:45:06 - mmengine - \u001b[5m\u001b[4m\u001b[33mWARNING\u001b[0m - \"HardDiskBackend\" is the alias of \"LocalBackend\" and the former will be deprecated in future.\n",
      "07/11 00:45:06 - mmengine - \u001b[5m\u001b[4m\u001b[33mWARNING\u001b[0m - \"HardDiskBackend\" is the alias of \"LocalBackend\" and the former will be deprecated in future.\n"
     ]
    },
    {
     "name": "stderr",
     "output_type": "stream",
     "text": [
      "100%|██████████| 2/2 [00:10<00:00,  5.03s/it]\n"
     ]
    },
    {
     "name": "stdout",
     "output_type": "stream",
     "text": [
      "2024-07-11 00:45:16 Test INFO: Testing Over...\n",
      "\n",
      "2024-07-11 00:45:16 Test INFO: Testing Over...\n",
      "\n",
      "2024-07-11 00:45:27 Test INFO: Video duration of data/thumos-14/raw_data/video/video_validation_0000164.mp4: 173.37s\n",
      "2024-07-11 00:45:27 Test INFO: Video duration of data/thumos-14/raw_data/video/video_validation_0000164.mp4: 173.37s\n",
      "*********************video key: video_validation_0000164\n",
      "2024-07-11 00:45:27 Test INFO: Using Automatic Mixed Precision...\n",
      "2024-07-11 00:45:27 Test INFO: Using Automatic Mixed Precision...\n",
      "-1 {'subset': 'validation', 'frame': 5201, 'duration': 173.36666666666667, 'annotations': []}\n",
      "2024-07-11 00:45:27 Test INFO: validation subset: 1 videos, truncated as 3 windows.\n",
      "2024-07-11 00:45:27 Test INFO: validation subset: 1 videos, truncated as 3 windows.\n",
      "2024-07-11 00:45:27 Test INFO: Testing Starts...\n",
      "\n",
      "2024-07-11 00:45:27 Test INFO: Testing Starts...\n",
      "\n"
     ]
    },
    {
     "name": "stderr",
     "output_type": "stream",
     "text": [
      "  0%|          | 0/2 [00:00<?, ?it/s]"
     ]
    },
    {
     "name": "stdout",
     "output_type": "stream",
     "text": [
      "07/11 00:45:27 - mmengine - \u001b[5m\u001b[4m\u001b[33mWARNING\u001b[0m - \"FileClient\" will be deprecated in future. Please use io functions in https://mmengine.readthedocs.io/en/latest/api/fileio.html#file-io\n",
      "07/11 00:45:27 - mmengine - \u001b[5m\u001b[4m\u001b[33mWARNING\u001b[0m - \"FileClient\" will be deprecated in future. Please use io functions in https://mmengine.readthedocs.io/en/latest/api/fileio.html#file-io\n",
      "07/11 00:45:27 - mmengine - \u001b[5m\u001b[4m\u001b[33mWARNING\u001b[0m - \"HardDiskBackend\" is the alias of \"LocalBackend\" and the former will be deprecated in future.\n",
      "07/11 00:45:27 - mmengine - \u001b[5m\u001b[4m\u001b[33mWARNING\u001b[0m - \"HardDiskBackend\" is the alias of \"LocalBackend\" and the former will be deprecated in future.\n"
     ]
    },
    {
     "name": "stderr",
     "output_type": "stream",
     "text": [
      "100%|██████████| 2/2 [00:13<00:00,  6.57s/it]"
     ]
    },
    {
     "name": "stdout",
     "output_type": "stream",
     "text": [
      "2024-07-11 00:45:40 Test INFO: Testing Over...\n",
      "\n",
      "2024-07-11 00:45:40 Test INFO: Testing Over...\n",
      "\n"
     ]
    },
    {
     "name": "stderr",
     "output_type": "stream",
     "text": [
      "\n"
     ]
    },
    {
     "name": "stdout",
     "output_type": "stream",
     "text": [
      "2024-07-11 00:45:44 Test INFO: Video duration of data/thumos-14/raw_data/video/video_validation_0000165.mp4: 106.37s\n",
      "2024-07-11 00:45:44 Test INFO: Video duration of data/thumos-14/raw_data/video/video_validation_0000165.mp4: 106.37s\n",
      "*********************video key: video_validation_0000165\n",
      "2024-07-11 00:45:44 Test INFO: Using Automatic Mixed Precision...\n",
      "2024-07-11 00:45:44 Test INFO: Using Automatic Mixed Precision...\n",
      "-1 {'subset': 'validation', 'frame': 3191, 'duration': 106.36666666666666, 'annotations': []}\n",
      "2024-07-11 00:45:44 Test INFO: validation subset: 1 videos, truncated as 2 windows.\n",
      "2024-07-11 00:45:44 Test INFO: validation subset: 1 videos, truncated as 2 windows.\n",
      "2024-07-11 00:45:44 Test INFO: Testing Starts...\n",
      "\n",
      "2024-07-11 00:45:44 Test INFO: Testing Starts...\n",
      "\n"
     ]
    },
    {
     "name": "stderr",
     "output_type": "stream",
     "text": [
      "  0%|          | 0/1 [00:00<?, ?it/s]"
     ]
    },
    {
     "name": "stdout",
     "output_type": "stream",
     "text": [
      "07/11 00:45:44 - mmengine - \u001b[5m\u001b[4m\u001b[33mWARNING\u001b[0m - \"FileClient\" will be deprecated in future. Please use io functions in https://mmengine.readthedocs.io/en/latest/api/fileio.html#file-io\n",
      "07/11 00:45:44 - mmengine - \u001b[5m\u001b[4m\u001b[33mWARNING\u001b[0m - \"HardDiskBackend\" is the alias of \"LocalBackend\" and the former will be deprecated in future.\n"
     ]
    },
    {
     "name": "stderr",
     "output_type": "stream",
     "text": [
      "100%|██████████| 1/1 [00:06<00:00,  6.73s/it]\n"
     ]
    },
    {
     "name": "stdout",
     "output_type": "stream",
     "text": [
      "2024-07-11 00:45:51 Test INFO: Testing Over...\n",
      "\n",
      "2024-07-11 00:45:51 Test INFO: Testing Over...\n",
      "\n",
      "2024-07-11 00:45:53 Test INFO: Video duration of data/thumos-14/raw_data/video/video_validation_0000166.mp4: 145.30s\n",
      "2024-07-11 00:45:53 Test INFO: Video duration of data/thumos-14/raw_data/video/video_validation_0000166.mp4: 145.30s\n",
      "*********************video key: video_validation_0000166\n",
      "2024-07-11 00:45:53 Test INFO: Using Automatic Mixed Precision...\n",
      "2024-07-11 00:45:53 Test INFO: Using Automatic Mixed Precision...\n",
      "-1 {'subset': 'validation', 'frame': 4359, 'duration': 145.3, 'annotations': []}\n",
      "2024-07-11 00:45:53 Test INFO: validation subset: 1 videos, truncated as 2 windows.\n",
      "2024-07-11 00:45:53 Test INFO: validation subset: 1 videos, truncated as 2 windows.\n",
      "2024-07-11 00:45:53 Test INFO: Testing Starts...\n",
      "\n",
      "2024-07-11 00:45:53 Test INFO: Testing Starts...\n",
      "\n"
     ]
    },
    {
     "name": "stderr",
     "output_type": "stream",
     "text": [
      "  0%|          | 0/1 [00:00<?, ?it/s]"
     ]
    },
    {
     "name": "stdout",
     "output_type": "stream",
     "text": [
      "07/11 00:45:53 - mmengine - \u001b[5m\u001b[4m\u001b[33mWARNING\u001b[0m - \"FileClient\" will be deprecated in future. Please use io functions in https://mmengine.readthedocs.io/en/latest/api/fileio.html#file-io\n",
      "07/11 00:45:53 - mmengine - \u001b[5m\u001b[4m\u001b[33mWARNING\u001b[0m - \"HardDiskBackend\" is the alias of \"LocalBackend\" and the former will be deprecated in future.\n"
     ]
    },
    {
     "name": "stderr",
     "output_type": "stream",
     "text": [
      "100%|██████████| 1/1 [00:06<00:00,  6.75s/it]\n"
     ]
    },
    {
     "name": "stdout",
     "output_type": "stream",
     "text": [
      "2024-07-11 00:46:00 Test INFO: Testing Over...\n",
      "\n",
      "2024-07-11 00:46:00 Test INFO: Testing Over...\n",
      "\n",
      "2024-07-11 00:46:03 Test INFO: Video duration of data/thumos-14/raw_data/video/video_validation_0000167.mp4: 210.83s\n",
      "2024-07-11 00:46:03 Test INFO: Video duration of data/thumos-14/raw_data/video/video_validation_0000167.mp4: 210.83s\n",
      "*********************video key: video_validation_0000167\n",
      "2024-07-11 00:46:03 Test INFO: Using Automatic Mixed Precision...\n",
      "2024-07-11 00:46:03 Test INFO: Using Automatic Mixed Precision...\n",
      "-1 {'subset': 'validation', 'frame': 6325, 'duration': 210.83333333333334, 'annotations': []}\n",
      "2024-07-11 00:46:03 Test INFO: validation subset: 1 videos, truncated as 4 windows.\n",
      "2024-07-11 00:46:03 Test INFO: validation subset: 1 videos, truncated as 4 windows.\n",
      "2024-07-11 00:46:03 Test INFO: Testing Starts...\n",
      "\n",
      "2024-07-11 00:46:03 Test INFO: Testing Starts...\n",
      "\n"
     ]
    },
    {
     "name": "stderr",
     "output_type": "stream",
     "text": [
      "  0%|          | 0/2 [00:00<?, ?it/s]"
     ]
    },
    {
     "name": "stdout",
     "output_type": "stream",
     "text": [
      "07/11 00:46:03 - mmengine - \u001b[5m\u001b[4m\u001b[33mWARNING\u001b[0m - \"FileClient\" will be deprecated in future. Please use io functions in https://mmengine.readthedocs.io/en/latest/api/fileio.html#file-io\n",
      "07/11 00:46:03 - mmengine - \u001b[5m\u001b[4m\u001b[33mWARNING\u001b[0m - \"HardDiskBackend\" is the alias of \"LocalBackend\" and the former will be deprecated in future.\n",
      "07/11 00:46:03 - mmengine - \u001b[5m\u001b[4m\u001b[33mWARNING\u001b[0m - \"FileClient\" will be deprecated in future. Please use io functions in https://mmengine.readthedocs.io/en/latest/api/fileio.html#file-io\n",
      "07/11 00:46:03 - mmengine - \u001b[5m\u001b[4m\u001b[33mWARNING\u001b[0m - \"HardDiskBackend\" is the alias of \"LocalBackend\" and the former will be deprecated in future.\n"
     ]
    },
    {
     "name": "stderr",
     "output_type": "stream",
     "text": [
      "100%|██████████| 2/2 [00:11<00:00,  5.92s/it]\n"
     ]
    },
    {
     "name": "stdout",
     "output_type": "stream",
     "text": [
      "2024-07-11 00:46:15 Test INFO: Testing Over...\n",
      "\n",
      "2024-07-11 00:46:15 Test INFO: Testing Over...\n",
      "\n",
      "2024-07-11 00:46:21 Test INFO: Video duration of data/thumos-14/raw_data/video/video_validation_0000168.mp4: 136.87s\n",
      "2024-07-11 00:46:21 Test INFO: Video duration of data/thumos-14/raw_data/video/video_validation_0000168.mp4: 136.87s\n",
      "*********************video key: video_validation_0000168\n",
      "2024-07-11 00:46:21 Test INFO: Using Automatic Mixed Precision...\n",
      "2024-07-11 00:46:21 Test INFO: Using Automatic Mixed Precision...\n",
      "-1 {'subset': 'validation', 'frame': 4106, 'duration': 136.86666666666667, 'annotations': []}\n",
      "2024-07-11 00:46:21 Test INFO: validation subset: 1 videos, truncated as 2 windows.\n",
      "2024-07-11 00:46:21 Test INFO: validation subset: 1 videos, truncated as 2 windows.\n",
      "2024-07-11 00:46:21 Test INFO: Testing Starts...\n",
      "\n",
      "2024-07-11 00:46:21 Test INFO: Testing Starts...\n",
      "\n"
     ]
    },
    {
     "name": "stderr",
     "output_type": "stream",
     "text": [
      "  0%|          | 0/1 [00:00<?, ?it/s]"
     ]
    },
    {
     "name": "stdout",
     "output_type": "stream",
     "text": [
      "07/11 00:46:22 - mmengine - \u001b[5m\u001b[4m\u001b[33mWARNING\u001b[0m - \"FileClient\" will be deprecated in future. Please use io functions in https://mmengine.readthedocs.io/en/latest/api/fileio.html#file-io\n",
      "07/11 00:46:22 - mmengine - \u001b[5m\u001b[4m\u001b[33mWARNING\u001b[0m - \"HardDiskBackend\" is the alias of \"LocalBackend\" and the former will be deprecated in future.\n"
     ]
    },
    {
     "name": "stderr",
     "output_type": "stream",
     "text": [
      "100%|██████████| 1/1 [00:11<00:00, 11.81s/it]"
     ]
    },
    {
     "name": "stdout",
     "output_type": "stream",
     "text": [
      "2024-07-11 00:46:33 Test INFO: Testing Over...\n",
      "\n",
      "2024-07-11 00:46:33 Test INFO: Testing Over...\n",
      "\n"
     ]
    },
    {
     "name": "stderr",
     "output_type": "stream",
     "text": [
      "\n"
     ]
    },
    {
     "name": "stdout",
     "output_type": "stream",
     "text": [
      "2024-07-11 00:46:38 Test INFO: Video duration of data/thumos-14/raw_data/video/video_validation_0000169.mp4: 194.17s\n",
      "2024-07-11 00:46:38 Test INFO: Video duration of data/thumos-14/raw_data/video/video_validation_0000169.mp4: 194.17s\n",
      "*********************video key: video_validation_0000169\n",
      "2024-07-11 00:46:38 Test INFO: Using Automatic Mixed Precision...\n",
      "2024-07-11 00:46:38 Test INFO: Using Automatic Mixed Precision...\n",
      "-1 {'subset': 'validation', 'frame': 5825, 'duration': 194.16666666666666, 'annotations': []}\n",
      "2024-07-11 00:46:38 Test INFO: validation subset: 1 videos, truncated as 3 windows.\n",
      "2024-07-11 00:46:38 Test INFO: validation subset: 1 videos, truncated as 3 windows.\n",
      "2024-07-11 00:46:38 Test INFO: Testing Starts...\n",
      "\n",
      "2024-07-11 00:46:38 Test INFO: Testing Starts...\n",
      "\n"
     ]
    },
    {
     "name": "stderr",
     "output_type": "stream",
     "text": [
      "  0%|          | 0/2 [00:00<?, ?it/s]"
     ]
    },
    {
     "name": "stdout",
     "output_type": "stream",
     "text": [
      "07/11 00:46:39 - mmengine - \u001b[5m\u001b[4m\u001b[33mWARNING\u001b[0m - \"FileClient\" will be deprecated in future. Please use io functions in https://mmengine.readthedocs.io/en/latest/api/fileio.html#file-io\n",
      "07/11 00:46:39 - mmengine - \u001b[5m\u001b[4m\u001b[33mWARNING\u001b[0m - \"FileClient\" will be deprecated in future. Please use io functions in https://mmengine.readthedocs.io/en/latest/api/fileio.html#file-io\n",
      "07/11 00:46:39 - mmengine - \u001b[5m\u001b[4m\u001b[33mWARNING\u001b[0m - \"HardDiskBackend\" is the alias of \"LocalBackend\" and the former will be deprecated in future.\n",
      "07/11 00:46:39 - mmengine - \u001b[5m\u001b[4m\u001b[33mWARNING\u001b[0m - \"HardDiskBackend\" is the alias of \"LocalBackend\" and the former will be deprecated in future.\n"
     ]
    },
    {
     "name": "stderr",
     "output_type": "stream",
     "text": [
      "100%|██████████| 2/2 [00:08<00:00,  4.15s/it]\n"
     ]
    },
    {
     "name": "stdout",
     "output_type": "stream",
     "text": [
      "2024-07-11 00:46:47 Test INFO: Testing Over...\n",
      "\n",
      "2024-07-11 00:46:47 Test INFO: Testing Over...\n",
      "\n",
      "2024-07-11 00:46:51 Test INFO: Video duration of data/thumos-14/raw_data/video/video_validation_0000170.mp4: 215.87s\n",
      "2024-07-11 00:46:51 Test INFO: Video duration of data/thumos-14/raw_data/video/video_validation_0000170.mp4: 215.87s\n",
      "*********************video key: video_validation_0000170\n",
      "2024-07-11 00:46:51 Test INFO: Using Automatic Mixed Precision...\n",
      "2024-07-11 00:46:51 Test INFO: Using Automatic Mixed Precision...\n",
      "-1 {'subset': 'validation', 'frame': 6476, 'duration': 215.86666666666667, 'annotations': []}\n",
      "2024-07-11 00:46:51 Test INFO: validation subset: 1 videos, truncated as 4 windows.\n",
      "2024-07-11 00:46:51 Test INFO: validation subset: 1 videos, truncated as 4 windows.\n",
      "2024-07-11 00:46:51 Test INFO: Testing Starts...\n",
      "\n",
      "2024-07-11 00:46:51 Test INFO: Testing Starts...\n",
      "\n"
     ]
    },
    {
     "name": "stderr",
     "output_type": "stream",
     "text": [
      "  0%|          | 0/2 [00:00<?, ?it/s]"
     ]
    },
    {
     "name": "stdout",
     "output_type": "stream",
     "text": [
      "07/11 00:46:51 - mmengine - \u001b[5m\u001b[4m\u001b[33mWARNING\u001b[0m - \"FileClient\" will be deprecated in future. Please use io functions in https://mmengine.readthedocs.io/en/latest/api/fileio.html#file-io\n",
      "07/11 00:46:51 - mmengine - \u001b[5m\u001b[4m\u001b[33mWARNING\u001b[0m - \"HardDiskBackend\" is the alias of \"LocalBackend\" and the former will be deprecated in future.\n",
      "07/11 00:46:51 - mmengine - \u001b[5m\u001b[4m\u001b[33mWARNING\u001b[0m - \"FileClient\" will be deprecated in future. Please use io functions in https://mmengine.readthedocs.io/en/latest/api/fileio.html#file-io\n",
      "07/11 00:46:51 - mmengine - \u001b[5m\u001b[4m\u001b[33mWARNING\u001b[0m - \"HardDiskBackend\" is the alias of \"LocalBackend\" and the former will be deprecated in future.\n"
     ]
    },
    {
     "name": "stderr",
     "output_type": "stream",
     "text": [
      "100%|██████████| 2/2 [00:06<00:00,  3.36s/it]"
     ]
    },
    {
     "name": "stdout",
     "output_type": "stream",
     "text": [
      "2024-07-11 00:46:58 Test INFO: Testing Over...\n",
      "\n",
      "2024-07-11 00:46:58 Test INFO: Testing Over...\n",
      "\n"
     ]
    },
    {
     "name": "stderr",
     "output_type": "stream",
     "text": [
      "\n"
     ]
    },
    {
     "name": "stdout",
     "output_type": "stream",
     "text": [
      "2024-07-11 00:47:06 Test INFO: Video duration of data/thumos-14/raw_data/video/video_validation_0000171.mp4: 152.20s\n",
      "2024-07-11 00:47:06 Test INFO: Video duration of data/thumos-14/raw_data/video/video_validation_0000171.mp4: 152.20s\n",
      "*********************video key: video_validation_0000171\n",
      "2024-07-11 00:47:06 Test INFO: Using Automatic Mixed Precision...\n",
      "2024-07-11 00:47:06 Test INFO: Using Automatic Mixed Precision...\n",
      "-1 {'subset': 'validation', 'frame': 4566, 'duration': 152.2, 'annotations': []}\n",
      "2024-07-11 00:47:06 Test INFO: validation subset: 1 videos, truncated as 2 windows.\n",
      "2024-07-11 00:47:06 Test INFO: validation subset: 1 videos, truncated as 2 windows.\n",
      "2024-07-11 00:47:06 Test INFO: Testing Starts...\n",
      "\n",
      "2024-07-11 00:47:06 Test INFO: Testing Starts...\n",
      "\n"
     ]
    },
    {
     "name": "stderr",
     "output_type": "stream",
     "text": [
      "  0%|          | 0/1 [00:00<?, ?it/s]"
     ]
    },
    {
     "name": "stdout",
     "output_type": "stream",
     "text": [
      "07/11 00:47:06 - mmengine - \u001b[5m\u001b[4m\u001b[33mWARNING\u001b[0m - \"FileClient\" will be deprecated in future. Please use io functions in https://mmengine.readthedocs.io/en/latest/api/fileio.html#file-io\n",
      "07/11 00:47:06 - mmengine - \u001b[5m\u001b[4m\u001b[33mWARNING\u001b[0m - \"HardDiskBackend\" is the alias of \"LocalBackend\" and the former will be deprecated in future.\n"
     ]
    },
    {
     "name": "stderr",
     "output_type": "stream",
     "text": [
      "100%|██████████| 1/1 [00:05<00:00,  5.92s/it]\n"
     ]
    },
    {
     "name": "stdout",
     "output_type": "stream",
     "text": [
      "2024-07-11 00:47:12 Test INFO: Testing Over...\n",
      "\n",
      "2024-07-11 00:47:12 Test INFO: Testing Over...\n",
      "\n",
      "2024-07-11 00:47:14 Test INFO: Video duration of data/thumos-14/raw_data/video/video_validation_0000173.mp4: 209.97s\n",
      "2024-07-11 00:47:14 Test INFO: Video duration of data/thumos-14/raw_data/video/video_validation_0000173.mp4: 209.97s\n",
      "*********************video key: video_validation_0000173\n",
      "2024-07-11 00:47:14 Test INFO: Using Automatic Mixed Precision...\n",
      "2024-07-11 00:47:14 Test INFO: Using Automatic Mixed Precision...\n",
      "-1 {'subset': 'validation', 'frame': 6299, 'duration': 209.96666666666667, 'annotations': []}\n",
      "2024-07-11 00:47:14 Test INFO: validation subset: 1 videos, truncated as 4 windows.\n",
      "2024-07-11 00:47:14 Test INFO: validation subset: 1 videos, truncated as 4 windows.\n",
      "2024-07-11 00:47:14 Test INFO: Testing Starts...\n",
      "\n",
      "2024-07-11 00:47:14 Test INFO: Testing Starts...\n",
      "\n"
     ]
    },
    {
     "name": "stderr",
     "output_type": "stream",
     "text": [
      "  0%|          | 0/2 [00:00<?, ?it/s]"
     ]
    },
    {
     "name": "stdout",
     "output_type": "stream",
     "text": [
      "07/11 00:47:15 - mmengine - \u001b[5m\u001b[4m\u001b[33mWARNING\u001b[0m - \"FileClient\" will be deprecated in future. Please use io functions in https://mmengine.readthedocs.io/en/latest/api/fileio.html#file-io\n",
      "07/11 00:47:15 - mmengine - \u001b[5m\u001b[4m\u001b[33mWARNING\u001b[0m - \"FileClient\" will be deprecated in future. Please use io functions in https://mmengine.readthedocs.io/en/latest/api/fileio.html#file-io\n",
      "07/11 00:47:15 - mmengine - \u001b[5m\u001b[4m\u001b[33mWARNING\u001b[0m - \"HardDiskBackend\" is the alias of \"LocalBackend\" and the former will be deprecated in future.\n",
      "07/11 00:47:15 - mmengine - \u001b[5m\u001b[4m\u001b[33mWARNING\u001b[0m - \"HardDiskBackend\" is the alias of \"LocalBackend\" and the former will be deprecated in future.\n"
     ]
    },
    {
     "name": "stderr",
     "output_type": "stream",
     "text": [
      "100%|██████████| 2/2 [00:07<00:00,  3.52s/it]\n"
     ]
    },
    {
     "name": "stdout",
     "output_type": "stream",
     "text": [
      "2024-07-11 00:47:22 Test INFO: Testing Over...\n",
      "\n",
      "2024-07-11 00:47:22 Test INFO: Testing Over...\n",
      "\n",
      "2024-07-11 00:47:29 Test INFO: Video duration of data/thumos-14/raw_data/video/video_validation_0000176.mp4: 137.33s\n",
      "2024-07-11 00:47:29 Test INFO: Video duration of data/thumos-14/raw_data/video/video_validation_0000176.mp4: 137.33s\n",
      "*********************video key: video_validation_0000176\n",
      "2024-07-11 00:47:29 Test INFO: Using Automatic Mixed Precision...\n",
      "2024-07-11 00:47:29 Test INFO: Using Automatic Mixed Precision...\n",
      "-1 {'subset': 'validation', 'frame': 4120, 'duration': 137.33333333333334, 'annotations': []}\n",
      "2024-07-11 00:47:29 Test INFO: validation subset: 1 videos, truncated as 2 windows.\n",
      "2024-07-11 00:47:29 Test INFO: validation subset: 1 videos, truncated as 2 windows.\n",
      "2024-07-11 00:47:29 Test INFO: Testing Starts...\n",
      "\n",
      "2024-07-11 00:47:29 Test INFO: Testing Starts...\n",
      "\n"
     ]
    },
    {
     "name": "stderr",
     "output_type": "stream",
     "text": [
      "  0%|          | 0/1 [00:00<?, ?it/s]"
     ]
    },
    {
     "name": "stdout",
     "output_type": "stream",
     "text": [
      "07/11 00:47:29 - mmengine - \u001b[5m\u001b[4m\u001b[33mWARNING\u001b[0m - \"FileClient\" will be deprecated in future. Please use io functions in https://mmengine.readthedocs.io/en/latest/api/fileio.html#file-io\n",
      "07/11 00:47:29 - mmengine - \u001b[5m\u001b[4m\u001b[33mWARNING\u001b[0m - \"HardDiskBackend\" is the alias of \"LocalBackend\" and the former will be deprecated in future.\n"
     ]
    },
    {
     "name": "stderr",
     "output_type": "stream",
     "text": [
      "100%|██████████| 1/1 [00:04<00:00,  4.66s/it]\n"
     ]
    },
    {
     "name": "stdout",
     "output_type": "stream",
     "text": [
      "2024-07-11 00:47:33 Test INFO: Testing Over...\n",
      "\n",
      "2024-07-11 00:47:33 Test INFO: Testing Over...\n",
      "\n",
      "2024-07-11 00:47:37 Test INFO: Video duration of data/thumos-14/raw_data/video/video_validation_0000178.mp4: 114.70s\n",
      "2024-07-11 00:47:37 Test INFO: Video duration of data/thumos-14/raw_data/video/video_validation_0000178.mp4: 114.70s\n",
      "*********************video key: video_validation_0000178\n",
      "2024-07-11 00:47:37 Test INFO: Using Automatic Mixed Precision...\n",
      "2024-07-11 00:47:37 Test INFO: Using Automatic Mixed Precision...\n",
      "-1 {'subset': 'validation', 'frame': 3441, 'duration': 114.7, 'annotations': []}\n",
      "2024-07-11 00:47:37 Test INFO: validation subset: 1 videos, truncated as 2 windows.\n",
      "2024-07-11 00:47:37 Test INFO: validation subset: 1 videos, truncated as 2 windows.\n",
      "2024-07-11 00:47:37 Test INFO: Testing Starts...\n",
      "\n",
      "2024-07-11 00:47:37 Test INFO: Testing Starts...\n",
      "\n"
     ]
    },
    {
     "name": "stderr",
     "output_type": "stream",
     "text": [
      "  0%|          | 0/1 [00:00<?, ?it/s]"
     ]
    },
    {
     "name": "stdout",
     "output_type": "stream",
     "text": [
      "07/11 00:47:37 - mmengine - \u001b[5m\u001b[4m\u001b[33mWARNING\u001b[0m - \"FileClient\" will be deprecated in future. Please use io functions in https://mmengine.readthedocs.io/en/latest/api/fileio.html#file-io\n",
      "07/11 00:47:37 - mmengine - \u001b[5m\u001b[4m\u001b[33mWARNING\u001b[0m - \"HardDiskBackend\" is the alias of \"LocalBackend\" and the former will be deprecated in future.\n"
     ]
    },
    {
     "name": "stderr",
     "output_type": "stream",
     "text": [
      "100%|██████████| 1/1 [00:07<00:00,  7.22s/it]"
     ]
    },
    {
     "name": "stdout",
     "output_type": "stream",
     "text": [
      "2024-07-11 00:47:44 Test INFO: Testing Over...\n",
      "\n",
      "2024-07-11 00:47:44 Test INFO: Testing Over...\n",
      "\n"
     ]
    },
    {
     "name": "stderr",
     "output_type": "stream",
     "text": [
      "\n"
     ]
    },
    {
     "name": "stdout",
     "output_type": "stream",
     "text": [
      "2024-07-11 00:47:48 Test INFO: Video duration of data/thumos-14/raw_data/video/video_validation_0000179.mp4: 185.67s\n",
      "2024-07-11 00:47:48 Test INFO: Video duration of data/thumos-14/raw_data/video/video_validation_0000179.mp4: 185.67s\n",
      "*********************video key: video_validation_0000179\n",
      "2024-07-11 00:47:48 Test INFO: Using Automatic Mixed Precision...\n",
      "2024-07-11 00:47:48 Test INFO: Using Automatic Mixed Precision...\n",
      "-1 {'subset': 'validation', 'frame': 5570, 'duration': 185.66666666666666, 'annotations': []}\n",
      "2024-07-11 00:47:48 Test INFO: validation subset: 1 videos, truncated as 3 windows.\n",
      "2024-07-11 00:47:48 Test INFO: validation subset: 1 videos, truncated as 3 windows.\n",
      "2024-07-11 00:47:48 Test INFO: Testing Starts...\n",
      "\n",
      "2024-07-11 00:47:48 Test INFO: Testing Starts...\n",
      "\n"
     ]
    },
    {
     "name": "stderr",
     "output_type": "stream",
     "text": [
      "  0%|          | 0/2 [00:00<?, ?it/s]"
     ]
    },
    {
     "name": "stdout",
     "output_type": "stream",
     "text": [
      "07/11 00:47:48 - mmengine - \u001b[5m\u001b[4m\u001b[33mWARNING\u001b[0m - \"FileClient\" will be deprecated in future. Please use io functions in https://mmengine.readthedocs.io/en/latest/api/fileio.html#file-io\n",
      "07/11 00:47:48 - mmengine - \u001b[5m\u001b[4m\u001b[33mWARNING\u001b[0m - \"FileClient\" will be deprecated in future. Please use io functions in https://mmengine.readthedocs.io/en/latest/api/fileio.html#file-io\n",
      "07/11 00:47:48 - mmengine - \u001b[5m\u001b[4m\u001b[33mWARNING\u001b[0m - \"HardDiskBackend\" is the alias of \"LocalBackend\" and the former will be deprecated in future.\n",
      "07/11 00:47:48 - mmengine - \u001b[5m\u001b[4m\u001b[33mWARNING\u001b[0m - \"HardDiskBackend\" is the alias of \"LocalBackend\" and the former will be deprecated in future.\n"
     ]
    },
    {
     "name": "stderr",
     "output_type": "stream",
     "text": [
      "100%|██████████| 2/2 [00:11<00:00,  5.68s/it]\n"
     ]
    },
    {
     "name": "stdout",
     "output_type": "stream",
     "text": [
      "2024-07-11 00:47:59 Test INFO: Testing Over...\n",
      "\n",
      "2024-07-11 00:47:59 Test INFO: Testing Over...\n",
      "\n",
      "2024-07-11 00:48:04 Test INFO: Video duration of data/thumos-14/raw_data/video/video_validation_0000180.mp4: 220.60s\n",
      "2024-07-11 00:48:04 Test INFO: Video duration of data/thumos-14/raw_data/video/video_validation_0000180.mp4: 220.60s\n",
      "*********************video key: video_validation_0000180\n",
      "2024-07-11 00:48:04 Test INFO: Using Automatic Mixed Precision...\n",
      "2024-07-11 00:48:04 Test INFO: Using Automatic Mixed Precision...\n",
      "-1 {'subset': 'validation', 'frame': 6618, 'duration': 220.6, 'annotations': []}\n",
      "2024-07-11 00:48:04 Test INFO: validation subset: 1 videos, truncated as 4 windows.\n",
      "2024-07-11 00:48:04 Test INFO: validation subset: 1 videos, truncated as 4 windows.\n",
      "2024-07-11 00:48:04 Test INFO: Testing Starts...\n",
      "\n",
      "2024-07-11 00:48:04 Test INFO: Testing Starts...\n",
      "\n"
     ]
    },
    {
     "name": "stderr",
     "output_type": "stream",
     "text": [
      "  0%|          | 0/2 [00:00<?, ?it/s]"
     ]
    },
    {
     "name": "stdout",
     "output_type": "stream",
     "text": [
      "07/11 00:48:04 - mmengine - \u001b[5m\u001b[4m\u001b[33mWARNING\u001b[0m - \"FileClient\" will be deprecated in future. Please use io functions in https://mmengine.readthedocs.io/en/latest/api/fileio.html#file-io\n",
      "07/11 00:48:04 - mmengine - \u001b[5m\u001b[4m\u001b[33mWARNING\u001b[0m - \"HardDiskBackend\" is the alias of \"LocalBackend\" and the former will be deprecated in future.\n",
      "07/11 00:48:04 - mmengine - \u001b[5m\u001b[4m\u001b[33mWARNING\u001b[0m - \"FileClient\" will be deprecated in future. Please use io functions in https://mmengine.readthedocs.io/en/latest/api/fileio.html#file-io\n",
      "07/11 00:48:04 - mmengine - \u001b[5m\u001b[4m\u001b[33mWARNING\u001b[0m - \"HardDiskBackend\" is the alias of \"LocalBackend\" and the former will be deprecated in future.\n"
     ]
    },
    {
     "name": "stderr",
     "output_type": "stream",
     "text": [
      "100%|██████████| 2/2 [00:06<00:00,  3.17s/it]\n"
     ]
    },
    {
     "name": "stdout",
     "output_type": "stream",
     "text": [
      "2024-07-11 00:48:11 Test INFO: Testing Over...\n",
      "\n",
      "2024-07-11 00:48:11 Test INFO: Testing Over...\n",
      "\n",
      "2024-07-11 00:48:16 Test INFO: Video duration of data/thumos-14/raw_data/video/video_validation_0000181.mp4: 148.87s\n",
      "2024-07-11 00:48:16 Test INFO: Video duration of data/thumos-14/raw_data/video/video_validation_0000181.mp4: 148.87s\n",
      "*********************video key: video_validation_0000181\n",
      "2024-07-11 00:48:16 Test INFO: Using Automatic Mixed Precision...\n",
      "2024-07-11 00:48:16 Test INFO: Using Automatic Mixed Precision...\n",
      "-1 {'subset': 'validation', 'frame': 4466, 'duration': 148.86666666666667, 'annotations': []}\n",
      "2024-07-11 00:48:16 Test INFO: validation subset: 1 videos, truncated as 2 windows.\n",
      "2024-07-11 00:48:16 Test INFO: validation subset: 1 videos, truncated as 2 windows.\n",
      "2024-07-11 00:48:16 Test INFO: Testing Starts...\n",
      "\n",
      "2024-07-11 00:48:16 Test INFO: Testing Starts...\n",
      "\n"
     ]
    },
    {
     "name": "stderr",
     "output_type": "stream",
     "text": [
      "  0%|          | 0/1 [00:00<?, ?it/s]"
     ]
    },
    {
     "name": "stdout",
     "output_type": "stream",
     "text": [
      "07/11 00:48:16 - mmengine - \u001b[5m\u001b[4m\u001b[33mWARNING\u001b[0m - \"FileClient\" will be deprecated in future. Please use io functions in https://mmengine.readthedocs.io/en/latest/api/fileio.html#file-io\n",
      "07/11 00:48:16 - mmengine - \u001b[5m\u001b[4m\u001b[33mWARNING\u001b[0m - \"HardDiskBackend\" is the alias of \"LocalBackend\" and the former will be deprecated in future.\n"
     ]
    },
    {
     "name": "stderr",
     "output_type": "stream",
     "text": [
      "100%|██████████| 1/1 [00:08<00:00,  8.94s/it]\n"
     ]
    },
    {
     "name": "stdout",
     "output_type": "stream",
     "text": [
      "2024-07-11 00:48:25 Test INFO: Testing Over...\n",
      "\n",
      "2024-07-11 00:48:25 Test INFO: Testing Over...\n",
      "\n",
      "2024-07-11 00:48:32 Test INFO: Video duration of data/thumos-14/raw_data/video/video_validation_0000183.mp4: 81.53s\n",
      "2024-07-11 00:48:32 Test INFO: Video duration of data/thumos-14/raw_data/video/video_validation_0000183.mp4: 81.53s\n",
      "*********************video key: video_validation_0000183\n",
      "2024-07-11 00:48:32 Test INFO: Using Automatic Mixed Precision...\n",
      "2024-07-11 00:48:32 Test INFO: Using Automatic Mixed Precision...\n",
      "-1 {'subset': 'validation', 'frame': 2446, 'duration': 81.53333333333333, 'annotations': []}\n",
      "2024-07-11 00:48:32 Test INFO: validation subset: 1 videos, truncated as 1 windows.\n",
      "2024-07-11 00:48:32 Test INFO: validation subset: 1 videos, truncated as 1 windows.\n",
      "2024-07-11 00:48:32 Test INFO: Testing Starts...\n",
      "\n",
      "2024-07-11 00:48:32 Test INFO: Testing Starts...\n",
      "\n"
     ]
    },
    {
     "name": "stderr",
     "output_type": "stream",
     "text": [
      "  0%|          | 0/1 [00:00<?, ?it/s]"
     ]
    },
    {
     "name": "stdout",
     "output_type": "stream",
     "text": [
      "07/11 00:48:33 - mmengine - \u001b[5m\u001b[4m\u001b[33mWARNING\u001b[0m - \"FileClient\" will be deprecated in future. Please use io functions in https://mmengine.readthedocs.io/en/latest/api/fileio.html#file-io\n",
      "07/11 00:48:33 - mmengine - \u001b[5m\u001b[4m\u001b[33mWARNING\u001b[0m - \"HardDiskBackend\" is the alias of \"LocalBackend\" and the former will be deprecated in future.\n"
     ]
    },
    {
     "name": "stderr",
     "output_type": "stream",
     "text": [
      "100%|██████████| 1/1 [00:03<00:00,  3.50s/it]\n"
     ]
    },
    {
     "name": "stdout",
     "output_type": "stream",
     "text": [
      "2024-07-11 00:48:36 Test INFO: Testing Over...\n",
      "\n",
      "2024-07-11 00:48:36 Test INFO: Testing Over...\n",
      "\n",
      "2024-07-11 00:48:38 Test INFO: Video duration of data/thumos-14/raw_data/video/video_validation_0000184.mp4: 168.43s\n",
      "2024-07-11 00:48:38 Test INFO: Video duration of data/thumos-14/raw_data/video/video_validation_0000184.mp4: 168.43s\n",
      "*********************video key: video_validation_0000184\n",
      "2024-07-11 00:48:38 Test INFO: Using Automatic Mixed Precision...\n",
      "2024-07-11 00:48:38 Test INFO: Using Automatic Mixed Precision...\n",
      "-1 {'subset': 'validation', 'frame': 5053, 'duration': 168.43333333333334, 'annotations': []}\n",
      "2024-07-11 00:48:38 Test INFO: validation subset: 1 videos, truncated as 3 windows.\n",
      "2024-07-11 00:48:38 Test INFO: validation subset: 1 videos, truncated as 3 windows.\n",
      "2024-07-11 00:48:38 Test INFO: Testing Starts...\n",
      "\n",
      "2024-07-11 00:48:38 Test INFO: Testing Starts...\n",
      "\n"
     ]
    },
    {
     "name": "stderr",
     "output_type": "stream",
     "text": [
      "  0%|          | 0/2 [00:00<?, ?it/s]"
     ]
    },
    {
     "name": "stdout",
     "output_type": "stream",
     "text": [
      "07/11 00:48:39 - mmengine - \u001b[5m\u001b[4m\u001b[33mWARNING\u001b[0m - \"FileClient\" will be deprecated in future. Please use io functions in https://mmengine.readthedocs.io/en/latest/api/fileio.html#file-io\n",
      "07/11 00:48:39 - mmengine - \u001b[5m\u001b[4m\u001b[33mWARNING\u001b[0m - \"FileClient\" will be deprecated in future. Please use io functions in https://mmengine.readthedocs.io/en/latest/api/fileio.html#file-io\n",
      "07/11 00:48:39 - mmengine - \u001b[5m\u001b[4m\u001b[33mWARNING\u001b[0m - \"HardDiskBackend\" is the alias of \"LocalBackend\" and the former will be deprecated in future.\n",
      "07/11 00:48:39 - mmengine - \u001b[5m\u001b[4m\u001b[33mWARNING\u001b[0m - \"HardDiskBackend\" is the alias of \"LocalBackend\" and the former will be deprecated in future.\n"
     ]
    },
    {
     "name": "stderr",
     "output_type": "stream",
     "text": [
      "100%|██████████| 2/2 [00:06<00:00,  3.48s/it]\n"
     ]
    },
    {
     "name": "stdout",
     "output_type": "stream",
     "text": [
      "2024-07-11 00:48:45 Test INFO: Testing Over...\n",
      "\n",
      "2024-07-11 00:48:45 Test INFO: Testing Over...\n",
      "\n",
      "2024-07-11 00:48:48 Test INFO: Video duration of data/thumos-14/raw_data/video/video_validation_0000187.mp4: 59.93s\n",
      "2024-07-11 00:48:48 Test INFO: Video duration of data/thumos-14/raw_data/video/video_validation_0000187.mp4: 59.93s\n",
      "*********************video key: video_validation_0000187\n",
      "2024-07-11 00:48:48 Test INFO: Using Automatic Mixed Precision...\n",
      "2024-07-11 00:48:48 Test INFO: Using Automatic Mixed Precision...\n",
      "-1 {'subset': 'validation', 'frame': 1798, 'duration': 59.93333333333333, 'annotations': []}\n",
      "2024-07-11 00:48:48 Test INFO: validation subset: 1 videos, truncated as 1 windows.\n",
      "2024-07-11 00:48:48 Test INFO: validation subset: 1 videos, truncated as 1 windows.\n",
      "2024-07-11 00:48:48 Test INFO: Testing Starts...\n",
      "\n",
      "2024-07-11 00:48:48 Test INFO: Testing Starts...\n",
      "\n"
     ]
    },
    {
     "name": "stderr",
     "output_type": "stream",
     "text": [
      "  0%|          | 0/1 [00:00<?, ?it/s]"
     ]
    },
    {
     "name": "stdout",
     "output_type": "stream",
     "text": [
      "07/11 00:48:49 - mmengine - \u001b[5m\u001b[4m\u001b[33mWARNING\u001b[0m - \"FileClient\" will be deprecated in future. Please use io functions in https://mmengine.readthedocs.io/en/latest/api/fileio.html#file-io\n",
      "07/11 00:48:49 - mmengine - \u001b[5m\u001b[4m\u001b[33mWARNING\u001b[0m - \"HardDiskBackend\" is the alias of \"LocalBackend\" and the former will be deprecated in future.\n"
     ]
    },
    {
     "name": "stderr",
     "output_type": "stream",
     "text": [
      "100%|██████████| 1/1 [00:01<00:00,  1.93s/it]\n"
     ]
    },
    {
     "name": "stdout",
     "output_type": "stream",
     "text": [
      "2024-07-11 00:48:50 Test INFO: Testing Over...\n",
      "\n",
      "2024-07-11 00:48:50 Test INFO: Testing Over...\n",
      "\n",
      "2024-07-11 00:48:51 Test INFO: Video duration of data/thumos-14/raw_data/video/video_validation_0000188.mp4: 170.40s\n",
      "2024-07-11 00:48:51 Test INFO: Video duration of data/thumos-14/raw_data/video/video_validation_0000188.mp4: 170.40s\n",
      "*********************video key: video_validation_0000188\n",
      "2024-07-11 00:48:51 Test INFO: Using Automatic Mixed Precision...\n",
      "2024-07-11 00:48:51 Test INFO: Using Automatic Mixed Precision...\n",
      "-1 {'subset': 'validation', 'frame': 5112, 'duration': 170.4, 'annotations': []}\n",
      "2024-07-11 00:48:51 Test INFO: validation subset: 1 videos, truncated as 3 windows.\n",
      "2024-07-11 00:48:51 Test INFO: validation subset: 1 videos, truncated as 3 windows.\n",
      "2024-07-11 00:48:51 Test INFO: Testing Starts...\n",
      "\n",
      "2024-07-11 00:48:51 Test INFO: Testing Starts...\n",
      "\n"
     ]
    },
    {
     "name": "stderr",
     "output_type": "stream",
     "text": [
      "  0%|          | 0/2 [00:00<?, ?it/s]"
     ]
    },
    {
     "name": "stdout",
     "output_type": "stream",
     "text": [
      "07/11 00:48:52 - mmengine - \u001b[5m\u001b[4m\u001b[33mWARNING\u001b[0m - \"FileClient\" will be deprecated in future. Please use io functions in https://mmengine.readthedocs.io/en/latest/api/fileio.html#file-io\n",
      "07/11 00:48:52 - mmengine - \u001b[5m\u001b[4m\u001b[33mWARNING\u001b[0m - \"HardDiskBackend\" is the alias of \"LocalBackend\" and the former will be deprecated in future.\n",
      "07/11 00:48:52 - mmengine - \u001b[5m\u001b[4m\u001b[33mWARNING\u001b[0m - \"FileClient\" will be deprecated in future. Please use io functions in https://mmengine.readthedocs.io/en/latest/api/fileio.html#file-io\n",
      "07/11 00:48:52 - mmengine - \u001b[5m\u001b[4m\u001b[33mWARNING\u001b[0m - \"HardDiskBackend\" is the alias of \"LocalBackend\" and the former will be deprecated in future.\n"
     ]
    },
    {
     "name": "stderr",
     "output_type": "stream",
     "text": [
      "100%|██████████| 2/2 [00:05<00:00,  2.62s/it]\n"
     ]
    },
    {
     "name": "stdout",
     "output_type": "stream",
     "text": [
      "2024-07-11 00:48:57 Test INFO: Testing Over...\n",
      "\n",
      "2024-07-11 00:48:57 Test INFO: Testing Over...\n",
      "\n",
      "2024-07-11 00:49:00 Test INFO: Video duration of data/thumos-14/raw_data/video/video_validation_0000189.mp4: 110.87s\n",
      "2024-07-11 00:49:00 Test INFO: Video duration of data/thumos-14/raw_data/video/video_validation_0000189.mp4: 110.87s\n",
      "*********************video key: video_validation_0000189\n",
      "2024-07-11 00:49:00 Test INFO: Using Automatic Mixed Precision...\n",
      "2024-07-11 00:49:00 Test INFO: Using Automatic Mixed Precision...\n",
      "-1 {'subset': 'validation', 'frame': 3326, 'duration': 110.86666666666666, 'annotations': []}\n",
      "2024-07-11 00:49:00 Test INFO: validation subset: 1 videos, truncated as 2 windows.\n",
      "2024-07-11 00:49:00 Test INFO: validation subset: 1 videos, truncated as 2 windows.\n",
      "2024-07-11 00:49:00 Test INFO: Testing Starts...\n",
      "\n",
      "2024-07-11 00:49:00 Test INFO: Testing Starts...\n",
      "\n"
     ]
    },
    {
     "name": "stderr",
     "output_type": "stream",
     "text": [
      "  0%|          | 0/1 [00:00<?, ?it/s]"
     ]
    },
    {
     "name": "stdout",
     "output_type": "stream",
     "text": [
      "07/11 00:49:00 - mmengine - \u001b[5m\u001b[4m\u001b[33mWARNING\u001b[0m - \"FileClient\" will be deprecated in future. Please use io functions in https://mmengine.readthedocs.io/en/latest/api/fileio.html#file-io\n",
      "07/11 00:49:00 - mmengine - \u001b[5m\u001b[4m\u001b[33mWARNING\u001b[0m - \"HardDiskBackend\" is the alias of \"LocalBackend\" and the former will be deprecated in future.\n"
     ]
    },
    {
     "name": "stderr",
     "output_type": "stream",
     "text": [
      "100%|██████████| 1/1 [00:04<00:00,  4.90s/it]\n"
     ]
    },
    {
     "name": "stdout",
     "output_type": "stream",
     "text": [
      "2024-07-11 00:49:05 Test INFO: Testing Over...\n",
      "\n",
      "2024-07-11 00:49:05 Test INFO: Testing Over...\n",
      "\n",
      "2024-07-11 00:49:07 Test INFO: Video duration of data/thumos-14/raw_data/video/video_validation_0000190.mp4: 8.83s\n",
      "2024-07-11 00:49:07 Test INFO: Video duration of data/thumos-14/raw_data/video/video_validation_0000190.mp4: 8.83s\n",
      "*********************video key: video_validation_0000190\n",
      "2024-07-11 00:49:07 Test INFO: Using Automatic Mixed Precision...\n",
      "2024-07-11 00:49:07 Test INFO: Using Automatic Mixed Precision...\n",
      "-1 {'subset': 'validation', 'frame': 265, 'duration': 8.833333333333334, 'annotations': []}\n",
      "2024-07-11 00:49:07 Test INFO: validation subset: 1 videos, truncated as 1 windows.\n",
      "2024-07-11 00:49:07 Test INFO: validation subset: 1 videos, truncated as 1 windows.\n",
      "2024-07-11 00:49:07 Test INFO: Testing Starts...\n",
      "\n",
      "2024-07-11 00:49:07 Test INFO: Testing Starts...\n",
      "\n"
     ]
    },
    {
     "name": "stderr",
     "output_type": "stream",
     "text": [
      "  0%|          | 0/1 [00:00<?, ?it/s]"
     ]
    },
    {
     "name": "stdout",
     "output_type": "stream",
     "text": [
      "07/11 00:49:07 - mmengine - \u001b[5m\u001b[4m\u001b[33mWARNING\u001b[0m - \"FileClient\" will be deprecated in future. Please use io functions in https://mmengine.readthedocs.io/en/latest/api/fileio.html#file-io\n",
      "07/11 00:49:07 - mmengine - \u001b[5m\u001b[4m\u001b[33mWARNING\u001b[0m - \"HardDiskBackend\" is the alias of \"LocalBackend\" and the former will be deprecated in future.\n"
     ]
    },
    {
     "name": "stderr",
     "output_type": "stream",
     "text": [
      "100%|██████████| 1/1 [00:01<00:00,  1.04s/it]"
     ]
    },
    {
     "name": "stdout",
     "output_type": "stream",
     "text": [
      "2024-07-11 00:49:08 Test INFO: Testing Over...\n",
      "\n",
      "2024-07-11 00:49:08 Test INFO: Testing Over...\n",
      "\n"
     ]
    },
    {
     "name": "stderr",
     "output_type": "stream",
     "text": [
      "\n"
     ]
    },
    {
     "name": "stdout",
     "output_type": "stream",
     "text": [
      "2024-07-11 00:49:08 Test INFO: Video duration of data/thumos-14/raw_data/video/video_validation_0000266.mp4: 171.47s\n",
      "2024-07-11 00:49:08 Test INFO: Video duration of data/thumos-14/raw_data/video/video_validation_0000266.mp4: 171.47s\n",
      "*********************video key: video_validation_0000266\n",
      "2024-07-11 00:49:08 Test INFO: Using Automatic Mixed Precision...\n",
      "2024-07-11 00:49:08 Test INFO: Using Automatic Mixed Precision...\n",
      "-1 {'subset': 'validation', 'frame': 5144, 'duration': 171.46666666666667, 'annotations': []}\n",
      "2024-07-11 00:49:08 Test INFO: validation subset: 1 videos, truncated as 3 windows.\n",
      "2024-07-11 00:49:08 Test INFO: validation subset: 1 videos, truncated as 3 windows.\n",
      "2024-07-11 00:49:08 Test INFO: Testing Starts...\n",
      "\n",
      "2024-07-11 00:49:08 Test INFO: Testing Starts...\n",
      "\n"
     ]
    },
    {
     "name": "stderr",
     "output_type": "stream",
     "text": [
      "  0%|          | 0/2 [00:00<?, ?it/s]"
     ]
    },
    {
     "name": "stdout",
     "output_type": "stream",
     "text": [
      "07/11 00:49:09 - mmengine - \u001b[5m\u001b[4m\u001b[33mWARNING\u001b[0m - \"FileClient\" will be deprecated in future. Please use io functions in https://mmengine.readthedocs.io/en/latest/api/fileio.html#file-io\n",
      "07/11 00:49:09 - mmengine - \u001b[5m\u001b[4m\u001b[33mWARNING\u001b[0m - \"FileClient\" will be deprecated in future. Please use io functions in https://mmengine.readthedocs.io/en/latest/api/fileio.html#file-io\n",
      "07/11 00:49:09 - mmengine - \u001b[5m\u001b[4m\u001b[33mWARNING\u001b[0m - \"HardDiskBackend\" is the alias of \"LocalBackend\" and the former will be deprecated in future.\n",
      "07/11 00:49:09 - mmengine - \u001b[5m\u001b[4m\u001b[33mWARNING\u001b[0m - \"HardDiskBackend\" is the alias of \"LocalBackend\" and the former will be deprecated in future.\n"
     ]
    },
    {
     "name": "stderr",
     "output_type": "stream",
     "text": [
      "100%|██████████| 2/2 [00:06<00:00,  3.26s/it]\n"
     ]
    },
    {
     "name": "stdout",
     "output_type": "stream",
     "text": [
      "2024-07-11 00:49:15 Test INFO: Testing Over...\n",
      "\n",
      "2024-07-11 00:49:15 Test INFO: Testing Over...\n",
      "\n",
      "2024-07-11 00:49:19 Test INFO: Video duration of data/thumos-14/raw_data/video/video_validation_0000665.mp4: 524.13s\n",
      "2024-07-11 00:49:19 Test INFO: Video duration of data/thumos-14/raw_data/video/video_validation_0000665.mp4: 524.13s\n",
      "*********************video key: video_validation_0000665\n",
      "2024-07-11 00:49:19 Test INFO: Using Automatic Mixed Precision...\n",
      "2024-07-11 00:49:19 Test INFO: Using Automatic Mixed Precision...\n",
      "-1 {'subset': 'validation', 'frame': 15724, 'duration': 524.1333333333333, 'annotations': []}\n",
      "2024-07-11 00:49:19 Test INFO: validation subset: 1 videos, truncated as 10 windows.\n",
      "2024-07-11 00:49:19 Test INFO: validation subset: 1 videos, truncated as 10 windows.\n",
      "2024-07-11 00:49:19 Test INFO: Testing Starts...\n",
      "\n",
      "2024-07-11 00:49:19 Test INFO: Testing Starts...\n",
      "\n"
     ]
    },
    {
     "name": "stderr",
     "output_type": "stream",
     "text": [
      "  0%|          | 0/5 [00:00<?, ?it/s]"
     ]
    },
    {
     "name": "stdout",
     "output_type": "stream",
     "text": [
      "07/11 00:49:19 - mmengine - \u001b[5m\u001b[4m\u001b[33mWARNING\u001b[0m - \"FileClient\" will be deprecated in future. Please use io functions in https://mmengine.readthedocs.io/en/latest/api/fileio.html#file-io\n",
      "07/11 00:49:19 - mmengine - \u001b[5m\u001b[4m\u001b[33mWARNING\u001b[0m - \"HardDiskBackend\" is the alias of \"LocalBackend\" and the former will be deprecated in future.\n",
      "07/11 00:49:19 - mmengine - \u001b[5m\u001b[4m\u001b[33mWARNING\u001b[0m - \"FileClient\" will be deprecated in future. Please use io functions in https://mmengine.readthedocs.io/en/latest/api/fileio.html#file-io\n",
      "07/11 00:49:19 - mmengine - \u001b[5m\u001b[4m\u001b[33mWARNING\u001b[0m - \"HardDiskBackend\" is the alias of \"LocalBackend\" and the former will be deprecated in future.\n"
     ]
    },
    {
     "name": "stderr",
     "output_type": "stream",
     "text": [
      "100%|██████████| 5/5 [00:20<00:00,  4.16s/it]\n"
     ]
    },
    {
     "name": "stdout",
     "output_type": "stream",
     "text": [
      "2024-07-11 00:49:40 Test INFO: Testing Over...\n",
      "\n",
      "2024-07-11 00:49:40 Test INFO: Testing Over...\n",
      "\n",
      "2024-07-11 00:49:52 Test INFO: Video duration of data/thumos-14/raw_data/video/video_validation_0000786.mp4: 107.23s\n",
      "2024-07-11 00:49:52 Test INFO: Video duration of data/thumos-14/raw_data/video/video_validation_0000786.mp4: 107.23s\n",
      "*********************video key: video_validation_0000786\n",
      "2024-07-11 00:49:52 Test INFO: Using Automatic Mixed Precision...\n",
      "2024-07-11 00:49:52 Test INFO: Using Automatic Mixed Precision...\n",
      "-1 {'subset': 'validation', 'frame': 3217, 'duration': 107.23333333333333, 'annotations': []}\n",
      "2024-07-11 00:49:52 Test INFO: validation subset: 1 videos, truncated as 2 windows.\n",
      "2024-07-11 00:49:52 Test INFO: validation subset: 1 videos, truncated as 2 windows.\n",
      "2024-07-11 00:49:52 Test INFO: Testing Starts...\n",
      "\n",
      "2024-07-11 00:49:52 Test INFO: Testing Starts...\n",
      "\n"
     ]
    },
    {
     "name": "stderr",
     "output_type": "stream",
     "text": [
      "  0%|          | 0/1 [00:00<?, ?it/s]"
     ]
    },
    {
     "name": "stdout",
     "output_type": "stream",
     "text": [
      "07/11 00:49:53 - mmengine - \u001b[5m\u001b[4m\u001b[33mWARNING\u001b[0m - \"FileClient\" will be deprecated in future. Please use io functions in https://mmengine.readthedocs.io/en/latest/api/fileio.html#file-io\n",
      "07/11 00:49:53 - mmengine - \u001b[5m\u001b[4m\u001b[33mWARNING\u001b[0m - \"HardDiskBackend\" is the alias of \"LocalBackend\" and the former will be deprecated in future.\n"
     ]
    },
    {
     "name": "stderr",
     "output_type": "stream",
     "text": [
      "100%|██████████| 1/1 [00:04<00:00,  4.42s/it]\n"
     ]
    },
    {
     "name": "stdout",
     "output_type": "stream",
     "text": [
      "2024-07-11 00:49:57 Test INFO: Testing Over...\n",
      "\n",
      "2024-07-11 00:49:57 Test INFO: Testing Over...\n",
      "\n",
      "2024-07-11 00:49:59 Test INFO: Video duration of data/thumos-14/raw_data/video/video_validation_0000932.mp4: 113.00s\n",
      "2024-07-11 00:49:59 Test INFO: Video duration of data/thumos-14/raw_data/video/video_validation_0000932.mp4: 113.00s\n",
      "*********************video key: video_validation_0000932\n",
      "2024-07-11 00:49:59 Test INFO: Using Automatic Mixed Precision...\n",
      "2024-07-11 00:49:59 Test INFO: Using Automatic Mixed Precision...\n",
      "-1 {'subset': 'validation', 'frame': 3390, 'duration': 113.0, 'annotations': []}\n",
      "2024-07-11 00:49:59 Test INFO: validation subset: 1 videos, truncated as 2 windows.\n",
      "2024-07-11 00:49:59 Test INFO: validation subset: 1 videos, truncated as 2 windows.\n",
      "2024-07-11 00:49:59 Test INFO: Testing Starts...\n",
      "\n",
      "2024-07-11 00:49:59 Test INFO: Testing Starts...\n",
      "\n"
     ]
    },
    {
     "name": "stderr",
     "output_type": "stream",
     "text": [
      "  0%|          | 0/1 [00:00<?, ?it/s]"
     ]
    },
    {
     "name": "stdout",
     "output_type": "stream",
     "text": [
      "07/11 00:49:59 - mmengine - \u001b[5m\u001b[4m\u001b[33mWARNING\u001b[0m - \"FileClient\" will be deprecated in future. Please use io functions in https://mmengine.readthedocs.io/en/latest/api/fileio.html#file-io\n",
      "07/11 00:49:59 - mmengine - \u001b[5m\u001b[4m\u001b[33mWARNING\u001b[0m - \"HardDiskBackend\" is the alias of \"LocalBackend\" and the former will be deprecated in future.\n"
     ]
    },
    {
     "name": "stderr",
     "output_type": "stream",
     "text": [
      "100%|██████████| 1/1 [00:07<00:00,  7.59s/it]"
     ]
    },
    {
     "name": "stdout",
     "output_type": "stream",
     "text": [
      "2024-07-11 00:50:06 Test INFO: Testing Over...\n",
      "\n",
      "2024-07-11 00:50:06 Test INFO: Testing Over...\n",
      "\n"
     ]
    },
    {
     "name": "stderr",
     "output_type": "stream",
     "text": [
      "\n"
     ]
    },
    {
     "name": "stdout",
     "output_type": "stream",
     "text": [
      "2024-07-11 00:50:11 Test INFO: Video duration of data/thumos-14/raw_data/video/video_test_0000004.mp4: 33.73s\n",
      "2024-07-11 00:50:11 Test INFO: Video duration of data/thumos-14/raw_data/video/video_test_0000004.mp4: 33.73s\n",
      "*********************video key: video_test_0000004\n",
      "2024-07-11 00:50:11 Test INFO: Using Automatic Mixed Precision...\n",
      "2024-07-11 00:50:11 Test INFO: Using Automatic Mixed Precision...\n",
      "-1 {'subset': 'validation', 'frame': 1012, 'duration': 33.733333333333334, 'annotations': []}\n",
      "2024-07-11 00:50:11 Test INFO: validation subset: 1 videos, truncated as 1 windows.\n",
      "2024-07-11 00:50:11 Test INFO: validation subset: 1 videos, truncated as 1 windows.\n",
      "2024-07-11 00:50:11 Test INFO: Testing Starts...\n",
      "\n",
      "2024-07-11 00:50:11 Test INFO: Testing Starts...\n",
      "\n"
     ]
    },
    {
     "name": "stderr",
     "output_type": "stream",
     "text": [
      "  0%|          | 0/1 [00:00<?, ?it/s]"
     ]
    },
    {
     "name": "stdout",
     "output_type": "stream",
     "text": [
      "07/11 00:50:11 - mmengine - \u001b[5m\u001b[4m\u001b[33mWARNING\u001b[0m - \"FileClient\" will be deprecated in future. Please use io functions in https://mmengine.readthedocs.io/en/latest/api/fileio.html#file-io\n",
      "07/11 00:50:11 - mmengine - \u001b[5m\u001b[4m\u001b[33mWARNING\u001b[0m - \"HardDiskBackend\" is the alias of \"LocalBackend\" and the former will be deprecated in future.\n"
     ]
    },
    {
     "name": "stderr",
     "output_type": "stream",
     "text": [
      "100%|██████████| 1/1 [00:02<00:00,  2.98s/it]"
     ]
    },
    {
     "name": "stdout",
     "output_type": "stream",
     "text": [
      "2024-07-11 00:50:14 Test INFO: Testing Over...\n",
      "\n",
      "2024-07-11 00:50:14 Test INFO: Testing Over...\n",
      "\n"
     ]
    },
    {
     "name": "stderr",
     "output_type": "stream",
     "text": [
      "\n"
     ]
    },
    {
     "name": "stdout",
     "output_type": "stream",
     "text": [
      "2024-07-11 00:50:16 Test INFO: Video duration of data/thumos-14/raw_data/video/video_test_0000045.mp4: 235.33s\n",
      "2024-07-11 00:50:16 Test INFO: Video duration of data/thumos-14/raw_data/video/video_test_0000045.mp4: 235.33s\n",
      "*********************video key: video_test_0000045\n",
      "2024-07-11 00:50:16 Test INFO: Using Automatic Mixed Precision...\n",
      "2024-07-11 00:50:16 Test INFO: Using Automatic Mixed Precision...\n",
      "-1 {'subset': 'validation', 'frame': 7060, 'duration': 235.33333333333334, 'annotations': []}\n",
      "2024-07-11 00:50:16 Test INFO: validation subset: 1 videos, truncated as 4 windows.\n",
      "2024-07-11 00:50:16 Test INFO: validation subset: 1 videos, truncated as 4 windows.\n",
      "2024-07-11 00:50:16 Test INFO: Testing Starts...\n",
      "\n",
      "2024-07-11 00:50:16 Test INFO: Testing Starts...\n",
      "\n"
     ]
    },
    {
     "name": "stderr",
     "output_type": "stream",
     "text": [
      "  0%|          | 0/2 [00:00<?, ?it/s]"
     ]
    },
    {
     "name": "stdout",
     "output_type": "stream",
     "text": [
      "07/11 00:50:16 - mmengine - \u001b[5m\u001b[4m\u001b[33mWARNING\u001b[0m - \"FileClient\" will be deprecated in future. Please use io functions in https://mmengine.readthedocs.io/en/latest/api/fileio.html#file-io\n",
      "07/11 00:50:16 - mmengine - \u001b[5m\u001b[4m\u001b[33mWARNING\u001b[0m - \"HardDiskBackend\" is the alias of \"LocalBackend\" and the former will be deprecated in future.\n",
      "07/11 00:50:16 - mmengine - \u001b[5m\u001b[4m\u001b[33mWARNING\u001b[0m - \"FileClient\" will be deprecated in future. Please use io functions in https://mmengine.readthedocs.io/en/latest/api/fileio.html#file-io\n",
      "07/11 00:50:16 - mmengine - \u001b[5m\u001b[4m\u001b[33mWARNING\u001b[0m - \"HardDiskBackend\" is the alias of \"LocalBackend\" and the former will be deprecated in future.\n"
     ]
    },
    {
     "name": "stderr",
     "output_type": "stream",
     "text": [
      "100%|██████████| 2/2 [00:10<00:00,  5.24s/it]\n"
     ]
    },
    {
     "name": "stdout",
     "output_type": "stream",
     "text": [
      "2024-07-11 00:50:27 Test INFO: Testing Over...\n",
      "\n",
      "2024-07-11 00:50:27 Test INFO: Testing Over...\n",
      "\n",
      "2024-07-11 00:50:36 Test INFO: Video duration of data/thumos-14/raw_data/video/video_test_0000131.mp4: 130.63s\n",
      "2024-07-11 00:50:36 Test INFO: Video duration of data/thumos-14/raw_data/video/video_test_0000131.mp4: 130.63s\n",
      "*********************video key: video_test_0000131\n",
      "2024-07-11 00:50:36 Test INFO: Using Automatic Mixed Precision...\n",
      "2024-07-11 00:50:36 Test INFO: Using Automatic Mixed Precision...\n",
      "-1 {'subset': 'validation', 'frame': 3919, 'duration': 130.63333333333333, 'annotations': []}\n",
      "2024-07-11 00:50:36 Test INFO: validation subset: 1 videos, truncated as 2 windows.\n",
      "2024-07-11 00:50:36 Test INFO: validation subset: 1 videos, truncated as 2 windows.\n",
      "2024-07-11 00:50:36 Test INFO: Testing Starts...\n",
      "\n",
      "2024-07-11 00:50:36 Test INFO: Testing Starts...\n",
      "\n"
     ]
    },
    {
     "name": "stderr",
     "output_type": "stream",
     "text": [
      "  0%|          | 0/1 [00:00<?, ?it/s]"
     ]
    },
    {
     "name": "stdout",
     "output_type": "stream",
     "text": [
      "07/11 00:50:37 - mmengine - \u001b[5m\u001b[4m\u001b[33mWARNING\u001b[0m - \"FileClient\" will be deprecated in future. Please use io functions in https://mmengine.readthedocs.io/en/latest/api/fileio.html#file-io\n",
      "07/11 00:50:37 - mmengine - \u001b[5m\u001b[4m\u001b[33mWARNING\u001b[0m - \"HardDiskBackend\" is the alias of \"LocalBackend\" and the former will be deprecated in future.\n"
     ]
    },
    {
     "name": "stderr",
     "output_type": "stream",
     "text": [
      "100%|██████████| 1/1 [00:08<00:00,  8.81s/it]\n"
     ]
    },
    {
     "name": "stdout",
     "output_type": "stream",
     "text": [
      "2024-07-11 00:50:45 Test INFO: Testing Over...\n",
      "\n",
      "2024-07-11 00:50:45 Test INFO: Testing Over...\n",
      "\n",
      "2024-07-11 00:50:48 Test INFO: Video duration of data/thumos-14/raw_data/video/video_test_0000173.mp4: 191.53s\n",
      "2024-07-11 00:50:48 Test INFO: Video duration of data/thumos-14/raw_data/video/video_test_0000173.mp4: 191.53s\n",
      "*********************video key: video_test_0000173\n",
      "2024-07-11 00:50:48 Test INFO: Using Automatic Mixed Precision...\n",
      "2024-07-11 00:50:48 Test INFO: Using Automatic Mixed Precision...\n",
      "-1 {'subset': 'validation', 'frame': 5746, 'duration': 191.53333333333333, 'annotations': []}\n",
      "2024-07-11 00:50:48 Test INFO: validation subset: 1 videos, truncated as 3 windows.\n",
      "2024-07-11 00:50:48 Test INFO: validation subset: 1 videos, truncated as 3 windows.\n",
      "2024-07-11 00:50:48 Test INFO: Testing Starts...\n",
      "\n",
      "2024-07-11 00:50:48 Test INFO: Testing Starts...\n",
      "\n"
     ]
    },
    {
     "name": "stderr",
     "output_type": "stream",
     "text": [
      "  0%|          | 0/2 [00:00<?, ?it/s]"
     ]
    },
    {
     "name": "stdout",
     "output_type": "stream",
     "text": [
      "07/11 00:50:48 - mmengine - \u001b[5m\u001b[4m\u001b[33mWARNING\u001b[0m - \"FileClient\" will be deprecated in future. Please use io functions in https://mmengine.readthedocs.io/en/latest/api/fileio.html#file-io\n",
      "07/11 00:50:48 - mmengine - \u001b[5m\u001b[4m\u001b[33mWARNING\u001b[0m - \"HardDiskBackend\" is the alias of \"LocalBackend\" and the former will be deprecated in future.\n",
      "07/11 00:50:48 - mmengine - \u001b[5m\u001b[4m\u001b[33mWARNING\u001b[0m - \"FileClient\" will be deprecated in future. Please use io functions in https://mmengine.readthedocs.io/en/latest/api/fileio.html#file-io\n",
      "07/11 00:50:48 - mmengine - \u001b[5m\u001b[4m\u001b[33mWARNING\u001b[0m - \"HardDiskBackend\" is the alias of \"LocalBackend\" and the former will be deprecated in future.\n"
     ]
    },
    {
     "name": "stderr",
     "output_type": "stream",
     "text": [
      "100%|██████████| 2/2 [00:07<00:00,  3.70s/it]\n"
     ]
    },
    {
     "name": "stdout",
     "output_type": "stream",
     "text": [
      "2024-07-11 00:50:56 Test INFO: Testing Over...\n",
      "\n",
      "2024-07-11 00:50:56 Test INFO: Testing Over...\n",
      "\n",
      "2024-07-11 00:50:59 Test INFO: Video duration of data/thumos-14/raw_data/video/video_test_0000273.mp4: 128.66s\n",
      "2024-07-11 00:50:59 Test INFO: Video duration of data/thumos-14/raw_data/video/video_test_0000273.mp4: 128.66s\n",
      "*********************video key: video_test_0000273\n",
      "2024-07-11 00:50:59 Test INFO: Using Automatic Mixed Precision...\n",
      "2024-07-11 00:50:59 Test INFO: Using Automatic Mixed Precision...\n",
      "-1 {'subset': 'validation', 'frame': 3856, 'duration': 128.66186666666667, 'annotations': []}\n",
      "2024-07-11 00:50:59 Test INFO: validation subset: 1 videos, truncated as 2 windows.\n",
      "2024-07-11 00:50:59 Test INFO: validation subset: 1 videos, truncated as 2 windows.\n",
      "2024-07-11 00:50:59 Test INFO: Testing Starts...\n",
      "\n",
      "2024-07-11 00:50:59 Test INFO: Testing Starts...\n",
      "\n"
     ]
    },
    {
     "name": "stderr",
     "output_type": "stream",
     "text": [
      "  0%|          | 0/1 [00:00<?, ?it/s]"
     ]
    },
    {
     "name": "stdout",
     "output_type": "stream",
     "text": [
      "07/11 00:51:00 - mmengine - \u001b[5m\u001b[4m\u001b[33mWARNING\u001b[0m - \"FileClient\" will be deprecated in future. Please use io functions in https://mmengine.readthedocs.io/en/latest/api/fileio.html#file-io\n",
      "07/11 00:51:00 - mmengine - \u001b[5m\u001b[4m\u001b[33mWARNING\u001b[0m - \"HardDiskBackend\" is the alias of \"LocalBackend\" and the former will be deprecated in future.\n"
     ]
    },
    {
     "name": "stderr",
     "output_type": "stream",
     "text": [
      "100%|██████████| 1/1 [00:05<00:00,  5.58s/it]\n"
     ]
    },
    {
     "name": "stdout",
     "output_type": "stream",
     "text": [
      "2024-07-11 00:51:05 Test INFO: Testing Over...\n",
      "\n",
      "2024-07-11 00:51:05 Test INFO: Testing Over...\n",
      "\n",
      "2024-07-11 00:51:08 Test INFO: Video duration of data/thumos-14/raw_data/video/video_test_0000278.mp4: 215.17s\n",
      "2024-07-11 00:51:08 Test INFO: Video duration of data/thumos-14/raw_data/video/video_test_0000278.mp4: 215.17s\n",
      "*********************video key: video_test_0000278\n",
      "2024-07-11 00:51:08 Test INFO: Using Automatic Mixed Precision...\n",
      "2024-07-11 00:51:08 Test INFO: Using Automatic Mixed Precision...\n",
      "-1 {'subset': 'validation', 'frame': 6455, 'duration': 215.16666666666666, 'annotations': []}\n",
      "2024-07-11 00:51:08 Test INFO: validation subset: 1 videos, truncated as 4 windows.\n",
      "2024-07-11 00:51:08 Test INFO: validation subset: 1 videos, truncated as 4 windows.\n",
      "2024-07-11 00:51:08 Test INFO: Testing Starts...\n",
      "\n",
      "2024-07-11 00:51:08 Test INFO: Testing Starts...\n",
      "\n"
     ]
    },
    {
     "name": "stderr",
     "output_type": "stream",
     "text": [
      "  0%|          | 0/2 [00:00<?, ?it/s]"
     ]
    },
    {
     "name": "stdout",
     "output_type": "stream",
     "text": [
      "07/11 00:51:08 - mmengine - \u001b[5m\u001b[4m\u001b[33mWARNING\u001b[0m - \"FileClient\" will be deprecated in future. Please use io functions in https://mmengine.readthedocs.io/en/latest/api/fileio.html#file-io\n",
      "07/11 00:51:08 - mmengine - \u001b[5m\u001b[4m\u001b[33mWARNING\u001b[0m - \"HardDiskBackend\" is the alias of \"LocalBackend\" and the former will be deprecated in future.\n",
      "07/11 00:51:08 - mmengine - \u001b[5m\u001b[4m\u001b[33mWARNING\u001b[0m - \"FileClient\" will be deprecated in future. Please use io functions in https://mmengine.readthedocs.io/en/latest/api/fileio.html#file-io\n",
      "07/11 00:51:08 - mmengine - \u001b[5m\u001b[4m\u001b[33mWARNING\u001b[0m - \"HardDiskBackend\" is the alias of \"LocalBackend\" and the former will be deprecated in future.\n"
     ]
    },
    {
     "name": "stderr",
     "output_type": "stream",
     "text": [
      "100%|██████████| 2/2 [00:09<00:00,  4.59s/it]\n"
     ]
    },
    {
     "name": "stdout",
     "output_type": "stream",
     "text": [
      "2024-07-11 00:51:17 Test INFO: Testing Over...\n",
      "\n",
      "2024-07-11 00:51:17 Test INFO: Testing Over...\n",
      "\n",
      "2024-07-11 00:51:28 Test INFO: Video duration of data/thumos-14/raw_data/video/video_test_0000285.mp4: 192.90s\n",
      "2024-07-11 00:51:28 Test INFO: Video duration of data/thumos-14/raw_data/video/video_test_0000285.mp4: 192.90s\n",
      "*********************video key: video_test_0000285\n",
      "2024-07-11 00:51:28 Test INFO: Using Automatic Mixed Precision...\n",
      "2024-07-11 00:51:28 Test INFO: Using Automatic Mixed Precision...\n",
      "-1 {'subset': 'validation', 'frame': 5787, 'duration': 192.9, 'annotations': []}\n",
      "2024-07-11 00:51:28 Test INFO: validation subset: 1 videos, truncated as 3 windows.\n",
      "2024-07-11 00:51:28 Test INFO: validation subset: 1 videos, truncated as 3 windows.\n",
      "2024-07-11 00:51:28 Test INFO: Testing Starts...\n",
      "\n",
      "2024-07-11 00:51:28 Test INFO: Testing Starts...\n",
      "\n"
     ]
    },
    {
     "name": "stderr",
     "output_type": "stream",
     "text": [
      "  0%|          | 0/2 [00:00<?, ?it/s]"
     ]
    },
    {
     "name": "stdout",
     "output_type": "stream",
     "text": [
      "07/11 00:51:29 - mmengine - \u001b[5m\u001b[4m\u001b[33mWARNING\u001b[0m - \"FileClient\" will be deprecated in future. Please use io functions in https://mmengine.readthedocs.io/en/latest/api/fileio.html#file-io\n",
      "07/11 00:51:29 - mmengine - \u001b[5m\u001b[4m\u001b[33mWARNING\u001b[0m - \"HardDiskBackend\" is the alias of \"LocalBackend\" and the former will be deprecated in future.\n",
      "07/11 00:51:29 - mmengine - \u001b[5m\u001b[4m\u001b[33mWARNING\u001b[0m - \"FileClient\" will be deprecated in future. Please use io functions in https://mmengine.readthedocs.io/en/latest/api/fileio.html#file-io\n",
      "07/11 00:51:29 - mmengine - \u001b[5m\u001b[4m\u001b[33mWARNING\u001b[0m - \"HardDiskBackend\" is the alias of \"LocalBackend\" and the former will be deprecated in future.\n"
     ]
    },
    {
     "name": "stderr",
     "output_type": "stream",
     "text": [
      "100%|██████████| 2/2 [00:13<00:00,  6.87s/it]"
     ]
    },
    {
     "name": "stdout",
     "output_type": "stream",
     "text": [
      "2024-07-11 00:51:42 Test INFO: Testing Over...\n",
      "\n",
      "2024-07-11 00:51:42 Test INFO: Testing Over...\n",
      "\n"
     ]
    },
    {
     "name": "stderr",
     "output_type": "stream",
     "text": [
      "\n"
     ]
    },
    {
     "name": "stdout",
     "output_type": "stream",
     "text": [
      "2024-07-11 00:51:49 Test INFO: Video duration of data/thumos-14/raw_data/video/video_test_0000353.mp4: 72.17s\n",
      "2024-07-11 00:51:49 Test INFO: Video duration of data/thumos-14/raw_data/video/video_test_0000353.mp4: 72.17s\n",
      "*********************video key: video_test_0000353\n",
      "2024-07-11 00:51:49 Test INFO: Using Automatic Mixed Precision...\n",
      "2024-07-11 00:51:49 Test INFO: Using Automatic Mixed Precision...\n",
      "-1 {'subset': 'validation', 'frame': 2165, 'duration': 72.16666666666667, 'annotations': []}\n",
      "2024-07-11 00:51:49 Test INFO: validation subset: 1 videos, truncated as 1 windows.\n",
      "2024-07-11 00:51:49 Test INFO: validation subset: 1 videos, truncated as 1 windows.\n",
      "2024-07-11 00:51:49 Test INFO: Testing Starts...\n",
      "\n",
      "2024-07-11 00:51:49 Test INFO: Testing Starts...\n",
      "\n"
     ]
    },
    {
     "name": "stderr",
     "output_type": "stream",
     "text": [
      "  0%|          | 0/1 [00:00<?, ?it/s]"
     ]
    },
    {
     "name": "stdout",
     "output_type": "stream",
     "text": [
      "07/11 00:51:49 - mmengine - \u001b[5m\u001b[4m\u001b[33mWARNING\u001b[0m - \"FileClient\" will be deprecated in future. Please use io functions in https://mmengine.readthedocs.io/en/latest/api/fileio.html#file-io\n",
      "07/11 00:51:49 - mmengine - \u001b[5m\u001b[4m\u001b[33mWARNING\u001b[0m - \"HardDiskBackend\" is the alias of \"LocalBackend\" and the former will be deprecated in future.\n"
     ]
    },
    {
     "name": "stderr",
     "output_type": "stream",
     "text": [
      "100%|██████████| 1/1 [00:03<00:00,  3.18s/it]"
     ]
    },
    {
     "name": "stdout",
     "output_type": "stream",
     "text": [
      "2024-07-11 00:51:52 Test INFO: Testing Over...\n",
      "\n",
      "2024-07-11 00:51:52 Test INFO: Testing Over...\n",
      "\n"
     ]
    },
    {
     "name": "stderr",
     "output_type": "stream",
     "text": [
      "\n"
     ]
    },
    {
     "name": "stdout",
     "output_type": "stream",
     "text": [
      "2024-07-11 00:51:55 Test INFO: Video duration of data/thumos-14/raw_data/video/video_test_0000357.mp4: 126.83s\n",
      "2024-07-11 00:51:55 Test INFO: Video duration of data/thumos-14/raw_data/video/video_test_0000357.mp4: 126.83s\n",
      "*********************video key: video_test_0000357\n",
      "2024-07-11 00:51:55 Test INFO: Using Automatic Mixed Precision...\n",
      "2024-07-11 00:51:55 Test INFO: Using Automatic Mixed Precision...\n",
      "-1 {'subset': 'validation', 'frame': 3805, 'duration': 126.83333333333333, 'annotations': []}\n",
      "2024-07-11 00:51:55 Test INFO: validation subset: 1 videos, truncated as 2 windows.\n",
      "2024-07-11 00:51:55 Test INFO: validation subset: 1 videos, truncated as 2 windows.\n",
      "2024-07-11 00:51:55 Test INFO: Testing Starts...\n",
      "\n",
      "2024-07-11 00:51:55 Test INFO: Testing Starts...\n",
      "\n"
     ]
    },
    {
     "name": "stderr",
     "output_type": "stream",
     "text": [
      "  0%|          | 0/1 [00:00<?, ?it/s]"
     ]
    },
    {
     "name": "stdout",
     "output_type": "stream",
     "text": [
      "07/11 00:51:56 - mmengine - \u001b[5m\u001b[4m\u001b[33mWARNING\u001b[0m - \"FileClient\" will be deprecated in future. Please use io functions in https://mmengine.readthedocs.io/en/latest/api/fileio.html#file-io\n",
      "07/11 00:51:56 - mmengine - \u001b[5m\u001b[4m\u001b[33mWARNING\u001b[0m - \"HardDiskBackend\" is the alias of \"LocalBackend\" and the former will be deprecated in future.\n"
     ]
    },
    {
     "name": "stderr",
     "output_type": "stream",
     "text": [
      "100%|██████████| 1/1 [00:08<00:00,  8.55s/it]"
     ]
    },
    {
     "name": "stdout",
     "output_type": "stream",
     "text": [
      "2024-07-11 00:52:04 Test INFO: Testing Over...\n",
      "\n",
      "2024-07-11 00:52:04 Test INFO: Testing Over...\n",
      "\n"
     ]
    },
    {
     "name": "stderr",
     "output_type": "stream",
     "text": [
      "\n"
     ]
    },
    {
     "name": "stdout",
     "output_type": "stream",
     "text": [
      "2024-07-11 00:52:07 Test INFO: Video duration of data/thumos-14/raw_data/video/video_test_0000392.mp4: 110.40s\n",
      "2024-07-11 00:52:07 Test INFO: Video duration of data/thumos-14/raw_data/video/video_test_0000392.mp4: 110.40s\n",
      "*********************video key: video_test_0000392\n",
      "2024-07-11 00:52:07 Test INFO: Using Automatic Mixed Precision...\n",
      "2024-07-11 00:52:07 Test INFO: Using Automatic Mixed Precision...\n",
      "-1 {'subset': 'validation', 'frame': 3312, 'duration': 110.4, 'annotations': []}\n",
      "2024-07-11 00:52:07 Test INFO: validation subset: 1 videos, truncated as 2 windows.\n",
      "2024-07-11 00:52:07 Test INFO: validation subset: 1 videos, truncated as 2 windows.\n",
      "2024-07-11 00:52:07 Test INFO: Testing Starts...\n",
      "\n",
      "2024-07-11 00:52:07 Test INFO: Testing Starts...\n",
      "\n"
     ]
    },
    {
     "name": "stderr",
     "output_type": "stream",
     "text": [
      "  0%|          | 0/1 [00:00<?, ?it/s]"
     ]
    },
    {
     "name": "stdout",
     "output_type": "stream",
     "text": [
      "07/11 00:52:07 - mmengine - \u001b[5m\u001b[4m\u001b[33mWARNING\u001b[0m - \"FileClient\" will be deprecated in future. Please use io functions in https://mmengine.readthedocs.io/en/latest/api/fileio.html#file-io\n",
      "07/11 00:52:07 - mmengine - \u001b[5m\u001b[4m\u001b[33mWARNING\u001b[0m - \"HardDiskBackend\" is the alias of \"LocalBackend\" and the former will be deprecated in future.\n"
     ]
    },
    {
     "name": "stderr",
     "output_type": "stream",
     "text": [
      "100%|██████████| 1/1 [00:05<00:00,  5.46s/it]\n"
     ]
    },
    {
     "name": "stdout",
     "output_type": "stream",
     "text": [
      "2024-07-11 00:52:12 Test INFO: Testing Over...\n",
      "\n",
      "2024-07-11 00:52:12 Test INFO: Testing Over...\n",
      "\n",
      "2024-07-11 00:52:15 Test INFO: Video duration of data/thumos-14/raw_data/video/video_test_0000437.mp4: 204.43s\n",
      "2024-07-11 00:52:15 Test INFO: Video duration of data/thumos-14/raw_data/video/video_test_0000437.mp4: 204.43s\n",
      "*********************video key: video_test_0000437\n",
      "2024-07-11 00:52:15 Test INFO: Using Automatic Mixed Precision...\n",
      "2024-07-11 00:52:15 Test INFO: Using Automatic Mixed Precision...\n",
      "-1 {'subset': 'validation', 'frame': 6133, 'duration': 204.43333333333334, 'annotations': []}\n",
      "2024-07-11 00:52:15 Test INFO: validation subset: 1 videos, truncated as 3 windows.\n",
      "2024-07-11 00:52:15 Test INFO: validation subset: 1 videos, truncated as 3 windows.\n",
      "2024-07-11 00:52:15 Test INFO: Testing Starts...\n",
      "\n",
      "2024-07-11 00:52:15 Test INFO: Testing Starts...\n",
      "\n"
     ]
    },
    {
     "name": "stderr",
     "output_type": "stream",
     "text": [
      "  0%|          | 0/2 [00:00<?, ?it/s]"
     ]
    },
    {
     "name": "stdout",
     "output_type": "stream",
     "text": [
      "07/11 00:52:16 - mmengine - \u001b[5m\u001b[4m\u001b[33mWARNING\u001b[0m - \"FileClient\" will be deprecated in future. Please use io functions in https://mmengine.readthedocs.io/en/latest/api/fileio.html#file-io\n",
      "07/11 00:52:16 - mmengine - \u001b[5m\u001b[4m\u001b[33mWARNING\u001b[0m - \"HardDiskBackend\" is the alias of \"LocalBackend\" and the former will be deprecated in future.\n",
      "07/11 00:52:16 - mmengine - \u001b[5m\u001b[4m\u001b[33mWARNING\u001b[0m - \"FileClient\" will be deprecated in future. Please use io functions in https://mmengine.readthedocs.io/en/latest/api/fileio.html#file-io\n",
      "07/11 00:52:16 - mmengine - \u001b[5m\u001b[4m\u001b[33mWARNING\u001b[0m - \"HardDiskBackend\" is the alias of \"LocalBackend\" and the former will be deprecated in future.\n"
     ]
    },
    {
     "name": "stderr",
     "output_type": "stream",
     "text": [
      "100%|██████████| 2/2 [00:07<00:00,  3.71s/it]\n"
     ]
    },
    {
     "name": "stdout",
     "output_type": "stream",
     "text": [
      "2024-07-11 00:52:23 Test INFO: Testing Over...\n",
      "\n",
      "2024-07-11 00:52:23 Test INFO: Testing Over...\n",
      "\n",
      "2024-07-11 00:52:26 Test INFO: Video duration of data/thumos-14/raw_data/video/video_test_0000549.mp4: 71.60s\n",
      "2024-07-11 00:52:26 Test INFO: Video duration of data/thumos-14/raw_data/video/video_test_0000549.mp4: 71.60s\n",
      "*********************video key: video_test_0000549\n",
      "2024-07-11 00:52:26 Test INFO: Using Automatic Mixed Precision...\n",
      "2024-07-11 00:52:26 Test INFO: Using Automatic Mixed Precision...\n",
      "-1 {'subset': 'validation', 'frame': 2148, 'duration': 71.6, 'annotations': []}\n",
      "2024-07-11 00:52:26 Test INFO: validation subset: 1 videos, truncated as 1 windows.\n",
      "2024-07-11 00:52:26 Test INFO: validation subset: 1 videos, truncated as 1 windows.\n",
      "2024-07-11 00:52:26 Test INFO: Testing Starts...\n",
      "\n",
      "2024-07-11 00:52:26 Test INFO: Testing Starts...\n",
      "\n"
     ]
    },
    {
     "name": "stderr",
     "output_type": "stream",
     "text": [
      "  0%|          | 0/1 [00:00<?, ?it/s]"
     ]
    },
    {
     "name": "stdout",
     "output_type": "stream",
     "text": [
      "07/11 00:52:26 - mmengine - \u001b[5m\u001b[4m\u001b[33mWARNING\u001b[0m - \"FileClient\" will be deprecated in future. Please use io functions in https://mmengine.readthedocs.io/en/latest/api/fileio.html#file-io\n",
      "07/11 00:52:26 - mmengine - \u001b[5m\u001b[4m\u001b[33mWARNING\u001b[0m - \"HardDiskBackend\" is the alias of \"LocalBackend\" and the former will be deprecated in future.\n"
     ]
    },
    {
     "name": "stderr",
     "output_type": "stream",
     "text": [
      "100%|██████████| 1/1 [00:02<00:00,  2.09s/it]\n"
     ]
    },
    {
     "name": "stdout",
     "output_type": "stream",
     "text": [
      "2024-07-11 00:52:28 Test INFO: Testing Over...\n",
      "\n",
      "2024-07-11 00:52:28 Test INFO: Testing Over...\n",
      "\n"
     ]
    }
   ],
   "source": [
    "for key, _ in example_videos:\n",
    "    video_file = f\"data/thumos-14/raw_data/video/{key}.mp4\"\n",
    "    \n",
    "    prepare_input(cfg, logger, video_file, video_dir, \"validation\")\n",
    "    result = inference(model, cfg, logger)\n",
    "    \n",
    "    processed_result = filter_segments(result)\n",
    "    gt_result = gt_data['database'][key]['annotations']\n",
    "    \n",
    "    action_labels = list(set(segment['label'] for segment in processed_result).union(set(ann['label'] for ann in gt_result)))\n",
    "    \n",
    "    video = VideoReader(video_file)\n",
    "    action_bar = generate_action_bar(processed_result, action_labels, video.frame_cnt / video.fps, (video.width, 20))\n",
    "    gt_action_bar = generate_action_bar(gt_result, action_labels, video.frame_cnt / video.fps, (video.width, 20))\n",
    "    \n",
    "    import cv2\n",
    "    writer = cv2.VideoWriter(f\"example/output_nogt_{key}.mp4\", cv2.VideoWriter_fourcc(*'mp4v'), video.fps, (video.width, video.height + 20))\n",
    "    for i, frame in enumerate(video):\n",
    "        new_frame = cv2.vconcat([frame, action_bar])\n",
    "        \n",
    "        t = i / video.fps\n",
    "        gt_label = next((ann['label'] for ann in gt_result if ann['segment'][0] <= t and ann['segment'][1] >= t), None)\n",
    "        pred_label = next((segment['label'] for segment in processed_result if segment['segment'][0] <= t and segment['segment'][1] >= t), None)\n",
    "        \n",
    "        # cv2.putText(new_frame, f\"GT: {gt_label}\", (10, video.height // 4), cv2.FONT_HERSHEY_SIMPLEX, 0.5, (255, 255, 255), 1)\n",
    "        cv2.putText(new_frame, f\"Pred: {pred_label}\", (10, video.height // 4 + 20), cv2.FONT_HERSHEY_SIMPLEX, 0.5, (255, 255, 255), 1)\n",
    "        \n",
    "        progress = int(i / video.frame_cnt * video.width)\n",
    "        cv2.line(new_frame, (progress, new_frame.shape[0] - 20), (progress, new_frame.shape[0]), (255, 255, 0), 2)\n",
    "        \n",
    "        writer.write(new_frame)\n",
    "    writer.release()"
   ]
  },
  {
   "cell_type": "markdown",
   "metadata": {},
   "source": [
    "## B11数据验证"
   ]
  },
  {
   "cell_type": "code",
   "execution_count": 7,
   "metadata": {},
   "outputs": [],
   "source": [
    "import json\n",
    "\n",
    "ground_truth_path = \"data/lean_analysis/annotations/lean_analysis_anno.json\"\n",
    "\n",
    "with open(ground_truth_path) as f:\n",
    "    gt_data = json.load(f)"
   ]
  },
  {
   "cell_type": "code",
   "execution_count": 8,
   "metadata": {},
   "outputs": [
    {
     "data": {
      "text/plain": [
       "[('旋转产品', 90),\n",
       " ('取扫码枪并扫码', 24),\n",
       " ('检查产品', 22),\n",
       " ('检查外观', 15),\n",
       " ('打螺丝', 12),\n",
       " ('装盖子', 12),\n",
       " ('将产品放入货柜', 12),\n",
       " ('上料', 11),\n",
       " ('产品推入设备', 11),\n",
       " ('从设备取产品', 11),\n",
       " ('取螺丝并打螺丝', 11),\n",
       " ('检查螺丝', 8),\n",
       " ('取透明罩比对产品放回透明罩', 8),\n",
       " ('贴标签', 1)]"
      ]
     },
     "execution_count": 8,
     "metadata": {},
     "output_type": "execute_result"
    }
   ],
   "source": [
    "from collections import defaultdict, Counter\n",
    "\n",
    "action2key = defaultdict(list)\n",
    "\n",
    "action_counter = Counter([ann['label'] for key, gt_rec in gt_data['database'].items() for ann in gt_rec['annotations']])\n",
    "\n",
    "for key, gt_rec in gt_data['database'].items():\n",
    "    for ann in gt_rec['annotations']:\n",
    "        action2key[ann['label']].append(key)\n",
    "        \n",
    "action_counter.most_common(20)"
   ]
  },
  {
   "cell_type": "code",
   "execution_count": 9,
   "metadata": {},
   "outputs": [],
   "source": [
    "# 找那种常见动作最多的视频，用来说明可以跨场景学习相似动作\n",
    "\n",
    "most_common_actions = set(action for action, _ in action_counter.most_common(20))\n",
    "\n",
    "video_most_common_action_count = {}\n",
    "\n",
    "for key, gt_rec in gt_data['database'].items():\n",
    "    video_most_common_action_count[key] = len(set(ann['label'] for ann in gt_rec['annotations']).intersection(most_common_actions))\n",
    "\n",
    "example_videos = list(sorted(video_most_common_action_count.items(), key=lambda x: x[1], reverse=True))[:40]"
   ]
  },
  {
   "cell_type": "code",
   "execution_count": 17,
   "metadata": {},
   "outputs": [
    {
     "name": "stdout",
     "output_type": "stream",
     "text": [
      "2024-07-11 23:06:00 Test INFO: Using torch version: 2.0.1+cu118, CUDA version: 11.8\n",
      "2024-07-11 23:06:00 Test INFO: Using torch version: 2.0.1+cu118, CUDA version: 11.8\n",
      "2024-07-11 23:06:00 Test INFO: Using torch version: 2.0.1+cu118, CUDA version: 11.8\n",
      "2024-07-11 23:06:00 Test INFO: Using torch version: 2.0.1+cu118, CUDA version: 11.8\n"
     ]
    },
    {
     "name": "stdout",
     "output_type": "stream",
     "text": [
      "ViT's param: 86227200, Adapter's params: 4004364, ratio: 4.6%\n",
      "Loads checkpoint by local backend from path: pretrained/vit-base-p16_videomae-k400-pre_16x4x1_kinetics-400_20221013-860a3cd3.pth\n",
      "The model and loaded state dict do not match exactly\n",
      "\n",
      "unexpected key in source state_dict: cls_head.fc_cls.weight, cls_head.fc_cls.bias\n",
      "\n",
      "missing keys in source state_dict: backbone.pos_embed, backbone.blocks.0.adapter.gamma, backbone.blocks.0.adapter.dwconv.weight, backbone.blocks.0.adapter.dwconv.bias, backbone.blocks.0.adapter.conv.weight, backbone.blocks.0.adapter.conv.bias, backbone.blocks.0.adapter.down_proj.weight, backbone.blocks.0.adapter.down_proj.bias, backbone.blocks.0.adapter.up_proj.weight, backbone.blocks.0.adapter.up_proj.bias, backbone.blocks.1.adapter.gamma, backbone.blocks.1.adapter.dwconv.weight, backbone.blocks.1.adapter.dwconv.bias, backbone.blocks.1.adapter.conv.weight, backbone.blocks.1.adapter.conv.bias, backbone.blocks.1.adapter.down_proj.weight, backbone.blocks.1.adapter.down_proj.bias, backbone.blocks.1.adapter.up_proj.weight, backbone.blocks.1.adapter.up_proj.bias, backbone.blocks.2.adapter.gamma, backbone.blocks.2.adapter.dwconv.weight, backbone.blocks.2.adapter.dwconv.bias, backbone.blocks.2.adapter.conv.weight, backbone.blocks.2.adapter.conv.bias, backbone.blocks.2.adapter.down_proj.weight, backbone.blocks.2.adapter.down_proj.bias, backbone.blocks.2.adapter.up_proj.weight, backbone.blocks.2.adapter.up_proj.bias, backbone.blocks.3.adapter.gamma, backbone.blocks.3.adapter.dwconv.weight, backbone.blocks.3.adapter.dwconv.bias, backbone.blocks.3.adapter.conv.weight, backbone.blocks.3.adapter.conv.bias, backbone.blocks.3.adapter.down_proj.weight, backbone.blocks.3.adapter.down_proj.bias, backbone.blocks.3.adapter.up_proj.weight, backbone.blocks.3.adapter.up_proj.bias, backbone.blocks.4.adapter.gamma, backbone.blocks.4.adapter.dwconv.weight, backbone.blocks.4.adapter.dwconv.bias, backbone.blocks.4.adapter.conv.weight, backbone.blocks.4.adapter.conv.bias, backbone.blocks.4.adapter.down_proj.weight, backbone.blocks.4.adapter.down_proj.bias, backbone.blocks.4.adapter.up_proj.weight, backbone.blocks.4.adapter.up_proj.bias, backbone.blocks.5.adapter.gamma, backbone.blocks.5.adapter.dwconv.weight, backbone.blocks.5.adapter.dwconv.bias, backbone.blocks.5.adapter.conv.weight, backbone.blocks.5.adapter.conv.bias, backbone.blocks.5.adapter.down_proj.weight, backbone.blocks.5.adapter.down_proj.bias, backbone.blocks.5.adapter.up_proj.weight, backbone.blocks.5.adapter.up_proj.bias, backbone.blocks.6.adapter.gamma, backbone.blocks.6.adapter.dwconv.weight, backbone.blocks.6.adapter.dwconv.bias, backbone.blocks.6.adapter.conv.weight, backbone.blocks.6.adapter.conv.bias, backbone.blocks.6.adapter.down_proj.weight, backbone.blocks.6.adapter.down_proj.bias, backbone.blocks.6.adapter.up_proj.weight, backbone.blocks.6.adapter.up_proj.bias, backbone.blocks.7.adapter.gamma, backbone.blocks.7.adapter.dwconv.weight, backbone.blocks.7.adapter.dwconv.bias, backbone.blocks.7.adapter.conv.weight, backbone.blocks.7.adapter.conv.bias, backbone.blocks.7.adapter.down_proj.weight, backbone.blocks.7.adapter.down_proj.bias, backbone.blocks.7.adapter.up_proj.weight, backbone.blocks.7.adapter.up_proj.bias, backbone.blocks.8.adapter.gamma, backbone.blocks.8.adapter.dwconv.weight, backbone.blocks.8.adapter.dwconv.bias, backbone.blocks.8.adapter.conv.weight, backbone.blocks.8.adapter.conv.bias, backbone.blocks.8.adapter.down_proj.weight, backbone.blocks.8.adapter.down_proj.bias, backbone.blocks.8.adapter.up_proj.weight, backbone.blocks.8.adapter.up_proj.bias, backbone.blocks.9.adapter.gamma, backbone.blocks.9.adapter.dwconv.weight, backbone.blocks.9.adapter.dwconv.bias, backbone.blocks.9.adapter.conv.weight, backbone.blocks.9.adapter.conv.bias, backbone.blocks.9.adapter.down_proj.weight, backbone.blocks.9.adapter.down_proj.bias, backbone.blocks.9.adapter.up_proj.weight, backbone.blocks.9.adapter.up_proj.bias, backbone.blocks.10.adapter.gamma, backbone.blocks.10.adapter.dwconv.weight, backbone.blocks.10.adapter.dwconv.bias, backbone.blocks.10.adapter.conv.weight, backbone.blocks.10.adapter.conv.bias, backbone.blocks.10.adapter.down_proj.weight, backbone.blocks.10.adapter.down_proj.bias, backbone.blocks.10.adapter.up_proj.weight, backbone.blocks.10.adapter.up_proj.bias, backbone.blocks.11.adapter.gamma, backbone.blocks.11.adapter.dwconv.weight, backbone.blocks.11.adapter.dwconv.bias, backbone.blocks.11.adapter.conv.weight, backbone.blocks.11.adapter.conv.bias, backbone.blocks.11.adapter.down_proj.weight, backbone.blocks.11.adapter.down_proj.bias, backbone.blocks.11.adapter.up_proj.weight, backbone.blocks.11.adapter.up_proj.bias\n",
      "\n",
      "freeze_backbone: False, norm_eval: False\n",
      "2024-07-11 23:06:02 Test INFO: Using Model EMA...\n",
      "2024-07-11 23:06:02 Test INFO: Using Model EMA...\n",
      "2024-07-11 23:06:02 Test INFO: Using Model EMA...\n",
      "2024-07-11 23:06:02 Test INFO: Using Model EMA...\n"
     ]
    }
   ],
   "source": [
    "video_dir = \"data/lean_analysis/raw_data/video/\"\n",
    "configfile = \"configs/adatad/lean_analysis/e2e_lean_videomae_b_768x1_160_adapter.py\"\n",
    "checkpoint_path = \"exps/lean/adatad/e2e_actionformer_videomae_b_768x1_160_adapter/gpu2_id0/checkpoint/epoch_599.pth\"\n",
    "cfg = Config.fromfile(configfile)\n",
    "cfg.post_processing.save_dict = True\n",
    "logger = setup_logger(\"Test\", save_dir=cfg.work_dir, distributed_rank=0)\n",
    "logger.info(f\"Using torch version: {torch.__version__}, CUDA version: {torch.version.cuda}\")\n",
    "\n",
    "model = load_model(cfg, checkpoint_path, logger)"
   ]
  },
  {
   "cell_type": "code",
   "execution_count": 24,
   "metadata": {},
   "outputs": [
    {
     "name": "stdout",
     "output_type": "stream",
     "text": [
      "2024-07-11 23:57:01 Test INFO: Video duration of data/lean_analysis/raw_data/video/record2_20240619094017_000004.mp4: 600.13s\n",
      "2024-07-11 23:57:01 Test INFO: Video duration of data/lean_analysis/raw_data/video/record2_20240619094017_000004.mp4: 600.13s\n",
      "2024-07-11 23:57:01 Test INFO: Video duration of data/lean_analysis/raw_data/video/record2_20240619094017_000004.mp4: 600.13s\n",
      "2024-07-11 23:57:01 Test INFO: Video duration of data/lean_analysis/raw_data/video/record2_20240619094017_000004.mp4: 600.13s\n",
      "*********************video key: record2_20240619094017_000004\n",
      "2024-07-11 23:57:01 Test INFO: Using Automatic Mixed Precision...\n",
      "2024-07-11 23:57:01 Test INFO: Using Automatic Mixed Precision...\n",
      "2024-07-11 23:57:01 Test INFO: Using Automatic Mixed Precision...\n",
      "2024-07-11 23:57:01 Test INFO: Using Automatic Mixed Precision...\n",
      "-1 {'subset': 'training', 'frame': 17977, 'duration': 600.1293333333333, 'annotations': []}\n",
      "2024-07-11 23:57:01 Test INFO: training subset: 1 videos, truncated as 11 windows.\n",
      "2024-07-11 23:57:01 Test INFO: training subset: 1 videos, truncated as 11 windows.\n",
      "2024-07-11 23:57:01 Test INFO: training subset: 1 videos, truncated as 11 windows.\n",
      "2024-07-11 23:57:01 Test INFO: training subset: 1 videos, truncated as 11 windows.\n",
      "2024-07-11 23:57:01 Test INFO: Testing Starts...\n",
      "\n",
      "2024-07-11 23:57:01 Test INFO: Testing Starts...\n",
      "\n",
      "2024-07-11 23:57:01 Test INFO: Testing Starts...\n",
      "\n",
      "2024-07-11 23:57:01 Test INFO: Testing Starts...\n",
      "\n"
     ]
    },
    {
     "name": "stderr",
     "output_type": "stream",
     "text": [
      "  0%|          | 0/6 [00:00<?, ?it/s]"
     ]
    },
    {
     "name": "stdout",
     "output_type": "stream",
     "text": [
      "07/11 23:57:01 - mmengine - \u001b[5m\u001b[4m\u001b[33mWARNING\u001b[0m - \"FileClient\" will be deprecated in future. Please use io functions in https://mmengine.readthedocs.io/en/latest/api/fileio.html#file-io\n",
      "07/11 23:57:01 - mmengine - \u001b[5m\u001b[4m\u001b[33mWARNING\u001b[0m - \"HardDiskBackend\" is the alias of \"LocalBackend\" and the former will be deprecated in future.\n",
      "07/11 23:57:01 - mmengine - \u001b[5m\u001b[4m\u001b[33mWARNING\u001b[0m - \"FileClient\" will be deprecated in future. Please use io functions in https://mmengine.readthedocs.io/en/latest/api/fileio.html#file-io\n",
      "07/11 23:57:01 - mmengine - \u001b[5m\u001b[4m\u001b[33mWARNING\u001b[0m - \"HardDiskBackend\" is the alias of \"LocalBackend\" and the former will be deprecated in future.\n"
     ]
    },
    {
     "name": "stderr",
     "output_type": "stream",
     "text": [
      "100%|██████████| 6/6 [01:20<00:00, 13.44s/it]\n"
     ]
    },
    {
     "name": "stdout",
     "output_type": "stream",
     "text": [
      "2024-07-11 23:58:22 Test INFO: Testing Over...\n",
      "\n",
      "2024-07-11 23:58:22 Test INFO: Testing Over...\n",
      "\n",
      "2024-07-11 23:58:22 Test INFO: Testing Over...\n",
      "\n",
      "2024-07-11 23:58:22 Test INFO: Testing Over...\n",
      "\n",
      "2024-07-12 00:04:10 Test INFO: Video duration of data/lean_analysis/raw_data/video/record2_20240619094017_000005.mp4: 600.13s\n",
      "2024-07-12 00:04:10 Test INFO: Video duration of data/lean_analysis/raw_data/video/record2_20240619094017_000005.mp4: 600.13s\n",
      "2024-07-12 00:04:10 Test INFO: Video duration of data/lean_analysis/raw_data/video/record2_20240619094017_000005.mp4: 600.13s\n",
      "2024-07-12 00:04:10 Test INFO: Video duration of data/lean_analysis/raw_data/video/record2_20240619094017_000005.mp4: 600.13s\n",
      "*********************video key: record2_20240619094017_000005\n",
      "2024-07-12 00:04:10 Test INFO: Using Automatic Mixed Precision...\n",
      "2024-07-12 00:04:10 Test INFO: Using Automatic Mixed Precision...\n",
      "2024-07-12 00:04:10 Test INFO: Using Automatic Mixed Precision...\n",
      "2024-07-12 00:04:10 Test INFO: Using Automatic Mixed Precision...\n",
      "-1 {'subset': 'training', 'frame': 17975, 'duration': 600.1293333333333, 'annotations': []}\n",
      "2024-07-12 00:04:10 Test INFO: training subset: 1 videos, truncated as 11 windows.\n",
      "2024-07-12 00:04:10 Test INFO: training subset: 1 videos, truncated as 11 windows.\n",
      "2024-07-12 00:04:10 Test INFO: training subset: 1 videos, truncated as 11 windows.\n",
      "2024-07-12 00:04:10 Test INFO: training subset: 1 videos, truncated as 11 windows.\n",
      "2024-07-12 00:04:10 Test INFO: Testing Starts...\n",
      "\n",
      "2024-07-12 00:04:10 Test INFO: Testing Starts...\n",
      "\n",
      "2024-07-12 00:04:10 Test INFO: Testing Starts...\n",
      "\n",
      "2024-07-12 00:04:10 Test INFO: Testing Starts...\n",
      "\n"
     ]
    },
    {
     "name": "stderr",
     "output_type": "stream",
     "text": [
      "  0%|          | 0/6 [00:00<?, ?it/s]"
     ]
    },
    {
     "name": "stdout",
     "output_type": "stream",
     "text": [
      "07/12 00:04:10 - mmengine - \u001b[5m\u001b[4m\u001b[33mWARNING\u001b[0m - \"FileClient\" will be deprecated in future. Please use io functions in https://mmengine.readthedocs.io/en/latest/api/fileio.html#file-io\n",
      "07/12 00:04:10 - mmengine - \u001b[5m\u001b[4m\u001b[33mWARNING\u001b[0m - \"FileClient\" will be deprecated in future. Please use io functions in https://mmengine.readthedocs.io/en/latest/api/fileio.html#file-io\n",
      "07/12 00:04:10 - mmengine - \u001b[5m\u001b[4m\u001b[33mWARNING\u001b[0m - \"HardDiskBackend\" is the alias of \"LocalBackend\" and the former will be deprecated in future.\n",
      "07/12 00:04:10 - mmengine - \u001b[5m\u001b[4m\u001b[33mWARNING\u001b[0m - \"HardDiskBackend\" is the alias of \"LocalBackend\" and the former will be deprecated in future.\n"
     ]
    },
    {
     "name": "stderr",
     "output_type": "stream",
     "text": [
      "100%|██████████| 6/6 [01:08<00:00, 11.36s/it]\n"
     ]
    },
    {
     "name": "stdout",
     "output_type": "stream",
     "text": [
      "2024-07-12 00:05:18 Test INFO: Testing Over...\n",
      "\n",
      "2024-07-12 00:05:18 Test INFO: Testing Over...\n",
      "\n",
      "2024-07-12 00:05:18 Test INFO: Testing Over...\n",
      "\n",
      "2024-07-12 00:05:18 Test INFO: Testing Over...\n",
      "\n",
      "2024-07-12 00:10:53 Test INFO: Video duration of data/lean_analysis/raw_data/video/record2_20240619094017_000006.mp4: 600.13s\n",
      "2024-07-12 00:10:53 Test INFO: Video duration of data/lean_analysis/raw_data/video/record2_20240619094017_000006.mp4: 600.13s\n",
      "2024-07-12 00:10:53 Test INFO: Video duration of data/lean_analysis/raw_data/video/record2_20240619094017_000006.mp4: 600.13s\n",
      "2024-07-12 00:10:53 Test INFO: Video duration of data/lean_analysis/raw_data/video/record2_20240619094017_000006.mp4: 600.13s\n",
      "*********************video key: record2_20240619094017_000006\n",
      "2024-07-12 00:10:53 Test INFO: Using Automatic Mixed Precision...\n",
      "2024-07-12 00:10:53 Test INFO: Using Automatic Mixed Precision...\n",
      "2024-07-12 00:10:53 Test INFO: Using Automatic Mixed Precision...\n",
      "2024-07-12 00:10:53 Test INFO: Using Automatic Mixed Precision...\n",
      "-1 {'subset': 'training', 'frame': 17969, 'duration': 600.1293333333333, 'annotations': []}\n",
      "2024-07-12 00:10:53 Test INFO: training subset: 1 videos, truncated as 11 windows.\n",
      "2024-07-12 00:10:53 Test INFO: training subset: 1 videos, truncated as 11 windows.\n",
      "2024-07-12 00:10:53 Test INFO: training subset: 1 videos, truncated as 11 windows.\n",
      "2024-07-12 00:10:53 Test INFO: training subset: 1 videos, truncated as 11 windows.\n",
      "2024-07-12 00:10:53 Test INFO: Testing Starts...\n",
      "\n",
      "2024-07-12 00:10:53 Test INFO: Testing Starts...\n",
      "\n",
      "2024-07-12 00:10:53 Test INFO: Testing Starts...\n",
      "\n",
      "2024-07-12 00:10:53 Test INFO: Testing Starts...\n",
      "\n"
     ]
    },
    {
     "name": "stderr",
     "output_type": "stream",
     "text": [
      "  0%|          | 0/6 [00:00<?, ?it/s]"
     ]
    },
    {
     "name": "stdout",
     "output_type": "stream",
     "text": [
      "07/12 00:10:53 - mmengine - \u001b[5m\u001b[4m\u001b[33mWARNING\u001b[0m - \"FileClient\" will be deprecated in future. Please use io functions in https://mmengine.readthedocs.io/en/latest/api/fileio.html#file-io\n",
      "07/12 00:10:53 - mmengine - \u001b[5m\u001b[4m\u001b[33mWARNING\u001b[0m - \"HardDiskBackend\" is the alias of \"LocalBackend\" and the former will be deprecated in future.\n",
      "07/12 00:10:53 - mmengine - \u001b[5m\u001b[4m\u001b[33mWARNING\u001b[0m - \"FileClient\" will be deprecated in future. Please use io functions in https://mmengine.readthedocs.io/en/latest/api/fileio.html#file-io\n",
      "07/12 00:10:53 - mmengine - \u001b[5m\u001b[4m\u001b[33mWARNING\u001b[0m - \"HardDiskBackend\" is the alias of \"LocalBackend\" and the former will be deprecated in future.\n"
     ]
    },
    {
     "name": "stderr",
     "output_type": "stream",
     "text": [
      "100%|██████████| 6/6 [01:08<00:00, 11.43s/it]\n"
     ]
    },
    {
     "name": "stdout",
     "output_type": "stream",
     "text": [
      "2024-07-12 00:12:02 Test INFO: Testing Over...\n",
      "\n",
      "2024-07-12 00:12:02 Test INFO: Testing Over...\n",
      "\n",
      "2024-07-12 00:12:02 Test INFO: Testing Over...\n",
      "\n",
      "2024-07-12 00:12:02 Test INFO: Testing Over...\n",
      "\n",
      "2024-07-12 00:17:52 Test INFO: Video duration of data/lean_analysis/raw_data/video/record2_20240619094017_000034.mp4: 600.13s\n",
      "2024-07-12 00:17:52 Test INFO: Video duration of data/lean_analysis/raw_data/video/record2_20240619094017_000034.mp4: 600.13s\n",
      "2024-07-12 00:17:52 Test INFO: Video duration of data/lean_analysis/raw_data/video/record2_20240619094017_000034.mp4: 600.13s\n",
      "2024-07-12 00:17:52 Test INFO: Video duration of data/lean_analysis/raw_data/video/record2_20240619094017_000034.mp4: 600.13s\n",
      "*********************video key: record2_20240619094017_000034\n",
      "2024-07-12 00:17:52 Test INFO: Using Automatic Mixed Precision...\n",
      "2024-07-12 00:17:52 Test INFO: Using Automatic Mixed Precision...\n",
      "2024-07-12 00:17:52 Test INFO: Using Automatic Mixed Precision...\n",
      "2024-07-12 00:17:52 Test INFO: Using Automatic Mixed Precision...\n",
      "-1 {'subset': 'training', 'frame': 17972, 'duration': 600.1293333333333, 'annotations': []}\n",
      "2024-07-12 00:17:52 Test INFO: training subset: 1 videos, truncated as 11 windows.\n",
      "2024-07-12 00:17:52 Test INFO: training subset: 1 videos, truncated as 11 windows.\n",
      "2024-07-12 00:17:52 Test INFO: training subset: 1 videos, truncated as 11 windows.\n",
      "2024-07-12 00:17:52 Test INFO: training subset: 1 videos, truncated as 11 windows.\n",
      "2024-07-12 00:17:52 Test INFO: Testing Starts...\n",
      "\n",
      "2024-07-12 00:17:52 Test INFO: Testing Starts...\n",
      "\n",
      "2024-07-12 00:17:52 Test INFO: Testing Starts...\n",
      "\n",
      "2024-07-12 00:17:52 Test INFO: Testing Starts...\n",
      "\n"
     ]
    },
    {
     "name": "stderr",
     "output_type": "stream",
     "text": [
      "  0%|          | 0/6 [00:00<?, ?it/s]"
     ]
    },
    {
     "name": "stdout",
     "output_type": "stream",
     "text": [
      "07/12 00:17:52 - mmengine - \u001b[5m\u001b[4m\u001b[33mWARNING\u001b[0m - \"FileClient\" will be deprecated in future. Please use io functions in https://mmengine.readthedocs.io/en/latest/api/fileio.html#file-io\n",
      "07/12 00:17:52 - mmengine - \u001b[5m\u001b[4m\u001b[33mWARNING\u001b[0m - \"HardDiskBackend\" is the alias of \"LocalBackend\" and the former will be deprecated in future.\n",
      "07/12 00:17:52 - mmengine - \u001b[5m\u001b[4m\u001b[33mWARNING\u001b[0m - \"FileClient\" will be deprecated in future. Please use io functions in https://mmengine.readthedocs.io/en/latest/api/fileio.html#file-io\n",
      "07/12 00:17:52 - mmengine - \u001b[5m\u001b[4m\u001b[33mWARNING\u001b[0m - \"HardDiskBackend\" is the alias of \"LocalBackend\" and the former will be deprecated in future.\n"
     ]
    },
    {
     "name": "stderr",
     "output_type": "stream",
     "text": [
      "100%|██████████| 6/6 [01:08<00:00, 11.36s/it]\n"
     ]
    },
    {
     "name": "stdout",
     "output_type": "stream",
     "text": [
      "2024-07-12 00:19:00 Test INFO: Testing Over...\n",
      "\n",
      "2024-07-12 00:19:00 Test INFO: Testing Over...\n",
      "\n",
      "2024-07-12 00:19:00 Test INFO: Testing Over...\n",
      "\n",
      "2024-07-12 00:19:00 Test INFO: Testing Over...\n",
      "\n",
      "2024-07-12 00:24:45 Test INFO: Video duration of data/lean_analysis/raw_data/video/record2_20240619094017_000035.mp4: 437.87s\n",
      "2024-07-12 00:24:45 Test INFO: Video duration of data/lean_analysis/raw_data/video/record2_20240619094017_000035.mp4: 437.87s\n",
      "2024-07-12 00:24:45 Test INFO: Video duration of data/lean_analysis/raw_data/video/record2_20240619094017_000035.mp4: 437.87s\n",
      "2024-07-12 00:24:45 Test INFO: Video duration of data/lean_analysis/raw_data/video/record2_20240619094017_000035.mp4: 437.87s\n",
      "*********************video key: record2_20240619094017_000035\n",
      "2024-07-12 00:24:45 Test INFO: Using Automatic Mixed Precision...\n",
      "2024-07-12 00:24:45 Test INFO: Using Automatic Mixed Precision...\n",
      "2024-07-12 00:24:45 Test INFO: Using Automatic Mixed Precision...\n",
      "2024-07-12 00:24:45 Test INFO: Using Automatic Mixed Precision...\n",
      "-1 {'subset': 'training', 'frame': 13113, 'duration': 437.8693333333334, 'annotations': []}\n",
      "2024-07-12 00:24:45 Test INFO: training subset: 1 videos, truncated as 8 windows.\n",
      "2024-07-12 00:24:45 Test INFO: training subset: 1 videos, truncated as 8 windows.\n",
      "2024-07-12 00:24:45 Test INFO: training subset: 1 videos, truncated as 8 windows.\n",
      "2024-07-12 00:24:45 Test INFO: training subset: 1 videos, truncated as 8 windows.\n",
      "2024-07-12 00:24:45 Test INFO: Testing Starts...\n",
      "\n",
      "2024-07-12 00:24:45 Test INFO: Testing Starts...\n",
      "\n",
      "2024-07-12 00:24:45 Test INFO: Testing Starts...\n",
      "\n",
      "2024-07-12 00:24:45 Test INFO: Testing Starts...\n",
      "\n"
     ]
    },
    {
     "name": "stderr",
     "output_type": "stream",
     "text": [
      "  0%|          | 0/4 [00:00<?, ?it/s]"
     ]
    },
    {
     "name": "stdout",
     "output_type": "stream",
     "text": [
      "07/12 00:24:45 - mmengine - \u001b[5m\u001b[4m\u001b[33mWARNING\u001b[0m - \"FileClient\" will be deprecated in future. Please use io functions in https://mmengine.readthedocs.io/en/latest/api/fileio.html#file-io\n",
      "07/12 00:24:45 - mmengine - \u001b[5m\u001b[4m\u001b[33mWARNING\u001b[0m - \"FileClient\" will be deprecated in future. Please use io functions in https://mmengine.readthedocs.io/en/latest/api/fileio.html#file-io\n",
      "07/12 00:24:45 - mmengine - \u001b[5m\u001b[4m\u001b[33mWARNING\u001b[0m - \"HardDiskBackend\" is the alias of \"LocalBackend\" and the former will be deprecated in future.\n",
      "07/12 00:24:45 - mmengine - \u001b[5m\u001b[4m\u001b[33mWARNING\u001b[0m - \"HardDiskBackend\" is the alias of \"LocalBackend\" and the former will be deprecated in future.\n"
     ]
    },
    {
     "name": "stderr",
     "output_type": "stream",
     "text": [
      "100%|██████████| 4/4 [00:45<00:00, 11.27s/it]\n"
     ]
    },
    {
     "name": "stdout",
     "output_type": "stream",
     "text": [
      "2024-07-12 00:25:30 Test INFO: Testing Over...\n",
      "\n",
      "2024-07-12 00:25:30 Test INFO: Testing Over...\n",
      "\n",
      "2024-07-12 00:25:30 Test INFO: Testing Over...\n",
      "\n",
      "2024-07-12 00:25:30 Test INFO: Testing Over...\n",
      "\n"
     ]
    }
   ],
   "source": [
    "from PIL import Image, ImageDraw, ImageFont\n",
    "font = ImageFont.truetype(\"ukai.ttc\", 40, encoding=\"utf-8\")\n",
    "\n",
    "for key, _ in example_videos:\n",
    "    video_file = f\"data/lean_analysis/raw_data/video/{key}.mp4\"\n",
    "    \n",
    "    prepare_input(cfg, logger, video_file, video_dir, \"testing\")\n",
    "    result = inference(model, cfg, logger)\n",
    "    \n",
    "    processed_result = filter_segments(result)\n",
    "    gt_result = gt_data['database'][key]['annotations']\n",
    "    \n",
    "    action_labels = list(set(segment['label'] for segment in processed_result).union(set(ann['label'] for ann in gt_result)))\n",
    "    \n",
    "    video = VideoReader(video_file)\n",
    "    action_bar = generate_action_bar(processed_result, action_labels, video.frame_cnt / video.fps, (video.width, 20))\n",
    "    gt_action_bar = generate_action_bar(gt_result, action_labels, video.frame_cnt / video.fps, (video.width, 20))\n",
    "    \n",
    "    import cv2\n",
    "    writer = cv2.VideoWriter(f\"example/output_{key}.mp4\", cv2.VideoWriter_fourcc(*'mp4v'), video.fps, (video.width, video.height + 40))\n",
    "    for i, frame in enumerate(video):\n",
    "        new_frame = cv2.vconcat([frame, gt_action_bar, action_bar])\n",
    "        \n",
    "        t = i / video.fps\n",
    "        gt_label = next((ann['label'] for ann in gt_result if ann['segment'][0] <= t and ann['segment'][1] >= t), None)\n",
    "        pred_label = next((segment['label'] for segment in processed_result if segment['segment'][0] <= t and segment['segment'][1] >= t), None)\n",
    "        \n",
    "        pimg = Image.fromarray(new_frame)\n",
    "        draw = ImageDraw.Draw(pimg)\n",
    "        draw.text((100, 220), f\"GT: {gt_label}\", font=font, fill=(0, 128, 255))\n",
    "        draw.text((100, 260), f\"Pred: {pred_label}\", font=font, fill=(0, 128, 255))\n",
    "        # cv2.putText(new_frame, f\"GT: {gt_label}\", (10, video.height // 4), cv2.FONT_HERSHEY_SIMPLEX, 0.5, (255, 255, 255), 1)\n",
    "        # cv2.putText(new_frame, f\"Pred: {pred_label}\", (10, video.height // 4 + 20), cv2.FONT_HERSHEY_SIMPLEX, 0.5, (255, 255, 255), 1)\n",
    "        \n",
    "        new_frame = np.array(pimg)\n",
    "        \n",
    "        progress = int(i / video.frame_cnt * video.width)\n",
    "        cv2.line(new_frame, (progress, new_frame.shape[0] - 20), (progress, new_frame.shape[0]), (255, 255, 0), 2)\n",
    "        \n",
    "        writer.write(new_frame)\n",
    "    writer.release()"
   ]
  },
  {
   "cell_type": "markdown",
   "metadata": {},
   "source": [
    "## B11 装手机"
   ]
  },
  {
   "cell_type": "code",
   "execution_count": 9,
   "metadata": {},
   "outputs": [],
   "source": [
    "with open(\"data/b11_phone_motion2_backview/annotations/b11_phone_backview_anno.json\", \"r\") as f:\n",
    "    gt_data = json.load(f)\n",
    "    annotations = gt_data[\"database\"][\"IMG_2316-2\"][\"annotations\"]\n",
    "    ann_left = []\n",
    "    for ann in annotations:\n",
    "        if ann[\"segment\"][0] > 900:\n",
    "            new_ann = ann.copy()\n",
    "            new_ann[\"segment\"][0] -= 900\n",
    "            new_ann[\"segment\"][1] -= 900\n",
    "            ann_left.append(new_ann)\n",
    "    gt_data[\"database\"][\"IMG_2316-2\"][\"annotations\"] = ann_left\n",
    "    gt_data[\"database\"][\"IMG_2316-2\"][\"duration\"] = gt_data[\"database\"][\"IMG_2316-2\"][\"duration\"] - 900\n",
    "    gt_data[\"database\"][\"IMG_2316-2\"][\"frame\"] = gt_data[\"database\"][\"IMG_2316-2\"][\"frame\"] - int(900 * 25)\n",
    "    with open(\"data/b11_phone_motion2_backview/annotations/b11_phone_backview_anno_15min.json\", \"w\") as f:\n",
    "        json.dump(gt_data, f)\n"
   ]
  },
  {
   "cell_type": "code",
   "execution_count": 3,
   "metadata": {},
   "outputs": [],
   "source": [
    "import json\n",
    "\n",
    "ground_truth_path = \"data/b11_phone_motion2_backview/annotations/annotations_long_videos.json\"\n",
    "\n",
    "with open(ground_truth_path) as f:\n",
    "    gt_data = json.load(f)\n",
    "    gt_data[\"database\"] = {key: value for key, value in gt_data[\"database\"].items() if value[\"subset\"] == \"testing\"}"
   ]
  },
  {
   "cell_type": "code",
   "execution_count": 4,
   "metadata": {},
   "outputs": [
    {
     "data": {
      "text/plain": [
       "[]"
      ]
     },
     "execution_count": 4,
     "metadata": {},
     "output_type": "execute_result"
    }
   ],
   "source": [
    "from collections import defaultdict, Counter\n",
    "\n",
    "action2key = defaultdict(list)\n",
    "\n",
    "action_counter = Counter([ann['label'] for key, gt_rec in gt_data['database'].items() for ann in gt_rec['annotations']])\n",
    "\n",
    "for key, gt_rec in gt_data['database'].items():\n",
    "    for ann in gt_rec['annotations']:\n",
    "        action2key[ann['label']].append(key)\n",
    "        \n",
    "action_counter.most_common(20)"
   ]
  },
  {
   "cell_type": "code",
   "execution_count": 5,
   "metadata": {},
   "outputs": [],
   "source": [
    "# 找那种常见动作最多的视频，用来说明可以跨场景学习相似动作\n",
    "\n",
    "most_common_actions = set(action for action, _ in action_counter.most_common(5))\n",
    "\n",
    "video_most_common_action_count = {}\n",
    "\n",
    "for key, gt_rec in gt_data['database'].items():\n",
    "    video_most_common_action_count[key] = len(set(ann['label'] for ann in gt_rec['annotations']).intersection(most_common_actions))\n",
    "\n",
    "example_videos = list(sorted(video_most_common_action_count.items(), key=lambda x: x[1], reverse=True))[:40]"
   ]
  },
  {
   "cell_type": "code",
   "execution_count": 6,
   "metadata": {},
   "outputs": [
    {
     "name": "stdout",
     "output_type": "stream",
     "text": [
      "2024-10-28 23:18:19 Test INFO: Using torch version: 2.0.1+cu118, CUDA version: 11.8\n"
     ]
    },
    {
     "name": "stdout",
     "output_type": "stream",
     "text": [
      "ViT's param: 86227200, Adapter's params: 4004364, ratio: 4.6%\n",
      "Loads checkpoint by local backend from path: pretrained/vit-base-p16_videomae-k400-pre_16x4x1_kinetics-400_20221013-860a3cd3.pth\n",
      "The model and loaded state dict do not match exactly\n",
      "\n",
      "unexpected key in source state_dict: cls_head.fc_cls.weight, cls_head.fc_cls.bias\n",
      "\n",
      "missing keys in source state_dict: backbone.pos_embed, backbone.blocks.0.adapter.gamma, backbone.blocks.0.adapter.dwconv.weight, backbone.blocks.0.adapter.dwconv.bias, backbone.blocks.0.adapter.conv.weight, backbone.blocks.0.adapter.conv.bias, backbone.blocks.0.adapter.down_proj.weight, backbone.blocks.0.adapter.down_proj.bias, backbone.blocks.0.adapter.up_proj.weight, backbone.blocks.0.adapter.up_proj.bias, backbone.blocks.1.adapter.gamma, backbone.blocks.1.adapter.dwconv.weight, backbone.blocks.1.adapter.dwconv.bias, backbone.blocks.1.adapter.conv.weight, backbone.blocks.1.adapter.conv.bias, backbone.blocks.1.adapter.down_proj.weight, backbone.blocks.1.adapter.down_proj.bias, backbone.blocks.1.adapter.up_proj.weight, backbone.blocks.1.adapter.up_proj.bias, backbone.blocks.2.adapter.gamma, backbone.blocks.2.adapter.dwconv.weight, backbone.blocks.2.adapter.dwconv.bias, backbone.blocks.2.adapter.conv.weight, backbone.blocks.2.adapter.conv.bias, backbone.blocks.2.adapter.down_proj.weight, backbone.blocks.2.adapter.down_proj.bias, backbone.blocks.2.adapter.up_proj.weight, backbone.blocks.2.adapter.up_proj.bias, backbone.blocks.3.adapter.gamma, backbone.blocks.3.adapter.dwconv.weight, backbone.blocks.3.adapter.dwconv.bias, backbone.blocks.3.adapter.conv.weight, backbone.blocks.3.adapter.conv.bias, backbone.blocks.3.adapter.down_proj.weight, backbone.blocks.3.adapter.down_proj.bias, backbone.blocks.3.adapter.up_proj.weight, backbone.blocks.3.adapter.up_proj.bias, backbone.blocks.4.adapter.gamma, backbone.blocks.4.adapter.dwconv.weight, backbone.blocks.4.adapter.dwconv.bias, backbone.blocks.4.adapter.conv.weight, backbone.blocks.4.adapter.conv.bias, backbone.blocks.4.adapter.down_proj.weight, backbone.blocks.4.adapter.down_proj.bias, backbone.blocks.4.adapter.up_proj.weight, backbone.blocks.4.adapter.up_proj.bias, backbone.blocks.5.adapter.gamma, backbone.blocks.5.adapter.dwconv.weight, backbone.blocks.5.adapter.dwconv.bias, backbone.blocks.5.adapter.conv.weight, backbone.blocks.5.adapter.conv.bias, backbone.blocks.5.adapter.down_proj.weight, backbone.blocks.5.adapter.down_proj.bias, backbone.blocks.5.adapter.up_proj.weight, backbone.blocks.5.adapter.up_proj.bias, backbone.blocks.6.adapter.gamma, backbone.blocks.6.adapter.dwconv.weight, backbone.blocks.6.adapter.dwconv.bias, backbone.blocks.6.adapter.conv.weight, backbone.blocks.6.adapter.conv.bias, backbone.blocks.6.adapter.down_proj.weight, backbone.blocks.6.adapter.down_proj.bias, backbone.blocks.6.adapter.up_proj.weight, backbone.blocks.6.adapter.up_proj.bias, backbone.blocks.7.adapter.gamma, backbone.blocks.7.adapter.dwconv.weight, backbone.blocks.7.adapter.dwconv.bias, backbone.blocks.7.adapter.conv.weight, backbone.blocks.7.adapter.conv.bias, backbone.blocks.7.adapter.down_proj.weight, backbone.blocks.7.adapter.down_proj.bias, backbone.blocks.7.adapter.up_proj.weight, backbone.blocks.7.adapter.up_proj.bias, backbone.blocks.8.adapter.gamma, backbone.blocks.8.adapter.dwconv.weight, backbone.blocks.8.adapter.dwconv.bias, backbone.blocks.8.adapter.conv.weight, backbone.blocks.8.adapter.conv.bias, backbone.blocks.8.adapter.down_proj.weight, backbone.blocks.8.adapter.down_proj.bias, backbone.blocks.8.adapter.up_proj.weight, backbone.blocks.8.adapter.up_proj.bias, backbone.blocks.9.adapter.gamma, backbone.blocks.9.adapter.dwconv.weight, backbone.blocks.9.adapter.dwconv.bias, backbone.blocks.9.adapter.conv.weight, backbone.blocks.9.adapter.conv.bias, backbone.blocks.9.adapter.down_proj.weight, backbone.blocks.9.adapter.down_proj.bias, backbone.blocks.9.adapter.up_proj.weight, backbone.blocks.9.adapter.up_proj.bias, backbone.blocks.10.adapter.gamma, backbone.blocks.10.adapter.dwconv.weight, backbone.blocks.10.adapter.dwconv.bias, backbone.blocks.10.adapter.conv.weight, backbone.blocks.10.adapter.conv.bias, backbone.blocks.10.adapter.down_proj.weight, backbone.blocks.10.adapter.down_proj.bias, backbone.blocks.10.adapter.up_proj.weight, backbone.blocks.10.adapter.up_proj.bias, backbone.blocks.11.adapter.gamma, backbone.blocks.11.adapter.dwconv.weight, backbone.blocks.11.adapter.dwconv.bias, backbone.blocks.11.adapter.conv.weight, backbone.blocks.11.adapter.conv.bias, backbone.blocks.11.adapter.down_proj.weight, backbone.blocks.11.adapter.down_proj.bias, backbone.blocks.11.adapter.up_proj.weight, backbone.blocks.11.adapter.up_proj.bias\n",
      "\n",
      "freeze_backbone: False, norm_eval: False\n",
      "2024-10-28 23:18:21 Test INFO: Using Model EMA...\n"
     ]
    }
   ],
   "source": [
    "video_dir = \"data/b11_phone_motion2_backview/raw_data/video\"\n",
    "epoch = 89\n",
    "configfile = \"configs/adatad/b11_phone_motion2_backview/e2e_phonebackview_videomae_b_768x1_224_adapter.py\"\n",
    "checkpoint_path = f\"/mnt/data/dtong/pubrepos/OpenTAD/exps/b11_phone_motion2_backview/adatad/e2e_actionformer_videomae_b_768x1_224_adapter_s1/gpu2_id0/checkpoint/epoch_{epoch}.pth\"\n",
    "cfg = Config.fromfile(configfile)\n",
    "cfg.work_dir = \"exps/b11_phone_motion2_backview/adatad/e2e_actionformer_videomae_b_768x1_224_adapter_test\"\n",
    "cfg.post_processing.save_dict = True\n",
    "logger = setup_logger(\"Test\", save_dir=cfg.work_dir, distributed_rank=0)\n",
    "logger.info(f\"Using torch version: {torch.__version__}, CUDA version: {torch.version.cuda}\")\n",
    "\n",
    "model = load_model(cfg, checkpoint_path, logger)"
   ]
  },
  {
   "cell_type": "code",
   "execution_count": 8,
   "metadata": {},
   "outputs": [
    {
     "name": "stdout",
     "output_type": "stream",
     "text": [
      "++++++ data/b11_phone_motion2_backview/annotations/annotations_clips_ext.json\n",
      "2024-10-28 23:21:41 Test INFO: Video duration of data/b11_phone_motion2_backview/raw_data/video/组装2-1-1165-190.mp4: 189.47s\n",
      "*********************video key: 组装2-1-1165-190\n",
      "2024-10-28 23:21:41 Test INFO: Using Automatic Mixed Precision...\n"
     ]
    },
    {
     "name": "stdout",
     "output_type": "stream",
     "text": [
      "2024-10-28 23:21:41 Test INFO: testing subset: 1 videos, truncated as 14 windows.\n",
      "2024-10-28 23:21:41 Test INFO: Testing Starts...\n",
      "\n"
     ]
    },
    {
     "name": "stderr",
     "output_type": "stream",
     "text": [
      "  0%|          | 0/7 [00:00<?, ?it/s]"
     ]
    },
    {
     "name": "stdout",
     "output_type": "stream",
     "text": [
      "10/28 23:21:41 - mmengine - \u001b[5m\u001b[4m\u001b[33mWARNING\u001b[0m - \"FileClient\" will be deprecated in future. Please use io functions in https://mmengine.readthedocs.io/en/latest/api/fileio.html#file-io\n",
      "10/28 23:21:41 - mmengine - \u001b[5m\u001b[4m\u001b[33mWARNING\u001b[0m - \"HardDiskBackend\" is the alias of \"LocalBackend\" and the former will be deprecated in future.\n"
     ]
    },
    {
     "name": "stderr",
     "output_type": "stream",
     "text": [
      "100%|██████████| 7/7 [00:58<00:00,  8.40s/it]\n"
     ]
    },
    {
     "name": "stdout",
     "output_type": "stream",
     "text": [
      "2024-10-28 23:22:41 Test INFO: Testing Over...\n",
      "\n",
      "++++++ data/charades/annotations/charades_test.json\n",
      "2024-10-28 23:24:21 Test INFO: Video duration of data/b11_phone_motion2_backview/raw_data/video/组装2-1-1358-201.mp4: 199.78s\n",
      "*********************video key: 组装2-1-1358-201\n",
      "2024-10-28 23:24:21 Test INFO: Using Automatic Mixed Precision...\n",
      "2024-10-28 23:24:21 Test INFO: testing subset: 1 videos, truncated as 15 windows.\n",
      "2024-10-28 23:24:21 Test INFO: Testing Starts...\n",
      "\n"
     ]
    },
    {
     "name": "stderr",
     "output_type": "stream",
     "text": [
      "  0%|          | 0/8 [00:00<?, ?it/s]"
     ]
    },
    {
     "name": "stdout",
     "output_type": "stream",
     "text": [
      "10/28 23:24:22 - mmengine - \u001b[5m\u001b[4m\u001b[33mWARNING\u001b[0m - \"FileClient\" will be deprecated in future. Please use io functions in https://mmengine.readthedocs.io/en/latest/api/fileio.html#file-io\n",
      "10/28 23:24:22 - mmengine - \u001b[5m\u001b[4m\u001b[33mWARNING\u001b[0m - \"HardDiskBackend\" is the alias of \"LocalBackend\" and the former will be deprecated in future.\n"
     ]
    },
    {
     "name": "stderr",
     "output_type": "stream",
     "text": [
      "100%|██████████| 8/8 [00:51<00:00,  6.41s/it]\n"
     ]
    },
    {
     "name": "stdout",
     "output_type": "stream",
     "text": [
      "2024-10-28 23:25:14 Test INFO: Testing Over...\n",
      "\n",
      "++++++ data/charades/annotations/charades_test.json\n",
      "2024-10-28 23:27:00 Test INFO: Video duration of data/b11_phone_motion2_backview/raw_data/video/组装2-1-1561-207.mp4: 206.31s\n",
      "*********************video key: 组装2-1-1561-207\n",
      "2024-10-28 23:27:00 Test INFO: Using Automatic Mixed Precision...\n",
      "2024-10-28 23:27:00 Test INFO: testing subset: 1 videos, truncated as 16 windows.\n",
      "2024-10-28 23:27:00 Test INFO: Testing Starts...\n",
      "\n"
     ]
    },
    {
     "name": "stderr",
     "output_type": "stream",
     "text": [
      "  0%|          | 0/8 [00:00<?, ?it/s]"
     ]
    },
    {
     "name": "stdout",
     "output_type": "stream",
     "text": [
      "10/28 23:27:00 - mmengine - \u001b[5m\u001b[4m\u001b[33mWARNING\u001b[0m - \"FileClient\" will be deprecated in future. Please use io functions in https://mmengine.readthedocs.io/en/latest/api/fileio.html#file-io\n",
      "10/28 23:27:00 - mmengine - \u001b[5m\u001b[4m\u001b[33mWARNING\u001b[0m - \"HardDiskBackend\" is the alias of \"LocalBackend\" and the former will be deprecated in future.\n"
     ]
    },
    {
     "name": "stderr",
     "output_type": "stream",
     "text": [
      "100%|██████████| 8/8 [00:55<00:00,  6.88s/it]\n"
     ]
    },
    {
     "name": "stdout",
     "output_type": "stream",
     "text": [
      "2024-10-28 23:27:56 Test INFO: Testing Over...\n",
      "\n",
      "++++++ data/charades/annotations/charades_test.json\n",
      "2024-10-28 23:29:46 Test INFO: Video duration of data/b11_phone_motion2_backview/raw_data/video/组装2-1-1768-207.mp4: 206.31s\n",
      "*********************video key: 组装2-1-1768-207\n",
      "2024-10-28 23:29:46 Test INFO: Using Automatic Mixed Precision...\n",
      "2024-10-28 23:29:46 Test INFO: testing subset: 1 videos, truncated as 16 windows.\n",
      "2024-10-28 23:29:46 Test INFO: Testing Starts...\n",
      "\n"
     ]
    },
    {
     "name": "stderr",
     "output_type": "stream",
     "text": [
      "  0%|          | 0/8 [00:00<?, ?it/s]"
     ]
    },
    {
     "name": "stdout",
     "output_type": "stream",
     "text": [
      "10/28 23:29:46 - mmengine - \u001b[5m\u001b[4m\u001b[33mWARNING\u001b[0m - \"FileClient\" will be deprecated in future. Please use io functions in https://mmengine.readthedocs.io/en/latest/api/fileio.html#file-io\n",
      "10/28 23:29:46 - mmengine - \u001b[5m\u001b[4m\u001b[33mWARNING\u001b[0m - \"HardDiskBackend\" is the alias of \"LocalBackend\" and the former will be deprecated in future.\n"
     ]
    },
    {
     "name": "stderr",
     "output_type": "stream",
     "text": [
      "100%|██████████| 8/8 [00:54<00:00,  6.84s/it]\n"
     ]
    },
    {
     "name": "stdout",
     "output_type": "stream",
     "text": [
      "2024-10-28 23:30:41 Test INFO: Testing Over...\n",
      "\n",
      "++++++ data/charades/annotations/charades_test.json\n",
      "2024-10-28 23:32:31 Test INFO: Video duration of data/b11_phone_motion2_backview/raw_data/video/组装2-1-177-189.mp4: 188.83s\n",
      "*********************video key: 组装2-1-177-189\n",
      "2024-10-28 23:32:31 Test INFO: Using Automatic Mixed Precision...\n",
      "2024-10-28 23:32:31 Test INFO: testing subset: 1 videos, truncated as 14 windows.\n",
      "2024-10-28 23:32:31 Test INFO: Testing Starts...\n",
      "\n"
     ]
    },
    {
     "name": "stderr",
     "output_type": "stream",
     "text": [
      "  0%|          | 0/7 [00:00<?, ?it/s]"
     ]
    },
    {
     "name": "stdout",
     "output_type": "stream",
     "text": [
      "10/28 23:32:31 - mmengine - \u001b[5m\u001b[4m\u001b[33mWARNING\u001b[0m - \"FileClient\" will be deprecated in future. Please use io functions in https://mmengine.readthedocs.io/en/latest/api/fileio.html#file-io\n",
      "10/28 23:32:31 - mmengine - \u001b[5m\u001b[4m\u001b[33mWARNING\u001b[0m - \"HardDiskBackend\" is the alias of \"LocalBackend\" and the former will be deprecated in future.\n"
     ]
    },
    {
     "name": "stderr",
     "output_type": "stream",
     "text": [
      "100%|██████████| 7/7 [00:47<00:00,  6.75s/it]\n"
     ]
    },
    {
     "name": "stdout",
     "output_type": "stream",
     "text": [
      "2024-10-28 23:33:19 Test INFO: Testing Over...\n",
      "\n",
      "++++++ data/charades/annotations/charades_test.json\n",
      "2024-10-28 23:34:56 Test INFO: Video duration of data/b11_phone_motion2_backview/raw_data/video/组装2-1-368-210.mp4: 209.41s\n",
      "*********************video key: 组装2-1-368-210\n",
      "2024-10-28 23:34:56 Test INFO: Using Automatic Mixed Precision...\n",
      "2024-10-28 23:34:56 Test INFO: testing subset: 1 videos, truncated as 16 windows.\n",
      "2024-10-28 23:34:56 Test INFO: Testing Starts...\n",
      "\n"
     ]
    },
    {
     "name": "stderr",
     "output_type": "stream",
     "text": [
      "  0%|          | 0/8 [00:00<?, ?it/s]"
     ]
    },
    {
     "name": "stdout",
     "output_type": "stream",
     "text": [
      "10/28 23:34:56 - mmengine - \u001b[5m\u001b[4m\u001b[33mWARNING\u001b[0m - \"FileClient\" will be deprecated in future. Please use io functions in https://mmengine.readthedocs.io/en/latest/api/fileio.html#file-io\n",
      "10/28 23:34:56 - mmengine - \u001b[5m\u001b[4m\u001b[33mWARNING\u001b[0m - \"HardDiskBackend\" is the alias of \"LocalBackend\" and the former will be deprecated in future.\n"
     ]
    },
    {
     "name": "stderr",
     "output_type": "stream",
     "text": [
      "100%|██████████| 8/8 [00:54<00:00,  6.87s/it]\n"
     ]
    },
    {
     "name": "stdout",
     "output_type": "stream",
     "text": [
      "2024-10-28 23:35:52 Test INFO: Testing Over...\n",
      "\n",
      "++++++ data/charades/annotations/charades_test.json\n",
      "2024-10-28 23:37:45 Test INFO: Video duration of data/b11_phone_motion2_backview/raw_data/video/组装2-1-578-210.mp4: 209.41s\n",
      "*********************video key: 组装2-1-578-210\n",
      "2024-10-28 23:37:45 Test INFO: Using Automatic Mixed Precision...\n",
      "2024-10-28 23:37:45 Test INFO: testing subset: 1 videos, truncated as 16 windows.\n",
      "2024-10-28 23:37:45 Test INFO: Testing Starts...\n",
      "\n"
     ]
    },
    {
     "name": "stderr",
     "output_type": "stream",
     "text": [
      "  0%|          | 0/8 [00:00<?, ?it/s]"
     ]
    },
    {
     "name": "stdout",
     "output_type": "stream",
     "text": [
      "10/28 23:37:45 - mmengine - \u001b[5m\u001b[4m\u001b[33mWARNING\u001b[0m - \"FileClient\" will be deprecated in future. Please use io functions in https://mmengine.readthedocs.io/en/latest/api/fileio.html#file-io\n",
      "10/28 23:37:45 - mmengine - \u001b[5m\u001b[4m\u001b[33mWARNING\u001b[0m - \"HardDiskBackend\" is the alias of \"LocalBackend\" and the former will be deprecated in future.\n"
     ]
    },
    {
     "name": "stderr",
     "output_type": "stream",
     "text": [
      "100%|██████████| 8/8 [00:54<00:00,  6.87s/it]\n"
     ]
    },
    {
     "name": "stdout",
     "output_type": "stream",
     "text": [
      "2024-10-28 23:38:40 Test INFO: Testing Over...\n",
      "\n",
      "++++++ data/charades/annotations/charades_test.json\n",
      "2024-10-28 23:40:34 Test INFO: Video duration of data/b11_phone_motion2_backview/raw_data/video/组装2-1-583-208.mp4: 207.52s\n",
      "*********************video key: 组装2-1-583-208\n",
      "2024-10-28 23:40:34 Test INFO: Using Automatic Mixed Precision...\n",
      "2024-10-28 23:40:34 Test INFO: testing subset: 1 videos, truncated as 16 windows.\n",
      "2024-10-28 23:40:34 Test INFO: Testing Starts...\n",
      "\n"
     ]
    },
    {
     "name": "stderr",
     "output_type": "stream",
     "text": [
      "  0%|          | 0/8 [00:00<?, ?it/s]"
     ]
    },
    {
     "name": "stdout",
     "output_type": "stream",
     "text": [
      "10/28 23:40:34 - mmengine - \u001b[5m\u001b[4m\u001b[33mWARNING\u001b[0m - \"FileClient\" will be deprecated in future. Please use io functions in https://mmengine.readthedocs.io/en/latest/api/fileio.html#file-io\n",
      "10/28 23:40:34 - mmengine - \u001b[5m\u001b[4m\u001b[33mWARNING\u001b[0m - \"HardDiskBackend\" is the alias of \"LocalBackend\" and the former will be deprecated in future.\n"
     ]
    },
    {
     "name": "stderr",
     "output_type": "stream",
     "text": [
      "100%|██████████| 8/8 [00:54<00:00,  6.83s/it]\n"
     ]
    },
    {
     "name": "stdout",
     "output_type": "stream",
     "text": [
      "2024-10-28 23:41:29 Test INFO: Testing Over...\n",
      "\n",
      "++++++ data/charades/annotations/charades_test.json\n",
      "2024-10-28 23:43:20 Test INFO: Video duration of data/b11_phone_motion2_backview/raw_data/video/组装2-1-7-167.mp4: 166.34s\n",
      "*********************video key: 组装2-1-7-167\n",
      "2024-10-28 23:43:20 Test INFO: Using Automatic Mixed Precision...\n",
      "2024-10-28 23:43:20 Test INFO: testing subset: 1 videos, truncated as 12 windows.\n",
      "2024-10-28 23:43:20 Test INFO: Testing Starts...\n",
      "\n"
     ]
    },
    {
     "name": "stderr",
     "output_type": "stream",
     "text": [
      "  0%|          | 0/6 [00:00<?, ?it/s]"
     ]
    },
    {
     "name": "stdout",
     "output_type": "stream",
     "text": [
      "10/28 23:43:20 - mmengine - \u001b[5m\u001b[4m\u001b[33mWARNING\u001b[0m - \"FileClient\" will be deprecated in future. Please use io functions in https://mmengine.readthedocs.io/en/latest/api/fileio.html#file-io\n",
      "10/28 23:43:20 - mmengine - \u001b[5m\u001b[4m\u001b[33mWARNING\u001b[0m - \"HardDiskBackend\" is the alias of \"LocalBackend\" and the former will be deprecated in future.\n"
     ]
    },
    {
     "name": "stderr",
     "output_type": "stream",
     "text": [
      "100%|██████████| 6/6 [00:39<00:00,  6.66s/it]\n"
     ]
    },
    {
     "name": "stdout",
     "output_type": "stream",
     "text": [
      "2024-10-28 23:44:00 Test INFO: Testing Over...\n",
      "\n",
      "++++++ data/charades/annotations/charades_test.json\n",
      "2024-10-28 23:45:26 Test INFO: Video duration of data/b11_phone_motion2_backview/raw_data/video/组装2-1-791-208.mp4: 207.52s\n",
      "*********************video key: 组装2-1-791-208\n",
      "2024-10-28 23:45:26 Test INFO: Using Automatic Mixed Precision...\n",
      "2024-10-28 23:45:26 Test INFO: testing subset: 1 videos, truncated as 16 windows.\n",
      "2024-10-28 23:45:26 Test INFO: Testing Starts...\n",
      "\n"
     ]
    },
    {
     "name": "stderr",
     "output_type": "stream",
     "text": [
      "  0%|          | 0/8 [00:00<?, ?it/s]"
     ]
    },
    {
     "name": "stdout",
     "output_type": "stream",
     "text": [
      "10/28 23:45:26 - mmengine - \u001b[5m\u001b[4m\u001b[33mWARNING\u001b[0m - \"FileClient\" will be deprecated in future. Please use io functions in https://mmengine.readthedocs.io/en/latest/api/fileio.html#file-io\n",
      "10/28 23:45:26 - mmengine - \u001b[5m\u001b[4m\u001b[33mWARNING\u001b[0m - \"HardDiskBackend\" is the alias of \"LocalBackend\" and the former will be deprecated in future.\n"
     ]
    },
    {
     "name": "stderr",
     "output_type": "stream",
     "text": [
      "100%|██████████| 8/8 [00:54<00:00,  6.82s/it]\n"
     ]
    },
    {
     "name": "stdout",
     "output_type": "stream",
     "text": [
      "2024-10-28 23:46:21 Test INFO: Testing Over...\n",
      "\n",
      "++++++ data/charades/annotations/charades_test.json\n",
      "2024-10-28 23:48:11 Test INFO: Video duration of data/b11_phone_motion2_backview/raw_data/video/组装2-1-792-186.mp4: 184.93s\n",
      "*********************video key: 组装2-1-792-186\n",
      "2024-10-28 23:48:11 Test INFO: Using Automatic Mixed Precision...\n",
      "2024-10-28 23:48:11 Test INFO: testing subset: 1 videos, truncated as 14 windows.\n",
      "2024-10-28 23:48:11 Test INFO: Testing Starts...\n",
      "\n"
     ]
    },
    {
     "name": "stderr",
     "output_type": "stream",
     "text": [
      "  0%|          | 0/7 [00:00<?, ?it/s]"
     ]
    },
    {
     "name": "stdout",
     "output_type": "stream",
     "text": [
      "10/28 23:48:12 - mmengine - \u001b[5m\u001b[4m\u001b[33mWARNING\u001b[0m - \"FileClient\" will be deprecated in future. Please use io functions in https://mmengine.readthedocs.io/en/latest/api/fileio.html#file-io\n",
      "10/28 23:48:12 - mmengine - \u001b[5m\u001b[4m\u001b[33mWARNING\u001b[0m - \"HardDiskBackend\" is the alias of \"LocalBackend\" and the former will be deprecated in future.\n"
     ]
    },
    {
     "name": "stderr",
     "output_type": "stream",
     "text": [
      "100%|██████████| 7/7 [00:46<00:00,  6.68s/it]\n"
     ]
    },
    {
     "name": "stdout",
     "output_type": "stream",
     "text": [
      "2024-10-28 23:48:59 Test INFO: Testing Over...\n",
      "\n",
      "++++++ data/charades/annotations/charades_test.json\n",
      "2024-10-28 23:50:39 Test INFO: Video duration of data/b11_phone_motion2_backview/raw_data/video/组装2-1-979-183.mp4: 182.13s\n",
      "*********************video key: 组装2-1-979-183\n",
      "2024-10-28 23:50:39 Test INFO: Using Automatic Mixed Precision...\n",
      "2024-10-28 23:50:39 Test INFO: testing subset: 1 videos, truncated as 14 windows.\n",
      "2024-10-28 23:50:39 Test INFO: Testing Starts...\n",
      "\n"
     ]
    },
    {
     "name": "stderr",
     "output_type": "stream",
     "text": [
      "  0%|          | 0/7 [00:00<?, ?it/s]"
     ]
    },
    {
     "name": "stdout",
     "output_type": "stream",
     "text": [
      "10/28 23:50:39 - mmengine - \u001b[5m\u001b[4m\u001b[33mWARNING\u001b[0m - \"FileClient\" will be deprecated in future. Please use io functions in https://mmengine.readthedocs.io/en/latest/api/fileio.html#file-io\n",
      "10/28 23:50:39 - mmengine - \u001b[5m\u001b[4m\u001b[33mWARNING\u001b[0m - \"HardDiskBackend\" is the alias of \"LocalBackend\" and the former will be deprecated in future.\n"
     ]
    },
    {
     "name": "stderr",
     "output_type": "stream",
     "text": [
      "100%|██████████| 7/7 [00:46<00:00,  6.71s/it]\n"
     ]
    },
    {
     "name": "stdout",
     "output_type": "stream",
     "text": [
      "2024-10-28 23:51:26 Test INFO: Testing Over...\n",
      "\n",
      "++++++ data/charades/annotations/charades_test.json\n",
      "2024-10-28 23:53:05 Test INFO: Video duration of data/b11_phone_motion2_backview/raw_data/video/组装2-2-1134-134.mp4: 133.72s\n",
      "*********************video key: 组装2-2-1134-134\n",
      "2024-10-28 23:53:05 Test INFO: Using Automatic Mixed Precision...\n",
      "2024-10-28 23:53:05 Test INFO: testing subset: 1 videos, truncated as 10 windows.\n",
      "2024-10-28 23:53:05 Test INFO: Testing Starts...\n",
      "\n"
     ]
    },
    {
     "name": "stderr",
     "output_type": "stream",
     "text": [
      "  0%|          | 0/5 [00:00<?, ?it/s]"
     ]
    },
    {
     "name": "stdout",
     "output_type": "stream",
     "text": [
      "10/28 23:53:05 - mmengine - \u001b[5m\u001b[4m\u001b[33mWARNING\u001b[0m - \"FileClient\" will be deprecated in future. Please use io functions in https://mmengine.readthedocs.io/en/latest/api/fileio.html#file-io\n",
      "10/28 23:53:05 - mmengine - \u001b[5m\u001b[4m\u001b[33mWARNING\u001b[0m - \"HardDiskBackend\" is the alias of \"LocalBackend\" and the former will be deprecated in future.\n"
     ]
    },
    {
     "name": "stderr",
     "output_type": "stream",
     "text": [
      "100%|██████████| 5/5 [00:32<00:00,  6.41s/it]\n"
     ]
    },
    {
     "name": "stdout",
     "output_type": "stream",
     "text": [
      "2024-10-28 23:53:37 Test INFO: Testing Over...\n",
      "\n",
      "++++++ data/charades/annotations/charades_test.json\n",
      "2024-10-28 23:54:35 Test INFO: Video duration of data/b11_phone_motion2_backview/raw_data/video/组装2-2-122-134.mp4: 133.08s\n",
      "*********************video key: 组装2-2-122-134\n",
      "2024-10-28 23:54:35 Test INFO: Using Automatic Mixed Precision...\n",
      "2024-10-28 23:54:35 Test INFO: testing subset: 1 videos, truncated as 10 windows.\n",
      "2024-10-28 23:54:35 Test INFO: Testing Starts...\n",
      "\n"
     ]
    },
    {
     "name": "stderr",
     "output_type": "stream",
     "text": [
      "  0%|          | 0/5 [00:00<?, ?it/s]"
     ]
    },
    {
     "name": "stdout",
     "output_type": "stream",
     "text": [
      "10/28 23:54:35 - mmengine - \u001b[5m\u001b[4m\u001b[33mWARNING\u001b[0m - \"FileClient\" will be deprecated in future. Please use io functions in https://mmengine.readthedocs.io/en/latest/api/fileio.html#file-io\n",
      "10/28 23:54:35 - mmengine - \u001b[5m\u001b[4m\u001b[33mWARNING\u001b[0m - \"HardDiskBackend\" is the alias of \"LocalBackend\" and the former will be deprecated in future.\n"
     ]
    },
    {
     "name": "stderr",
     "output_type": "stream",
     "text": [
      "100%|██████████| 5/5 [00:32<00:00,  6.40s/it]\n"
     ]
    },
    {
     "name": "stdout",
     "output_type": "stream",
     "text": [
      "2024-10-28 23:55:07 Test INFO: Testing Over...\n",
      "\n",
      "++++++ data/charades/annotations/charades_test.json\n",
      "2024-10-28 23:56:03 Test INFO: Video duration of data/b11_phone_motion2_backview/raw_data/video/组装2-2-1277-161.mp4: 159.77s\n",
      "*********************video key: 组装2-2-1277-161\n",
      "2024-10-28 23:56:03 Test INFO: Using Automatic Mixed Precision...\n",
      "2024-10-28 23:56:03 Test INFO: testing subset: 1 videos, truncated as 12 windows.\n",
      "2024-10-28 23:56:03 Test INFO: Testing Starts...\n",
      "\n"
     ]
    },
    {
     "name": "stderr",
     "output_type": "stream",
     "text": [
      "  0%|          | 0/6 [00:00<?, ?it/s]"
     ]
    },
    {
     "name": "stdout",
     "output_type": "stream",
     "text": [
      "10/28 23:56:03 - mmengine - \u001b[5m\u001b[4m\u001b[33mWARNING\u001b[0m - \"FileClient\" will be deprecated in future. Please use io functions in https://mmengine.readthedocs.io/en/latest/api/fileio.html#file-io\n",
      "10/28 23:56:03 - mmengine - \u001b[5m\u001b[4m\u001b[33mWARNING\u001b[0m - \"HardDiskBackend\" is the alias of \"LocalBackend\" and the former will be deprecated in future.\n"
     ]
    },
    {
     "name": "stderr",
     "output_type": "stream",
     "text": [
      "100%|██████████| 6/6 [00:39<00:00,  6.55s/it]\n"
     ]
    },
    {
     "name": "stdout",
     "output_type": "stream",
     "text": [
      "2024-10-28 23:56:43 Test INFO: Testing Over...\n",
      "\n",
      "++++++ data/charades/annotations/charades_test.json\n",
      "2024-10-28 23:57:50 Test INFO: Video duration of data/b11_phone_motion2_backview/raw_data/video/组装2-2-1461-109.mp4: 108.63s\n",
      "*********************video key: 组装2-2-1461-109\n",
      "2024-10-28 23:57:50 Test INFO: Using Automatic Mixed Precision...\n",
      "2024-10-28 23:57:50 Test INFO: testing subset: 1 videos, truncated as 8 windows.\n",
      "2024-10-28 23:57:50 Test INFO: Testing Starts...\n",
      "\n"
     ]
    },
    {
     "name": "stderr",
     "output_type": "stream",
     "text": [
      "  0%|          | 0/4 [00:00<?, ?it/s]"
     ]
    },
    {
     "name": "stdout",
     "output_type": "stream",
     "text": [
      "10/28 23:57:50 - mmengine - \u001b[5m\u001b[4m\u001b[33mWARNING\u001b[0m - \"FileClient\" will be deprecated in future. Please use io functions in https://mmengine.readthedocs.io/en/latest/api/fileio.html#file-io\n",
      "10/28 23:57:50 - mmengine - \u001b[5m\u001b[4m\u001b[33mWARNING\u001b[0m - \"HardDiskBackend\" is the alias of \"LocalBackend\" and the former will be deprecated in future.\n"
     ]
    },
    {
     "name": "stderr",
     "output_type": "stream",
     "text": [
      "100%|██████████| 4/4 [00:25<00:00,  6.30s/it]\n"
     ]
    },
    {
     "name": "stdout",
     "output_type": "stream",
     "text": [
      "2024-10-28 23:58:16 Test INFO: Testing Over...\n",
      "\n",
      "++++++ data/charades/annotations/charades_test.json\n",
      "2024-10-28 23:59:00 Test INFO: Video duration of data/b11_phone_motion2_backview/raw_data/video/组装2-2-1580-167.mp4: 166.28s\n",
      "*********************video key: 组装2-2-1580-167\n",
      "2024-10-28 23:59:00 Test INFO: Using Automatic Mixed Precision...\n",
      "2024-10-28 23:59:00 Test INFO: testing subset: 1 videos, truncated as 12 windows.\n",
      "2024-10-28 23:59:00 Test INFO: Testing Starts...\n",
      "\n"
     ]
    },
    {
     "name": "stderr",
     "output_type": "stream",
     "text": [
      "  0%|          | 0/6 [00:00<?, ?it/s]"
     ]
    },
    {
     "name": "stdout",
     "output_type": "stream",
     "text": [
      "10/28 23:59:00 - mmengine - \u001b[5m\u001b[4m\u001b[33mWARNING\u001b[0m - \"FileClient\" will be deprecated in future. Please use io functions in https://mmengine.readthedocs.io/en/latest/api/fileio.html#file-io\n",
      "10/28 23:59:00 - mmengine - \u001b[5m\u001b[4m\u001b[33mWARNING\u001b[0m - \"HardDiskBackend\" is the alias of \"LocalBackend\" and the former will be deprecated in future.\n"
     ]
    },
    {
     "name": "stderr",
     "output_type": "stream",
     "text": [
      "100%|██████████| 6/6 [00:39<00:00,  6.59s/it]\n"
     ]
    },
    {
     "name": "stdout",
     "output_type": "stream",
     "text": [
      "2024-10-28 23:59:41 Test INFO: Testing Over...\n",
      "\n",
      "++++++ data/charades/annotations/charades_test.json\n",
      "2024-10-29 00:00:52 Test INFO: Video duration of data/b11_phone_motion2_backview/raw_data/video/组装2-2-17-102.mp4: 101.76s\n",
      "*********************video key: 组装2-2-17-102\n",
      "2024-10-29 00:00:52 Test INFO: Using Automatic Mixed Precision...\n",
      "2024-10-29 00:00:52 Test INFO: testing subset: 1 videos, truncated as 7 windows.\n",
      "2024-10-29 00:00:52 Test INFO: Testing Starts...\n",
      "\n"
     ]
    },
    {
     "name": "stderr",
     "output_type": "stream",
     "text": [
      "  0%|          | 0/4 [00:00<?, ?it/s]"
     ]
    },
    {
     "name": "stdout",
     "output_type": "stream",
     "text": [
      "10/29 00:00:52 - mmengine - \u001b[5m\u001b[4m\u001b[33mWARNING\u001b[0m - \"FileClient\" will be deprecated in future. Please use io functions in https://mmengine.readthedocs.io/en/latest/api/fileio.html#file-io\n",
      "10/29 00:00:52 - mmengine - \u001b[5m\u001b[4m\u001b[33mWARNING\u001b[0m - \"HardDiskBackend\" is the alias of \"LocalBackend\" and the former will be deprecated in future.\n"
     ]
    },
    {
     "name": "stderr",
     "output_type": "stream",
     "text": [
      "100%|██████████| 4/4 [00:21<00:00,  5.39s/it]\n"
     ]
    },
    {
     "name": "stdout",
     "output_type": "stream",
     "text": [
      "2024-10-29 00:01:13 Test INFO: Testing Over...\n",
      "\n",
      "++++++ data/charades/annotations/charades_test.json\n",
      "2024-10-29 00:01:53 Test INFO: Video duration of data/b11_phone_motion2_backview/raw_data/video/组装2-2-1746-108.mp4: 107.59s\n",
      "*********************video key: 组装2-2-1746-108\n",
      "2024-10-29 00:01:53 Test INFO: Using Automatic Mixed Precision...\n",
      "2024-10-29 00:01:53 Test INFO: testing subset: 1 videos, truncated as 8 windows.\n",
      "2024-10-29 00:01:53 Test INFO: Testing Starts...\n",
      "\n"
     ]
    },
    {
     "name": "stderr",
     "output_type": "stream",
     "text": [
      "  0%|          | 0/4 [00:00<?, ?it/s]"
     ]
    },
    {
     "name": "stdout",
     "output_type": "stream",
     "text": [
      "10/29 00:01:53 - mmengine - \u001b[5m\u001b[4m\u001b[33mWARNING\u001b[0m - \"FileClient\" will be deprecated in future. Please use io functions in https://mmengine.readthedocs.io/en/latest/api/fileio.html#file-io\n",
      "10/29 00:01:53 - mmengine - \u001b[5m\u001b[4m\u001b[33mWARNING\u001b[0m - \"HardDiskBackend\" is the alias of \"LocalBackend\" and the former will be deprecated in future.\n"
     ]
    },
    {
     "name": "stderr",
     "output_type": "stream",
     "text": [
      "100%|██████████| 4/4 [00:25<00:00,  6.29s/it]\n"
     ]
    },
    {
     "name": "stdout",
     "output_type": "stream",
     "text": [
      "2024-10-29 00:02:18 Test INFO: Testing Over...\n",
      "\n",
      "++++++ data/charades/annotations/charades_test.json\n",
      "2024-10-29 00:03:01 Test INFO: Video duration of data/b11_phone_motion2_backview/raw_data/video/组装2-2-1869-143.mp4: 142.06s\n",
      "*********************video key: 组装2-2-1869-143\n",
      "2024-10-29 00:03:01 Test INFO: Using Automatic Mixed Precision...\n",
      "2024-10-29 00:03:01 Test INFO: testing subset: 1 videos, truncated as 11 windows.\n",
      "2024-10-29 00:03:01 Test INFO: Testing Starts...\n",
      "\n"
     ]
    },
    {
     "name": "stderr",
     "output_type": "stream",
     "text": [
      "  0%|          | 0/6 [00:00<?, ?it/s]"
     ]
    },
    {
     "name": "stdout",
     "output_type": "stream",
     "text": [
      "10/29 00:03:01 - mmengine - \u001b[5m\u001b[4m\u001b[33mWARNING\u001b[0m - \"FileClient\" will be deprecated in future. Please use io functions in https://mmengine.readthedocs.io/en/latest/api/fileio.html#file-io\n",
      "10/29 00:03:01 - mmengine - \u001b[5m\u001b[4m\u001b[33mWARNING\u001b[0m - \"HardDiskBackend\" is the alias of \"LocalBackend\" and the former will be deprecated in future.\n"
     ]
    },
    {
     "name": "stderr",
     "output_type": "stream",
     "text": [
      "100%|██████████| 6/6 [00:35<00:00,  5.83s/it]\n"
     ]
    },
    {
     "name": "stdout",
     "output_type": "stream",
     "text": [
      "2024-10-29 00:03:36 Test INFO: Testing Over...\n",
      "\n",
      "++++++ data/charades/annotations/charades_test.json\n",
      "2024-10-29 00:04:37 Test INFO: Video duration of data/b11_phone_motion2_backview/raw_data/video/组装2-2-2014-126.mp4: 125.07s\n",
      "*********************video key: 组装2-2-2014-126\n",
      "2024-10-29 00:04:37 Test INFO: Using Automatic Mixed Precision...\n",
      "2024-10-29 00:04:37 Test INFO: testing subset: 1 videos, truncated as 9 windows.\n",
      "2024-10-29 00:04:37 Test INFO: Testing Starts...\n",
      "\n"
     ]
    },
    {
     "name": "stderr",
     "output_type": "stream",
     "text": [
      "  0%|          | 0/5 [00:00<?, ?it/s]"
     ]
    },
    {
     "name": "stdout",
     "output_type": "stream",
     "text": [
      "10/29 00:04:38 - mmengine - \u001b[5m\u001b[4m\u001b[33mWARNING\u001b[0m - \"FileClient\" will be deprecated in future. Please use io functions in https://mmengine.readthedocs.io/en/latest/api/fileio.html#file-io\n",
      "10/29 00:04:38 - mmengine - \u001b[5m\u001b[4m\u001b[33mWARNING\u001b[0m - \"HardDiskBackend\" is the alias of \"LocalBackend\" and the former will be deprecated in future.\n"
     ]
    },
    {
     "name": "stderr",
     "output_type": "stream",
     "text": [
      "100%|██████████| 5/5 [00:28<00:00,  5.67s/it]\n"
     ]
    },
    {
     "name": "stdout",
     "output_type": "stream",
     "text": [
      "2024-10-29 00:05:06 Test INFO: Testing Over...\n",
      "\n",
      "++++++ data/charades/annotations/charades_test.json\n",
      "2024-10-29 00:05:57 Test INFO: Video duration of data/b11_phone_motion2_backview/raw_data/video/组装2-2-259-121.mp4: 119.87s\n",
      "*********************video key: 组装2-2-259-121\n",
      "2024-10-29 00:05:57 Test INFO: Using Automatic Mixed Precision...\n",
      "2024-10-29 00:05:57 Test INFO: testing subset: 1 videos, truncated as 9 windows.\n",
      "2024-10-29 00:05:57 Test INFO: Testing Starts...\n",
      "\n"
     ]
    },
    {
     "name": "stderr",
     "output_type": "stream",
     "text": [
      "  0%|          | 0/5 [00:00<?, ?it/s]"
     ]
    },
    {
     "name": "stdout",
     "output_type": "stream",
     "text": [
      "10/29 00:05:58 - mmengine - \u001b[5m\u001b[4m\u001b[33mWARNING\u001b[0m - \"FileClient\" will be deprecated in future. Please use io functions in https://mmengine.readthedocs.io/en/latest/api/fileio.html#file-io\n",
      "10/29 00:05:58 - mmengine - \u001b[5m\u001b[4m\u001b[33mWARNING\u001b[0m - \"HardDiskBackend\" is the alias of \"LocalBackend\" and the former will be deprecated in future.\n"
     ]
    },
    {
     "name": "stderr",
     "output_type": "stream",
     "text": [
      "100%|██████████| 5/5 [00:28<00:00,  5.65s/it]\n"
     ]
    },
    {
     "name": "stdout",
     "output_type": "stream",
     "text": [
      "2024-10-29 00:06:26 Test INFO: Testing Over...\n",
      "\n",
      "++++++ data/charades/annotations/charades_test.json\n",
      "2024-10-29 00:07:17 Test INFO: Video duration of data/b11_phone_motion2_backview/raw_data/video/组装2-2-381-148.mp4: 147.03s\n",
      "*********************video key: 组装2-2-381-148\n",
      "2024-10-29 00:07:17 Test INFO: Using Automatic Mixed Precision...\n",
      "2024-10-29 00:07:17 Test INFO: testing subset: 1 videos, truncated as 11 windows.\n",
      "2024-10-29 00:07:17 Test INFO: Testing Starts...\n",
      "\n"
     ]
    },
    {
     "name": "stderr",
     "output_type": "stream",
     "text": [
      "  0%|          | 0/6 [00:00<?, ?it/s]"
     ]
    },
    {
     "name": "stdout",
     "output_type": "stream",
     "text": [
      "10/29 00:07:17 - mmengine - \u001b[5m\u001b[4m\u001b[33mWARNING\u001b[0m - \"FileClient\" will be deprecated in future. Please use io functions in https://mmengine.readthedocs.io/en/latest/api/fileio.html#file-io\n",
      "10/29 00:07:17 - mmengine - \u001b[5m\u001b[4m\u001b[33mWARNING\u001b[0m - \"HardDiskBackend\" is the alias of \"LocalBackend\" and the former will be deprecated in future.\n"
     ]
    },
    {
     "name": "stderr",
     "output_type": "stream",
     "text": [
      "100%|██████████| 6/6 [00:35<00:00,  5.85s/it]\n"
     ]
    },
    {
     "name": "stdout",
     "output_type": "stream",
     "text": [
      "2024-10-29 00:07:52 Test INFO: Testing Over...\n",
      "\n",
      "++++++ data/charades/annotations/charades_test.json\n",
      "2024-10-29 00:08:57 Test INFO: Video duration of data/b11_phone_motion2_backview/raw_data/video/组装2-2-534-133.mp4: 132.85s\n",
      "*********************video key: 组装2-2-534-133\n",
      "2024-10-29 00:08:57 Test INFO: Using Automatic Mixed Precision...\n",
      "2024-10-29 00:08:57 Test INFO: testing subset: 1 videos, truncated as 10 windows.\n",
      "2024-10-29 00:08:57 Test INFO: Testing Starts...\n",
      "\n"
     ]
    },
    {
     "name": "stderr",
     "output_type": "stream",
     "text": [
      "  0%|          | 0/5 [00:00<?, ?it/s]"
     ]
    },
    {
     "name": "stdout",
     "output_type": "stream",
     "text": [
      "10/29 00:08:57 - mmengine - \u001b[5m\u001b[4m\u001b[33mWARNING\u001b[0m - \"FileClient\" will be deprecated in future. Please use io functions in https://mmengine.readthedocs.io/en/latest/api/fileio.html#file-io\n",
      "10/29 00:08:57 - mmengine - \u001b[5m\u001b[4m\u001b[33mWARNING\u001b[0m - \"HardDiskBackend\" is the alias of \"LocalBackend\" and the former will be deprecated in future.\n"
     ]
    },
    {
     "name": "stderr",
     "output_type": "stream",
     "text": [
      "100%|██████████| 5/5 [00:31<00:00,  6.37s/it]\n"
     ]
    },
    {
     "name": "stdout",
     "output_type": "stream",
     "text": [
      "2024-10-29 00:09:30 Test INFO: Testing Over...\n",
      "\n",
      "++++++ data/charades/annotations/charades_test.json\n",
      "2024-10-29 00:10:26 Test INFO: Video duration of data/b11_phone_motion2_backview/raw_data/video/组装2-2-667-153.mp4: 152.56s\n",
      "*********************video key: 组装2-2-667-153\n",
      "2024-10-29 00:10:26 Test INFO: Using Automatic Mixed Precision...\n",
      "2024-10-29 00:10:26 Test INFO: testing subset: 1 videos, truncated as 11 windows.\n",
      "2024-10-29 00:10:26 Test INFO: Testing Starts...\n",
      "\n"
     ]
    },
    {
     "name": "stderr",
     "output_type": "stream",
     "text": [
      "  0%|          | 0/6 [00:00<?, ?it/s]"
     ]
    },
    {
     "name": "stdout",
     "output_type": "stream",
     "text": [
      "10/29 00:10:26 - mmengine - \u001b[5m\u001b[4m\u001b[33mWARNING\u001b[0m - \"FileClient\" will be deprecated in future. Please use io functions in https://mmengine.readthedocs.io/en/latest/api/fileio.html#file-io\n",
      "10/29 00:10:26 - mmengine - \u001b[5m\u001b[4m\u001b[33mWARNING\u001b[0m - \"HardDiskBackend\" is the alias of \"LocalBackend\" and the former will be deprecated in future.\n"
     ]
    },
    {
     "name": "stderr",
     "output_type": "stream",
     "text": [
      "100%|██████████| 6/6 [00:35<00:00,  5.90s/it]\n"
     ]
    },
    {
     "name": "stdout",
     "output_type": "stream",
     "text": [
      "2024-10-29 00:11:02 Test INFO: Testing Over...\n",
      "\n",
      "++++++ data/charades/annotations/charades_test.json\n",
      "2024-10-29 00:12:06 Test INFO: Video duration of data/b11_phone_motion2_backview/raw_data/video/组装2-2-824-160.mp4: 160.41s\n",
      "*********************video key: 组装2-2-824-160\n",
      "2024-10-29 00:12:06 Test INFO: Using Automatic Mixed Precision...\n",
      "2024-10-29 00:12:06 Test INFO: testing subset: 1 videos, truncated as 12 windows.\n",
      "2024-10-29 00:12:06 Test INFO: Testing Starts...\n",
      "\n"
     ]
    },
    {
     "name": "stderr",
     "output_type": "stream",
     "text": [
      "  0%|          | 0/6 [00:00<?, ?it/s]"
     ]
    },
    {
     "name": "stdout",
     "output_type": "stream",
     "text": [
      "10/29 00:12:06 - mmengine - \u001b[5m\u001b[4m\u001b[33mWARNING\u001b[0m - \"FileClient\" will be deprecated in future. Please use io functions in https://mmengine.readthedocs.io/en/latest/api/fileio.html#file-io\n",
      "10/29 00:12:06 - mmengine - \u001b[5m\u001b[4m\u001b[33mWARNING\u001b[0m - \"HardDiskBackend\" is the alias of \"LocalBackend\" and the former will be deprecated in future.\n"
     ]
    },
    {
     "name": "stderr",
     "output_type": "stream",
     "text": [
      "100%|██████████| 6/6 [00:39<00:00,  6.53s/it]\n"
     ]
    },
    {
     "name": "stdout",
     "output_type": "stream",
     "text": [
      "2024-10-29 00:12:46 Test INFO: Testing Over...\n",
      "\n",
      "++++++ data/charades/annotations/charades_test.json\n",
      "2024-10-29 00:13:56 Test INFO: Video duration of data/b11_phone_motion2_backview/raw_data/video/组装2-2-995-117.mp4: 116.07s\n",
      "*********************video key: 组装2-2-995-117\n",
      "2024-10-29 00:13:56 Test INFO: Using Automatic Mixed Precision...\n",
      "2024-10-29 00:13:56 Test INFO: testing subset: 1 videos, truncated as 9 windows.\n",
      "2024-10-29 00:13:56 Test INFO: Testing Starts...\n",
      "\n"
     ]
    },
    {
     "name": "stderr",
     "output_type": "stream",
     "text": [
      "  0%|          | 0/5 [00:00<?, ?it/s]"
     ]
    },
    {
     "name": "stdout",
     "output_type": "stream",
     "text": [
      "10/29 00:13:56 - mmengine - \u001b[5m\u001b[4m\u001b[33mWARNING\u001b[0m - \"FileClient\" will be deprecated in future. Please use io functions in https://mmengine.readthedocs.io/en/latest/api/fileio.html#file-io\n",
      "10/29 00:13:56 - mmengine - \u001b[5m\u001b[4m\u001b[33mWARNING\u001b[0m - \"HardDiskBackend\" is the alias of \"LocalBackend\" and the former will be deprecated in future.\n"
     ]
    },
    {
     "name": "stderr",
     "output_type": "stream",
     "text": [
      "100%|██████████| 5/5 [00:27<00:00,  5.59s/it]\n"
     ]
    },
    {
     "name": "stdout",
     "output_type": "stream",
     "text": [
      "2024-10-29 00:14:24 Test INFO: Testing Over...\n",
      "\n",
      "++++++ data/charades/annotations/charades_test.json\n",
      "2024-10-29 00:15:12 Test INFO: Video duration of data/b11_phone_motion2_backview/raw_data/video/组装2-3-1147-275.mp4: 273.91s\n",
      "*********************video key: 组装2-3-1147-275\n",
      "2024-10-29 00:15:12 Test INFO: Using Automatic Mixed Precision...\n",
      "2024-10-29 00:15:12 Test INFO: testing subset: 1 videos, truncated as 21 windows.\n",
      "2024-10-29 00:15:12 Test INFO: Testing Starts...\n",
      "\n"
     ]
    },
    {
     "name": "stderr",
     "output_type": "stream",
     "text": [
      "  0%|          | 0/11 [00:00<?, ?it/s]"
     ]
    },
    {
     "name": "stdout",
     "output_type": "stream",
     "text": [
      "10/29 00:15:12 - mmengine - \u001b[5m\u001b[4m\u001b[33mWARNING\u001b[0m - \"FileClient\" will be deprecated in future. Please use io functions in https://mmengine.readthedocs.io/en/latest/api/fileio.html#file-io\n",
      "10/29 00:15:12 - mmengine - \u001b[5m\u001b[4m\u001b[33mWARNING\u001b[0m - \"HardDiskBackend\" is the alias of \"LocalBackend\" and the former will be deprecated in future.\n"
     ]
    },
    {
     "name": "stderr",
     "output_type": "stream",
     "text": [
      "100%|██████████| 11/11 [01:16<00:00,  7.00s/it]\n"
     ]
    },
    {
     "name": "stdout",
     "output_type": "stream",
     "text": [
      "2024-10-29 00:16:31 Test INFO: Testing Over...\n",
      "\n",
      "++++++ data/charades/annotations/charades_test.json\n",
      "2024-10-29 00:18:23 Test INFO: Video duration of data/b11_phone_motion2_backview/raw_data/video/组装2-3-1161-161.mp4: 160.34s\n",
      "*********************video key: 组装2-3-1161-161\n",
      "2024-10-29 00:18:23 Test INFO: Using Automatic Mixed Precision...\n",
      "2024-10-29 00:18:23 Test INFO: testing subset: 1 videos, truncated as 12 windows.\n",
      "2024-10-29 00:18:23 Test INFO: Testing Starts...\n",
      "\n"
     ]
    },
    {
     "name": "stderr",
     "output_type": "stream",
     "text": [
      "  0%|          | 0/6 [00:00<?, ?it/s]"
     ]
    },
    {
     "name": "stdout",
     "output_type": "stream",
     "text": [
      "10/29 00:18:23 - mmengine - \u001b[5m\u001b[4m\u001b[33mWARNING\u001b[0m - \"FileClient\" will be deprecated in future. Please use io functions in https://mmengine.readthedocs.io/en/latest/api/fileio.html#file-io\n",
      "10/29 00:18:23 - mmengine - \u001b[5m\u001b[4m\u001b[33mWARNING\u001b[0m - \"HardDiskBackend\" is the alias of \"LocalBackend\" and the former will be deprecated in future.\n"
     ]
    },
    {
     "name": "stderr",
     "output_type": "stream",
     "text": [
      "100%|██████████| 6/6 [00:40<00:00,  6.68s/it]\n"
     ]
    },
    {
     "name": "stdout",
     "output_type": "stream",
     "text": [
      "2024-10-29 00:19:04 Test INFO: Testing Over...\n",
      "\n",
      "++++++ data/charades/annotations/charades_test.json\n",
      "2024-10-29 00:20:10 Test INFO: Video duration of data/b11_phone_motion2_backview/raw_data/video/组装2-3-1323-125.mp4: 124.38s\n",
      "*********************video key: 组装2-3-1323-125\n",
      "2024-10-29 00:20:10 Test INFO: Using Automatic Mixed Precision...\n",
      "2024-10-29 00:20:10 Test INFO: testing subset: 1 videos, truncated as 9 windows.\n",
      "2024-10-29 00:20:10 Test INFO: Testing Starts...\n",
      "\n"
     ]
    },
    {
     "name": "stderr",
     "output_type": "stream",
     "text": [
      "  0%|          | 0/5 [00:00<?, ?it/s]"
     ]
    },
    {
     "name": "stdout",
     "output_type": "stream",
     "text": [
      "10/29 00:20:10 - mmengine - \u001b[5m\u001b[4m\u001b[33mWARNING\u001b[0m - \"FileClient\" will be deprecated in future. Please use io functions in https://mmengine.readthedocs.io/en/latest/api/fileio.html#file-io\n",
      "10/29 00:20:10 - mmengine - \u001b[5m\u001b[4m\u001b[33mWARNING\u001b[0m - \"HardDiskBackend\" is the alias of \"LocalBackend\" and the former will be deprecated in future.\n"
     ]
    },
    {
     "name": "stderr",
     "output_type": "stream",
     "text": [
      "100%|██████████| 5/5 [00:28<00:00,  5.75s/it]\n"
     ]
    },
    {
     "name": "stdout",
     "output_type": "stream",
     "text": [
      "2024-10-29 00:20:39 Test INFO: Testing Over...\n",
      "\n",
      "++++++ data/charades/annotations/charades_test.json\n",
      "2024-10-29 00:21:33 Test INFO: Video duration of data/b11_phone_motion2_backview/raw_data/video/组装2-3-1451-262.mp4: 260.76s\n",
      "*********************video key: 组装2-3-1451-262\n",
      "2024-10-29 00:21:33 Test INFO: Using Automatic Mixed Precision...\n",
      "2024-10-29 00:21:33 Test INFO: testing subset: 1 videos, truncated as 20 windows.\n",
      "2024-10-29 00:21:33 Test INFO: Testing Starts...\n",
      "\n"
     ]
    },
    {
     "name": "stderr",
     "output_type": "stream",
     "text": [
      "  0%|          | 0/10 [00:00<?, ?it/s]"
     ]
    },
    {
     "name": "stdout",
     "output_type": "stream",
     "text": [
      "10/29 00:21:33 - mmengine - \u001b[5m\u001b[4m\u001b[33mWARNING\u001b[0m - \"FileClient\" will be deprecated in future. Please use io functions in https://mmengine.readthedocs.io/en/latest/api/fileio.html#file-io\n",
      "10/29 00:21:33 - mmengine - \u001b[5m\u001b[4m\u001b[33mWARNING\u001b[0m - \"HardDiskBackend\" is the alias of \"LocalBackend\" and the former will be deprecated in future.\n"
     ]
    },
    {
     "name": "stderr",
     "output_type": "stream",
     "text": [
      "100%|██████████| 10/10 [01:11<00:00,  7.15s/it]\n"
     ]
    },
    {
     "name": "stdout",
     "output_type": "stream",
     "text": [
      "2024-10-29 00:22:46 Test INFO: Testing Over...\n",
      "\n",
      "++++++ data/charades/annotations/charades_test.json\n",
      "2024-10-29 00:24:41 Test INFO: Video duration of data/b11_phone_motion2_backview/raw_data/video/组装2-3-1713-262.mp4: 260.76s\n",
      "*********************video key: 组装2-3-1713-262\n",
      "2024-10-29 00:24:41 Test INFO: Using Automatic Mixed Precision...\n",
      "2024-10-29 00:24:41 Test INFO: testing subset: 1 videos, truncated as 20 windows.\n",
      "2024-10-29 00:24:41 Test INFO: Testing Starts...\n",
      "\n"
     ]
    },
    {
     "name": "stderr",
     "output_type": "stream",
     "text": [
      "  0%|          | 0/10 [00:00<?, ?it/s]"
     ]
    },
    {
     "name": "stdout",
     "output_type": "stream",
     "text": [
      "10/29 00:24:41 - mmengine - \u001b[5m\u001b[4m\u001b[33mWARNING\u001b[0m - \"FileClient\" will be deprecated in future. Please use io functions in https://mmengine.readthedocs.io/en/latest/api/fileio.html#file-io\n",
      "10/29 00:24:41 - mmengine - \u001b[5m\u001b[4m\u001b[33mWARNING\u001b[0m - \"HardDiskBackend\" is the alias of \"LocalBackend\" and the former will be deprecated in future.\n"
     ]
    },
    {
     "name": "stderr",
     "output_type": "stream",
     "text": [
      "100%|██████████| 10/10 [01:11<00:00,  7.18s/it]\n"
     ]
    },
    {
     "name": "stdout",
     "output_type": "stream",
     "text": [
      "2024-10-29 00:25:54 Test INFO: Testing Over...\n",
      "\n",
      "++++++ data/charades/annotations/charades_test.json\n",
      "2024-10-29 00:27:49 Test INFO: Video duration of data/b11_phone_motion2_backview/raw_data/video/组装2-3-1715-258.mp4: 257.42s\n",
      "*********************video key: 组装2-3-1715-258\n",
      "2024-10-29 00:27:49 Test INFO: Using Automatic Mixed Precision...\n",
      "2024-10-29 00:27:49 Test INFO: testing subset: 1 videos, truncated as 20 windows.\n",
      "2024-10-29 00:27:49 Test INFO: Testing Starts...\n",
      "\n"
     ]
    },
    {
     "name": "stderr",
     "output_type": "stream",
     "text": [
      "  0%|          | 0/10 [00:00<?, ?it/s]"
     ]
    },
    {
     "name": "stdout",
     "output_type": "stream",
     "text": [
      "10/29 00:27:49 - mmengine - \u001b[5m\u001b[4m\u001b[33mWARNING\u001b[0m - \"FileClient\" will be deprecated in future. Please use io functions in https://mmengine.readthedocs.io/en/latest/api/fileio.html#file-io\n",
      "10/29 00:27:49 - mmengine - \u001b[5m\u001b[4m\u001b[33mWARNING\u001b[0m - \"HardDiskBackend\" is the alias of \"LocalBackend\" and the former will be deprecated in future.\n"
     ]
    },
    {
     "name": "stderr",
     "output_type": "stream",
     "text": [
      "100%|██████████| 10/10 [01:11<00:00,  7.15s/it]\n"
     ]
    },
    {
     "name": "stdout",
     "output_type": "stream",
     "text": [
      "2024-10-29 00:29:01 Test INFO: Testing Over...\n",
      "\n",
      "++++++ data/charades/annotations/charades_test.json\n",
      "2024-10-29 00:30:49 Test INFO: Video duration of data/b11_phone_motion2_backview/raw_data/video/组装2-3-1973-258.mp4: 257.42s\n",
      "*********************video key: 组装2-3-1973-258\n",
      "2024-10-29 00:30:49 Test INFO: Using Automatic Mixed Precision...\n",
      "2024-10-29 00:30:49 Test INFO: testing subset: 1 videos, truncated as 20 windows.\n",
      "2024-10-29 00:30:49 Test INFO: Testing Starts...\n",
      "\n"
     ]
    },
    {
     "name": "stderr",
     "output_type": "stream",
     "text": [
      "  0%|          | 0/10 [00:00<?, ?it/s]"
     ]
    },
    {
     "name": "stdout",
     "output_type": "stream",
     "text": [
      "10/29 00:30:49 - mmengine - \u001b[5m\u001b[4m\u001b[33mWARNING\u001b[0m - \"FileClient\" will be deprecated in future. Please use io functions in https://mmengine.readthedocs.io/en/latest/api/fileio.html#file-io\n",
      "10/29 00:30:49 - mmengine - \u001b[5m\u001b[4m\u001b[33mWARNING\u001b[0m - \"HardDiskBackend\" is the alias of \"LocalBackend\" and the former will be deprecated in future.\n"
     ]
    },
    {
     "name": "stderr",
     "output_type": "stream",
     "text": [
      "100%|██████████| 10/10 [01:11<00:00,  7.14s/it]\n"
     ]
    },
    {
     "name": "stdout",
     "output_type": "stream",
     "text": [
      "2024-10-29 00:32:01 Test INFO: Testing Over...\n",
      "\n",
      "++++++ data/charades/annotations/charades_test.json\n",
      "2024-10-29 00:33:48 Test INFO: Video duration of data/b11_phone_motion2_backview/raw_data/video/组装2-3-1976-281.mp4: 280.38s\n",
      "*********************video key: 组装2-3-1976-281\n",
      "2024-10-29 00:33:48 Test INFO: Using Automatic Mixed Precision...\n",
      "2024-10-29 00:33:48 Test INFO: testing subset: 1 videos, truncated as 21 windows.\n",
      "2024-10-29 00:33:48 Test INFO: Testing Starts...\n",
      "\n"
     ]
    },
    {
     "name": "stderr",
     "output_type": "stream",
     "text": [
      "  0%|          | 0/11 [00:00<?, ?it/s]"
     ]
    },
    {
     "name": "stdout",
     "output_type": "stream",
     "text": [
      "10/29 00:33:49 - mmengine - \u001b[5m\u001b[4m\u001b[33mWARNING\u001b[0m - \"FileClient\" will be deprecated in future. Please use io functions in https://mmengine.readthedocs.io/en/latest/api/fileio.html#file-io\n",
      "10/29 00:33:49 - mmengine - \u001b[5m\u001b[4m\u001b[33mWARNING\u001b[0m - \"HardDiskBackend\" is the alias of \"LocalBackend\" and the former will be deprecated in future.\n"
     ]
    },
    {
     "name": "stderr",
     "output_type": "stream",
     "text": [
      "100%|██████████| 11/11 [01:16<00:00,  6.95s/it]\n"
     ]
    },
    {
     "name": "stdout",
     "output_type": "stream",
     "text": [
      "2024-10-29 00:35:06 Test INFO: Testing Over...\n",
      "\n",
      "++++++ data/charades/annotations/charades_test.json\n",
      "2024-10-29 00:37:07 Test INFO: Video duration of data/b11_phone_motion2_backview/raw_data/video/组装2-3-2257-281.mp4: 280.38s\n",
      "*********************video key: 组装2-3-2257-281\n",
      "2024-10-29 00:37:07 Test INFO: Using Automatic Mixed Precision...\n",
      "2024-10-29 00:37:07 Test INFO: testing subset: 1 videos, truncated as 21 windows.\n",
      "2024-10-29 00:37:07 Test INFO: Testing Starts...\n",
      "\n"
     ]
    },
    {
     "name": "stderr",
     "output_type": "stream",
     "text": [
      "  0%|          | 0/11 [00:00<?, ?it/s]"
     ]
    },
    {
     "name": "stdout",
     "output_type": "stream",
     "text": [
      "10/29 00:37:08 - mmengine - \u001b[5m\u001b[4m\u001b[33mWARNING\u001b[0m - \"FileClient\" will be deprecated in future. Please use io functions in https://mmengine.readthedocs.io/en/latest/api/fileio.html#file-io\n",
      "10/29 00:37:08 - mmengine - \u001b[5m\u001b[4m\u001b[33mWARNING\u001b[0m - \"HardDiskBackend\" is the alias of \"LocalBackend\" and the former will be deprecated in future.\n"
     ]
    },
    {
     "name": "stderr",
     "output_type": "stream",
     "text": [
      "100%|██████████| 11/11 [01:16<00:00,  6.94s/it]\n"
     ]
    },
    {
     "name": "stdout",
     "output_type": "stream",
     "text": [
      "2024-10-29 00:38:25 Test INFO: Testing Over...\n",
      "\n",
      "++++++ data/charades/annotations/charades_test.json\n",
      "2024-10-29 00:40:26 Test INFO: Video duration of data/b11_phone_motion2_backview/raw_data/video/组装2-3-267-265.mp4: 264.46s\n",
      "*********************video key: 组装2-3-267-265\n",
      "2024-10-29 00:40:26 Test INFO: Using Automatic Mixed Precision...\n",
      "2024-10-29 00:40:26 Test INFO: testing subset: 1 videos, truncated as 20 windows.\n",
      "2024-10-29 00:40:26 Test INFO: Testing Starts...\n",
      "\n"
     ]
    },
    {
     "name": "stderr",
     "output_type": "stream",
     "text": [
      "  0%|          | 0/10 [00:00<?, ?it/s]"
     ]
    },
    {
     "name": "stdout",
     "output_type": "stream",
     "text": [
      "10/29 00:40:26 - mmengine - \u001b[5m\u001b[4m\u001b[33mWARNING\u001b[0m - \"FileClient\" will be deprecated in future. Please use io functions in https://mmengine.readthedocs.io/en/latest/api/fileio.html#file-io\n",
      "10/29 00:40:26 - mmengine - \u001b[5m\u001b[4m\u001b[33mWARNING\u001b[0m - \"HardDiskBackend\" is the alias of \"LocalBackend\" and the former will be deprecated in future.\n"
     ]
    },
    {
     "name": "stderr",
     "output_type": "stream",
     "text": [
      "100%|██████████| 10/10 [01:12<00:00,  7.21s/it]\n"
     ]
    },
    {
     "name": "stdout",
     "output_type": "stream",
     "text": [
      "2024-10-29 00:41:39 Test INFO: Testing Over...\n",
      "\n",
      "++++++ data/charades/annotations/charades_test.json\n",
      "2024-10-29 00:43:25 Test INFO: Video duration of data/b11_phone_motion2_backview/raw_data/video/组装2-3-269-279.mp4: 277.74s\n",
      "*********************video key: 组装2-3-269-279\n",
      "2024-10-29 00:43:25 Test INFO: Using Automatic Mixed Precision...\n",
      "2024-10-29 00:43:25 Test INFO: testing subset: 1 videos, truncated as 21 windows.\n",
      "2024-10-29 00:43:25 Test INFO: Testing Starts...\n",
      "\n"
     ]
    },
    {
     "name": "stderr",
     "output_type": "stream",
     "text": [
      "  0%|          | 0/11 [00:00<?, ?it/s]"
     ]
    },
    {
     "name": "stdout",
     "output_type": "stream",
     "text": [
      "10/29 00:43:25 - mmengine - \u001b[5m\u001b[4m\u001b[33mWARNING\u001b[0m - \"FileClient\" will be deprecated in future. Please use io functions in https://mmengine.readthedocs.io/en/latest/api/fileio.html#file-io\n",
      "10/29 00:43:25 - mmengine - \u001b[5m\u001b[4m\u001b[33mWARNING\u001b[0m - \"HardDiskBackend\" is the alias of \"LocalBackend\" and the former will be deprecated in future.\n"
     ]
    },
    {
     "name": "stderr",
     "output_type": "stream",
     "text": [
      "100%|██████████| 11/11 [01:16<00:00,  6.91s/it]\n"
     ]
    },
    {
     "name": "stdout",
     "output_type": "stream",
     "text": [
      "2024-10-29 00:44:42 Test INFO: Testing Over...\n",
      "\n",
      "++++++ data/charades/annotations/charades_test.json\n",
      "2024-10-29 00:46:39 Test INFO: Video duration of data/b11_phone_motion2_backview/raw_data/video/组装2-3-3-265.mp4: 264.46s\n",
      "*********************video key: 组装2-3-3-265\n",
      "2024-10-29 00:46:39 Test INFO: Using Automatic Mixed Precision...\n",
      "2024-10-29 00:46:39 Test INFO: testing subset: 1 videos, truncated as 20 windows.\n",
      "2024-10-29 00:46:39 Test INFO: Testing Starts...\n",
      "\n"
     ]
    },
    {
     "name": "stderr",
     "output_type": "stream",
     "text": [
      "  0%|          | 0/10 [00:00<?, ?it/s]"
     ]
    },
    {
     "name": "stdout",
     "output_type": "stream",
     "text": [
      "10/29 00:46:39 - mmengine - \u001b[5m\u001b[4m\u001b[33mWARNING\u001b[0m - \"FileClient\" will be deprecated in future. Please use io functions in https://mmengine.readthedocs.io/en/latest/api/fileio.html#file-io\n",
      "10/29 00:46:39 - mmengine - \u001b[5m\u001b[4m\u001b[33mWARNING\u001b[0m - \"HardDiskBackend\" is the alias of \"LocalBackend\" and the former will be deprecated in future.\n"
     ]
    },
    {
     "name": "stderr",
     "output_type": "stream",
     "text": [
      "100%|██████████| 10/10 [01:11<00:00,  7.19s/it]\n"
     ]
    },
    {
     "name": "stdout",
     "output_type": "stream",
     "text": [
      "2024-10-29 00:47:52 Test INFO: Testing Over...\n",
      "\n",
      "++++++ data/charades/annotations/charades_test.json\n",
      "2024-10-29 00:49:37 Test INFO: Video duration of data/b11_phone_motion2_backview/raw_data/video/组装2-3-548-279.mp4: 277.74s\n",
      "*********************video key: 组装2-3-548-279\n",
      "2024-10-29 00:49:37 Test INFO: Using Automatic Mixed Precision...\n",
      "2024-10-29 00:49:37 Test INFO: testing subset: 1 videos, truncated as 21 windows.\n",
      "2024-10-29 00:49:37 Test INFO: Testing Starts...\n",
      "\n"
     ]
    },
    {
     "name": "stderr",
     "output_type": "stream",
     "text": [
      "  0%|          | 0/11 [00:00<?, ?it/s]"
     ]
    },
    {
     "name": "stdout",
     "output_type": "stream",
     "text": [
      "10/29 00:49:38 - mmengine - \u001b[5m\u001b[4m\u001b[33mWARNING\u001b[0m - \"FileClient\" will be deprecated in future. Please use io functions in https://mmengine.readthedocs.io/en/latest/api/fileio.html#file-io\n",
      "10/29 00:49:38 - mmengine - \u001b[5m\u001b[4m\u001b[33mWARNING\u001b[0m - \"HardDiskBackend\" is the alias of \"LocalBackend\" and the former will be deprecated in future.\n"
     ]
    },
    {
     "name": "stderr",
     "output_type": "stream",
     "text": [
      "100%|██████████| 11/11 [01:16<00:00,  6.91s/it]\n"
     ]
    },
    {
     "name": "stdout",
     "output_type": "stream",
     "text": [
      "2024-10-29 00:50:55 Test INFO: Testing Over...\n",
      "\n"
     ]
    }
   ],
   "source": [
    "from PIL import Image, ImageDraw, ImageFont\n",
    "font = ImageFont.truetype(\"ukai.ttc\", 40, encoding=\"utf-8\")\n",
    "\n",
    "for key, _ in example_videos:\n",
    "    video_file = f\"data/b11_phone_motion2_backview/raw_data/video/{key}.mp4\"\n",
    "    \n",
    "    prepare_input(cfg, logger, video_file, video_dir, \"testing\")\n",
    "    result = inference(model, cfg, logger)\n",
    "    \n",
    "    thresh = 0.45\n",
    "    processed_result = filter_segments(result, num_concurrent_events=2, thresh=thresh)\n",
    "    gt_result = gt_data['database'][key]['annotations']\n",
    "    \n",
    "    action_labels = list(set(segment['label'] for segment in processed_result).union(set(ann['label'] for ann in gt_result)))\n",
    "    \n",
    "    video = VideoReader(video_file)\n",
    "    # action_bar = generate_action_bar(processed_result, action_labels, video.frame_cnt / video.fps, (video.width, 20))\n",
    "    # gt_action_bar = generate_action_bar(gt_result, action_labels, video.frame_cnt / video.fps, (video.width, 20))\n",
    "    action_timeline = draw_action_timeline(list(result['results'].values())[0], gt_result, video.frame_cnt / video.fps, thresh, video.width, 40)\n",
    "    \n",
    "    import cv2\n",
    "    writer = cv2.VideoWriter(f\"example/output_wtrain_m2_ext_s1_ep{epoch}_{'-'.join(key.split('/'))}.mp4\", cv2.VideoWriter_fourcc(*'mp4v'), video.fps, (video.width, video.height + action_timeline.shape[0]))\n",
    "    for i, frame in enumerate(video):\n",
    "        new_frame = cv2.vconcat([frame, action_timeline])\n",
    "        \n",
    "        t = i / video.fps\n",
    "        gt_label = next((ann['label'] for ann in gt_result if ann['segment'][0] <= t and ann['segment'][1] >= t), None)\n",
    "        pred_label = next((segment['label'] for segment in processed_result if segment['segment'][0] <= t and segment['segment'][1] >= t), None)\n",
    "        \n",
    "        pimg = Image.fromarray(new_frame)\n",
    "        draw = ImageDraw.Draw(pimg)\n",
    "        draw.text((100, 220), f\"GT: {gt_label}\", font=font, fill=(0, 0, 255), stroke_width=2)\n",
    "        draw.text((100, 260), f\"Pred: {pred_label}\", font=font, fill=(0, 0, 255), stroke_width=2)\n",
    "        # cv2.putText(new_frame, f\"GT: {gt_label}\", (10, video.height // 4), cv2.FONT_HERSHEY_SIMPLEX, 0.5, (255, 255, 255), 1)\n",
    "        # cv2.putText(new_frame, f\"Pred: {pred_label}\", (10, video.height // 4 + 20), cv2.FONT_HERSHEY_SIMPLEX, 0.5, (255, 255, 255), 1)\n",
    "        \n",
    "        new_frame = np.array(pimg)\n",
    "        \n",
    "        progress = int(i / video.frame_cnt * video.width)\n",
    "        cv2.line(new_frame, (progress, new_frame.shape[0] - action_timeline.shape[0]), (progress, new_frame.shape[0]), (255, 255, 0), 2)\n",
    "        \n",
    "        writer.write(new_frame)\n",
    "\n",
    "    with open(f\"result_trained_ep{epoch}_{key}.json\", \"w\") as f:\n",
    "        json.dump(result, f, ensure_ascii=False, indent=4)\n",
    "    writer.release()"
   ]
  },
  {
   "cell_type": "code",
   "execution_count": 9,
   "metadata": {},
   "outputs": [],
   "source": [
    "with open(f\"result_ep{epoch}.json\", \"w\") as f:\n",
    "    json.dump(result, f, ensure_ascii=False, indent=4)"
   ]
  },
  {
   "cell_type": "code",
   "execution_count": 21,
   "metadata": {},
   "outputs": [],
   "source": [
    "with open(\"b11_phone_motion_result.json\", \"r\") as f:\n",
    "    result = json.load(f)\n",
    "\n",
    "with open(\"b11_phone_motion_result_ep449_filter.json\", \"w\") as f:\n",
    "    filter_segments = []\n",
    "    for segment in result[\"results\"][\"IMG_2316-2\"]:\n",
    "        if segment['score'] > 0.1:\n",
    "            filter_segments.append(segment)\n",
    "    json.dump(filter_segments, f, ensure_ascii=False, indent=4)"
   ]
  },
  {
   "cell_type": "code",
   "execution_count": 4,
   "metadata": {},
   "outputs": [
    {
     "name": "stdout",
     "output_type": "stream",
     "text": [
      "47\n",
      "51\n",
      "45\n",
      "50\n",
      "193\n"
     ]
    }
   ],
   "source": [
    "from pathlib import Path\n",
    "import json\n",
    "\n",
    "json_files = Path(\"/mnt/data/dtong/pubrepos/OpenTAD/data/b11_phone_motion2_backview/raw_data/clips\").glob(\"*.json\")\n",
    "\n",
    "# merge all json files\n",
    "all_data = {\"database\": {}}\n",
    "for file in json_files:\n",
    "    with open(file) as f:\n",
    "        data = json.load(f)\n",
    "        print(len(data[\"database\"]))\n",
    "        all_data[\"database\"].update(data[\"database\"])\n",
    "\n",
    "print(len(all_data[\"database\"]))\n",
    "\n",
    "with open(\"/mnt/data/dtong/pubrepos/OpenTAD/data/b11_phone_motion2_backview/annotations/annotations_clips.json\", \"w\") as f:\n",
    "    json.dump(all_data, f, ensure_ascii=False, indent=4)"
   ]
  },
  {
   "cell_type": "markdown",
   "metadata": {},
   "source": [
    "## IKEA ASM"
   ]
  },
  {
   "cell_type": "code",
   "execution_count": 3,
   "metadata": {},
   "outputs": [],
   "source": [
    "import json\n",
    "\n",
    "ground_truth_path = \"data/IKEA_ASM/action_annotations/gt_segments.conv.json\"\n",
    "\n",
    "with open(ground_truth_path) as f:\n",
    "    gt_data = json.load(f)"
   ]
  },
  {
   "cell_type": "code",
   "execution_count": 4,
   "metadata": {},
   "outputs": [
    {
     "data": {
      "text/plain": [
       "[('spin leg', 1116),\n",
       " ('pick up leg', 1073),\n",
       " ('align leg screw with table thread', 891),\n",
       " ('tighten leg', 329),\n",
       " ('flip table', 273),\n",
       " ('pick up side panel', 198),\n",
       " ('rotate table', 197),\n",
       " ('pick up shelf', 191),\n",
       " ('attach shelf to table', 184),\n",
       " ('attach drawer side panel', 179),\n",
       " ('insert drawer pin', 147),\n",
       " ('align side panel holes with front panel dowels', 141),\n",
       " ('pick up pin', 130),\n",
       " ('pick up bottom panel', 99),\n",
       " ('pick up back panel', 94),\n",
       " ('slide bottom of drawer', 89),\n",
       " ('flip table top', 87),\n",
       " ('attach drawer back panel', 87),\n",
       " ('other', 80),\n",
       " ('position the drawer right side up', 62)]"
      ]
     },
     "execution_count": 4,
     "metadata": {},
     "output_type": "execute_result"
    }
   ],
   "source": [
    "from collections import defaultdict, Counter\n",
    "\n",
    "action2key = defaultdict(list)\n",
    "\n",
    "action_counter = Counter([ann['label'] for key, gt_rec in gt_data['database'].items() for ann in gt_rec['annotations']])\n",
    "\n",
    "for key, gt_rec in gt_data['database'].items():\n",
    "    for ann in gt_rec['annotations']:\n",
    "        action2key[ann['label']].append(key)\n",
    "        \n",
    "action_counter.most_common(20)"
   ]
  },
  {
   "cell_type": "code",
   "execution_count": 5,
   "metadata": {},
   "outputs": [],
   "source": [
    "# 找那种常见动作最多的视频，用来说明可以跨场景学习相似动作\n",
    "\n",
    "most_common_actions = set(action for action, _ in action_counter.most_common(20))\n",
    "\n",
    "video_most_common_action_count = {}\n",
    "\n",
    "for key, gt_rec in gt_data['database'].items():\n",
    "    if gt_rec['subset'] != \"testing\":\n",
    "        continue\n",
    "    video_most_common_action_count[key] = len(set(ann['label'] for ann in gt_rec['annotations']).intersection(most_common_actions))\n",
    "\n",
    "example_videos = list(sorted(video_most_common_action_count.items(), key=lambda x: x[1], reverse=True))[:40]"
   ]
  },
  {
   "cell_type": "code",
   "execution_count": 9,
   "metadata": {},
   "outputs": [
    {
     "name": "stdout",
     "output_type": "stream",
     "text": [
      "2024-07-19 17:50:33 Test INFO: Using torch version: 2.0.1+cu118, CUDA version: 11.8\n",
      "2024-07-19 17:50:33 Test INFO: Using torch version: 2.0.1+cu118, CUDA version: 11.8\n"
     ]
    },
    {
     "name": "stdout",
     "output_type": "stream",
     "text": [
      "ViT's param: 86227200, Adapter's params: 4004364, ratio: 4.6%\n",
      "Loads checkpoint by local backend from path: pretrained/vit-base-p16_videomae-k400-pre_16x4x1_kinetics-400_20221013-860a3cd3.pth\n",
      "The model and loaded state dict do not match exactly\n",
      "\n",
      "unexpected key in source state_dict: cls_head.fc_cls.weight, cls_head.fc_cls.bias\n",
      "\n",
      "missing keys in source state_dict: backbone.pos_embed, backbone.blocks.0.adapter.gamma, backbone.blocks.0.adapter.dwconv.weight, backbone.blocks.0.adapter.dwconv.bias, backbone.blocks.0.adapter.conv.weight, backbone.blocks.0.adapter.conv.bias, backbone.blocks.0.adapter.down_proj.weight, backbone.blocks.0.adapter.down_proj.bias, backbone.blocks.0.adapter.up_proj.weight, backbone.blocks.0.adapter.up_proj.bias, backbone.blocks.1.adapter.gamma, backbone.blocks.1.adapter.dwconv.weight, backbone.blocks.1.adapter.dwconv.bias, backbone.blocks.1.adapter.conv.weight, backbone.blocks.1.adapter.conv.bias, backbone.blocks.1.adapter.down_proj.weight, backbone.blocks.1.adapter.down_proj.bias, backbone.blocks.1.adapter.up_proj.weight, backbone.blocks.1.adapter.up_proj.bias, backbone.blocks.2.adapter.gamma, backbone.blocks.2.adapter.dwconv.weight, backbone.blocks.2.adapter.dwconv.bias, backbone.blocks.2.adapter.conv.weight, backbone.blocks.2.adapter.conv.bias, backbone.blocks.2.adapter.down_proj.weight, backbone.blocks.2.adapter.down_proj.bias, backbone.blocks.2.adapter.up_proj.weight, backbone.blocks.2.adapter.up_proj.bias, backbone.blocks.3.adapter.gamma, backbone.blocks.3.adapter.dwconv.weight, backbone.blocks.3.adapter.dwconv.bias, backbone.blocks.3.adapter.conv.weight, backbone.blocks.3.adapter.conv.bias, backbone.blocks.3.adapter.down_proj.weight, backbone.blocks.3.adapter.down_proj.bias, backbone.blocks.3.adapter.up_proj.weight, backbone.blocks.3.adapter.up_proj.bias, backbone.blocks.4.adapter.gamma, backbone.blocks.4.adapter.dwconv.weight, backbone.blocks.4.adapter.dwconv.bias, backbone.blocks.4.adapter.conv.weight, backbone.blocks.4.adapter.conv.bias, backbone.blocks.4.adapter.down_proj.weight, backbone.blocks.4.adapter.down_proj.bias, backbone.blocks.4.adapter.up_proj.weight, backbone.blocks.4.adapter.up_proj.bias, backbone.blocks.5.adapter.gamma, backbone.blocks.5.adapter.dwconv.weight, backbone.blocks.5.adapter.dwconv.bias, backbone.blocks.5.adapter.conv.weight, backbone.blocks.5.adapter.conv.bias, backbone.blocks.5.adapter.down_proj.weight, backbone.blocks.5.adapter.down_proj.bias, backbone.blocks.5.adapter.up_proj.weight, backbone.blocks.5.adapter.up_proj.bias, backbone.blocks.6.adapter.gamma, backbone.blocks.6.adapter.dwconv.weight, backbone.blocks.6.adapter.dwconv.bias, backbone.blocks.6.adapter.conv.weight, backbone.blocks.6.adapter.conv.bias, backbone.blocks.6.adapter.down_proj.weight, backbone.blocks.6.adapter.down_proj.bias, backbone.blocks.6.adapter.up_proj.weight, backbone.blocks.6.adapter.up_proj.bias, backbone.blocks.7.adapter.gamma, backbone.blocks.7.adapter.dwconv.weight, backbone.blocks.7.adapter.dwconv.bias, backbone.blocks.7.adapter.conv.weight, backbone.blocks.7.adapter.conv.bias, backbone.blocks.7.adapter.down_proj.weight, backbone.blocks.7.adapter.down_proj.bias, backbone.blocks.7.adapter.up_proj.weight, backbone.blocks.7.adapter.up_proj.bias, backbone.blocks.8.adapter.gamma, backbone.blocks.8.adapter.dwconv.weight, backbone.blocks.8.adapter.dwconv.bias, backbone.blocks.8.adapter.conv.weight, backbone.blocks.8.adapter.conv.bias, backbone.blocks.8.adapter.down_proj.weight, backbone.blocks.8.adapter.down_proj.bias, backbone.blocks.8.adapter.up_proj.weight, backbone.blocks.8.adapter.up_proj.bias, backbone.blocks.9.adapter.gamma, backbone.blocks.9.adapter.dwconv.weight, backbone.blocks.9.adapter.dwconv.bias, backbone.blocks.9.adapter.conv.weight, backbone.blocks.9.adapter.conv.bias, backbone.blocks.9.adapter.down_proj.weight, backbone.blocks.9.adapter.down_proj.bias, backbone.blocks.9.adapter.up_proj.weight, backbone.blocks.9.adapter.up_proj.bias, backbone.blocks.10.adapter.gamma, backbone.blocks.10.adapter.dwconv.weight, backbone.blocks.10.adapter.dwconv.bias, backbone.blocks.10.adapter.conv.weight, backbone.blocks.10.adapter.conv.bias, backbone.blocks.10.adapter.down_proj.weight, backbone.blocks.10.adapter.down_proj.bias, backbone.blocks.10.adapter.up_proj.weight, backbone.blocks.10.adapter.up_proj.bias, backbone.blocks.11.adapter.gamma, backbone.blocks.11.adapter.dwconv.weight, backbone.blocks.11.adapter.dwconv.bias, backbone.blocks.11.adapter.conv.weight, backbone.blocks.11.adapter.conv.bias, backbone.blocks.11.adapter.down_proj.weight, backbone.blocks.11.adapter.down_proj.bias, backbone.blocks.11.adapter.up_proj.weight, backbone.blocks.11.adapter.up_proj.bias\n",
      "\n",
      "freeze_backbone: False, norm_eval: False\n",
      "2024-07-19 17:50:35 Test INFO: Using Model EMA...\n",
      "2024-07-19 17:50:35 Test INFO: Using Model EMA...\n"
     ]
    }
   ],
   "source": [
    "video_dir = \"data/IKEA_ASM/ikea_asm_dataset_RGB_multiview/ANU_ikea_dataset_video/\"\n",
    "configfile = \"configs/adatad/ikea_asm/e2e_ikea_videomae_b_768x1_224_e100_adapter.py\"\n",
    "checkpoint_path = \"exps/ikea_asm/adatad/e2e_actionformer_videomae_b_768x1_224_e100_adapter/gpu2_id0/checkpoint/epoch_99.pth\"\n",
    "cfg = Config.fromfile(configfile)\n",
    "cfg.post_processing.save_dict = True\n",
    "logger = setup_logger(\"Test\", save_dir=cfg.work_dir, distributed_rank=0)\n",
    "logger.info(f\"Using torch version: {torch.__version__}, CUDA version: {torch.version.cuda}\")\n",
    "\n",
    "model = load_model(cfg, checkpoint_path, logger)"
   ]
  },
  {
   "cell_type": "code",
   "execution_count": 14,
   "metadata": {},
   "outputs": [
    {
     "name": "stdout",
     "output_type": "stream",
     "text": [
      "2024-07-19 18:52:36 Test INFO: Video duration of data/IKEA_ASM/ikea_asm_dataset_RGB_multiview/ANU_ikea_dataset_video//Kallax_Shelf_Drawer/0040_oak_floor_08_04_2019_08_28_12_02/dev1/images/scan_video.avi: 161.48s\n",
      "2024-07-19 18:52:36 Test INFO: Video duration of data/IKEA_ASM/ikea_asm_dataset_RGB_multiview/ANU_ikea_dataset_video//Kallax_Shelf_Drawer/0040_oak_floor_08_04_2019_08_28_12_02/dev1/images/scan_video.avi: 161.48s\n",
      "*********************video key: scan_video\n",
      "2024-07-19 18:52:36 Test INFO: Using Automatic Mixed Precision...\n",
      "2024-07-19 18:52:36 Test INFO: Using Automatic Mixed Precision...\n",
      "2024-07-19 18:52:36 Test INFO: testing subset: 1 videos, truncated as 2 windows.\n",
      "2024-07-19 18:52:36 Test INFO: testing subset: 1 videos, truncated as 2 windows.\n",
      "2024-07-19 18:52:36 Test INFO: Testing Starts...\n",
      "\n",
      "2024-07-19 18:52:36 Test INFO: Testing Starts...\n",
      "\n"
     ]
    },
    {
     "name": "stderr",
     "output_type": "stream",
     "text": [
      "  0%|          | 0/1 [00:00<?, ?it/s]"
     ]
    },
    {
     "name": "stdout",
     "output_type": "stream",
     "text": [
      "07/19 18:52:37 - mmengine - \u001b[5m\u001b[4m\u001b[33mWARNING\u001b[0m - \"FileClient\" will be deprecated in future. Please use io functions in https://mmengine.readthedocs.io/en/latest/api/fileio.html#file-io\n",
      "07/19 18:52:37 - mmengine - \u001b[5m\u001b[4m\u001b[33mWARNING\u001b[0m - \"HardDiskBackend\" is the alias of \"LocalBackend\" and the former will be deprecated in future.\n"
     ]
    },
    {
     "name": "stderr",
     "output_type": "stream",
     "text": [
      "100%|██████████| 1/1 [00:22<00:00, 22.56s/it]\n"
     ]
    },
    {
     "name": "stdout",
     "output_type": "stream",
     "text": [
      "2024-07-19 18:52:59 Test INFO: Testing Over...\n",
      "\n",
      "2024-07-19 18:52:59 Test INFO: Testing Over...\n",
      "\n",
      "2024-07-19 18:55:14 Test INFO: Video duration of data/IKEA_ASM/ikea_asm_dataset_RGB_multiview/ANU_ikea_dataset_video//Kallax_Shelf_Drawer/0027_white_table_04_02_2019_08_20_10_52/dev1/images/scan_video.avi: 97.56s\n",
      "2024-07-19 18:55:14 Test INFO: Video duration of data/IKEA_ASM/ikea_asm_dataset_RGB_multiview/ANU_ikea_dataset_video//Kallax_Shelf_Drawer/0027_white_table_04_02_2019_08_20_10_52/dev1/images/scan_video.avi: 97.56s\n",
      "*********************video key: scan_video\n",
      "2024-07-19 18:55:14 Test INFO: Using Automatic Mixed Precision...\n",
      "2024-07-19 18:55:14 Test INFO: Using Automatic Mixed Precision...\n",
      "2024-07-19 18:55:14 Test INFO: testing subset: 1 videos, truncated as 2 windows.\n",
      "2024-07-19 18:55:14 Test INFO: testing subset: 1 videos, truncated as 2 windows.\n",
      "2024-07-19 18:55:14 Test INFO: Testing Starts...\n",
      "\n",
      "2024-07-19 18:55:14 Test INFO: Testing Starts...\n",
      "\n"
     ]
    },
    {
     "name": "stderr",
     "output_type": "stream",
     "text": [
      "  0%|          | 0/1 [00:00<?, ?it/s]"
     ]
    },
    {
     "name": "stdout",
     "output_type": "stream",
     "text": [
      "07/19 18:55:14 - mmengine - \u001b[5m\u001b[4m\u001b[33mWARNING\u001b[0m - \"FileClient\" will be deprecated in future. Please use io functions in https://mmengine.readthedocs.io/en/latest/api/fileio.html#file-io\n",
      "07/19 18:55:14 - mmengine - \u001b[5m\u001b[4m\u001b[33mWARNING\u001b[0m - \"HardDiskBackend\" is the alias of \"LocalBackend\" and the former will be deprecated in future.\n"
     ]
    },
    {
     "name": "stderr",
     "output_type": "stream",
     "text": [
      "100%|██████████| 1/1 [00:22<00:00, 22.55s/it]"
     ]
    },
    {
     "name": "stdout",
     "output_type": "stream",
     "text": [
      "2024-07-19 18:55:36 Test INFO: Testing Over...\n",
      "\n",
      "2024-07-19 18:55:36 Test INFO: Testing Over...\n",
      "\n"
     ]
    },
    {
     "name": "stderr",
     "output_type": "stream",
     "text": [
      "\n"
     ]
    },
    {
     "name": "stdout",
     "output_type": "stream",
     "text": [
      "2024-07-19 18:56:57 Test INFO: Video duration of data/IKEA_ASM/ikea_asm_dataset_RGB_multiview/ANU_ikea_dataset_video//Kallax_Shelf_Drawer/0014_black_floor_05_02_2019_08_19_12_46/dev1/images/scan_video.avi: 61.68s\n",
      "2024-07-19 18:56:57 Test INFO: Video duration of data/IKEA_ASM/ikea_asm_dataset_RGB_multiview/ANU_ikea_dataset_video//Kallax_Shelf_Drawer/0014_black_floor_05_02_2019_08_19_12_46/dev1/images/scan_video.avi: 61.68s\n",
      "*********************video key: scan_video\n",
      "2024-07-19 18:56:57 Test INFO: Using Automatic Mixed Precision...\n",
      "2024-07-19 18:56:57 Test INFO: Using Automatic Mixed Precision...\n",
      "2024-07-19 18:56:57 Test INFO: testing subset: 1 videos, truncated as 2 windows.\n",
      "2024-07-19 18:56:57 Test INFO: testing subset: 1 videos, truncated as 2 windows.\n",
      "2024-07-19 18:56:57 Test INFO: Testing Starts...\n",
      "\n",
      "2024-07-19 18:56:57 Test INFO: Testing Starts...\n",
      "\n"
     ]
    },
    {
     "name": "stderr",
     "output_type": "stream",
     "text": [
      "  0%|          | 0/1 [00:00<?, ?it/s]"
     ]
    },
    {
     "name": "stdout",
     "output_type": "stream",
     "text": [
      "07/19 18:56:57 - mmengine - \u001b[5m\u001b[4m\u001b[33mWARNING\u001b[0m - \"FileClient\" will be deprecated in future. Please use io functions in https://mmengine.readthedocs.io/en/latest/api/fileio.html#file-io\n",
      "07/19 18:56:57 - mmengine - \u001b[5m\u001b[4m\u001b[33mWARNING\u001b[0m - \"HardDiskBackend\" is the alias of \"LocalBackend\" and the former will be deprecated in future.\n"
     ]
    },
    {
     "name": "stderr",
     "output_type": "stream",
     "text": [
      "100%|██████████| 1/1 [00:22<00:00, 22.53s/it]\n"
     ]
    },
    {
     "name": "stdout",
     "output_type": "stream",
     "text": [
      "2024-07-19 18:57:19 Test INFO: Testing Over...\n",
      "\n",
      "2024-07-19 18:57:19 Test INFO: Testing Over...\n",
      "\n",
      "2024-07-19 18:58:09 Test INFO: Video duration of data/IKEA_ASM/ikea_asm_dataset_RGB_multiview/ANU_ikea_dataset_video//Kallax_Shelf_Drawer/0002_black_floor_05_02_2019_08_19_17_50/dev1/images/scan_video.avi: 52.96s\n",
      "2024-07-19 18:58:09 Test INFO: Video duration of data/IKEA_ASM/ikea_asm_dataset_RGB_multiview/ANU_ikea_dataset_video//Kallax_Shelf_Drawer/0002_black_floor_05_02_2019_08_19_17_50/dev1/images/scan_video.avi: 52.96s\n",
      "*********************video key: scan_video\n",
      "2024-07-19 18:58:09 Test INFO: Using Automatic Mixed Precision...\n",
      "2024-07-19 18:58:09 Test INFO: Using Automatic Mixed Precision...\n",
      "2024-07-19 18:58:09 Test INFO: testing subset: 1 videos, truncated as 2 windows.\n",
      "2024-07-19 18:58:09 Test INFO: testing subset: 1 videos, truncated as 2 windows.\n",
      "2024-07-19 18:58:09 Test INFO: Testing Starts...\n",
      "\n",
      "2024-07-19 18:58:09 Test INFO: Testing Starts...\n",
      "\n"
     ]
    },
    {
     "name": "stderr",
     "output_type": "stream",
     "text": [
      "  0%|          | 0/1 [00:00<?, ?it/s]"
     ]
    },
    {
     "name": "stdout",
     "output_type": "stream",
     "text": [
      "07/19 18:58:09 - mmengine - \u001b[5m\u001b[4m\u001b[33mWARNING\u001b[0m - \"FileClient\" will be deprecated in future. Please use io functions in https://mmengine.readthedocs.io/en/latest/api/fileio.html#file-io\n",
      "07/19 18:58:09 - mmengine - \u001b[5m\u001b[4m\u001b[33mWARNING\u001b[0m - \"HardDiskBackend\" is the alias of \"LocalBackend\" and the former will be deprecated in future.\n"
     ]
    },
    {
     "name": "stderr",
     "output_type": "stream",
     "text": [
      "100%|██████████| 1/1 [00:22<00:00, 22.60s/it]"
     ]
    },
    {
     "name": "stdout",
     "output_type": "stream",
     "text": [
      "2024-07-19 18:58:31 Test INFO: Testing Over...\n",
      "\n",
      "2024-07-19 18:58:31 Test INFO: Testing Over...\n",
      "\n"
     ]
    },
    {
     "name": "stderr",
     "output_type": "stream",
     "text": [
      "\n"
     ]
    },
    {
     "name": "stdout",
     "output_type": "stream",
     "text": [
      "2024-07-19 18:59:11 Test INFO: Video duration of data/IKEA_ASM/ikea_asm_dataset_RGB_multiview/ANU_ikea_dataset_video//Lack_TV_Bench/0025_black_table_04_02_2019_08_20_13_48/dev1/images/scan_video.avi: 130.00s\n",
      "2024-07-19 18:59:11 Test INFO: Video duration of data/IKEA_ASM/ikea_asm_dataset_RGB_multiview/ANU_ikea_dataset_video//Lack_TV_Bench/0025_black_table_04_02_2019_08_20_13_48/dev1/images/scan_video.avi: 130.00s\n",
      "*********************video key: scan_video\n",
      "2024-07-19 18:59:11 Test INFO: Using Automatic Mixed Precision...\n",
      "2024-07-19 18:59:11 Test INFO: Using Automatic Mixed Precision...\n",
      "2024-07-19 18:59:11 Test INFO: testing subset: 1 videos, truncated as 2 windows.\n",
      "2024-07-19 18:59:11 Test INFO: testing subset: 1 videos, truncated as 2 windows.\n",
      "2024-07-19 18:59:11 Test INFO: Testing Starts...\n",
      "\n",
      "2024-07-19 18:59:11 Test INFO: Testing Starts...\n",
      "\n"
     ]
    },
    {
     "name": "stderr",
     "output_type": "stream",
     "text": [
      "  0%|          | 0/1 [00:00<?, ?it/s]"
     ]
    },
    {
     "name": "stdout",
     "output_type": "stream",
     "text": [
      "07/19 18:59:11 - mmengine - \u001b[5m\u001b[4m\u001b[33mWARNING\u001b[0m - \"FileClient\" will be deprecated in future. Please use io functions in https://mmengine.readthedocs.io/en/latest/api/fileio.html#file-io\n",
      "07/19 18:59:11 - mmengine - \u001b[5m\u001b[4m\u001b[33mWARNING\u001b[0m - \"HardDiskBackend\" is the alias of \"LocalBackend\" and the former will be deprecated in future.\n"
     ]
    },
    {
     "name": "stderr",
     "output_type": "stream",
     "text": [
      "100%|██████████| 1/1 [00:22<00:00, 22.54s/it]"
     ]
    },
    {
     "name": "stdout",
     "output_type": "stream",
     "text": [
      "2024-07-19 18:59:33 Test INFO: Testing Over...\n",
      "\n",
      "2024-07-19 18:59:33 Test INFO: Testing Over...\n",
      "\n"
     ]
    },
    {
     "name": "stderr",
     "output_type": "stream",
     "text": [
      "\n"
     ]
    },
    {
     "name": "stdout",
     "output_type": "stream",
     "text": [
      "2024-07-19 19:01:23 Test INFO: Video duration of data/IKEA_ASM/ikea_asm_dataset_RGB_multiview/ANU_ikea_dataset_video//Kallax_Shelf_Drawer/0006_oak_floor_05_02_2019_08_19_16_40/dev1/images/scan_video.avi: 57.88s\n",
      "2024-07-19 19:01:23 Test INFO: Video duration of data/IKEA_ASM/ikea_asm_dataset_RGB_multiview/ANU_ikea_dataset_video//Kallax_Shelf_Drawer/0006_oak_floor_05_02_2019_08_19_16_40/dev1/images/scan_video.avi: 57.88s\n",
      "*********************video key: scan_video\n",
      "2024-07-19 19:01:23 Test INFO: Using Automatic Mixed Precision...\n",
      "2024-07-19 19:01:23 Test INFO: Using Automatic Mixed Precision...\n",
      "2024-07-19 19:01:23 Test INFO: testing subset: 1 videos, truncated as 2 windows.\n",
      "2024-07-19 19:01:23 Test INFO: testing subset: 1 videos, truncated as 2 windows.\n",
      "2024-07-19 19:01:23 Test INFO: Testing Starts...\n",
      "\n",
      "2024-07-19 19:01:23 Test INFO: Testing Starts...\n",
      "\n"
     ]
    },
    {
     "name": "stderr",
     "output_type": "stream",
     "text": [
      "  0%|          | 0/1 [00:00<?, ?it/s]"
     ]
    },
    {
     "name": "stdout",
     "output_type": "stream",
     "text": [
      "07/19 19:01:23 - mmengine - \u001b[5m\u001b[4m\u001b[33mWARNING\u001b[0m - \"FileClient\" will be deprecated in future. Please use io functions in https://mmengine.readthedocs.io/en/latest/api/fileio.html#file-io\n",
      "07/19 19:01:23 - mmengine - \u001b[5m\u001b[4m\u001b[33mWARNING\u001b[0m - \"HardDiskBackend\" is the alias of \"LocalBackend\" and the former will be deprecated in future.\n"
     ]
    },
    {
     "name": "stderr",
     "output_type": "stream",
     "text": [
      "100%|██████████| 1/1 [00:22<00:00, 22.54s/it]"
     ]
    },
    {
     "name": "stdout",
     "output_type": "stream",
     "text": [
      "2024-07-19 19:01:46 Test INFO: Testing Over...\n",
      "\n",
      "2024-07-19 19:01:46 Test INFO: Testing Over...\n",
      "\n"
     ]
    },
    {
     "name": "stderr",
     "output_type": "stream",
     "text": [
      "\n"
     ]
    },
    {
     "name": "stdout",
     "output_type": "stream",
     "text": [
      "2024-07-19 19:02:31 Test INFO: Video duration of data/IKEA_ASM/ikea_asm_dataset_RGB_multiview/ANU_ikea_dataset_video//Kallax_Shelf_Drawer/0025_oak_floor_05_02_2019_08_19_17_21/dev1/images/scan_video.avi: 57.00s\n",
      "2024-07-19 19:02:31 Test INFO: Video duration of data/IKEA_ASM/ikea_asm_dataset_RGB_multiview/ANU_ikea_dataset_video//Kallax_Shelf_Drawer/0025_oak_floor_05_02_2019_08_19_17_21/dev1/images/scan_video.avi: 57.00s\n",
      "*********************video key: scan_video\n",
      "2024-07-19 19:02:31 Test INFO: Using Automatic Mixed Precision...\n",
      "2024-07-19 19:02:31 Test INFO: Using Automatic Mixed Precision...\n",
      "2024-07-19 19:02:31 Test INFO: testing subset: 1 videos, truncated as 2 windows.\n",
      "2024-07-19 19:02:31 Test INFO: testing subset: 1 videos, truncated as 2 windows.\n",
      "2024-07-19 19:02:31 Test INFO: Testing Starts...\n",
      "\n",
      "2024-07-19 19:02:31 Test INFO: Testing Starts...\n",
      "\n"
     ]
    },
    {
     "name": "stderr",
     "output_type": "stream",
     "text": [
      "  0%|          | 0/1 [00:00<?, ?it/s]"
     ]
    },
    {
     "name": "stdout",
     "output_type": "stream",
     "text": [
      "07/19 19:02:31 - mmengine - \u001b[5m\u001b[4m\u001b[33mWARNING\u001b[0m - \"FileClient\" will be deprecated in future. Please use io functions in https://mmengine.readthedocs.io/en/latest/api/fileio.html#file-io\n",
      "07/19 19:02:31 - mmengine - \u001b[5m\u001b[4m\u001b[33mWARNING\u001b[0m - \"HardDiskBackend\" is the alias of \"LocalBackend\" and the former will be deprecated in future.\n"
     ]
    },
    {
     "name": "stderr",
     "output_type": "stream",
     "text": [
      "100%|██████████| 1/1 [00:22<00:00, 22.47s/it]\n"
     ]
    },
    {
     "name": "stdout",
     "output_type": "stream",
     "text": [
      "2024-07-19 19:02:54 Test INFO: Testing Over...\n",
      "\n",
      "2024-07-19 19:02:54 Test INFO: Testing Over...\n",
      "\n",
      "2024-07-19 19:03:37 Test INFO: Video duration of data/IKEA_ASM/ikea_asm_dataset_RGB_multiview/ANU_ikea_dataset_video//Kallax_Shelf_Drawer/0031_white_table_04_02_2019_08_20_14_26/dev1/images/scan_video.avi: 108.80s\n",
      "2024-07-19 19:03:37 Test INFO: Video duration of data/IKEA_ASM/ikea_asm_dataset_RGB_multiview/ANU_ikea_dataset_video//Kallax_Shelf_Drawer/0031_white_table_04_02_2019_08_20_14_26/dev1/images/scan_video.avi: 108.80s\n",
      "*********************video key: scan_video\n",
      "2024-07-19 19:03:37 Test INFO: Using Automatic Mixed Precision...\n",
      "2024-07-19 19:03:37 Test INFO: Using Automatic Mixed Precision...\n",
      "2024-07-19 19:03:37 Test INFO: testing subset: 1 videos, truncated as 2 windows.\n",
      "2024-07-19 19:03:37 Test INFO: testing subset: 1 videos, truncated as 2 windows.\n",
      "2024-07-19 19:03:37 Test INFO: Testing Starts...\n",
      "\n",
      "2024-07-19 19:03:37 Test INFO: Testing Starts...\n",
      "\n"
     ]
    },
    {
     "name": "stderr",
     "output_type": "stream",
     "text": [
      "  0%|          | 0/1 [00:00<?, ?it/s]"
     ]
    },
    {
     "name": "stdout",
     "output_type": "stream",
     "text": [
      "07/19 19:03:37 - mmengine - \u001b[5m\u001b[4m\u001b[33mWARNING\u001b[0m - \"FileClient\" will be deprecated in future. Please use io functions in https://mmengine.readthedocs.io/en/latest/api/fileio.html#file-io\n",
      "07/19 19:03:37 - mmengine - \u001b[5m\u001b[4m\u001b[33mWARNING\u001b[0m - \"HardDiskBackend\" is the alias of \"LocalBackend\" and the former will be deprecated in future.\n"
     ]
    },
    {
     "name": "stderr",
     "output_type": "stream",
     "text": [
      "100%|██████████| 1/1 [00:22<00:00, 22.58s/it]"
     ]
    },
    {
     "name": "stdout",
     "output_type": "stream",
     "text": [
      "2024-07-19 19:04:00 Test INFO: Testing Over...\n",
      "\n",
      "2024-07-19 19:04:00 Test INFO: Testing Over...\n",
      "\n"
     ]
    },
    {
     "name": "stderr",
     "output_type": "stream",
     "text": [
      "\n"
     ]
    },
    {
     "name": "stdout",
     "output_type": "stream",
     "text": [
      "2024-07-19 19:05:27 Test INFO: Video duration of data/IKEA_ASM/ikea_asm_dataset_RGB_multiview/ANU_ikea_dataset_video//Kallax_Shelf_Drawer/0023_black_table_04_02_2019_08_20_14_10/dev1/images/scan_video.avi: 60.68s\n",
      "2024-07-19 19:05:27 Test INFO: Video duration of data/IKEA_ASM/ikea_asm_dataset_RGB_multiview/ANU_ikea_dataset_video//Kallax_Shelf_Drawer/0023_black_table_04_02_2019_08_20_14_10/dev1/images/scan_video.avi: 60.68s\n",
      "*********************video key: scan_video\n",
      "2024-07-19 19:05:27 Test INFO: Using Automatic Mixed Precision...\n",
      "2024-07-19 19:05:27 Test INFO: Using Automatic Mixed Precision...\n",
      "2024-07-19 19:05:27 Test INFO: testing subset: 1 videos, truncated as 2 windows.\n",
      "2024-07-19 19:05:27 Test INFO: testing subset: 1 videos, truncated as 2 windows.\n",
      "2024-07-19 19:05:27 Test INFO: Testing Starts...\n",
      "\n",
      "2024-07-19 19:05:27 Test INFO: Testing Starts...\n",
      "\n"
     ]
    },
    {
     "name": "stderr",
     "output_type": "stream",
     "text": [
      "  0%|          | 0/1 [00:00<?, ?it/s]"
     ]
    },
    {
     "name": "stdout",
     "output_type": "stream",
     "text": [
      "07/19 19:05:28 - mmengine - \u001b[5m\u001b[4m\u001b[33mWARNING\u001b[0m - \"FileClient\" will be deprecated in future. Please use io functions in https://mmengine.readthedocs.io/en/latest/api/fileio.html#file-io\n",
      "07/19 19:05:28 - mmengine - \u001b[5m\u001b[4m\u001b[33mWARNING\u001b[0m - \"HardDiskBackend\" is the alias of \"LocalBackend\" and the former will be deprecated in future.\n"
     ]
    },
    {
     "name": "stderr",
     "output_type": "stream",
     "text": [
      "100%|██████████| 1/1 [00:22<00:00, 22.51s/it]"
     ]
    },
    {
     "name": "stdout",
     "output_type": "stream",
     "text": [
      "2024-07-19 19:05:50 Test INFO: Testing Over...\n",
      "\n",
      "2024-07-19 19:05:50 Test INFO: Testing Over...\n",
      "\n"
     ]
    },
    {
     "name": "stderr",
     "output_type": "stream",
     "text": [
      "\n"
     ]
    },
    {
     "name": "stdout",
     "output_type": "stream",
     "text": [
      "2024-07-19 19:06:39 Test INFO: Video duration of data/IKEA_ASM/ikea_asm_dataset_RGB_multiview/ANU_ikea_dataset_video//Kallax_Shelf_Drawer/0029_black_table_04_02_2019_08_20_11_37/dev1/images/scan_video.avi: 76.68s\n",
      "2024-07-19 19:06:39 Test INFO: Video duration of data/IKEA_ASM/ikea_asm_dataset_RGB_multiview/ANU_ikea_dataset_video//Kallax_Shelf_Drawer/0029_black_table_04_02_2019_08_20_11_37/dev1/images/scan_video.avi: 76.68s\n",
      "*********************video key: scan_video\n",
      "2024-07-19 19:06:39 Test INFO: Using Automatic Mixed Precision...\n",
      "2024-07-19 19:06:39 Test INFO: Using Automatic Mixed Precision...\n",
      "2024-07-19 19:06:39 Test INFO: testing subset: 1 videos, truncated as 2 windows.\n",
      "2024-07-19 19:06:39 Test INFO: testing subset: 1 videos, truncated as 2 windows.\n",
      "2024-07-19 19:06:39 Test INFO: Testing Starts...\n",
      "\n",
      "2024-07-19 19:06:39 Test INFO: Testing Starts...\n",
      "\n"
     ]
    },
    {
     "name": "stderr",
     "output_type": "stream",
     "text": [
      "  0%|          | 0/1 [00:00<?, ?it/s]"
     ]
    },
    {
     "name": "stdout",
     "output_type": "stream",
     "text": [
      "07/19 19:06:39 - mmengine - \u001b[5m\u001b[4m\u001b[33mWARNING\u001b[0m - \"FileClient\" will be deprecated in future. Please use io functions in https://mmengine.readthedocs.io/en/latest/api/fileio.html#file-io\n",
      "07/19 19:06:39 - mmengine - \u001b[5m\u001b[4m\u001b[33mWARNING\u001b[0m - \"HardDiskBackend\" is the alias of \"LocalBackend\" and the former will be deprecated in future.\n"
     ]
    },
    {
     "name": "stderr",
     "output_type": "stream",
     "text": [
      "100%|██████████| 1/1 [00:22<00:00, 22.63s/it]\n"
     ]
    },
    {
     "name": "stdout",
     "output_type": "stream",
     "text": [
      "2024-07-19 19:07:02 Test INFO: Testing Over...\n",
      "\n",
      "2024-07-19 19:07:02 Test INFO: Testing Over...\n",
      "\n",
      "2024-07-19 19:08:04 Test INFO: Video duration of data/IKEA_ASM/ikea_asm_dataset_RGB_multiview/ANU_ikea_dataset_video//Kallax_Shelf_Drawer/0004_white_floor_08_04_2019_08_28_10_58/dev1/images/scan_video.avi: 42.24s\n",
      "2024-07-19 19:08:04 Test INFO: Video duration of data/IKEA_ASM/ikea_asm_dataset_RGB_multiview/ANU_ikea_dataset_video//Kallax_Shelf_Drawer/0004_white_floor_08_04_2019_08_28_10_58/dev1/images/scan_video.avi: 42.24s\n",
      "*********************video key: scan_video\n",
      "2024-07-19 19:08:04 Test INFO: Using Automatic Mixed Precision...\n",
      "2024-07-19 19:08:04 Test INFO: Using Automatic Mixed Precision...\n",
      "2024-07-19 19:08:04 Test INFO: testing subset: 1 videos, truncated as 2 windows.\n",
      "2024-07-19 19:08:04 Test INFO: testing subset: 1 videos, truncated as 2 windows.\n",
      "2024-07-19 19:08:04 Test INFO: Testing Starts...\n",
      "\n",
      "2024-07-19 19:08:04 Test INFO: Testing Starts...\n",
      "\n"
     ]
    },
    {
     "name": "stderr",
     "output_type": "stream",
     "text": [
      "  0%|          | 0/1 [00:00<?, ?it/s]"
     ]
    },
    {
     "name": "stdout",
     "output_type": "stream",
     "text": [
      "07/19 19:08:04 - mmengine - \u001b[5m\u001b[4m\u001b[33mWARNING\u001b[0m - \"FileClient\" will be deprecated in future. Please use io functions in https://mmengine.readthedocs.io/en/latest/api/fileio.html#file-io\n",
      "07/19 19:08:04 - mmengine - \u001b[5m\u001b[4m\u001b[33mWARNING\u001b[0m - \"HardDiskBackend\" is the alias of \"LocalBackend\" and the former will be deprecated in future.\n"
     ]
    },
    {
     "name": "stderr",
     "output_type": "stream",
     "text": [
      "100%|██████████| 1/1 [00:22<00:00, 22.50s/it]"
     ]
    },
    {
     "name": "stdout",
     "output_type": "stream",
     "text": [
      "2024-07-19 19:08:26 Test INFO: Testing Over...\n",
      "\n",
      "2024-07-19 19:08:26 Test INFO: Testing Over...\n",
      "\n"
     ]
    },
    {
     "name": "stderr",
     "output_type": "stream",
     "text": [
      "\n"
     ]
    },
    {
     "name": "stdout",
     "output_type": "stream",
     "text": [
      "2024-07-19 19:08:58 Test INFO: Video duration of data/IKEA_ASM/ikea_asm_dataset_RGB_multiview/ANU_ikea_dataset_video//Kallax_Shelf_Drawer/0012_white_table_04_02_2019_08_20_11_52/dev1/images/scan_video.avi: 118.88s\n",
      "2024-07-19 19:08:58 Test INFO: Video duration of data/IKEA_ASM/ikea_asm_dataset_RGB_multiview/ANU_ikea_dataset_video//Kallax_Shelf_Drawer/0012_white_table_04_02_2019_08_20_11_52/dev1/images/scan_video.avi: 118.88s\n",
      "*********************video key: scan_video\n",
      "2024-07-19 19:08:58 Test INFO: Using Automatic Mixed Precision...\n",
      "2024-07-19 19:08:58 Test INFO: Using Automatic Mixed Precision...\n",
      "2024-07-19 19:08:58 Test INFO: testing subset: 1 videos, truncated as 2 windows.\n",
      "2024-07-19 19:08:58 Test INFO: testing subset: 1 videos, truncated as 2 windows.\n",
      "2024-07-19 19:08:58 Test INFO: Testing Starts...\n",
      "\n",
      "2024-07-19 19:08:58 Test INFO: Testing Starts...\n",
      "\n"
     ]
    },
    {
     "name": "stderr",
     "output_type": "stream",
     "text": [
      "  0%|          | 0/1 [00:00<?, ?it/s]"
     ]
    },
    {
     "name": "stdout",
     "output_type": "stream",
     "text": [
      "07/19 19:08:58 - mmengine - \u001b[5m\u001b[4m\u001b[33mWARNING\u001b[0m - \"FileClient\" will be deprecated in future. Please use io functions in https://mmengine.readthedocs.io/en/latest/api/fileio.html#file-io\n",
      "07/19 19:08:58 - mmengine - \u001b[5m\u001b[4m\u001b[33mWARNING\u001b[0m - \"HardDiskBackend\" is the alias of \"LocalBackend\" and the former will be deprecated in future.\n"
     ]
    },
    {
     "name": "stderr",
     "output_type": "stream",
     "text": [
      "100%|██████████| 1/1 [00:22<00:00, 22.48s/it]"
     ]
    },
    {
     "name": "stdout",
     "output_type": "stream",
     "text": [
      "2024-07-19 19:09:21 Test INFO: Testing Over...\n",
      "\n",
      "2024-07-19 19:09:21 Test INFO: Testing Over...\n",
      "\n"
     ]
    },
    {
     "name": "stderr",
     "output_type": "stream",
     "text": [
      "\n"
     ]
    },
    {
     "name": "stdout",
     "output_type": "stream",
     "text": [
      "2024-07-19 19:10:54 Test INFO: Video duration of data/IKEA_ASM/ikea_asm_dataset_RGB_multiview/ANU_ikea_dataset_video//Kallax_Shelf_Drawer/0030_oak_table_04_02_2019_08_20_12_14/dev1/images/scan_video.avi: 45.52s\n",
      "2024-07-19 19:10:54 Test INFO: Video duration of data/IKEA_ASM/ikea_asm_dataset_RGB_multiview/ANU_ikea_dataset_video//Kallax_Shelf_Drawer/0030_oak_table_04_02_2019_08_20_12_14/dev1/images/scan_video.avi: 45.52s\n",
      "*********************video key: scan_video\n",
      "2024-07-19 19:10:54 Test INFO: Using Automatic Mixed Precision...\n",
      "2024-07-19 19:10:54 Test INFO: Using Automatic Mixed Precision...\n",
      "2024-07-19 19:10:54 Test INFO: testing subset: 1 videos, truncated as 2 windows.\n",
      "2024-07-19 19:10:54 Test INFO: testing subset: 1 videos, truncated as 2 windows.\n",
      "2024-07-19 19:10:54 Test INFO: Testing Starts...\n",
      "\n",
      "2024-07-19 19:10:54 Test INFO: Testing Starts...\n",
      "\n"
     ]
    },
    {
     "name": "stderr",
     "output_type": "stream",
     "text": [
      "  0%|          | 0/1 [00:00<?, ?it/s]"
     ]
    },
    {
     "name": "stdout",
     "output_type": "stream",
     "text": [
      "07/19 19:10:54 - mmengine - \u001b[5m\u001b[4m\u001b[33mWARNING\u001b[0m - \"FileClient\" will be deprecated in future. Please use io functions in https://mmengine.readthedocs.io/en/latest/api/fileio.html#file-io\n",
      "07/19 19:10:54 - mmengine - \u001b[5m\u001b[4m\u001b[33mWARNING\u001b[0m - \"HardDiskBackend\" is the alias of \"LocalBackend\" and the former will be deprecated in future.\n"
     ]
    },
    {
     "name": "stderr",
     "output_type": "stream",
     "text": [
      "100%|██████████| 1/1 [00:22<00:00, 22.49s/it]"
     ]
    },
    {
     "name": "stdout",
     "output_type": "stream",
     "text": [
      "2024-07-19 19:11:16 Test INFO: Testing Over...\n",
      "\n",
      "2024-07-19 19:11:16 Test INFO: Testing Over...\n",
      "\n"
     ]
    },
    {
     "name": "stderr",
     "output_type": "stream",
     "text": [
      "\n"
     ]
    },
    {
     "name": "stdout",
     "output_type": "stream",
     "text": [
      "2024-07-19 19:11:51 Test INFO: Video duration of data/IKEA_ASM/ikea_asm_dataset_RGB_multiview/ANU_ikea_dataset_video//Kallax_Shelf_Drawer/0014_black_floor_08_04_2019_08_28_11_12/dev1/images/scan_video.avi: 127.84s\n",
      "2024-07-19 19:11:51 Test INFO: Video duration of data/IKEA_ASM/ikea_asm_dataset_RGB_multiview/ANU_ikea_dataset_video//Kallax_Shelf_Drawer/0014_black_floor_08_04_2019_08_28_11_12/dev1/images/scan_video.avi: 127.84s\n",
      "*********************video key: scan_video\n",
      "2024-07-19 19:11:51 Test INFO: Using Automatic Mixed Precision...\n",
      "2024-07-19 19:11:51 Test INFO: Using Automatic Mixed Precision...\n",
      "2024-07-19 19:11:51 Test INFO: testing subset: 1 videos, truncated as 2 windows.\n",
      "2024-07-19 19:11:51 Test INFO: testing subset: 1 videos, truncated as 2 windows.\n",
      "2024-07-19 19:11:51 Test INFO: Testing Starts...\n",
      "\n",
      "2024-07-19 19:11:51 Test INFO: Testing Starts...\n",
      "\n"
     ]
    },
    {
     "name": "stderr",
     "output_type": "stream",
     "text": [
      "  0%|          | 0/1 [00:00<?, ?it/s]"
     ]
    },
    {
     "name": "stdout",
     "output_type": "stream",
     "text": [
      "07/19 19:11:51 - mmengine - \u001b[5m\u001b[4m\u001b[33mWARNING\u001b[0m - \"FileClient\" will be deprecated in future. Please use io functions in https://mmengine.readthedocs.io/en/latest/api/fileio.html#file-io\n",
      "07/19 19:11:51 - mmengine - \u001b[5m\u001b[4m\u001b[33mWARNING\u001b[0m - \"HardDiskBackend\" is the alias of \"LocalBackend\" and the former will be deprecated in future.\n"
     ]
    },
    {
     "name": "stderr",
     "output_type": "stream",
     "text": [
      "100%|██████████| 1/1 [00:22<00:00, 22.61s/it]"
     ]
    },
    {
     "name": "stdout",
     "output_type": "stream",
     "text": [
      "2024-07-19 19:12:14 Test INFO: Testing Over...\n",
      "\n",
      "2024-07-19 19:12:14 Test INFO: Testing Over...\n",
      "\n"
     ]
    },
    {
     "name": "stderr",
     "output_type": "stream",
     "text": [
      "\n"
     ]
    },
    {
     "name": "stdout",
     "output_type": "stream",
     "text": [
      "2024-07-19 19:13:48 Test INFO: Video duration of data/IKEA_ASM/ikea_asm_dataset_RGB_multiview/ANU_ikea_dataset_video//Kallax_Shelf_Drawer/0028_white_table_04_02_2019_08_20_10_56/dev1/images/scan_video.avi: 69.00s\n",
      "2024-07-19 19:13:48 Test INFO: Video duration of data/IKEA_ASM/ikea_asm_dataset_RGB_multiview/ANU_ikea_dataset_video//Kallax_Shelf_Drawer/0028_white_table_04_02_2019_08_20_10_56/dev1/images/scan_video.avi: 69.00s\n",
      "*********************video key: scan_video\n",
      "2024-07-19 19:13:48 Test INFO: Using Automatic Mixed Precision...\n",
      "2024-07-19 19:13:48 Test INFO: Using Automatic Mixed Precision...\n",
      "2024-07-19 19:13:48 Test INFO: testing subset: 1 videos, truncated as 2 windows.\n",
      "2024-07-19 19:13:48 Test INFO: testing subset: 1 videos, truncated as 2 windows.\n",
      "2024-07-19 19:13:48 Test INFO: Testing Starts...\n",
      "\n",
      "2024-07-19 19:13:48 Test INFO: Testing Starts...\n",
      "\n"
     ]
    },
    {
     "name": "stderr",
     "output_type": "stream",
     "text": [
      "  0%|          | 0/1 [00:00<?, ?it/s]"
     ]
    },
    {
     "name": "stdout",
     "output_type": "stream",
     "text": [
      "07/19 19:13:49 - mmengine - \u001b[5m\u001b[4m\u001b[33mWARNING\u001b[0m - \"FileClient\" will be deprecated in future. Please use io functions in https://mmengine.readthedocs.io/en/latest/api/fileio.html#file-io\n",
      "07/19 19:13:49 - mmengine - \u001b[5m\u001b[4m\u001b[33mWARNING\u001b[0m - \"HardDiskBackend\" is the alias of \"LocalBackend\" and the former will be deprecated in future.\n"
     ]
    },
    {
     "name": "stderr",
     "output_type": "stream",
     "text": [
      "100%|██████████| 1/1 [00:22<00:00, 22.43s/it]"
     ]
    },
    {
     "name": "stdout",
     "output_type": "stream",
     "text": [
      "2024-07-19 19:14:11 Test INFO: Testing Over...\n",
      "\n",
      "2024-07-19 19:14:11 Test INFO: Testing Over...\n",
      "\n"
     ]
    },
    {
     "name": "stderr",
     "output_type": "stream",
     "text": [
      "\n"
     ]
    },
    {
     "name": "stdout",
     "output_type": "stream",
     "text": [
      "2024-07-19 19:15:05 Test INFO: Video duration of data/IKEA_ASM/ikea_asm_dataset_RGB_multiview/ANU_ikea_dataset_video//Kallax_Shelf_Drawer/0039_white_floor_08_04_2019_08_28_10_41/dev1/images/scan_video.avi: 67.76s\n",
      "2024-07-19 19:15:05 Test INFO: Video duration of data/IKEA_ASM/ikea_asm_dataset_RGB_multiview/ANU_ikea_dataset_video//Kallax_Shelf_Drawer/0039_white_floor_08_04_2019_08_28_10_41/dev1/images/scan_video.avi: 67.76s\n",
      "*********************video key: scan_video\n",
      "2024-07-19 19:15:05 Test INFO: Using Automatic Mixed Precision...\n",
      "2024-07-19 19:15:05 Test INFO: Using Automatic Mixed Precision...\n",
      "2024-07-19 19:15:05 Test INFO: testing subset: 1 videos, truncated as 2 windows.\n",
      "2024-07-19 19:15:05 Test INFO: testing subset: 1 videos, truncated as 2 windows.\n",
      "2024-07-19 19:15:05 Test INFO: Testing Starts...\n",
      "\n",
      "2024-07-19 19:15:05 Test INFO: Testing Starts...\n",
      "\n"
     ]
    },
    {
     "name": "stderr",
     "output_type": "stream",
     "text": [
      "  0%|          | 0/1 [00:00<?, ?it/s]"
     ]
    },
    {
     "name": "stdout",
     "output_type": "stream",
     "text": [
      "07/19 19:15:05 - mmengine - \u001b[5m\u001b[4m\u001b[33mWARNING\u001b[0m - \"FileClient\" will be deprecated in future. Please use io functions in https://mmengine.readthedocs.io/en/latest/api/fileio.html#file-io\n",
      "07/19 19:15:05 - mmengine - \u001b[5m\u001b[4m\u001b[33mWARNING\u001b[0m - \"HardDiskBackend\" is the alias of \"LocalBackend\" and the former will be deprecated in future.\n"
     ]
    },
    {
     "name": "stderr",
     "output_type": "stream",
     "text": [
      "100%|██████████| 1/1 [00:22<00:00, 22.48s/it]"
     ]
    },
    {
     "name": "stdout",
     "output_type": "stream",
     "text": [
      "2024-07-19 19:15:27 Test INFO: Testing Over...\n",
      "\n",
      "2024-07-19 19:15:27 Test INFO: Testing Over...\n",
      "\n"
     ]
    },
    {
     "name": "stderr",
     "output_type": "stream",
     "text": [
      "\n"
     ]
    },
    {
     "name": "stdout",
     "output_type": "stream",
     "text": [
      "2024-07-19 19:16:19 Test INFO: Video duration of data/IKEA_ASM/ikea_asm_dataset_RGB_multiview/ANU_ikea_dataset_video//Lack_TV_Bench/0031_black_table_04_02_2019_08_20_14_17/dev1/images/scan_video.avi: 146.24s\n",
      "2024-07-19 19:16:19 Test INFO: Video duration of data/IKEA_ASM/ikea_asm_dataset_RGB_multiview/ANU_ikea_dataset_video//Lack_TV_Bench/0031_black_table_04_02_2019_08_20_14_17/dev1/images/scan_video.avi: 146.24s\n",
      "*********************video key: scan_video\n",
      "2024-07-19 19:16:19 Test INFO: Using Automatic Mixed Precision...\n",
      "2024-07-19 19:16:19 Test INFO: Using Automatic Mixed Precision...\n",
      "2024-07-19 19:16:19 Test INFO: testing subset: 1 videos, truncated as 2 windows.\n",
      "2024-07-19 19:16:19 Test INFO: testing subset: 1 videos, truncated as 2 windows.\n",
      "2024-07-19 19:16:19 Test INFO: Testing Starts...\n",
      "\n",
      "2024-07-19 19:16:19 Test INFO: Testing Starts...\n",
      "\n"
     ]
    },
    {
     "name": "stderr",
     "output_type": "stream",
     "text": [
      "  0%|          | 0/1 [00:00<?, ?it/s]"
     ]
    },
    {
     "name": "stdout",
     "output_type": "stream",
     "text": [
      "07/19 19:16:19 - mmengine - \u001b[5m\u001b[4m\u001b[33mWARNING\u001b[0m - \"FileClient\" will be deprecated in future. Please use io functions in https://mmengine.readthedocs.io/en/latest/api/fileio.html#file-io\n",
      "07/19 19:16:19 - mmengine - \u001b[5m\u001b[4m\u001b[33mWARNING\u001b[0m - \"HardDiskBackend\" is the alias of \"LocalBackend\" and the former will be deprecated in future.\n"
     ]
    },
    {
     "name": "stderr",
     "output_type": "stream",
     "text": [
      "100%|██████████| 1/1 [00:22<00:00, 22.65s/it]"
     ]
    },
    {
     "name": "stdout",
     "output_type": "stream",
     "text": [
      "2024-07-19 19:16:42 Test INFO: Testing Over...\n",
      "\n",
      "2024-07-19 19:16:42 Test INFO: Testing Over...\n",
      "\n"
     ]
    },
    {
     "name": "stderr",
     "output_type": "stream",
     "text": [
      "\n"
     ]
    },
    {
     "name": "stdout",
     "output_type": "stream",
     "text": [
      "2024-07-19 19:18:45 Test INFO: Video duration of data/IKEA_ASM/ikea_asm_dataset_RGB_multiview/ANU_ikea_dataset_video//Lack_TV_Bench/0014_black_floor_08_04_2019_08_28_11_02/dev1/images/scan_video.avi: 95.16s\n",
      "2024-07-19 19:18:45 Test INFO: Video duration of data/IKEA_ASM/ikea_asm_dataset_RGB_multiview/ANU_ikea_dataset_video//Lack_TV_Bench/0014_black_floor_08_04_2019_08_28_11_02/dev1/images/scan_video.avi: 95.16s\n",
      "*********************video key: scan_video\n",
      "2024-07-19 19:18:45 Test INFO: Using Automatic Mixed Precision...\n",
      "2024-07-19 19:18:45 Test INFO: Using Automatic Mixed Precision...\n",
      "2024-07-19 19:18:45 Test INFO: testing subset: 1 videos, truncated as 2 windows.\n",
      "2024-07-19 19:18:45 Test INFO: testing subset: 1 videos, truncated as 2 windows.\n",
      "2024-07-19 19:18:45 Test INFO: Testing Starts...\n",
      "\n",
      "2024-07-19 19:18:45 Test INFO: Testing Starts...\n",
      "\n"
     ]
    },
    {
     "name": "stderr",
     "output_type": "stream",
     "text": [
      "  0%|          | 0/1 [00:00<?, ?it/s]"
     ]
    },
    {
     "name": "stdout",
     "output_type": "stream",
     "text": [
      "07/19 19:18:45 - mmengine - \u001b[5m\u001b[4m\u001b[33mWARNING\u001b[0m - \"FileClient\" will be deprecated in future. Please use io functions in https://mmengine.readthedocs.io/en/latest/api/fileio.html#file-io\n",
      "07/19 19:18:45 - mmengine - \u001b[5m\u001b[4m\u001b[33mWARNING\u001b[0m - \"HardDiskBackend\" is the alias of \"LocalBackend\" and the former will be deprecated in future.\n"
     ]
    },
    {
     "name": "stderr",
     "output_type": "stream",
     "text": [
      "100%|██████████| 1/1 [00:22<00:00, 22.39s/it]"
     ]
    },
    {
     "name": "stdout",
     "output_type": "stream",
     "text": [
      "2024-07-19 19:19:07 Test INFO: Testing Over...\n",
      "\n",
      "2024-07-19 19:19:07 Test INFO: Testing Over...\n",
      "\n"
     ]
    },
    {
     "name": "stderr",
     "output_type": "stream",
     "text": [
      "\n"
     ]
    },
    {
     "name": "stdout",
     "output_type": "stream",
     "text": [
      "2024-07-19 19:20:26 Test INFO: Video duration of data/IKEA_ASM/ikea_asm_dataset_RGB_multiview/ANU_ikea_dataset_video//Lack_TV_Bench/0039_white_floor_08_04_2019_08_28_10_38/dev1/images/scan_video.avi: 89.44s\n",
      "2024-07-19 19:20:26 Test INFO: Video duration of data/IKEA_ASM/ikea_asm_dataset_RGB_multiview/ANU_ikea_dataset_video//Lack_TV_Bench/0039_white_floor_08_04_2019_08_28_10_38/dev1/images/scan_video.avi: 89.44s\n",
      "*********************video key: scan_video\n",
      "2024-07-19 19:20:26 Test INFO: Using Automatic Mixed Precision...\n",
      "2024-07-19 19:20:26 Test INFO: Using Automatic Mixed Precision...\n",
      "2024-07-19 19:20:26 Test INFO: testing subset: 1 videos, truncated as 2 windows.\n",
      "2024-07-19 19:20:26 Test INFO: testing subset: 1 videos, truncated as 2 windows.\n",
      "2024-07-19 19:20:26 Test INFO: Testing Starts...\n",
      "\n",
      "2024-07-19 19:20:26 Test INFO: Testing Starts...\n",
      "\n"
     ]
    },
    {
     "name": "stderr",
     "output_type": "stream",
     "text": [
      "  0%|          | 0/1 [00:00<?, ?it/s]"
     ]
    },
    {
     "name": "stdout",
     "output_type": "stream",
     "text": [
      "07/19 19:20:27 - mmengine - \u001b[5m\u001b[4m\u001b[33mWARNING\u001b[0m - \"FileClient\" will be deprecated in future. Please use io functions in https://mmengine.readthedocs.io/en/latest/api/fileio.html#file-io\n",
      "07/19 19:20:27 - mmengine - \u001b[5m\u001b[4m\u001b[33mWARNING\u001b[0m - \"HardDiskBackend\" is the alias of \"LocalBackend\" and the former will be deprecated in future.\n"
     ]
    },
    {
     "name": "stderr",
     "output_type": "stream",
     "text": [
      "100%|██████████| 1/1 [00:22<00:00, 22.43s/it]"
     ]
    },
    {
     "name": "stdout",
     "output_type": "stream",
     "text": [
      "2024-07-19 19:20:49 Test INFO: Testing Over...\n",
      "\n",
      "2024-07-19 19:20:49 Test INFO: Testing Over...\n",
      "\n"
     ]
    },
    {
     "name": "stderr",
     "output_type": "stream",
     "text": [
      "\n"
     ]
    },
    {
     "name": "stdout",
     "output_type": "stream",
     "text": [
      "2024-07-19 19:22:01 Test INFO: Video duration of data/IKEA_ASM/ikea_asm_dataset_RGB_multiview/ANU_ikea_dataset_video//Lack_TV_Bench/0002_black_floor_05_02_2019_08_19_17_43/dev1/images/scan_video.avi: 106.76s\n",
      "2024-07-19 19:22:01 Test INFO: Video duration of data/IKEA_ASM/ikea_asm_dataset_RGB_multiview/ANU_ikea_dataset_video//Lack_TV_Bench/0002_black_floor_05_02_2019_08_19_17_43/dev1/images/scan_video.avi: 106.76s\n",
      "*********************video key: scan_video\n",
      "2024-07-19 19:22:01 Test INFO: Using Automatic Mixed Precision...\n",
      "2024-07-19 19:22:01 Test INFO: Using Automatic Mixed Precision...\n",
      "2024-07-19 19:22:01 Test INFO: testing subset: 1 videos, truncated as 2 windows.\n",
      "2024-07-19 19:22:01 Test INFO: testing subset: 1 videos, truncated as 2 windows.\n",
      "2024-07-19 19:22:01 Test INFO: Testing Starts...\n",
      "\n",
      "2024-07-19 19:22:01 Test INFO: Testing Starts...\n",
      "\n"
     ]
    },
    {
     "name": "stderr",
     "output_type": "stream",
     "text": [
      "  0%|          | 0/1 [00:00<?, ?it/s]"
     ]
    },
    {
     "name": "stdout",
     "output_type": "stream",
     "text": [
      "07/19 19:22:01 - mmengine - \u001b[5m\u001b[4m\u001b[33mWARNING\u001b[0m - \"FileClient\" will be deprecated in future. Please use io functions in https://mmengine.readthedocs.io/en/latest/api/fileio.html#file-io\n",
      "07/19 19:22:01 - mmengine - \u001b[5m\u001b[4m\u001b[33mWARNING\u001b[0m - \"HardDiskBackend\" is the alias of \"LocalBackend\" and the former will be deprecated in future.\n"
     ]
    },
    {
     "name": "stderr",
     "output_type": "stream",
     "text": [
      "100%|██████████| 1/1 [00:22<00:00, 22.41s/it]\n"
     ]
    },
    {
     "name": "stdout",
     "output_type": "stream",
     "text": [
      "2024-07-19 19:22:23 Test INFO: Testing Over...\n",
      "\n",
      "2024-07-19 19:22:23 Test INFO: Testing Over...\n",
      "\n"
     ]
    }
   ],
   "source": [
    "from PIL import Image, ImageDraw, ImageFont\n",
    "font = ImageFont.truetype(\"ukai.ttc\", 40, encoding=\"utf-8\")\n",
    "\n",
    "\n",
    "for key, _ in example_videos[:20]:\n",
    "    video_file = f\"{video_dir}/{key}.avi\"\n",
    "    \n",
    "    prepare_input(cfg, logger, video_file, video_dir, \"testing\")\n",
    "    result = inference(model, cfg, logger)\n",
    "    \n",
    "    processed_result = filter_segments(result)\n",
    "    gt_result = gt_data['database'][key]['annotations']\n",
    "    \n",
    "    action_labels = list(set(segment['label'] for segment in processed_result).union(set(ann['label'] for ann in gt_result)))\n",
    "    \n",
    "    video = VideoReader(video_file)\n",
    "    # action_bar = generate_action_bar(processed_result, action_labels, video.frame_cnt / video.fps, (video.width, 20))\n",
    "    # gt_action_bar = generate_action_bar(gt_result, action_labels, video.frame_cnt / video.fps, (video.width, 20))\n",
    "    action_timeline = draw_action_timeline(result['results']['scan_video'], gt_result, video.frame_cnt / video.fps, 0.3, video.width, 40)\n",
    "    \n",
    "    import cv2\n",
    "    writer = cv2.VideoWriter(f\"example/output_{'-'.join(key.split('/'))}.mp4\", cv2.VideoWriter_fourcc(*'mp4v'), video.fps, (video.width, video.height + action_timeline.shape[0]))\n",
    "    for i, frame in enumerate(video):\n",
    "        new_frame = cv2.vconcat([frame, action_timeline])\n",
    "        \n",
    "        t = i / video.fps\n",
    "        gt_label = next((ann['label'] for ann in gt_result if ann['segment'][0] <= t and ann['segment'][1] >= t), None)\n",
    "        pred_label = next((segment['label'] for segment in processed_result if segment['segment'][0] <= t and segment['segment'][1] >= t), None)\n",
    "        \n",
    "        pimg = Image.fromarray(new_frame)\n",
    "        draw = ImageDraw.Draw(pimg)\n",
    "        draw.text((10, 220), f\"GT: {gt_label}\", font=font, fill=(128, 128, 0), stroke_width=2)\n",
    "        draw.text((10, 260), f\"Pred: {pred_label}\", font=font, fill=(128, 128, 0), stroke_width=2)\n",
    "        # cv2.putText(new_frame, f\"GT: {gt_label}\", (10, video.height // 4), cv2.FONT_HERSHEY_SIMPLEX, 0.5, (255, 255, 255), 1)\n",
    "        # cv2.putText(new_frame, f\"Pred: {pred_label}\", (10, video.height // 4 + 20), cv2.FONT_HERSHEY_SIMPLEX, 0.5, (255, 255, 255), 1)\n",
    "        \n",
    "        new_frame = np.array(pimg)\n",
    "        \n",
    "        progress = int(i / video.frame_cnt * video.width)\n",
    "        cv2.line(new_frame, (progress, new_frame.shape[0] - action_timeline.shape[0]), (progress, new_frame.shape[0]), (255, 255, 0), 2)\n",
    "        \n",
    "        writer.write(new_frame)\n",
    "    writer.release()"
   ]
  },
  {
   "cell_type": "markdown",
   "metadata": {},
   "source": [
    "## 数据分析"
   ]
  },
  {
   "cell_type": "code",
   "execution_count": 24,
   "metadata": {},
   "outputs": [
    {
     "name": "stdout",
     "output_type": "stream",
     "text": [
      "video_validation_0000177\n",
      "video_validation_0000178\n",
      "video_test_0000549\n",
      "video_test_0001313\n"
     ]
    },
    {
     "data": {
      "text/plain": [
       "(array([ 3.,  7., 14., 39., 19., 42., 43., 20., 12., 10., 16.,  6.,  4.,\n",
       "        10.,  5.,  2.,  6.,  7.,  4.,  3.,  5.,  4.,  4.,  3.,  3.,  1.,\n",
       "         3.,  2.,  2.,  2.,  1.,  2.,  1.,  0.,  1.,  0.,  0.,  1.,  0.,\n",
       "         0.,  0.,  1.,  0.,  0.,  1.,  0.,  0.,  0.,  0.,  0.,  0.,  0.,\n",
       "         0.,  0.,  0.,  2.,  0.,  0.,  0.,  0.,  0.,  0.,  0.,  0.,  0.,\n",
       "         1.,  0.,  0.,  0.,  0.,  0.,  0.,  0.,  0.,  0.,  0.,  0.,  0.,\n",
       "         0.,  1.,  0.,  0.,  0.,  0.,  1.,  0.,  0.,  1.,  0.,  0.,  0.,\n",
       "         0.,  0.,  0.,  0.,  0.,  0.,  0.,  0.,  1.]),\n",
       " array([ 0.3  ,  0.429,  0.558,  0.687,  0.816,  0.945,  1.074,  1.203,\n",
       "         1.332,  1.461,  1.59 ,  1.719,  1.848,  1.977,  2.106,  2.235,\n",
       "         2.364,  2.493,  2.622,  2.751,  2.88 ,  3.009,  3.138,  3.267,\n",
       "         3.396,  3.525,  3.654,  3.783,  3.912,  4.041,  4.17 ,  4.299,\n",
       "         4.428,  4.557,  4.686,  4.815,  4.944,  5.073,  5.202,  5.331,\n",
       "         5.46 ,  5.589,  5.718,  5.847,  5.976,  6.105,  6.234,  6.363,\n",
       "         6.492,  6.621,  6.75 ,  6.879,  7.008,  7.137,  7.266,  7.395,\n",
       "         7.524,  7.653,  7.782,  7.911,  8.04 ,  8.169,  8.298,  8.427,\n",
       "         8.556,  8.685,  8.814,  8.943,  9.072,  9.201,  9.33 ,  9.459,\n",
       "         9.588,  9.717,  9.846,  9.975, 10.104, 10.233, 10.362, 10.491,\n",
       "        10.62 , 10.749, 10.878, 11.007, 11.136, 11.265, 11.394, 11.523,\n",
       "        11.652, 11.781, 11.91 , 12.039, 12.168, 12.297, 12.426, 12.555,\n",
       "        12.684, 12.813, 12.942, 13.071, 13.2  ]),\n",
       " <BarContainer object of 100 artists>)"
      ]
     },
     "execution_count": 24,
     "metadata": {},
     "output_type": "execute_result"
    },
    {
     "data": {
      "image/png": "[encoded data removed]",
      "text/plain": [
       "<Figure size 640x480 with 1 Axes>"
      ]
     },
     "metadata": {},
     "output_type": "display_data"
    }
   ],
   "source": [
    "all_action_times = []\n",
    "\n",
    "for key, gt_rec in gt_data['database'].items():\n",
    "    for rec in gt_rec['annotations']:\n",
    "        if rec['label'] == \"CricketBowling\":\n",
    "            all_action_times.append(rec['segment'][1] - rec['segment'][0])\n",
    "            if rec['segment'][1] - rec['segment'][0] > 10:\n",
    "                print(key)\n",
    "\n",
    "import matplotlib.pyplot as plt\n",
    "plt.hist(all_action_times, bins=100)"
   ]
  },
  {
   "cell_type": "markdown",
   "metadata": {},
   "source": [
    "## 其他"
   ]
  },
  {
   "cell_type": "code",
   "execution_count": 23,
   "metadata": {},
   "outputs": [
    {
     "ename": "KeyError",
     "evalue": "'FPJ9D'",
     "output_type": "error",
     "traceback": [
      "\u001b[0;31m---------------------------------------------------------------------------\u001b[0m",
      "\u001b[0;31mKeyError\u001b[0m                                  Traceback (most recent call last)",
      "Cell \u001b[0;32mIn[23], line 3\u001b[0m\n\u001b[1;32m      1\u001b[0m key, result \u001b[38;5;241m=\u001b[39m \u001b[38;5;28mlist\u001b[39m(res_data[\u001b[38;5;124m'\u001b[39m\u001b[38;5;124mresults\u001b[39m\u001b[38;5;124m'\u001b[39m]\u001b[38;5;241m.\u001b[39mitems())[\u001b[38;5;241m0\u001b[39m]\n\u001b[0;32m----> 3\u001b[0m gt \u001b[38;5;241m=\u001b[39m \u001b[43mgt_data\u001b[49m\u001b[43m[\u001b[49m\u001b[38;5;124;43m'\u001b[39;49m\u001b[38;5;124;43mdatabase\u001b[39;49m\u001b[38;5;124;43m'\u001b[39;49m\u001b[43m]\u001b[49m\u001b[43m[\u001b[49m\u001b[43mkey\u001b[49m\u001b[43m]\u001b[49m\n",
      "\u001b[0;31mKeyError\u001b[0m: 'FPJ9D'"
     ]
    }
   ],
   "source": [
    "key, result = list(res_data['results'].items())[0]\n",
    "\n",
    "gt = gt_data['database'][key]"
   ]
  },
  {
   "cell_type": "code",
   "execution_count": 20,
   "metadata": {},
   "outputs": [
    {
     "data": {
      "text/plain": [
       "('FPJ9D',\n",
       " [{'segment': [-0.0, 4.82],\n",
       "   'label': 'Opening a closet/cabinet',\n",
       "   'score': 0.205},\n",
       "  {'segment': [21.69, 27.66],\n",
       "   'label': 'Putting something on a table',\n",
       "   'score': 0.2104},\n",
       "  {'segment': [24.13, 31.94],\n",
       "   'label': 'Someone is going from standing to sitting',\n",
       "   'score': 0.3298},\n",
       "  {'segment': [25.51, 33.41], 'label': 'Sitting in a chair', 'score': 0.2708},\n",
       "  {'segment': [25.51, 33.41], 'label': 'Sitting at a table', 'score': 0.2073},\n",
       "  {'segment': [28.19, 33.42],\n",
       "   'label': 'Putting on shoe/shoes',\n",
       "   'score': 0.2289},\n",
       "  {'segment': [28.19, 33.42],\n",
       "   'label': 'Taking shoes from somewhere',\n",
       "   'score': 0.2081}])"
      ]
     },
     "execution_count": 20,
     "metadata": {},
     "output_type": "execute_result"
    }
   ],
   "source": [
    "key, list(sorted(filter(lambda x: x['score'] > 0.2, result), key=lambda x: x['segment'][0]))"
   ]
  },
  {
   "cell_type": "code",
   "execution_count": 21,
   "metadata": {},
   "outputs": [
    {
     "data": {
      "text/plain": [
       "{'duration': 33.42,\n",
       " 'subset': 'testing',\n",
       " 'annotations': [{'segment': [25.8, 34.0], 'label': 'Sitting in a chair'},\n",
       "  {'segment': [24.4, 30.4],\n",
       "   'label': 'Someone is going from standing to sitting'},\n",
       "  {'segment': [25.3, 34.0], 'label': 'Sitting at a table'},\n",
       "  {'segment': [25.3, 30.6],\n",
       "   'label': 'Watching a laptop or something on a laptop'}]}"
      ]
     },
     "execution_count": 21,
     "metadata": {},
     "output_type": "execute_result"
    }
   ],
   "source": [
    "gt"
   ]
  }
 ],
 "metadata": {
  "kernelspec": {
   "display_name": "opentad",
   "language": "python",
   "name": "python3"
  },
  "language_info": {
   "codemirror_mode": {
    "name": "ipython",
    "version": 3
   },
   "file_extension": ".py",
   "mimetype": "text/x-python",
   "name": "python",
   "nbconvert_exporter": "python",
   "pygments_lexer": "ipython3",
   "version": "3.10.12"
  }
 },
 "nbformat": 4,
 "nbformat_minor": 2
}
